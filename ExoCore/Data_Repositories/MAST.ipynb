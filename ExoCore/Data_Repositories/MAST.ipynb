{
 "cells": [
  {
   "cell_type": "markdown",
   "metadata": {
    "jp-MarkdownHeadingCollapsed": true
   },
   "source": [
    "[![Logo ><](../Graphics/Data_Repositories/MAST_Logo.jpg)](https://archive.stsci.edu/)\n",
    "\n",
    "## Table of Contents\n",
    "- [Overview](#overview)\n",
    "- [MAST Portal]()\n",
    "- [exo.MAST]()\n",
    "- [MAST API via astroquery]()\n",
    "- [Exoplanet Atmosphere Observability Table]()\n",
    "- [Exercises]()"
   ]
  },
  {
   "cell_type": "markdown",
   "metadata": {},
   "source": [
    "# Overview\n",
    "The Barbara A. Mikulski Archive for Space Telescopes (MAST) is the primary data repository for all space telescope missions, including Hubble, JWST, TESS, and Kepler. Most exoplanet discoveries and analysis are performed using these instruments, so being able to navigate, query, and download data products is imperative. MAST is a **vast** network with countless tools, many of which are out of scope for this curriculum. Consequently, this module covers the following tools:\n",
    "- [MAST Portal](https://mast.stsci.edu/portal/Mashup/Clients/Mast/Portal.html)\n",
    "- [MAST API via astroquery](https://astroquery.readthedocs.io/en/latest/mast/mast.html)\n",
    "- [Exoplanet Atmosphere Observability Table](https://catalogs.mast.stsci.edu/eaot/)\n",
    "\n",
    "Resources that are not discussed, but that may be useful to some users, include:\n",
    "- [TESScut (TESS Full Frame Image Cutout Tool)](https://mast.stsci.edu/tesscut/)\n",
    "- [MAST Search (Hubble and JWST form-based query tool)](https://mast.stsci.edu/search/ui/#/)\n",
    "- [MAST API via HTTPS Requests](https://mast.stsci.edu/api/v0/)"
   ]
  },
  {
   "cell_type": "markdown",
   "metadata": {},
   "source": [
    "# [MAST Portal](https://mast.stsci.edu/portal/Mashup/Clients/Mast/Portal.html)\n",
    "The MAST Portal is the web-based GUI where data can be easily accessed from. This section will go over how to construct a basic query and will offer pointers to tutorials and user guides for more advanced queries and tools.\n",
    "\n",
    "## Searching for Data\n",
    "\n",
    "### [Basic Search](https://outerspace.stsci.edu/display/MASTDOCS/Basic+Search)\n",
    "This comes in two steps:\n",
    "- Select a collection to query\n",
    "- Submitting a valid search criteria\n",
    "\n",
    "![Logo ><](../Graphics/Data_Repositories/MAST_menu_selectCollection.png)\n",
    "\n",
    "In general, 'MAST Observations' is a safe default. A [table](https://outerspace.stsci.edu/display/MASTDOCS/Basic+Search) is available that gives information on the other collections.\n",
    "\n",
    "There are two main ways to query an object: by **name** or **coordinates**. \n",
    "\n",
    "#### Search by Name\n",
    "Querying by object is straightforward, and MAST is able to recognize a variety of different inputs for the same target. For example, WASP-100 also goes by TIC 38846515, 2MASS J04355033-6401373, etc., and will result in the same query. Here is a table outlining common paradigms:\n",
    "\n",
    "![Logo ><](../Graphics/Data_Repositories/MAST_Allowed.PNG)\n",
    "\n",
    "#### Search by Coordinate\n",
    "RA and DEC can be specified along with a search radius to query a region of the sky. The format of this search is:\n",
    "\n",
    "`RA DEC r=[radius][unit]`\n",
    "\n",
    "Where `unit` can be \"d\" (degrees), \"min\" (arcminutes), or \"s\" (arc-seconds). RA and DEC units can be in sexadecimal, decimal degrees or galactic coordinates. Below outlines the acceptable formats:\n",
    "\n",
    "![Logo ><](../Graphics/Data_Repositories/MAST_Allowed_Coord.PNG)\n",
    "\n",
    "### [List Search](https://outerspace.stsci.edu/display/MASTDOCS/Search+a+List+of+Targets)\n",
    "A list of targets can also be passed as a search.\n",
    "\n",
    "![Logo ><](../Graphics/Data_Repositories/MAST_Target_List.PNG)\n",
    "\n",
    "The minimum required information, in distinct columns, are **Target** and **RA + DEC**, following the same paradigms as the basic search. \n",
    "\n",
    "![Logo ><](../Graphics/Data_Repositories/MAST_List_Example.PNG)\n",
    "\n",
    "More details and caveats to this process can be found [here](https://outerspace.stsci.edu/display/MASTDOCS/Search+a+List+of+Targets)."
   ]
  },
  {
   "cell_type": "markdown",
   "metadata": {},
   "source": [
    "## Browsing Data\n",
    "After searching for your target(s), a list of available data products appear with a variety of information. These can be continually filtered, interacted with, and previewed, all within the portal interface. This section briefly discusses the basics of the interface, with pointers to additional information for more advanced searches.\n",
    "\n",
    "### Results Grid\n",
    "Let's say we search the system WASP-10 using a basic search. The results grid will look like:\n",
    "![Logo ><](../Graphics/Data_Repositories/MAST_Table.PNG)\n",
    "\n",
    "The columns provide information such as filters, instrument, project, etc. The 'Edit Columns' in the upper left allow you to pick and choose which to display, and are explained [here](https://outerspace.stsci.edu/display/MASTDOCS/Search+Results+Grid). \n",
    "\n",
    "There are a number of icons that allow you to perform certain actions, if applicable, summarized in the table below:\n",
    "\n",
    "![Logo ><](../Graphics/Data_Repositories/MAST_Actions.PNG)\n",
    "\n",
    "For our target, we can easily download the TESS time-series data, which would be the second row in the list displayed above (the first is a FFI, or Full Frame Image) by clicking on the \"Save\" icon.\n",
    "\n",
    "### Filters\n",
    "To refine the output of the results grid, we can apply a variety of different filters. Some example filters are shown here:\n",
    "\n",
    "![Logo ><](../Graphics/Data_Repositories/MAST_Filters.PNG)\n",
    "\n",
    "These are all explanatory, so feel free to explore and apply filters as you see fit."
   ]
  },
  {
   "cell_type": "markdown",
   "metadata": {},
   "source": [
    "## Browsing Tools\n",
    "\n",
    "### [AstroView](https://outerspace.stsci.edu/display/MASTDOCS/AstroView)\n",
    "\n",
    "When searching for data, MAST will give a close-up sky view of the target in a box called `AstroView`, shown below:\n",
    "\n",
    "![Logo ><](../Graphics/Data_Repositories/MAST_Astroview.PNG)\n",
    "\n",
    "Each orange outline/dot represents an associated data product with that part of the sky, which can be clicked on to highlight the data set in the results grid. **These regions are not necessarily tied to your searched target, which is indicated by the red crossair. Be sure to check the target associated with the highlighted product before downloading.**\n",
    "\n",
    "### Actions and Visualization\n",
    "Some data allow you to perform actions or visualize data in-broswer, which can be useful to see before you download the data product. These are summarized in the table below:\n",
    "\n",
    "![Logo ><](../Graphics/Data_Repositories/MAST_Visual.PNG)\n",
    "\n",
    "The details of these tools and how to use the interfaces can be found [here](https://outerspace.stsci.edu/display/MASTDOCS/Data+Browsing+Tools).\n",
    "\n",
    "\n",
    "### Downloading the Results Grid\n",
    "\n",
    "In some contexts, downloading the current results grid to an external file can be necessary. This can be done by clicking ![Logo ><](../Graphics/Data_Repositories/MAST_Download.PNG), and filling out the `Export Table` pop-up, shown below:\n",
    "\n",
    "![Logo ><](../Graphics/Data_Repositories/MAST_GridExport.PNG)"
   ]
  },
  {
   "cell_type": "markdown",
   "metadata": {},
   "source": [
    "## Data Retrieval\n",
    "\n",
    "### One-Click Download\n",
    "As described above, data can be downloaded in one click using the ![Logo ><](../Graphics/Data_Repositories/MAST_Save.PNG) icon next to the associated data product, which will download the **minimum recommended data products** for that observation. The file will save as a `.zip` file, which will have to be unpacked. That's it!\n",
    "\n",
    "### Download Basket\n",
    "\n",
    "If more than one data set is desired, they can be selected in the left most column in the results grid, shown here:\n",
    "\n",
    "![Logo ><](../Graphics/Data_Repositories/MAST_GridSelect.PNG)\n",
    "\n",
    "These can then be added to the download basket using ![Logo ><](../Graphics/Data_Repositories/MAST_DownloadBasket.PNG). This will bring up the download manager window:\n",
    "\n",
    "![Logo ><](../Graphics/Data_Repositories/MAST_DownloadManage.PNG)\n",
    "\n",
    "Where specific files can be selected, filtered, or ignored, before being downloaded. See [here](https://outerspace.stsci.edu/display/MASTDOCS/Download+Basket) for more information on file types, filters, details and actions\n",
    "\n",
    "## Video Tutorials\n",
    "\n",
    "[Video demos](https://outerspace.stsci.edu/display/MASTDOCS/Demos+and+Tutorials) are available online for a comprehensive dive into the MAST portal!"
   ]
  },
  {
   "cell_type": "markdown",
   "metadata": {},
   "source": [
    "# [MAST API via astroquery](https://astroquery.readthedocs.io/en/latest/mast/mast.html)\n",
    "\n",
    "The MAST portal can be effective when dealing with a small number of targets, but struggles when target lists reach the **hundreds** or ***thousands***. For this, the Python module `astroquery` can retrieve and download associated data products from MAST programatically. For example, downloading all TESS time-series photometry for all known TESS Objects of Interest can be reduced down to a list of TIC IDs and a simple `for` loop. The query types addressed in this module are:\n",
    "\n",
    "- [Observational Queries](https://astroquery.readthedocs.io/en/latest/mast/mast_obsquery.html)\n",
    "- [Catalog Queries](https://astroquery.readthedocs.io/en/latest/mast/mast_catalog.html)\n",
    "\n",
    "The queries not addressed here, but may be useful, are:\n",
    "\n",
    "- [Mission Searches (JWST, HST metadata)](https://astroquery.readthedocs.io/en/latest/mast/mast_missions.html)\n",
    "- [Image Cutouts (e.g. TESScut)](https://astroquery.readthedocs.io/en/latest/mast/mast_cut.html)\n",
    "- [MAST Queries](https://astroquery.readthedocs.io/en/latest/mast/mast_mastquery.html)\n",
    "\n",
    "This section goes through the basic functions of `astroquery.mast`, with a few illustrative examples. To start, we import the appropriate modules:"
   ]
  },
  {
   "cell_type": "code",
   "execution_count": 2,
   "metadata": {},
   "outputs": [],
   "source": [
    "from astroquery.mast import Observations, Catalogs"
   ]
  },
  {
   "cell_type": "markdown",
   "metadata": {},
   "source": [
    "## Observational Queries\n",
    "### Generating Observation Tables\n",
    "The `Observations` class input is similar to the MAST Portal's filtering. Queries can be made by **position**, **target name**, or other **criteria** (such as catalog ID number). These queries output an `astropy` table of observations, which can then be downloaded. Here are examples of typical workflows."
   ]
  },
  {
   "cell_type": "code",
   "execution_count": 3,
   "metadata": {},
   "outputs": [
    {
     "name": "stdout",
     "output_type": "stream",
     "text": [
      "intentType obs_collection provenance_name ...   obsid        distance     \n",
      "---------- -------------- --------------- ... --------- ------------------\n",
      "   science           TESS            SPOC ...  27463641                0.0\n",
      "   science           TESS            SPOC ...  27507606                0.0\n",
      "   science           TESS            SPOC ...  62431376                0.0\n",
      "   science           TESS            SPOC ...  62870786                0.0\n",
      "   science           TESS            SPOC ...  92616930                0.0\n",
      "   science           TESS            SPOC ...  95133384                0.0\n",
      "   science           TESS            SPOC ... 212510190                0.0\n",
      "   science           TESS            SPOC ... 213002720                0.0\n",
      "   science           TESS            SPOC ...  27432637                0.0\n",
      "   science           TESS            SPOC ...  62289783                0.0\n",
      "       ...            ...             ... ...       ...                ...\n",
      "   science            HLA             HLA ...  25907479                0.0\n",
      "   science            HLA             HLA ...  25907480                0.0\n",
      "   science            HLA             HLA ...  25907481                0.0\n",
      "   science            HLA             HLA ...  25907482                0.0\n",
      "   science            HLA             HLA ...  25907483                0.0\n",
      "   science            HLA             HLA ...  26030433                0.0\n",
      "   science            HLA             HLA ...  26036087 302.97582263477204\n",
      "   science            HLA             HLA ...  26177773 302.97582263477204\n",
      "   science            HLA             HLA ...  26036086 302.97823343218556\n",
      "   science            HLA             HLA ...  26036088 302.97823343218556\n",
      "   science          GALEX             AIS ...      9747  138.5761601079376\n",
      "Length = 23435 rows\n"
     ]
    }
   ],
   "source": [
    "##Query the exoplanet HAT-P-7b\n",
    "query_table = Observations.query_object('HAT-P-7b')\n",
    "print(query_table)"
   ]
  },
  {
   "cell_type": "markdown",
   "metadata": {},
   "source": [
    "That took some time! Most exoplanet hosts will have comparable number of observations. While there are some uses for a broad search, let's look at some applications for adding some parameters. \n",
    "\n",
    "Filtering can be done by constraining the content of each column. You can find a complete list of all the columns and their descriptions [here](https://mast.stsci.edu/api/v0/_c_a_o_mfields.html).\n",
    "\n",
    "The `query_object` only allows you to add a \"radius of search\" parameter object, so we will use the `query_criteria` method. \n",
    "\n",
    "Let's look for light curves of HAT-P-7b taken by the TESS telescope. This allows us to narrow down our search significantly!"
   ]
  },
  {
   "cell_type": "code",
   "execution_count": 10,
   "metadata": {},
   "outputs": [
    {
     "name": "stdout",
     "output_type": "stream",
     "text": [
      "30\n",
      "intentType obs_collection provenance_name ...   objID1       distance     \n",
      "---------- -------------- --------------- ... --------- ------------------\n",
      "   science           TESS            SPOC ...  70448544 287.98135262165573\n",
      "   science           TESS            SPOC ...  70449515  638.6413483917396\n",
      "   science           TESS            SPOC ...  70449529                0.0\n",
      "   science           TESS            SPOC ...  70526761 287.98135262165573\n",
      "   science           TESS            SPOC ...  70531322                0.0\n",
      "   science           TESS            SPOC ...  70544780  638.6413483917396\n",
      "   science           TESS            SPOC ... 116683518                0.0\n",
      "   science           TESS            SPOC ... 116846050                0.0\n",
      "   science           TESS            SPOC ... 117053213                0.0\n",
      "   science           TESS            SPOC ... 117053215 118.92799122073585\n"
     ]
    }
   ],
   "source": [
    "query_table = Observations.query_criteria(objectname=\"HAT-P-7b\", \n",
    "                                              obs_collection=\"TESS\",\n",
    "                                              dataproduct_type=[\"timeseries\"])\n",
    "# indenting like this doesn't affect the code output, but is just a way to try and make it more readable/organized\n",
    "\n",
    "print(len(query_table))\n",
    "print(query_table[:10])"
   ]
  },
  {
   "cell_type": "markdown",
   "metadata": {},
   "source": [
    " <div class=\"alert alert-block alert-info\">\n",
    " \n",
    "**INFO**: The **query_criteria** method is extremely robust, and can suit most search applications extremely efficiently. The different parameters to refine your search can be found [here](https://mast.stsci.edu/api/v0/_c_a_o_mfields.html)"
   ]
  },
  {
   "cell_type": "markdown",
   "metadata": {},
   "source": [
    "Lastly, we can also query by position by using the `query_region` method, which takes in an RA, DEC, and search radius, and outputs all data in the region."
   ]
  },
  {
   "cell_type": "code",
   "execution_count": 9,
   "metadata": {},
   "outputs": [
    {
     "name": "stderr",
     "output_type": "stream",
     "text": [
      "WARNING: InputWarning: Coordinate string is being interpreted as an ICRS coordinate provided in degrees. [astroquery.utils.commons]\n"
     ]
    },
    {
     "name": "stdout",
     "output_type": "stream",
     "text": [
      "intentType obs_collection  provenance_name  ...   obsid        distance    \n",
      "---------- -------------- ----------------- ... --------- -----------------\n",
      "   science           TESS              SPOC ...  62280343               0.0\n",
      "   science           TESS              SPOC ...  62324728               0.0\n",
      "   science           TESS              SPOC ...  28287315               0.0\n",
      "   science           TESS              SPOC ...  28220318   642.16680527556\n",
      "   science            PS1               3PI ...   1850796               0.0\n",
      "   science            PS1               3PI ...   1850797               0.0\n",
      "   science            PS1               3PI ...   1850798               0.0\n",
      "   science            PS1               3PI ...   1850799               0.0\n",
      "   science            PS1               3PI ...   1850800               0.0\n",
      "   science            PS1               3PI ...   1850791 503.6552188317507\n",
      "       ...            ...               ... ...       ...               ...\n",
      "   science           HLSP GSFC-ELEANOR-LITE ... 132088696   718.76256443437\n",
      "   science           HLSP              TGLC ... 169265063 718.8038785363183\n",
      "   science           HLSP              TGLC ... 169264258 719.2034100964987\n",
      "   science           HLSP              TGLC ... 189235004 719.2034100964987\n",
      "   science           HLSP             TASOC ...  91060980 719.2208006533244\n",
      "   science           HLSP GSFC-ELEANOR-LITE ... 132103160 719.2208174859751\n",
      "   science           HLSP GSFC-ELEANOR-LITE ... 141350209 719.2208174859751\n",
      "   science           HLSP GSFC-ELEANOR-LITE ... 132088910 719.4582485379761\n",
      "   science           HLSP              TGLC ... 169264805 719.5434578730323\n",
      "   science          GALEX               AIS ...     30996               0.0\n",
      "   science          GALEX               AIS ...     30996               0.0\n",
      "Length = 1668 rows\n"
     ]
    }
   ],
   "source": [
    "##The syntax is \"RA DEC\", in any commonly accepted RA DEC format as outlined in \"Search by Coordinate\" section\n",
    "query_table = Observations.query_region(\"100.12 -20.223\")\n",
    "print(query_table)"
   ]
  },
  {
   "cell_type": "markdown",
   "metadata": {},
   "source": [
    "### Observation Counts\n",
    "Each method above has a corresponding 'count' method (e.g. `query_criteria_count`). This simply returns the number of associated data products instead of the full observation table. These are much faster, and are useful in project preparation."
   ]
  },
  {
   "cell_type": "code",
   "execution_count": 26,
   "metadata": {},
   "outputs": [
    {
     "name": "stdout",
     "output_type": "stream",
     "text": [
      "6412 74 208302\n"
     ]
    }
   ],
   "source": [
    "query_obj_count = Observations.query_object_count('WASP-121b')\n",
    "query_region_count = Observations.query_region_count('200.22, 10.33')\n",
    "query_criteria_count = Observations.query_criteria_count(project = 'HST', dataproduct_type = \"spectrum\")\n",
    "\n",
    "print(query_obj_count, query_region_count, query_criteria_count)"
   ]
  },
  {
   "cell_type": "markdown",
   "metadata": {},
   "source": [
    "### Metadata Queries\n",
    "Additionally, metadata can be queried to help users properly fill out the `query_criteria` method, and is an alternative to the list provided above."
   ]
  },
  {
   "cell_type": "code",
   "execution_count": 104,
   "metadata": {},
   "outputs": [
    {
     "name": "stdout",
     "output_type": "stream",
     "text": [
      " Column Name     Column Label   ...       Examples/Valid Values       \n",
      "-------------- ---------------- ... ----------------------------------\n",
      "    intentType Observation Type ... Valid values: science, calibration\n",
      "obs_collection          Mission ...          E.g. SWIFT, PS1, HST, IUE\n",
      "  Column Name    ...\n",
      "---------------- ...\n",
      "          obs_id ...\n",
      "           obsID ...\n",
      "  obs_collection ...\n",
      "dataproduct_type ...\n",
      "     description ...\n"
     ]
    }
   ],
   "source": [
    "#For observations\n",
    "meta_data = Observations.get_metadata(\"observations\")\n",
    "print(meta_data[:2])\n",
    "\n",
    "#For product types\n",
    "meta_data = Observations.get_metadata(\"products\")\n",
    "print(meta_data[:5])"
   ]
  },
  {
   "cell_type": "markdown",
   "metadata": {},
   "source": [
    "## Downloading Data Products"
   ]
  },
  {
   "cell_type": "markdown",
   "metadata": {},
   "source": [
    "Data can be downloaded using the `get_product_list` and `download_products` methods. The general paradigm is:\n",
    "\n",
    "- Generate an observation table as above\n",
    "- From the observation table, generate a product list via `get_product_list`\n",
    "- Download the data in the product list using `download_products`\n",
    "\n",
    "This is shown below."
   ]
  },
  {
   "cell_type": "code",
   "execution_count": 122,
   "metadata": {},
   "outputs": [
    {
     "name": "stdout",
     "output_type": "stream",
     "text": [
      "Downloading URL https://mast.stsci.edu/api/v0.1/Download/file?uri=mast:TESS/product/tess2019198215352-s0014-0000000424865046-0150-s_lc.fits to .\\Data/mastDownload\\TESS\\tess2019198215352-s0014-0000000424865046-0150-s\\tess2019198215352-s0014-0000000424865046-0150-s_lc.fits ... [Done]\n",
      "Downloading URL https://mast.stsci.edu/api/v0.1/Download/file?uri=mast:TESS/product/tess2019198215352-s0014-0000000424865046-0150-s_tp.fits to .\\Data/mastDownload\\TESS\\tess2019198215352-s0014-0000000424865046-0150-s\\tess2019198215352-s0014-0000000424865046-0150-s_tp.fits ... [Done]\n",
      "Downloading URL https://mast.stsci.edu/api/v0.1/Download/file?uri=mast:TESS/product/tess2019198215352-s0014-0000000063070334-0150-s_lc.fits to .\\Data/mastDownload\\TESS\\tess2019198215352-s0014-0000000063070334-0150-s\\tess2019198215352-s0014-0000000063070334-0150-s_lc.fits ... [Done]\n",
      "Downloading URL https://mast.stsci.edu/api/v0.1/Download/file?uri=mast:TESS/product/tess2019198215352-s0014-0000000063070334-0150-s_tp.fits to .\\Data/mastDownload\\TESS\\tess2019198215352-s0014-0000000063070334-0150-s\\tess2019198215352-s0014-0000000063070334-0150-s_tp.fits ... [Done]\n",
      "                                                           Local Path                                                            ...\n",
      "-------------------------------------------------------------------------------------------------------------------------------- ...\n",
      ".\\Data/mastDownload\\TESS\\tess2019198215352-s0014-0000000424865046-0150-s\\tess2019198215352-s0014-0000000424865046-0150-s_lc.fits ...\n",
      ".\\Data/mastDownload\\TESS\\tess2019198215352-s0014-0000000424865046-0150-s\\tess2019198215352-s0014-0000000424865046-0150-s_tp.fits ...\n",
      ".\\Data/mastDownload\\TESS\\tess2019198215352-s0014-0000000063070334-0150-s\\tess2019198215352-s0014-0000000063070334-0150-s_lc.fits ...\n",
      ".\\Data/mastDownload\\TESS\\tess2019198215352-s0014-0000000063070334-0150-s\\tess2019198215352-s0014-0000000063070334-0150-s_tp.fits ...\n"
     ]
    }
   ],
   "source": [
    "##Repeat our previous TESS query for HAT-P-7b\n",
    "query_table = Observations.query_criteria(objectname=\"HAT-P-7b\", \n",
    "                                              obs_collection=\"TESS\",\n",
    "                                              dataproduct_type=[\"timeseries\"])\n",
    "##Only the first two associated data sets\n",
    "data_products = Observations.get_product_list(query_table[0:2])\n",
    "\n",
    "##Download the data products in the deignated folder\n",
    "downloads = Observations.download_products(data_products, download_dir=\".\\Data\")\n",
    "print(downloads)"
   ]
  }
 ],
 "metadata": {
  "kernelspec": {
   "display_name": "Python 3",
   "language": "python",
   "name": "python3"
  },
  "language_info": {
   "codemirror_mode": {
    "name": "ipython",
    "version": 3
   },
   "file_extension": ".py",
   "mimetype": "text/x-python",
   "name": "python",
   "nbconvert_exporter": "python",
   "pygments_lexer": "ipython3",
   "version": "3.11.5"
  }
 },
 "nbformat": 4,
 "nbformat_minor": 4
}
