{
 "cells": [
  {
   "cell_type": "markdown",
   "id": "84f3501a-eda7-4474-839c-45ee19b483a1",
   "metadata": {},
   "source": [
    "## <u>Large Collaborations in the Field of Exoplanetary Research</u>"
   ]
  },
  {
   "cell_type": "markdown",
   "id": "8ba773d8-867f-49f9-bd14-2974a003425c",
   "metadata": {},
   "source": [
    "#### Table of Contents\n",
    "\n",
    "1. [Introduction](#introduction)\n",
    "2. [Programs](#programs) \n",
    "    1. TOI\n",
    "    2. TFOP\n",
    "    3. JWST ERS\n",
    "2. [Conclusion](#conclusion) "
   ]
  },
  {
   "cell_type": "markdown",
   "id": "66f79a04-eed8-4788-abe9-0c04842aaa30",
   "metadata": {
    "tags": []
   },
   "source": [
    "### <u>Introduction</u>"
   ]
  },
  {
   "cell_type": "markdown",
   "id": "86b2ef33-3f2b-4046-83e8-7a2d1cbfe83e",
   "metadata": {
    "tags": []
   },
   "source": [
    "As exoplanet research continues to grow, large working groups of astronomical observers have come together to support the missions set forth by U.S. satellite observatories. The three main collaborations focused on narrowing such missions are TESS-Object of Interest (TOI), TESS Follow-Up Observing Program (TFOP), and James Webb Space Telescope Early Release Program (JWST ERS). These collaborations aim to accelerate exoplanet discovery by both supporting exoplanet missions and increasing resource visibility. "
   ]
  },
  {
   "cell_type": "markdown",
   "id": "aed36571",
   "metadata": {},
   "source": [
    "### <u>Programs</u>"
   ]
  },
  {
   "cell_type": "markdown",
   "id": "e149932b",
   "metadata": {},
   "source": [
    "_**1. TESS Object of Interest (TOI)**_\n",
    "\n",
    "The Transiting Exoplanet Satellite Survey (TESS) aims to discover thousands of exoplanets in orbit around the nearest, brightest dwarf stars in the sky. The primary types of exoplanets the TESS project is searching for are Earth-like planets and super-Earths. The TESS Object of Interest (TOI) features a catalog of discoveries which are indentified as an object of interest by the TESS project and community. This catalog is updated approximately once a week according to the ExoFOP-TESS TOI list. As of February 26th of 2024, there are 7,071 objects of interest logged. This list can be found in the exoplanet archive below:  \n",
    "\n",
    "https://exoplanetarchive.ipac.caltech.edu/docs/API_TOI_columns.html#planetpropcol"
   ]
  },
  {
   "cell_type": "markdown",
   "id": "a0d44a01",
   "metadata": {},
   "source": [
    "_**2. TESS Follow-Up Observing Program (TFOP)**_"
   ]
  }
 ],
 "metadata": {
  "kernelspec": {
   "display_name": "Python 3 (ipykernel)",
   "language": "python",
   "name": "python3"
  },
  "language_info": {
   "codemirror_mode": {
    "name": "ipython",
    "version": 3
   },
   "file_extension": ".py",
   "mimetype": "text/x-python",
   "name": "python",
   "nbconvert_exporter": "python",
   "pygments_lexer": "ipython3",
   "version": "3.11.5"
  }
 },
 "nbformat": 4,
 "nbformat_minor": 5
}
