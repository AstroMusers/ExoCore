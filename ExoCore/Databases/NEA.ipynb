{
 "cells": [
  {
   "cell_type": "markdown",
   "id": "a4a75992",
   "metadata": {},
   "source": [
    "# The NASA Exoplanet Archive\n",
    "## Table of Contents\n",
    "1. [Overview](#overview)\n",
    "2. [Accessing Data](#accessing-data)\n",
    "    - [Web Interface](#web-interface)\n",
    "    - [NASA Exoplanet Archive API via Astroquery](#nasa-exoplanet-archive-api-via-astroquery)\n",
    "    - [Table Access Protocol (TAP)](#table-access-protocol-tap)\n",
    "3. [Tools](#tools)\n",
    "    - []\n",
    "    - []\n",
    "    - []\n",
    "4. [Exercises](#exercies)"
   ]
  },
  {
   "cell_type": "markdown",
   "id": "f4e8f9eb",
   "metadata": {},
   "source": [
    "# Overview\n",
    "The [NASA Exoplanet Archive](https://exoplanetarchive.ipac.caltech.edu/) is an invaluable resource in exoplanet research. It hosts a variety of different tables with the most up-to-date astrophysical parameters of all known exoplanets and their hosts. Additinally, it hosts a small number of mission data, as well as a few observer tools (e.g. transit and ephermerid calculator which aids in observational planning) that have great utility. This module briefly explains the main products of the site, how to use/navigate them, and best practices when using the observer tools as well as accessing data."
   ]
  },
  {
   "cell_type": "markdown",
   "id": "86340312",
   "metadata": {},
   "source": [
    "# Accessing Data\n",
    "## Browser-based Data Tables\n",
    "Most catalogs in the Exoplanet Archive are organized in interactive data tables. This section gives a brief overview of the important aspects of these tables, but a full user guide can be found [here](https://exoplanetarchive.ipac.caltech.edu/docs/ICEexohelp.html).\n",
    "### Data Columns\n",
    "An example of a few columns from the [Planetary Systems Composite Data catalog](https://exoplanetarchive.ipac.caltech.edu/cgi-bin/TblView/nph-tblView?app=ExoTbls&config=PSCompPars) are shown here:\n",
    "\n",
    "![Table](../Graphics/Databases/NEA_Table.png)\n",
    "\n",
    "When first accessing the page, a standard set of columns are shown, but many other data types are available that are not in the default view. The other available columns are located in the upper left in the \"Select Columns\" tab, which brings up this windowed control panel:\n",
    "\n",
    "![Table](../Graphics/Databases/NEA_Column.png)\n",
    "\n",
    "This gives parameters of both the star and planet, the system as a whole, and other data (like light curves) associated with the planet. It is important to note that **not all entires will not have data for every column**. The data represents our current knowledge of these systems, so if the science has not been conducted, no data will be entered!\n",
    "\n",
    "### Uncertainties\n",
    "Columns with numerical data will often have uncertainties associated with an entry. Some have symmetric data in the form $x \\pm \\delta x$ and others are non-symmetric in the form $x^{+\\delta x_{1} }_{-\\delta x_{2}}$. These often arise due to different methodologies used in the source paper. Some entries do not report uncertainties at all, and it is up to the user to read the literature to assess the confidence of the stated value. Uncertainties are also provided in their own data columns if they need to be separated for ease of parsing.\n",
    "\n",
    "### Filtering Methods\n",
    "The greatest advantage of the interactive data tables is the ability to **filter results**. This is done in the white box right below the column header, and the syntax for that data column is given by clicking on the red question mark. Here is an example:\n",
    "\n",
    "![Table](../Graphics/Databases/NEA_help.png)\n",
    "\n",
    "In this case, we are looking at a **floating number column**, and the syntax for the types of queries is shown. Thus, you are able to find entries that match a specific value, that do not include a specific value, are within a given limit (e.g. $<,>, \\leq, \\geq$) or within an inclusive range (e.g. $[x,y]$). There are two other column types: **integer** and **text**. Integer columns work identically to floating number columns. Text columns are a bit more limited, and only have three methods: substring match (e.g. contains this string), exclude substring, and a 'wildcard' feature using '%', allowing that character to mean any other character. Additionally, all columns use **null** and **not null** syntax, the former requiring the entry be empty and the latter requiring the entry to be not empty.\n",
    "\n",
    "### Downloading Tables\n",
    "A useful feature of the interactive data tables is the ability to download your selected and filtered data to an easily readable file. This is done by clicking the 'Download Table' tab next to the 'Select Columns' tab. It gives the following dropdown:\n",
    "\n",
    "![Table](../Graphics/Databases/NEA_COptions.png)\n",
    "\n",
    "The file type selection can convert the data into commonly used data file types like CSV, VOTable, IPAC, and Tab-Separated values. Additionally, the table allows you to check individual rows and columns to be downloaded (only currently visible columns are considered 'checked'). For errors, the default is to append the errors next to the corresponding value in the same cell. To exclude this, the 'Values Only' option can be selected, to allow ease of parsing through the tables in external software. This does NOT exclude the error columns, so if you want the errors in a new column, they just need to be selected.\n",
    "\n",
    "## Searchable Tables\n",
    "Some catalogs, such as the [K2 Target Catalog](https://exoplanetarchive.ipac.caltech.edu/cgi-bin/TblSearch/nph-tblSearchInit?app=ExoTbls&config=k2targets) are too big to display in the above interactive format, or have visual elements (like the [Atmospheric Spectroscopy Table](https://exoplanetarchive.ipac.caltech.edu/cgi-bin/atmospheres/nph-firefly?atmospheres)) that need their own interface. The syntax generally follows the same paradigm as above. Here is a list of searchable tables, with corresponding user guides or search information:\n",
    "\n",
    "- [Atmospheric Spectroscopy Table](https://exoplanetarchive.ipac.caltech.edu/cgi-bin/atmospheres/nph-firefly?atmospheres) (Select 'User Guide' Tab)\n",
    "- [Kepler Stellar Table](https://exoplanetarchive.ipac.caltech.edu/cgi-bin/TblSearch/nph-tblSearchInit?app=ExoTbls&config=keplerstellar) ([Guide](https://exoplanetarchive.ipac.caltech.edu/docs/search_help.html))\n",
    "- [K2 Targets](https://exoplanetarchive.ipac.caltech.edu/cgi-bin/TblSearch/nph-tblSearchInit?app=ExoTbls&config=k2targets) ([Guide](https://exoplanetarchive.ipac.caltech.edu/docs/search_help.html))\n",
    "- [SuperWASP](https://exoplanetarchive.ipac.caltech.edu/cgi-bin/TblSearch/nph-tblSearchInit?app=ExoTbls&config=superwasptimeseries) ([Guide](https://exoplanetarchive.ipac.caltech.edu/docs/search_help.html))\n",
    "- [KELT Light Curves](https://exoplanetarchive.ipac.caltech.edu/cgi-bin/TblSearch/nph-tblSearchInit?app=ExoTbls&config=kelttimeseries) ([Guide](https://exoplanetarchive.ipac.caltech.edu/docs/search_help.html))\n",
    "- [UKIRT Time Series](https://exoplanetarchive.ipac.caltech.edu/cgi-bin/TblSearch/nph-tblSearchInit?app=ExoTbls&config=ukirttimeseries) ([Guide](https://exoplanetarchive.ipac.caltech.edu/docs/search_help.html))\n",
    "- [PyATMOS + FDL INARA Synthetic Spectra](https://exoplanetarchive.ipac.caltech.edu/cgi-bin/FDL/nph-fdl?psg) (Select 'User Guide' Tab)\n",
    "- [MOA Microlensing Survey](https://exoplanetarchive.ipac.caltech.edu/cgi-bin/MOA/nph-firefly?MOA) (Select 'User Guide' Tab)\n",
    "- [HATNet Light Curves](https://exoplanetarchive.ipac.caltech.edu/applications/ETSS/HATNet_index.html) ([INFO](https://exoplanetarchive.ipac.caltech.edu/docs/datasethelp/ETSS_HATNet.html))\n",
    "- [CoRoT Astero-seismology Search](https://exoplanetarchive.ipac.caltech.edu/applications/ETSS/CoRoT_astero_index.html) ([INFO](https://exoplanetarchive.ipac.caltech.edu/docs/datasethelp/ETSS_CoRoT.html))"
   ]
  },
  {
   "cell_type": "markdown",
   "id": "55092474",
   "metadata": {},
   "source": [
    "## NASA Exoplanet Archive API via Astroquery\n",
    "\n",
    "In some applications, being able to systematically retrieve information from the NEA in Python is very useful. Here we outline the basics of using the NEA, as well as a couple of examples.\n",
    "\n",
    "### Single object query\n",
    "To start, we import the appropriate modules and query the exoplanet WASP-121b, a massive hot jupiter:"
   ]
  },
  {
   "cell_type": "code",
   "execution_count": 6,
   "id": "66e25cb9",
   "metadata": {},
   "outputs": [
    {
     "data": {
      "text/html": [
       "<div><i>QTable masked=True length=4</i>\n",
       "<table id=\"table1728206912528\" class=\"table-striped table-bordered table-condensed\">\n",
       "<thead><tr><th>pl_name</th><th>pl_letter</th><th>hostname</th><th>hd_name</th><th>hip_name</th><th>tic_id</th><th>gaia_id</th><th>default_flag</th><th>pl_refname</th><th>sy_refname</th><th>disc_pubdate</th><th>disc_year</th><th>discoverymethod</th><th>disc_locale</th><th>disc_facility</th><th>disc_instrument</th><th>disc_telescope</th><th>disc_refname</th><th>ra</th><th>rastr</th><th>dec</th><th>decstr</th><th>glon</th><th>glat</th><th>elon</th><th>elat</th><th>pl_orbper</th><th>pl_orbpererr1</th><th>pl_orbpererr2</th><th>pl_orbperlim</th><th>pl_orbperstr</th><th>pl_orblpererr1</th><th>pl_orblper</th><th>pl_orblpererr2</th><th>pl_orblperlim</th><th>pl_orblperstr</th><th>pl_orbsmax</th><th>pl_orbsmaxerr1</th><th>pl_orbsmaxerr2</th><th>pl_orbsmaxlim</th><th>pl_orbsmaxstr</th><th>pl_orbincl</th><th>pl_orbinclerr1</th><th>pl_orbinclerr2</th><th>pl_orbincllim</th><th>pl_orbinclstr</th><th>pl_orbtper</th><th>pl_orbtpererr1</th><th>pl_orbtpererr2</th><th>pl_orbtperlim</th><th>pl_orbtperstr</th><th>pl_orbeccen</th><th>pl_orbeccenerr1</th><th>pl_orbeccenerr2</th><th>pl_orbeccenlim</th><th>pl_orbeccenstr</th><th>pl_eqt</th><th>pl_eqterr1</th><th>pl_eqterr2</th><th>pl_eqtlim</th><th>pl_eqtstr</th><th>pl_occdep</th><th>pl_occdeperr1</th><th>pl_occdeperr2</th><th>pl_occdeplim</th><th>pl_occdepstr</th><th>pl_insol</th><th>pl_insolerr1</th><th>pl_insolerr2</th><th>pl_insollim</th><th>pl_insolstr</th><th>pl_dens</th><th>pl_denserr1</th><th>pl_denserr2</th><th>pl_denslim</th><th>pl_densstr</th><th>pl_trandep</th><th>pl_trandeperr1</th><th>pl_trandeperr2</th><th>pl_trandeplim</th><th>pl_trandepstr</th><th>pl_tranmid</th><th>pl_tranmiderr1</th><th>pl_tranmiderr2</th><th>pl_tranmidlim</th><th>pl_tranmidstr</th><th>pl_trandur</th><th>pl_trandurerr1</th><th>pl_trandurerr2</th><th>pl_trandurlim</th><th>pl_trandurstr</th><th>sy_kmagstr</th><th>sy_umag</th><th>sy_umagerr1</th><th>sy_umagerr2</th><th>sy_umagstr</th><th>sy_rmag</th><th>sy_rmagerr1</th><th>sy_rmagerr2</th><th>sy_rmagstr</th><th>sy_imag</th><th>sy_imagerr1</th><th>sy_imagerr2</th><th>sy_imagstr</th><th>sy_zmag</th><th>sy_zmagerr1</th><th>sy_zmagerr2</th><th>sy_zmagstr</th><th>sy_w1mag</th><th>sy_w1magerr1</th><th>sy_w1magerr2</th><th>sy_w1magstr</th><th>sy_w2mag</th><th>sy_w2magerr1</th><th>sy_w2magerr2</th><th>sy_w2magstr</th><th>sy_w3mag</th><th>sy_w3magerr1</th><th>sy_w3magerr2</th><th>sy_w3magstr</th><th>sy_w4mag</th><th>sy_w4magerr1</th><th>sy_w4magerr2</th><th>sy_w4magstr</th><th>sy_gmag</th><th>sy_gmagerr1</th><th>sy_gmagerr2</th><th>sy_gmagstr</th><th>sy_gaiamag</th><th>sy_gaiamagerr1</th><th>sy_gaiamagerr2</th><th>sy_gaiamagstr</th><th>sy_tmag</th><th>sy_tmagerr1</th><th>sy_tmagerr2</th><th>sy_tmagstr</th><th>pl_controv_flag</th><th>pl_tsystemref</th><th>st_metratio</th><th>st_spectype</th><th>sy_kepmag</th><th>sy_kepmagerr1</th><th>sy_kepmagerr2</th><th>sy_kepmagstr</th><th>st_rotp</th><th>st_rotperr1</th><th>st_rotperr2</th><th>st_rotplim</th><th>st_rotpstr</th><th>pl_projobliq</th><th>pl_projobliqerr1</th><th>pl_projobliqerr2</th><th>pl_projobliqlim</th><th>pl_projobliqstr</th><th>x</th><th>y</th><th>z</th><th>htm20</th><th>pl_rvamp</th><th>pl_rvamperr1</th><th>pl_rvamperr2</th><th>pl_rvamplim</th><th>pl_rvampstr</th><th>pl_radj</th><th>pl_radjerr1</th><th>pl_radjerr2</th><th>pl_radjlim</th><th>pl_radjstr</th><th>pl_rade</th><th>pl_radeerr1</th><th>pl_radeerr2</th><th>pl_radelim</th><th>pl_radestr</th><th>pl_ratror</th><th>pl_ratrorerr1</th><th>pl_ratrorerr2</th><th>pl_ratrorlim</th><th>pl_ratrorstr</th><th>pl_ratdor</th><th>pl_trueobliq</th><th>pl_trueobliqerr1</th><th>pl_trueobliqerr2</th><th>pl_trueobliqlim</th><th>pl_trueobliqstr</th><th>sy_icmag</th><th>sy_icmagerr1</th><th>sy_icmagerr2</th><th>sy_icmagstr</th><th>rowupdate</th><th>pl_pubdate</th><th>st_refname</th><th>releasedate</th><th>dkin_flag</th><th>pl_ratdorerr1</th><th>pl_ratdorerr2</th><th>pl_ratdorlim</th><th>pl_ratdorstr</th><th>pl_imppar</th><th>pl_impparerr1</th><th>pl_impparerr2</th><th>pl_impparlim</th><th>pl_impparstr</th><th>pl_cmassj</th><th>pl_cmassjerr1</th><th>pl_cmassjerr2</th><th>pl_cmassjlim</th><th>pl_cmassjstr</th><th>pl_cmasse</th><th>pl_cmasseerr1</th><th>pl_cmasseerr2</th><th>pl_cmasselim</th><th>pl_cmassestr</th><th>pl_massj</th><th>pl_massjerr1</th><th>pl_massjerr2</th><th>pl_massjlim</th><th>pl_massjstr</th><th>pl_masse</th><th>pl_masseerr1</th><th>pl_masseerr2</th><th>pl_masselim</th><th>pl_massestr</th><th>pl_bmassj</th><th>pl_bmassjerr1</th><th>pl_bmassjerr2</th><th>pl_bmassjlim</th><th>pl_bmassjstr</th><th>pl_bmasse</th><th>pl_bmasseerr1</th><th>pl_bmasseerr2</th><th>pl_bmasselim</th><th>pl_bmassestr</th><th>pl_bmassprov</th><th>pl_msinij</th><th>pl_msinijerr1</th><th>pl_msinijerr2</th><th>pl_msinijlim</th><th>pl_msinijstr</th><th>pl_msinie</th><th>pl_msinieerr1</th><th>pl_msinieerr2</th><th>pl_msinielim</th><th>pl_msiniestr</th><th>st_teff</th><th>st_tefferr1</th><th>st_tefferr2</th><th>st_tefflim</th><th>st_teffstr</th><th>st_met</th><th>st_meterr1</th><th>st_meterr2</th><th>st_metlim</th><th>st_metstr</th><th>st_radv</th><th>st_radverr1</th><th>st_radverr2</th><th>st_radvlim</th><th>st_radvstr</th><th>st_vsin</th><th>st_vsinerr1</th><th>st_vsinerr2</th><th>st_vsinlim</th><th>st_vsinstr</th><th>st_lum</th><th>st_lumerr1</th><th>st_lumerr2</th><th>st_lumlim</th><th>st_lumstr</th><th>st_logg</th><th>st_loggerr1</th><th>st_loggerr2</th><th>st_logglim</th><th>st_loggstr</th><th>st_age</th><th>st_ageerr1</th><th>st_ageerr2</th><th>st_agelim</th><th>st_agestr</th><th>st_mass</th><th>st_masserr1</th><th>st_masserr2</th><th>st_masslim</th><th>st_massstr</th><th>st_dens</th><th>st_denserr1</th><th>st_denserr2</th><th>st_denslim</th><th>st_densstr</th><th>st_rad</th><th>st_raderr1</th><th>st_raderr2</th><th>st_radlim</th><th>st_radstr</th><th>ttv_flag</th><th>ptv_flag</th><th>tran_flag</th><th>rv_flag</th><th>ast_flag</th><th>obm_flag</th><th>micro_flag</th><th>etv_flag</th><th>ima_flag</th><th>pul_flag</th><th>soltype</th><th>sy_snum</th><th>sy_pnum</th><th>sy_mnum</th><th>cb_flag</th><th>st_nphot</th><th>st_nrvc</th><th>st_nspec</th><th>pl_nespec</th><th>pl_ntranspec</th><th>pl_nnotes</th><th>sy_pm</th><th>sy_pmerr1</th><th>sy_pmerr2</th><th>sy_pmstr</th><th>sy_pmra</th><th>sy_pmraerr1</th><th>sy_pmraerr2</th><th>sy_pmrastr</th><th>sy_pmdec</th><th>sy_pmdecerr1</th><th>sy_pmdecerr2</th><th>sy_pmdecstr</th><th>sy_plx</th><th>sy_plxerr1</th><th>sy_plxerr2</th><th>sy_plxstr</th><th>sy_dist</th><th>sy_disterr1</th><th>sy_disterr2</th><th>sy_diststr</th><th>sy_bmag</th><th>sy_bmagerr1</th><th>sy_bmagerr2</th><th>sy_bmagstr</th><th>sy_vmag</th><th>sy_vmagerr1</th><th>sy_vmagerr2</th><th>sy_vmagstr</th><th>sy_jmag</th><th>sy_jmagerr1</th><th>sy_jmagerr2</th><th>sy_jmagstr</th><th>sy_hmag</th><th>sy_hmagerr1</th><th>sy_hmagerr2</th><th>sy_hmagstr</th><th>sy_kmag</th><th>sy_kmagerr1</th><th>sy_kmagerr2</th><th>sky_coord</th></tr></thead>\n",
       "<thead><tr><th></th><th></th><th></th><th></th><th></th><th></th><th></th><th></th><th></th><th></th><th></th><th></th><th></th><th></th><th></th><th></th><th></th><th></th><th>deg</th><th></th><th>deg</th><th></th><th>deg</th><th>deg</th><th>deg</th><th>deg</th><th>d</th><th>d</th><th>d</th><th></th><th></th><th>deg</th><th>deg</th><th>deg</th><th></th><th></th><th>AU</th><th>AU</th><th>AU</th><th></th><th></th><th>deg</th><th>deg</th><th>deg</th><th></th><th></th><th>d</th><th>d</th><th>d</th><th></th><th></th><th></th><th></th><th></th><th></th><th></th><th>K</th><th>K</th><th>K</th><th></th><th></th><th>%</th><th>%</th><th>%</th><th></th><th></th><th>0.0795775 solLum / AU2</th><th>0.0795775 solLum / AU2</th><th>0.0795775 solLum / AU2</th><th></th><th></th><th>g / cm3</th><th>g / cm3</th><th>g / cm3</th><th></th><th></th><th>%</th><th>%</th><th>%</th><th></th><th></th><th>d</th><th>d</th><th>d</th><th></th><th></th><th>d</th><th>d</th><th>d</th><th></th><th></th><th></th><th>mag</th><th>mag</th><th>mag</th><th></th><th>mag</th><th>mag</th><th>mag</th><th></th><th>mag</th><th>mag</th><th>mag</th><th></th><th>mag</th><th>mag</th><th>mag</th><th></th><th>mag</th><th>mag</th><th>mag</th><th></th><th>mag</th><th>mag</th><th>mag</th><th></th><th>mag</th><th>mag</th><th>mag</th><th></th><th>mag</th><th>mag</th><th>mag</th><th></th><th>mag</th><th>mag</th><th>mag</th><th></th><th>mag</th><th>mag</th><th>mag</th><th></th><th>mag</th><th>mag</th><th>mag</th><th></th><th></th><th></th><th></th><th></th><th>mag</th><th>mag</th><th>mag</th><th></th><th>d</th><th>d</th><th>d</th><th></th><th></th><th>deg</th><th>deg</th><th>deg</th><th></th><th></th><th></th><th></th><th></th><th></th><th>m / s</th><th>m / s</th><th>m / s</th><th></th><th></th><th>jupiterRad</th><th>jupiterRad</th><th>jupiterRad</th><th></th><th></th><th>earthRad</th><th>earthRad</th><th>earthRad</th><th></th><th></th><th></th><th></th><th></th><th></th><th></th><th></th><th>deg</th><th>deg</th><th>deg</th><th></th><th></th><th>mag</th><th>mag</th><th>mag</th><th></th><th></th><th></th><th></th><th></th><th></th><th></th><th></th><th></th><th></th><th></th><th></th><th></th><th></th><th></th><th>jupiterMass</th><th>jupiterMass</th><th>jupiterMass</th><th></th><th></th><th>earthMass</th><th>earthMass</th><th>earthMass</th><th></th><th></th><th>jupiterMass</th><th>jupiterMass</th><th>jupiterMass</th><th></th><th></th><th>earthMass</th><th>earthMass</th><th>earthMass</th><th></th><th></th><th>jupiterMass</th><th>jupiterMass</th><th>jupiterMass</th><th></th><th></th><th>earthMass</th><th>earthMass</th><th>earthMass</th><th></th><th></th><th></th><th>jupiterMass</th><th>jupiterMass</th><th>jupiterMass</th><th></th><th></th><th>earthMass</th><th>earthMass</th><th>earthMass</th><th></th><th></th><th>K</th><th>K</th><th>K</th><th></th><th></th><th>dex</th><th>dex</th><th>dex</th><th></th><th></th><th>km / s</th><th>km / s</th><th>km / s</th><th></th><th></th><th>km / s</th><th>km / s</th><th>km / s</th><th></th><th></th><th>dex(solLum)</th><th>dex(solLum)</th><th>dex(solLum)</th><th></th><th></th><th>dex(cm / s2)</th><th>dex(cm / s2)</th><th>dex(cm / s2)</th><th></th><th></th><th>Gyr</th><th>Gyr</th><th>Gyr</th><th></th><th></th><th>Msun</th><th>Msun</th><th>Msun</th><th></th><th></th><th>g / cm3</th><th>g / cm3</th><th>g / cm3</th><th></th><th></th><th>Rsun</th><th>Rsun</th><th>Rsun</th><th></th><th></th><th></th><th></th><th></th><th></th><th></th><th></th><th></th><th></th><th></th><th></th><th></th><th></th><th></th><th></th><th></th><th></th><th></th><th></th><th></th><th></th><th></th><th>mas / yr</th><th>mas / yr</th><th>mas / yr</th><th></th><th>mas / yr</th><th>mas / yr</th><th>mas / yr</th><th></th><th>mas / yr</th><th>mas / yr</th><th>mas / yr</th><th></th><th>mas</th><th>mas</th><th>mas</th><th></th><th>pc</th><th>pc</th><th>pc</th><th></th><th>mag</th><th>mag</th><th>mag</th><th></th><th>mag</th><th>mag</th><th>mag</th><th></th><th>mag</th><th>mag</th><th>mag</th><th></th><th>mag</th><th>mag</th><th>mag</th><th></th><th>mag</th><th>mag</th><th>mag</th><th>deg,deg</th></tr></thead>\n",
       "<thead><tr><th>str10</th><th>str1</th><th>str8</th><th>str1</th><th>str1</th><th>str12</th><th>str28</th><th>int32</th><th>str144</th><th>str118</th><th>str7</th><th>int32</th><th>str7</th><th>str6</th><th>str9</th><th>str14</th><th>str18</th><th>str130</th><th>float64</th><th>str12</th><th>float64</th><th>str13</th><th>float64</th><th>float64</th><th>float64</th><th>float64</th><th>float64</th><th>float64</th><th>float64</th><th>int32</th><th>str143</th><th>float64</th><th>float64</th><th>float64</th><th>int32</th><th>str12</th><th>float64</th><th>float64</th><th>float64</th><th>int32</th><th>str134</th><th>float64</th><th>float64</th><th>float64</th><th>int32</th><th>str17</th><th>float64</th><th>float64</th><th>float64</th><th>int32</th><th>str1</th><th>float64</th><th>float64</th><th>float64</th><th>int32</th><th>str1</th><th>float64</th><th>float64</th><th>float64</th><th>int32</th><th>str14</th><th>float64</th><th>float64</th><th>float64</th><th>int32</th><th>str131</th><th>float64</th><th>float64</th><th>float64</th><th>int32</th><th>str7</th><th>float64</th><th>float64</th><th>float64</th><th>int32</th><th>str128</th><th>float64</th><th>float64</th><th>float64</th><th>int32</th><th>str28</th><th>float64</th><th>float64</th><th>float64</th><th>int32</th><th>str140</th><th>float64</th><th>float64</th><th>float64</th><th>int32</th><th>str131</th><th>str18</th><th>float64</th><th>float64</th><th>float64</th><th>str1</th><th>float64</th><th>float64</th><th>float64</th><th>str1</th><th>float64</th><th>float64</th><th>float64</th><th>str1</th><th>float64</th><th>float64</th><th>float64</th><th>str1</th><th>float64</th><th>float64</th><th>float64</th><th>str18</th><th>float64</th><th>float64</th><th>float64</th><th>str18</th><th>float64</th><th>float64</th><th>float64</th><th>str18</th><th>float64</th><th>float64</th><th>float64</th><th>str18</th><th>float64</th><th>float64</th><th>float64</th><th>str1</th><th>float64</th><th>float64</th><th>float64</th><th>str25</th><th>float64</th><th>float64</th><th>float64</th><th>str19</th><th>int32</th><th>str7</th><th>str6</th><th>str4</th><th>float64</th><th>float64</th><th>float64</th><th>str1</th><th>float64</th><th>float64</th><th>float64</th><th>int32</th><th>str8</th><th>float64</th><th>float64</th><th>float64</th><th>int32</th><th>str126</th><th>float64</th><th>float64</th><th>float64</th><th>int32</th><th>float64</th><th>float64</th><th>float64</th><th>int32</th><th>str124</th><th>float64</th><th>float64</th><th>float64</th><th>int32</th><th>str26</th><th>float64</th><th>float64</th><th>float64</th><th>int32</th><th>str25</th><th>float64</th><th>float64</th><th>float64</th><th>int32</th><th>str134</th><th>float64</th><th>float64</th><th>float64</th><th>float64</th><th>int32</th><th>str1</th><th>float64</th><th>float64</th><th>float64</th><th>str1</th><th>str10</th><th>str7</th><th>str140</th><th>str10</th><th>int32</th><th>float64</th><th>float64</th><th>int32</th><th>str131</th><th>float64</th><th>float64</th><th>float64</th><th>int32</th><th>str131</th><th>float64</th><th>float64</th><th>float64</th><th>int32</th><th>str1</th><th>float64</th><th>float64</th><th>float64</th><th>int32</th><th>str1</th><th>float64</th><th>float64</th><th>float64</th><th>int32</th><th>str128</th><th>float64</th><th>float64</th><th>float64</th><th>int32</th><th>str126</th><th>float64</th><th>float64</th><th>float64</th><th>int32</th><th>str128</th><th>float64</th><th>float64</th><th>float64</th><th>int32</th><th>str126</th><th>str4</th><th>float64</th><th>float64</th><th>float64</th><th>int32</th><th>str1</th><th>float64</th><th>float64</th><th>float64</th><th>int32</th><th>str1</th><th>float64</th><th>float64</th><th>float64</th><th>int32</th><th>str135</th><th>float64</th><th>float64</th><th>float64</th><th>int32</th><th>str16</th><th>float64</th><th>float64</th><th>float64</th><th>int32</th><th>str19</th><th>float64</th><th>float64</th><th>float64</th><th>int32</th><th>str15</th><th>float64</th><th>float64</th><th>float64</th><th>int32</th><th>str140</th><th>float64</th><th>float64</th><th>float64</th><th>int32</th><th>str140</th><th>float64</th><th>float64</th><th>float64</th><th>int32</th><th>str14</th><th>float64</th><th>float64</th><th>float64</th><th>int32</th><th>str137</th><th>float64</th><th>float64</th><th>float64</th><th>int32</th><th>str140</th><th>float64</th><th>float64</th><th>float64</th><th>int32</th><th>str140</th><th>int32</th><th>int32</th><th>int32</th><th>int32</th><th>int32</th><th>int32</th><th>int32</th><th>int32</th><th>int32</th><th>int32</th><th>str22</th><th>int32</th><th>int32</th><th>int32</th><th>int32</th><th>int32</th><th>int32</th><th>int32</th><th>int32</th><th>int32</th><th>int32</th><th>float64</th><th>float64</th><th>float64</th><th>str27</th><th>float64</th><th>float64</th><th>float64</th><th>str27</th><th>float64</th><th>float64</th><th>float64</th><th>str27</th><th>float64</th><th>float64</th><th>float64</th><th>str22</th><th>float64</th><th>float64</th><th>float64</th><th>str130</th><th>float64</th><th>float64</th><th>float64</th><th>str19</th><th>float64</th><th>float64</th><th>float64</th><th>str19</th><th>float64</th><th>float64</th><th>float64</th><th>str18</th><th>float64</th><th>float64</th><th>float64</th><th>str18</th><th>float64</th><th>float64</th><th>float64</th><th>SkyCoord</th></tr></thead>\n",
       "<tr><td>WASP-121 b</td><td>b</td><td>WASP-121</td><td></td><td></td><td>TIC 22529346</td><td>Gaia DR2 5565050255701441664</td><td>0</td><td>&lt;a refstr=DELREZ_ET_AL__2016 href=https://ui.adsabs.harvard.edu/abs/2016MNRAS.458.4025D/abstract target=ref&gt;Delrez et al. 2016&lt;/a&gt;</td><td>&lt;a refstr=STASSUN_ET_AL__2019 href=https://ui.adsabs.harvard.edu/abs/2019AJ....158..138S/abstract target=ref&gt;TICv8&lt;/a&gt;</td><td>2016-06</td><td>2016</td><td>Transit</td><td>Ground</td><td>SuperWASP</td><td>e2v CCD Camera</td><td>Canon 200mm f/1.8L</td><td>&lt;a refstr=DELREZ_ET_AL__2016 href=https://ui.adsabs.harvard.edu/abs/2016MNRAS.458.4025D/abstract target=ref&gt;Delrez et al. 2016&lt;/a&gt;</td><td>107.6002312</td><td>07h10m24.06s</td><td>-39.0972705</td><td>-39d05m50.17s</td><td>250.2937</td><td>-13.32514</td><td>118.73972</td><td>-60.79207</td><td>1.2749255</td><td>2e-07</td><td>-2.5e-07</td><td>0</td><td>&lt;div&gt;&lt;span class=&quot;supersubNumber&quot;&gt;1.27492550&lt;/span&gt;&lt;span class=&quot;superscript&quot;&gt;+0.00000020&lt;/span&gt;&lt;span class=&quot;subscript&quot;&gt;-0.00000025&lt;/span&gt;&lt;/div&gt;</td><td>nan</td><td>nan</td><td>nan</td><td>0</td><td></td><td>0.02544</td><td>0.00049</td><td>-0.0005</td><td>0</td><td>&lt;div&gt;&lt;span class=&quot;supersubNumber&quot;&gt;0.02544&lt;/span&gt;&lt;span class=&quot;superscript&quot;&gt;+0.00049&lt;/span&gt;&lt;span class=&quot;subscript&quot;&gt;-0.00050&lt;/span&gt;&lt;/div&gt;</td><td>87.6</td><td>0.6</td><td>-0.6</td><td>0</td><td>87.6&amp;plusmn;0.6</td><td>nan</td><td>nan</td><td>nan</td><td>0</td><td></td><td>0.0</td><td>nan</td><td>nan</td><td>0</td><td>0</td><td>2358.0</td><td>52.0</td><td>-52.0</td><td>0</td><td>2358&amp;plusmn;52</td><td>0.0603</td><td>0.013</td><td>-0.013</td><td>0</td><td>0.0603&amp;plusmn;0.0130</td><td>nan</td><td>nan</td><td>nan</td><td>0</td><td></td><td>0.243</td><td>0.021</td><td>-0.021</td><td>0</td><td>0.243&amp;plusmn;0.021</td><td>1.551</td><td>0.012</td><td>-0.012</td><td>0</td><td>1.551&amp;plusmn;0.012</td><td>2456635.70832</td><td>0.00011</td><td>-0.0001</td><td>0</td><td>&lt;div&gt;&lt;span class=&quot;supersubNumber&quot;&gt;2456635.70832&lt;/span&gt;&lt;span class=&quot;superscript&quot;&gt;+0.00011&lt;/span&gt;&lt;span class=&quot;subscript&quot;&gt;-0.00010&lt;/span&gt;&lt;/div&gt;</td><td>2.8872</td><td>0.0072</td><td>-0.0072</td><td>0</td><td>2.887&amp;plusmn;0.007</td><td>9.374&amp;plusmn;0.022</td><td>nan</td><td>nan</td><td>nan</td><td></td><td>nan</td><td>nan</td><td>nan</td><td></td><td>nan</td><td>nan</td><td>nan</td><td></td><td>nan</td><td>nan</td><td>nan</td><td></td><td>9.356</td><td>0.023</td><td>-0.023</td><td>9.356&amp;plusmn;0.023</td><td>9.387</td><td>0.019</td><td>-0.019</td><td>9.387&amp;plusmn;0.019</td><td>9.383</td><td>0.035</td><td>-0.035</td><td>9.383&amp;plusmn;0.035</td><td>9.175</td><td>0.511</td><td>-0.511</td><td>9.175&amp;plusmn;0.511</td><td>nan</td><td>nan</td><td>nan</td><td></td><td>10.3746</td><td>0.000426</td><td>-0.000426</td><td>10.374600&amp;plusmn;0.000426</td><td>10.056</td><td>0.006</td><td>-0.006</td><td>10.056&amp;plusmn;0.006</td><td>0</td><td>HJD</td><td>[Fe/H]</td><td>F6 V</td><td>nan</td><td>nan</td><td>nan</td><td></td><td>nan</td><td>nan</td><td>nan</td><td>0</td><td></td><td>-257.8</td><td>5.3</td><td>-5.5</td><td>0</td><td>&lt;div&gt;&lt;span class=&quot;supersubNumber&quot;&gt;-257.8&lt;/span&gt; &lt;span class=&quot;superscript&quot;&gt;+5.3&lt;/span&gt;&lt;span class=&quot;subscript&quot;&gt;-5.5&lt;/span&gt;&lt;/div&gt;</td><td>-0.23466513667604483</td><td>0.7397478834819612</td><td>-0.6306388368256207</td><td>-327295076</td><td>nan</td><td>nan</td><td>nan</td><td>0</td><td></td><td>1.865</td><td>0.044</td><td>-0.044</td><td>0</td><td>1.865&amp;plusmn;0.044</td><td>20.905</td><td>0.493</td><td>-0.493</td><td>0</td><td>20.90&amp;plusmn;0.49</td><td>0.12454</td><td>0.00047</td><td>-0.00048</td><td>0</td><td>&lt;div&gt;&lt;span class=&quot;supersubNumber&quot;&gt;0.12454&lt;/span&gt;&lt;span class=&quot;superscript&quot;&gt;+0.00047&lt;/span&gt;&lt;span class=&quot;subscript&quot;&gt;-0.00048&lt;/span&gt;&lt;/div&gt;</td><td>3.754</td><td>nan</td><td>nan</td><td>nan</td><td>0</td><td></td><td>nan</td><td>nan</td><td>nan</td><td></td><td>2016-06-22</td><td>2016-06</td><td>&lt;a refstr=DELREZ_ET_AL__2016 href=https://ui.adsabs.harvard.edu/abs/2016MNRAS.458.4025D/abstract target=ref&gt;Delrez et al. 2016&lt;/a&gt;</td><td>2016-06-23</td><td>0</td><td>0.023</td><td>-0.028</td><td>0</td><td>&lt;div&gt;&lt;span class=&quot;supersubNumber&quot;&gt;3.754&lt;/span&gt;&lt;span class=&quot;superscript&quot;&gt;+0.023&lt;/span&gt;&lt;span class=&quot;subscript&quot;&gt;-0.028&lt;/span&gt;&lt;/div&gt;</td><td>0.16</td><td>0.04</td><td>-0.042</td><td>0</td><td>&lt;div&gt;&lt;span class=&quot;supersubNumber&quot;&gt;0.160&lt;/span&gt;&lt;span class=&quot;superscript&quot;&gt;+0.040&lt;/span&gt;&lt;span class=&quot;subscript&quot;&gt;-0.042&lt;/span&gt;&lt;/div&gt;</td><td>nan</td><td>nan</td><td>nan</td><td>0</td><td></td><td>nan</td><td>nan</td><td>nan</td><td>0</td><td></td><td>1.183</td><td>0.064</td><td>-0.062</td><td>0</td><td>&lt;div&gt;&lt;span class=&quot;supersubNumber&quot;&gt;1.183&lt;/span&gt;&lt;span class=&quot;superscript&quot;&gt;+0.064&lt;/span&gt;&lt;span class=&quot;subscript&quot;&gt;-0.062&lt;/span&gt;&lt;/div&gt;</td><td>375.99289</td><td>20.34112</td><td>-19.70546</td><td>0</td><td>&lt;div&gt;&lt;span class=&quot;supersubNumber&quot;&gt;376.0&lt;/span&gt;&lt;span class=&quot;superscript&quot;&gt;+20.3&lt;/span&gt;&lt;span class=&quot;subscript&quot;&gt;-19.7&lt;/span&gt;&lt;/div&gt;</td><td>1.183</td><td>0.064</td><td>-0.062</td><td>0</td><td>&lt;div&gt;&lt;span class=&quot;supersubNumber&quot;&gt;1.183&lt;/span&gt;&lt;span class=&quot;superscript&quot;&gt;+0.064&lt;/span&gt;&lt;span class=&quot;subscript&quot;&gt;-0.062&lt;/span&gt;&lt;/div&gt;</td><td>375.99289</td><td>20.34112</td><td>-19.70546</td><td>0</td><td>&lt;div&gt;&lt;span class=&quot;supersubNumber&quot;&gt;376.0&lt;/span&gt;&lt;span class=&quot;superscript&quot;&gt;+20.3&lt;/span&gt;&lt;span class=&quot;subscript&quot;&gt;-19.7&lt;/span&gt;&lt;/div&gt;</td><td>Mass</td><td>nan</td><td>nan</td><td>nan</td><td>0</td><td></td><td>nan</td><td>nan</td><td>nan</td><td>0</td><td></td><td>6459.0</td><td>140.0</td><td>-140.0</td><td>0</td><td>6459&amp;plusmn;140</td><td>0.13</td><td>0.09</td><td>-0.09</td><td>0</td><td>0.13&amp;plusmn;0.09</td><td>38.35</td><td>0.02</td><td>-0.02</td><td>0</td><td>38.350&amp;plusmn;0.021</td><td>13.5</td><td>0.7</td><td>-0.7</td><td>0</td><td>13.5&amp;plusmn;0.7</td><td>0.519</td><td>0.038</td><td>-0.041</td><td>0</td><td>&lt;div&gt;&lt;span class=&quot;supersubNumber&quot;&gt;0.52&lt;/span&gt;&lt;span class=&quot;superscript&quot;&gt;+0.04&lt;/span&gt;&lt;span class=&quot;subscript&quot;&gt;-0.04&lt;/span&gt;&lt;/div&gt;</td><td>4.24</td><td>0.01</td><td>-0.01</td><td>0</td><td>&lt;div&gt;&lt;span class=&quot;supersubNumber&quot;&gt;4.242&lt;/span&gt;&lt;span class=&quot;superscript&quot;&gt;+0.011&lt;/span&gt;&lt;span class=&quot;subscript&quot;&gt;-0.012&lt;/span&gt;&lt;/div&gt;</td><td>1.5</td><td>1.0</td><td>-1.0</td><td>0</td><td>1.5&amp;plusmn;1.0</td><td>1.35</td><td>0.08</td><td>-0.08</td><td>0</td><td>&lt;div&gt;&lt;span class=&quot;supersubNumber&quot;&gt;1.353&lt;/span&gt;&lt;span class=&quot;superscript&quot;&gt;+0.080&lt;/span&gt;&lt;span class=&quot;subscript&quot;&gt;-0.079&lt;/span&gt;&lt;/div&gt;</td><td>0.616</td><td>0.011</td><td>-0.013</td><td>0</td><td>&lt;div&gt;&lt;span class=&quot;supersubNumber&quot;&gt;0.616&lt;/span&gt;&lt;span class=&quot;superscript&quot;&gt;+0.011&lt;/span&gt;&lt;span class=&quot;subscript&quot;&gt;-0.013&lt;/span&gt;&lt;/div&gt;</td><td>1.46</td><td>0.03</td><td>-0.03</td><td>0</td><td>1.458&amp;plusmn;0.030</td><td>0</td><td>0</td><td>1</td><td>1</td><td>0</td><td>0</td><td>0</td><td>0</td><td>0</td><td>0</td><td>Published Confirmed</td><td>1</td><td>1</td><td>0</td><td>0</td><td>0</td><td>0</td><td>0</td><td>57</td><td>36</td><td>0</td><td>25.8940345</td><td>0.0415779</td><td>-0.0415779</td><td>25.8940345&amp;plusmn;0.0415779</td><td>-3.84814</td><td>0.0395031</td><td>-0.0395031</td><td>-3.8481400&amp;plusmn;0.0395031</td><td>25.6065</td><td>0.0416236</td><td>-0.0416236</td><td>25.6065000&amp;plusmn;0.0416236</td><td>3.67631</td><td>0.0214</td><td>-0.0214</td><td>3.67631&amp;plusmn;0.02140</td><td>269.898</td><td>1.58</td><td>-1.562</td><td>&lt;div&gt;&lt;span class=&quot;supersubNumber&quot;&gt;269.898&lt;/span&gt;&lt;span class=&quot;superscript&quot;&gt;+1.580&lt;/span&gt;&lt;span class=&quot;subscript&quot;&gt;-1.562&lt;/span&gt;&lt;/div&gt;</td><td>10.997</td><td>0.088</td><td>-0.088</td><td>10.997&amp;plusmn;0.088</td><td>10.514</td><td>0.006</td><td>-0.006</td><td>10.514&amp;plusmn;0.006</td><td>9.625</td><td>0.021</td><td>-0.021</td><td>9.625&amp;plusmn;0.021</td><td>9.439</td><td>0.025</td><td>-0.025</td><td>9.439&amp;plusmn;0.025</td><td>9.374</td><td>0.022</td><td>-0.022</td><td>107.6002312,-39.0972705</td></tr>\n",
       "<tr><td>WASP-121 b</td><td>b</td><td>WASP-121</td><td></td><td></td><td>TIC 22529346</td><td>Gaia DR2 5565050255701441664</td><td>0</td><td>&lt;a refstr=EVANS_ET_AL__2017 href=https://ui.adsabs.harvard.edu/abs/2017Natur.548...58E/abstract target=ref&gt;Evans et al. 2017&lt;/a&gt;</td><td>&lt;a refstr=STASSUN_ET_AL__2019 href=https://ui.adsabs.harvard.edu/abs/2019AJ....158..138S/abstract target=ref&gt;TICv8&lt;/a&gt;</td><td>2016-06</td><td>2016</td><td>Transit</td><td>Ground</td><td>SuperWASP</td><td>e2v CCD Camera</td><td>Canon 200mm f/1.8L</td><td>&lt;a refstr=DELREZ_ET_AL__2016 href=https://ui.adsabs.harvard.edu/abs/2016MNRAS.458.4025D/abstract target=ref&gt;Delrez et al. 2016&lt;/a&gt;</td><td>107.6002312</td><td>07h10m24.06s</td><td>-39.0972705</td><td>-39d05m50.17s</td><td>250.2937</td><td>-13.32514</td><td>118.73972</td><td>-60.79207</td><td>1.2749255</td><td>nan</td><td>nan</td><td>0</td><td>1.2749255</td><td>nan</td><td>nan</td><td>nan</td><td>0</td><td></td><td>nan</td><td>nan</td><td>nan</td><td>0</td><td></td><td>88.91</td><td>nan</td><td>nan</td><td>0</td><td>88.91</td><td>nan</td><td>nan</td><td>nan</td><td>0</td><td></td><td>0.0</td><td>nan</td><td>nan</td><td>0</td><td>0</td><td>nan</td><td>nan</td><td>nan</td><td>0</td><td></td><td>0.1132</td><td>0.0037</td><td>-0.0035</td><td>0</td><td>&lt;div&gt;&lt;span class=&quot;supersubNumber&quot;&gt;0.1132&lt;/span&gt;&lt;span class=&quot;superscript&quot;&gt;+0.0037&lt;/span&gt;&lt;span class=&quot;subscript&quot;&gt;-0.0035&lt;/span&gt;&lt;/div&gt;</td><td>nan</td><td>nan</td><td>nan</td><td>0</td><td></td><td>nan</td><td>nan</td><td>nan</td><td>0</td><td></td><td>nan</td><td>nan</td><td>nan</td><td>0</td><td></td><td>nan</td><td>nan</td><td>nan</td><td>0</td><td></td><td>nan</td><td>nan</td><td>nan</td><td>0</td><td></td><td>9.374&amp;plusmn;0.022</td><td>nan</td><td>nan</td><td>nan</td><td></td><td>nan</td><td>nan</td><td>nan</td><td></td><td>nan</td><td>nan</td><td>nan</td><td></td><td>nan</td><td>nan</td><td>nan</td><td></td><td>9.356</td><td>0.023</td><td>-0.023</td><td>9.356&amp;plusmn;0.023</td><td>9.387</td><td>0.019</td><td>-0.019</td><td>9.387&amp;plusmn;0.019</td><td>9.383</td><td>0.035</td><td>-0.035</td><td>9.383&amp;plusmn;0.035</td><td>9.175</td><td>0.511</td><td>-0.511</td><td>9.175&amp;plusmn;0.511</td><td>nan</td><td>nan</td><td>nan</td><td></td><td>10.3746</td><td>0.000426</td><td>-0.000426</td><td>10.374600&amp;plusmn;0.000426</td><td>10.056</td><td>0.006</td><td>-0.006</td><td>10.056&amp;plusmn;0.006</td><td>0</td><td></td><td></td><td></td><td>nan</td><td>nan</td><td>nan</td><td></td><td>nan</td><td>nan</td><td>nan</td><td>0</td><td></td><td>nan</td><td>nan</td><td>nan</td><td>0</td><td></td><td>-0.23466513667604483</td><td>0.7397478834819612</td><td>-0.6306388368256207</td><td>-327295076</td><td>nan</td><td>nan</td><td>nan</td><td>0</td><td></td><td>1.694</td><td>nan</td><td>nan</td><td>0</td><td>1.694</td><td>18.988</td><td>nan</td><td>nan</td><td>0</td><td>18.99</td><td>nan</td><td>nan</td><td>nan</td><td>0</td><td></td><td>3.825</td><td>nan</td><td>nan</td><td>nan</td><td>0</td><td></td><td>nan</td><td>nan</td><td>nan</td><td></td><td>2017-08-14</td><td>2017-08</td><td>&lt;a refstr=EVANS_ET_AL__2017 href=https://ui.adsabs.harvard.edu/abs/2017Natur.548...58E/abstract target=ref&gt;Evans et al. 2017&lt;/a&gt;</td><td>2017-08-17</td><td>0</td><td>nan</td><td>nan</td><td>0</td><td>3.825</td><td>0.073</td><td>nan</td><td>nan</td><td>0</td><td>0.073</td><td>nan</td><td>nan</td><td>nan</td><td>0</td><td></td><td>nan</td><td>nan</td><td>nan</td><td>0</td><td></td><td>nan</td><td>nan</td><td>nan</td><td>0</td><td></td><td>nan</td><td>nan</td><td>nan</td><td>0</td><td></td><td>nan</td><td>nan</td><td>nan</td><td>0</td><td></td><td>nan</td><td>nan</td><td>nan</td><td>0</td><td></td><td></td><td>nan</td><td>nan</td><td>nan</td><td>0</td><td></td><td>nan</td><td>nan</td><td>nan</td><td>0</td><td></td><td>nan</td><td>nan</td><td>nan</td><td>0</td><td></td><td>nan</td><td>nan</td><td>nan</td><td>0</td><td></td><td>nan</td><td>nan</td><td>nan</td><td>0</td><td></td><td>nan</td><td>nan</td><td>nan</td><td>0</td><td></td><td>nan</td><td>nan</td><td>nan</td><td>0</td><td></td><td>nan</td><td>nan</td><td>nan</td><td>0</td><td></td><td>nan</td><td>nan</td><td>nan</td><td>0</td><td></td><td>nan</td><td>nan</td><td>nan</td><td>0</td><td></td><td>nan</td><td>nan</td><td>nan</td><td>0</td><td></td><td>1.46</td><td>nan</td><td>nan</td><td>0</td><td>1.458</td><td>0</td><td>0</td><td>1</td><td>1</td><td>0</td><td>0</td><td>0</td><td>0</td><td>0</td><td>0</td><td>Published Confirmed</td><td>1</td><td>1</td><td>0</td><td>0</td><td>0</td><td>0</td><td>0</td><td>57</td><td>36</td><td>0</td><td>25.8940345</td><td>0.0415779</td><td>-0.0415779</td><td>25.8940345&amp;plusmn;0.0415779</td><td>-3.84814</td><td>0.0395031</td><td>-0.0395031</td><td>-3.8481400&amp;plusmn;0.0395031</td><td>25.6065</td><td>0.0416236</td><td>-0.0416236</td><td>25.6065000&amp;plusmn;0.0416236</td><td>3.67631</td><td>0.0214</td><td>-0.0214</td><td>3.67631&amp;plusmn;0.02140</td><td>269.898</td><td>1.58</td><td>-1.562</td><td>&lt;div&gt;&lt;span class=&quot;supersubNumber&quot;&gt;269.898&lt;/span&gt;&lt;span class=&quot;superscript&quot;&gt;+1.580&lt;/span&gt;&lt;span class=&quot;subscript&quot;&gt;-1.562&lt;/span&gt;&lt;/div&gt;</td><td>10.997</td><td>0.088</td><td>-0.088</td><td>10.997&amp;plusmn;0.088</td><td>10.514</td><td>0.006</td><td>-0.006</td><td>10.514&amp;plusmn;0.006</td><td>9.625</td><td>0.021</td><td>-0.021</td><td>9.625&amp;plusmn;0.021</td><td>9.439</td><td>0.025</td><td>-0.025</td><td>9.439&amp;plusmn;0.025</td><td>9.374</td><td>0.022</td><td>-0.022</td><td>107.6002312,-39.0972705</td></tr>\n",
       "<tr><td>WASP-121 b</td><td>b</td><td>WASP-121</td><td></td><td></td><td>TIC 22529346</td><td>Gaia DR2 5565050255701441664</td><td>0</td><td>&lt;a refstr=MIKAL_EVANS_ET_AL__2019 href=https://ui.adsabs.harvard.edu/abs/2019MNRAS.488.2222M/abstract target=ref&gt;Mikal-Evans et al. 2019&lt;/a&gt;</td><td>&lt;a refstr=STASSUN_ET_AL__2019 href=https://ui.adsabs.harvard.edu/abs/2019AJ....158..138S/abstract target=ref&gt;TICv8&lt;/a&gt;</td><td>2016-06</td><td>2016</td><td>Transit</td><td>Ground</td><td>SuperWASP</td><td>e2v CCD Camera</td><td>Canon 200mm f/1.8L</td><td>&lt;a refstr=DELREZ_ET_AL__2016 href=https://ui.adsabs.harvard.edu/abs/2016MNRAS.458.4025D/abstract target=ref&gt;Delrez et al. 2016&lt;/a&gt;</td><td>107.6002312</td><td>07h10m24.06s</td><td>-39.0972705</td><td>-39d05m50.17s</td><td>250.2937</td><td>-13.32514</td><td>118.73972</td><td>-60.79207</td><td>1.2749255</td><td>nan</td><td>nan</td><td>0</td><td>1.2749255</td><td>nan</td><td>nan</td><td>nan</td><td>0</td><td></td><td>0.025</td><td>nan</td><td>nan</td><td>0</td><td>0.025</td><td>89.1</td><td>nan</td><td>nan</td><td>0</td><td>89.1</td><td>nan</td><td>nan</td><td>nan</td><td>0</td><td></td><td>nan</td><td>nan</td><td>nan</td><td>0</td><td></td><td>2720.0</td><td>8.0</td><td>-8.0</td><td>0</td><td>2720&amp;plusmn;8</td><td>0.0682</td><td>0.0073</td><td>-0.0073</td><td>0</td><td>0.0682&amp;plusmn;0.0073</td><td>nan</td><td>nan</td><td>nan</td><td>0</td><td></td><td>nan</td><td>nan</td><td>nan</td><td>0</td><td></td><td>nan</td><td>nan</td><td>nan</td><td>0</td><td></td><td>nan</td><td>nan</td><td>nan</td><td>0</td><td></td><td>nan</td><td>nan</td><td>nan</td><td>0</td><td></td><td>9.374&amp;plusmn;0.022</td><td>nan</td><td>nan</td><td>nan</td><td></td><td>nan</td><td>nan</td><td>nan</td><td></td><td>nan</td><td>nan</td><td>nan</td><td></td><td>nan</td><td>nan</td><td>nan</td><td></td><td>9.356</td><td>0.023</td><td>-0.023</td><td>9.356&amp;plusmn;0.023</td><td>9.387</td><td>0.019</td><td>-0.019</td><td>9.387&amp;plusmn;0.019</td><td>9.383</td><td>0.035</td><td>-0.035</td><td>9.383&amp;plusmn;0.035</td><td>9.175</td><td>0.511</td><td>-0.511</td><td>9.175&amp;plusmn;0.511</td><td>nan</td><td>nan</td><td>nan</td><td></td><td>10.3746</td><td>0.000426</td><td>-0.000426</td><td>10.374600&amp;plusmn;0.000426</td><td>10.056</td><td>0.006</td><td>-0.006</td><td>10.056&amp;plusmn;0.006</td><td>0</td><td></td><td>[Fe/H]</td><td></td><td>nan</td><td>nan</td><td>nan</td><td></td><td>nan</td><td>nan</td><td>nan</td><td>0</td><td></td><td>nan</td><td>nan</td><td>nan</td><td>0</td><td></td><td>-0.23466513667604483</td><td>0.7397478834819612</td><td>-0.6306388368256207</td><td>-327295076</td><td>nan</td><td>nan</td><td>nan</td><td>0</td><td></td><td>1.8</td><td>nan</td><td>nan</td><td>0</td><td>1.8</td><td>20.176</td><td>nan</td><td>nan</td><td>0</td><td>20</td><td>nan</td><td>nan</td><td>nan</td><td>0</td><td></td><td>3.86</td><td>nan</td><td>nan</td><td>nan</td><td>0</td><td></td><td>nan</td><td>nan</td><td>nan</td><td></td><td>2019-07-08</td><td>2019-09</td><td>&lt;a refstr=MIKAL_EVANS_ET_AL__2019 href=https://ui.adsabs.harvard.edu/abs/2019MNRAS.488.2222M/abstract target=ref&gt;Mikal-Evans et al. 2019&lt;/a&gt;</td><td>2019-07-11</td><td>0</td><td>nan</td><td>nan</td><td>0</td><td>3.86</td><td>0.06</td><td>nan</td><td>nan</td><td>0</td><td>0.06</td><td>nan</td><td>nan</td><td>nan</td><td>0</td><td></td><td>nan</td><td>nan</td><td>nan</td><td>0</td><td></td><td>nan</td><td>nan</td><td>nan</td><td>0</td><td></td><td>nan</td><td>nan</td><td>nan</td><td>0</td><td></td><td>nan</td><td>nan</td><td>nan</td><td>0</td><td></td><td>nan</td><td>nan</td><td>nan</td><td>0</td><td></td><td></td><td>nan</td><td>nan</td><td>nan</td><td>0</td><td></td><td>nan</td><td>nan</td><td>nan</td><td>0</td><td></td><td>nan</td><td>nan</td><td>nan</td><td>0</td><td></td><td>0.13</td><td>0.09</td><td>-0.09</td><td>0</td><td>0.13&amp;plusmn;0.09</td><td>nan</td><td>nan</td><td>nan</td><td>0</td><td></td><td>nan</td><td>nan</td><td>nan</td><td>0</td><td></td><td>nan</td><td>nan</td><td>nan</td><td>0</td><td></td><td>nan</td><td>nan</td><td>nan</td><td>0</td><td></td><td>nan</td><td>nan</td><td>nan</td><td>0</td><td></td><td>nan</td><td>nan</td><td>nan</td><td>0</td><td></td><td>nan</td><td>nan</td><td>nan</td><td>0</td><td></td><td>nan</td><td>nan</td><td>nan</td><td>0</td><td></td><td>0</td><td>0</td><td>1</td><td>1</td><td>0</td><td>0</td><td>0</td><td>0</td><td>0</td><td>0</td><td>Published Confirmed</td><td>1</td><td>1</td><td>0</td><td>0</td><td>0</td><td>0</td><td>0</td><td>57</td><td>36</td><td>0</td><td>25.8940345</td><td>0.0415779</td><td>-0.0415779</td><td>25.8940345&amp;plusmn;0.0415779</td><td>-3.84814</td><td>0.0395031</td><td>-0.0395031</td><td>-3.8481400&amp;plusmn;0.0395031</td><td>25.6065</td><td>0.0416236</td><td>-0.0416236</td><td>25.6065000&amp;plusmn;0.0416236</td><td>3.67631</td><td>0.0214</td><td>-0.0214</td><td>3.67631&amp;plusmn;0.02140</td><td>269.898</td><td>1.58</td><td>-1.562</td><td>&lt;div&gt;&lt;span class=&quot;supersubNumber&quot;&gt;269.898&lt;/span&gt;&lt;span class=&quot;superscript&quot;&gt;+1.580&lt;/span&gt;&lt;span class=&quot;subscript&quot;&gt;-1.562&lt;/span&gt;&lt;/div&gt;</td><td>10.997</td><td>0.088</td><td>-0.088</td><td>10.997&amp;plusmn;0.088</td><td>10.514</td><td>0.006</td><td>-0.006</td><td>10.514&amp;plusmn;0.006</td><td>9.625</td><td>0.021</td><td>-0.021</td><td>9.625&amp;plusmn;0.021</td><td>9.439</td><td>0.025</td><td>-0.025</td><td>9.439&amp;plusmn;0.025</td><td>9.374</td><td>0.022</td><td>-0.022</td><td>107.6002312,-39.0972705</td></tr>\n",
       "<tr><td>WASP-121 b</td><td>b</td><td>WASP-121</td><td></td><td></td><td>TIC 22529346</td><td>Gaia DR2 5565050255701441664</td><td>0</td><td>&lt;a refstr=KOKORI_ET_AL__2022 href=https://ui.adsabs.harvard.edu/abs/2022ApJS..258...40K/abstract target=ref&gt;Kokori et al. 2022&lt;/a&gt;</td><td>&lt;a refstr=STASSUN_ET_AL__2019 href=https://ui.adsabs.harvard.edu/abs/2019AJ....158..138S/abstract target=ref&gt;TICv8&lt;/a&gt;</td><td>2016-06</td><td>2016</td><td>Transit</td><td>Ground</td><td>SuperWASP</td><td>e2v CCD Camera</td><td>Canon 200mm f/1.8L</td><td>&lt;a refstr=DELREZ_ET_AL__2016 href=https://ui.adsabs.harvard.edu/abs/2016MNRAS.458.4025D/abstract target=ref&gt;Delrez et al. 2016&lt;/a&gt;</td><td>107.6002312</td><td>07h10m24.06s</td><td>-39.0972705</td><td>-39d05m50.17s</td><td>250.2937</td><td>-13.32514</td><td>118.73972</td><td>-60.79207</td><td>1.27492477</td><td>1.2e-07</td><td>-1.2e-07</td><td>0</td><td>1.27492477&amp;plusmn;0.00000012</td><td>nan</td><td>nan</td><td>nan</td><td>0</td><td></td><td>nan</td><td>nan</td><td>nan</td><td>0</td><td></td><td>nan</td><td>nan</td><td>nan</td><td>0</td><td></td><td>nan</td><td>nan</td><td>nan</td><td>0</td><td></td><td>nan</td><td>nan</td><td>nan</td><td>0</td><td></td><td>nan</td><td>nan</td><td>nan</td><td>0</td><td></td><td>nan</td><td>nan</td><td>nan</td><td>0</td><td></td><td>nan</td><td>nan</td><td>nan</td><td>0</td><td></td><td>nan</td><td>nan</td><td>nan</td><td>0</td><td></td><td>nan</td><td>nan</td><td>nan</td><td>0</td><td></td><td>2457404.48798</td><td>6e-05</td><td>-6e-05</td><td>0</td><td>2457404.48798&amp;plusmn;0.00006</td><td>nan</td><td>nan</td><td>nan</td><td>0</td><td></td><td>9.374&amp;plusmn;0.022</td><td>nan</td><td>nan</td><td>nan</td><td></td><td>nan</td><td>nan</td><td>nan</td><td></td><td>nan</td><td>nan</td><td>nan</td><td></td><td>nan</td><td>nan</td><td>nan</td><td></td><td>9.356</td><td>0.023</td><td>-0.023</td><td>9.356&amp;plusmn;0.023</td><td>9.387</td><td>0.019</td><td>-0.019</td><td>9.387&amp;plusmn;0.019</td><td>9.383</td><td>0.035</td><td>-0.035</td><td>9.383&amp;plusmn;0.035</td><td>9.175</td><td>0.511</td><td>-0.511</td><td>9.175&amp;plusmn;0.511</td><td>nan</td><td>nan</td><td>nan</td><td></td><td>10.3746</td><td>0.000426</td><td>-0.000426</td><td>10.374600&amp;plusmn;0.000426</td><td>10.056</td><td>0.006</td><td>-0.006</td><td>10.056&amp;plusmn;0.006</td><td>0</td><td>BJD-TDB</td><td>[Fe/H]</td><td>F6 V</td><td>nan</td><td>nan</td><td>nan</td><td></td><td>nan</td><td>nan</td><td>nan</td><td>0</td><td></td><td>nan</td><td>nan</td><td>nan</td><td>0</td><td></td><td>-0.23466513667604483</td><td>0.7397478834819612</td><td>-0.6306388368256207</td><td>-327295076</td><td>nan</td><td>nan</td><td>nan</td><td>0</td><td></td><td>nan</td><td>nan</td><td>nan</td><td>0</td><td></td><td>nan</td><td>nan</td><td>nan</td><td>0</td><td></td><td>nan</td><td>nan</td><td>nan</td><td>0</td><td></td><td>nan</td><td>nan</td><td>nan</td><td>nan</td><td>0</td><td></td><td>nan</td><td>nan</td><td>nan</td><td></td><td>2022-01-24</td><td>2022-02</td><td>&lt;a refstr=DELREZ_ET_AL__2016 href=https://ui.adsabs.harvard.edu/abs/2016MNRAS.458.4025D/abstract target=ref&gt;Delrez et al. 2016&lt;/a&gt;</td><td>2022-01-24</td><td>0</td><td>nan</td><td>nan</td><td>0</td><td></td><td>nan</td><td>nan</td><td>nan</td><td>0</td><td></td><td>nan</td><td>nan</td><td>nan</td><td>0</td><td></td><td>nan</td><td>nan</td><td>nan</td><td>0</td><td></td><td>nan</td><td>nan</td><td>nan</td><td>0</td><td></td><td>nan</td><td>nan</td><td>nan</td><td>0</td><td></td><td>nan</td><td>nan</td><td>nan</td><td>0</td><td></td><td>nan</td><td>nan</td><td>nan</td><td>0</td><td></td><td></td><td>nan</td><td>nan</td><td>nan</td><td>0</td><td></td><td>nan</td><td>nan</td><td>nan</td><td>0</td><td></td><td>6459.0</td><td>140.0</td><td>-140.0</td><td>0</td><td>6459&amp;plusmn;140</td><td>0.13</td><td>0.09</td><td>-0.09</td><td>0</td><td>0.13&amp;plusmn;0.09</td><td>38.35</td><td>0.02</td><td>-0.02</td><td>0</td><td>38.350&amp;plusmn;0.021</td><td>13.5</td><td>0.7</td><td>-0.7</td><td>0</td><td>13.5&amp;plusmn;0.7</td><td>0.519</td><td>0.038</td><td>-0.041</td><td>0</td><td>&lt;div&gt;&lt;span class=&quot;supersubNumber&quot;&gt;0.52&lt;/span&gt;&lt;span class=&quot;superscript&quot;&gt;+0.04&lt;/span&gt;&lt;span class=&quot;subscript&quot;&gt;-0.04&lt;/span&gt;&lt;/div&gt;</td><td>4.24</td><td>0.01</td><td>-0.01</td><td>0</td><td>&lt;div&gt;&lt;span class=&quot;supersubNumber&quot;&gt;4.242&lt;/span&gt;&lt;span class=&quot;superscript&quot;&gt;+0.011&lt;/span&gt;&lt;span class=&quot;subscript&quot;&gt;-0.012&lt;/span&gt;&lt;/div&gt;</td><td>1.5</td><td>1.0</td><td>-1.0</td><td>0</td><td>1.5&amp;plusmn;1.0</td><td>1.35</td><td>0.08</td><td>-0.08</td><td>0</td><td>&lt;div&gt;&lt;span class=&quot;supersubNumber&quot;&gt;1.353&lt;/span&gt;&lt;span class=&quot;superscript&quot;&gt;+0.080&lt;/span&gt;&lt;span class=&quot;subscript&quot;&gt;-0.079&lt;/span&gt;&lt;/div&gt;</td><td>0.616</td><td>0.011</td><td>-0.013</td><td>0</td><td>&lt;div&gt;&lt;span class=&quot;supersubNumber&quot;&gt;0.616&lt;/span&gt;&lt;span class=&quot;superscript&quot;&gt;+0.011&lt;/span&gt;&lt;span class=&quot;subscript&quot;&gt;-0.013&lt;/span&gt;&lt;/div&gt;</td><td>1.46</td><td>0.03</td><td>-0.03</td><td>0</td><td>1.458&amp;plusmn;0.030</td><td>0</td><td>0</td><td>1</td><td>1</td><td>0</td><td>0</td><td>0</td><td>0</td><td>0</td><td>0</td><td>Published Confirmed</td><td>1</td><td>1</td><td>0</td><td>0</td><td>0</td><td>0</td><td>0</td><td>57</td><td>36</td><td>0</td><td>25.8940345</td><td>0.0415779</td><td>-0.0415779</td><td>25.8940345&amp;plusmn;0.0415779</td><td>-3.84814</td><td>0.0395031</td><td>-0.0395031</td><td>-3.8481400&amp;plusmn;0.0395031</td><td>25.6065</td><td>0.0416236</td><td>-0.0416236</td><td>25.6065000&amp;plusmn;0.0416236</td><td>3.67631</td><td>0.0214</td><td>-0.0214</td><td>3.67631&amp;plusmn;0.02140</td><td>269.898</td><td>1.58</td><td>-1.562</td><td>&lt;div&gt;&lt;span class=&quot;supersubNumber&quot;&gt;269.898&lt;/span&gt;&lt;span class=&quot;superscript&quot;&gt;+1.580&lt;/span&gt;&lt;span class=&quot;subscript&quot;&gt;-1.562&lt;/span&gt;&lt;/div&gt;</td><td>10.997</td><td>0.088</td><td>-0.088</td><td>10.997&amp;plusmn;0.088</td><td>10.514</td><td>0.006</td><td>-0.006</td><td>10.514&amp;plusmn;0.006</td><td>9.625</td><td>0.021</td><td>-0.021</td><td>9.625&amp;plusmn;0.021</td><td>9.439</td><td>0.025</td><td>-0.025</td><td>9.439&amp;plusmn;0.025</td><td>9.374</td><td>0.022</td><td>-0.022</td><td>107.6002312,-39.0972705</td></tr>\n",
       "</table></div>"
      ],
      "text/plain": [
       "<QTable masked=True length=4>\n",
       " pl_name   pl_letter hostname ... sy_kmagerr2        sky_coord       \n",
       "                              ...     mag             deg,deg        \n",
       "  str10       str1     str8   ...   float64           SkyCoord       \n",
       "---------- --------- -------- ... ----------- -----------------------\n",
       "WASP-121 b         b WASP-121 ...      -0.022 107.6002312,-39.0972705\n",
       "WASP-121 b         b WASP-121 ...      -0.022 107.6002312,-39.0972705\n",
       "WASP-121 b         b WASP-121 ...      -0.022 107.6002312,-39.0972705\n",
       "WASP-121 b         b WASP-121 ...      -0.022 107.6002312,-39.0972705"
      ]
     },
     "execution_count": 6,
     "metadata": {},
     "output_type": "execute_result"
    }
   ],
   "source": [
    "##Avoids unnecessary warning messages\n",
    "import warnings\n",
    "warnings.filterwarnings(\"ignore\")\n",
    "\n",
    "from astroquery.ipac.nexsci.nasa_exoplanet_archive import NasaExoplanetArchive\n",
    "##Import only the first four entries\n",
    "NasaExoplanetArchive.query_object('WASP-121b')[0:4]"
   ]
  },
  {
   "cell_type": "markdown",
   "id": "40cc7d62",
   "metadata": {},
   "source": [
    "This gives a table of relevant parameters associated with that object. Try any exoplanet you like!\n",
    "### Query by Region\n",
    "For survey missions, knowing the available target list in a region can be useful. Astroquery lets you do this using `query_region`. To make the query easier, we will also import the `SkyCoord` module from `astropy`, allowing us to convert astrometry values seamlessly:"
   ]
  },
  {
   "cell_type": "code",
   "execution_count": 8,
   "id": "9705936a",
   "metadata": {},
   "outputs": [
    {
     "data": {
      "text/html": [
       "<div><i>QTable masked=True length=1</i>\n",
       "<table id=\"table1728265969296\" class=\"table-striped table-bordered table-condensed\">\n",
       "<thead><tr><th>pl_name</th><th>pl_letter</th><th>hostname</th><th>hd_name</th><th>hip_name</th><th>tic_id</th><th>disc_pubdate</th><th>disc_year</th><th>discoverymethod</th><th>disc_locale</th><th>disc_facility</th><th>disc_instrument</th><th>disc_telescope</th><th>disc_refname</th><th>ra</th><th>rastr</th><th>dec</th><th>decstr</th><th>glon</th><th>glat</th><th>elon</th><th>elat</th><th>ra_reflink</th><th>pl_orbper</th><th>pl_orbpererr1</th><th>pl_orbpererr2</th><th>pl_orbperlim</th><th>pl_orbperstr</th><th>pl_orbper_reflink</th><th>pl_orblpererr1</th><th>pl_orblper</th><th>pl_orblpererr2</th><th>pl_orblperlim</th><th>pl_orblperstr</th><th>pl_orblper_reflink</th><th>pl_orbsmax</th><th>pl_orbsmaxerr1</th><th>pl_orbsmaxerr2</th><th>pl_orbsmaxlim</th><th>pl_orbsmaxstr</th><th>pl_orbsmax_reflink</th><th>pl_angsep</th><th>pl_angseperr1</th><th>pl_angseperr2</th><th>pl_angseplim</th><th>pl_angsepstr</th><th>pl_angsep_reflink</th><th>pl_orbincl</th><th>pl_orbinclerr1</th><th>pl_orbinclerr2</th><th>pl_orbincllim</th><th>pl_orbinclstr</th><th>pl_orbincl_reflink</th><th>pl_orbtper</th><th>pl_orbtpererr1</th><th>pl_orbtpererr2</th><th>pl_orbtperlim</th><th>pl_orbtperstr</th><th>pl_orbtper_reflink</th><th>pl_orbeccen</th><th>pl_orbeccenerr1</th><th>pl_orbeccenerr2</th><th>pl_orbeccenlim</th><th>pl_orbeccenstr</th><th>pl_orbeccen_reflink</th><th>pl_eqt</th><th>pl_eqterr1</th><th>pl_eqterr2</th><th>pl_eqtlim</th><th>pl_eqtstr</th><th>pl_eqt_reflink</th><th>pl_occdep</th><th>pl_occdeperr1</th><th>pl_occdeperr2</th><th>pl_occdeplim</th><th>pl_occdepstr</th><th>pl_occdep_reflink</th><th>pl_insol</th><th>pl_insolerr1</th><th>pl_insolerr2</th><th>pl_insollim</th><th>pl_insolstr</th><th>pl_insol_reflink</th><th>pl_dens</th><th>pl_denserr1</th><th>pl_denserr2</th><th>pl_denslim</th><th>pl_densstr</th><th>pl_dens_reflink</th><th>pl_trandep</th><th>pl_trandeperr1</th><th>pl_trandeperr2</th><th>pl_trandeplim</th><th>pl_trandepstr</th><th>pl_trandep_reflink</th><th>pl_tranmid</th><th>pl_tranmiderr1</th><th>pl_tranmiderr2</th><th>pl_tranmidlim</th><th>pl_tranmidstr</th><th>sy_pmdec</th><th>sy_pmdecerr1</th><th>sy_pmdecerr2</th><th>sy_pmdecstr</th><th>sy_plx</th><th>sy_plxerr1</th><th>sy_plxerr2</th><th>sy_plxstr</th><th>sy_plx_reflink</th><th>sy_dist</th><th>sy_disterr1</th><th>sy_disterr2</th><th>sy_diststr</th><th>sy_dist_reflink</th><th>sy_bmag</th><th>sy_bmagerr1</th><th>sy_bmagerr2</th><th>sy_bmagstr</th><th>sy_bmag_reflink</th><th>sy_vmag</th><th>sy_vmagerr1</th><th>sy_vmagerr2</th><th>sy_vmagstr</th><th>sy_vmag_reflink</th><th>sy_jmag</th><th>sy_jmagerr1</th><th>sy_jmagerr2</th><th>sy_jmagstr</th><th>sy_jmag_reflink</th><th>sy_hmag</th><th>sy_hmagerr1</th><th>sy_hmagerr2</th><th>sy_hmagstr</th><th>sy_hmag_reflink</th><th>sy_kmag</th><th>sy_kmagerr1</th><th>sy_kmagerr2</th><th>sy_kmagstr</th><th>sy_kmag_reflink</th><th>sy_umag</th><th>sy_umagerr1</th><th>sy_umagerr2</th><th>sy_umagstr</th><th>sy_umag_reflink</th><th>sy_rmag</th><th>sy_rmagerr1</th><th>sy_rmagerr2</th><th>sy_rmagstr</th><th>sy_rmag_reflink</th><th>sy_imag</th><th>sy_imagerr1</th><th>sy_imagerr2</th><th>sy_imagstr</th><th>sy_imag_reflink</th><th>sy_zmag</th><th>sy_zmagerr1</th><th>sy_zmagerr2</th><th>sy_zmagstr</th><th>sy_zmag_reflink</th><th>sy_w1mag</th><th>sy_w1magerr1</th><th>sy_w1magerr2</th><th>sy_w1magstr</th><th>sy_w1mag_reflink</th><th>sy_w2mag</th><th>sy_w2magerr1</th><th>sy_w2magerr2</th><th>sy_w2magstr</th><th>sy_w2mag_reflink</th><th>sy_w3mag</th><th>sy_w3magerr1</th><th>sy_w3magerr2</th><th>sy_w3magstr</th><th>sy_w3mag_reflink</th><th>sy_w4mag</th><th>sy_w4magerr1</th><th>sy_w4magerr2</th><th>sy_w4magstr</th><th>sy_w4mag_reflink</th><th>sy_gmag</th><th>sy_gmagerr1</th><th>sy_gmagerr2</th><th>sy_gmagstr</th><th>sy_gmag_reflink</th><th>sy_gaiamag</th><th>sy_gaiamagerr1</th><th>sy_gaiamagerr2</th><th>sy_gaiamagstr</th><th>sy_gaiamag_reflink</th><th>sy_tmag</th><th>sy_tmagerr1</th><th>sy_tmagerr2</th><th>sy_tmagstr</th><th>sy_tmag_reflink</th><th>pl_controv_flag</th><th>pl_orbtper_systemref</th><th>pl_tranmid_systemref</th><th>st_metratio</th><th>st_spectype</th><th>st_spectype_reflink</th><th>sy_kepmag</th><th>sy_kepmagerr1</th><th>sy_kepmagerr2</th><th>sy_kepmagstr</th><th>sy_kepmag_reflink</th><th>st_rotp</th><th>st_rotperr1</th><th>st_rotperr2</th><th>st_rotplim</th><th>st_rotpstr</th><th>st_rotp_reflink</th><th>pl_projobliq</th><th>pl_projobliqerr1</th><th>pl_projobliqerr2</th><th>pl_projobliqlim</th><th>pl_projobliqstr</th><th>pl_projobliq_reflink</th><th>gaia_id</th><th>cb_flag</th><th>pl_tranmid_reflink</th><th>pl_trandur</th><th>pl_trandurerr1</th><th>pl_trandurerr2</th><th>pl_trandurlim</th><th>pl_trandurstr</th><th>pl_trandur_reflink</th><th>pl_rvamp</th><th>pl_rvamperr1</th><th>pl_rvamperr2</th><th>pl_rvamplim</th><th>pl_rvampstr</th><th>pl_rvamp_reflink</th><th>pl_radj</th><th>pl_radjerr1</th><th>pl_radjerr2</th><th>pl_radjlim</th><th>pl_radjstr</th><th>pl_radj_reflink</th><th>pl_rade</th><th>pl_radeerr1</th><th>pl_radeerr2</th><th>pl_radelim</th><th>pl_radestr</th><th>pl_rade_reflink</th><th>pl_ratror</th><th>pl_ratrorerr1</th><th>pl_ratrorerr2</th><th>pl_ratrorlim</th><th>pl_ratrorstr</th><th>pl_ratror_reflink</th><th>pl_ratdor</th><th>pl_trueobliq</th><th>pl_trueobliqerr1</th><th>pl_trueobliqerr2</th><th>pl_trueobliqlim</th><th>pl_trueobliqstr</th><th>pl_trueobliq_reflink</th><th>sy_icmag</th><th>sy_icmagerr1</th><th>sy_icmagerr2</th><th>sy_icmagstr</th><th>sy_icmag_reflink</th><th>dkin_flag</th><th>pl_ratdorerr1</th><th>pl_ratdorerr2</th><th>pl_ratdorlim</th><th>pl_ratdorstr</th><th>pl_ratdor_reflink</th><th>pl_imppar</th><th>pl_impparerr1</th><th>pl_impparerr2</th><th>pl_impparlim</th><th>pl_impparstr</th><th>pl_imppar_reflink</th><th>pl_bmassj</th><th>pl_bmassjerr1</th><th>pl_bmassjerr2</th><th>pl_bmassjlim</th><th>pl_bmassjstr</th><th>pl_bmassj_reflink</th><th>pl_bmasse</th><th>pl_bmasseerr1</th><th>pl_bmasseerr2</th><th>pl_bmasselim</th><th>pl_bmassestr</th><th>pl_bmasse_reflink</th><th>pl_bmassprov</th><th>st_teff</th><th>st_tefferr1</th><th>st_tefferr2</th><th>st_tefflim</th><th>st_teffstr</th><th>st_teff_reflink</th><th>st_met</th><th>st_meterr1</th><th>st_meterr2</th><th>st_metlim</th><th>st_metstr</th><th>st_met_reflink</th><th>st_radv</th><th>st_radverr1</th><th>st_radverr2</th><th>st_radvlim</th><th>st_radvstr</th><th>st_radv_reflink</th><th>st_vsin</th><th>st_vsinerr1</th><th>st_vsinerr2</th><th>st_vsinlim</th><th>st_vsinstr</th><th>st_vsin_reflink</th><th>st_lum</th><th>st_lumerr1</th><th>st_lumerr2</th><th>st_lumlim</th><th>st_lumstr</th><th>st_lum_reflink</th><th>st_logg</th><th>st_loggerr1</th><th>st_loggerr2</th><th>st_logglim</th><th>st_loggstr</th><th>st_logg_reflink</th><th>st_age</th><th>st_ageerr1</th><th>st_ageerr2</th><th>st_agelim</th><th>st_agestr</th><th>st_age_reflink</th><th>st_mass</th><th>st_masserr1</th><th>st_masserr2</th><th>st_masslim</th><th>st_massstr</th><th>st_mass_reflink</th><th>st_dens</th><th>st_denserr1</th><th>st_denserr2</th><th>st_denslim</th><th>st_densstr</th><th>st_dens_reflink</th><th>st_rad</th><th>st_raderr1</th><th>st_raderr2</th><th>st_radlim</th><th>st_radstr</th><th>st_rad_reflink</th><th>ttv_flag</th><th>ptv_flag</th><th>tran_flag</th><th>rv_flag</th><th>ast_flag</th><th>obm_flag</th><th>micro_flag</th><th>etv_flag</th><th>ima_flag</th><th>pul_flag</th><th>sy_snum</th><th>sy_pnum</th><th>sy_mnum</th><th>st_nphot</th><th>st_nrvc</th><th>st_nspec</th><th>pl_nespec</th><th>pl_ntranspec</th><th>pl_nnotes</th><th>sy_pm</th><th>sy_pmerr1</th><th>sy_pmerr2</th><th>sy_pmstr</th><th>sy_pm_reflink</th><th>sy_pmra</th><th>sy_pmraerr1</th><th>sy_pmraerr2</th><th>sy_pmrastr</th><th>x</th><th>y</th><th>z</th><th>htm20</th><th>sky_coord</th></tr></thead>\n",
       "<thead><tr><th></th><th></th><th></th><th></th><th></th><th></th><th></th><th></th><th></th><th></th><th></th><th></th><th></th><th></th><th>deg</th><th></th><th>deg</th><th></th><th>deg</th><th>deg</th><th>deg</th><th>deg</th><th></th><th>d</th><th>d</th><th>d</th><th></th><th></th><th></th><th>deg</th><th>deg</th><th>deg</th><th></th><th></th><th></th><th>AU</th><th>AU</th><th>AU</th><th></th><th></th><th></th><th>mas</th><th>mas</th><th>mas</th><th></th><th></th><th></th><th>deg</th><th>deg</th><th>deg</th><th></th><th></th><th></th><th>d</th><th>d</th><th>d</th><th></th><th></th><th></th><th></th><th></th><th></th><th></th><th></th><th></th><th>K</th><th>K</th><th>K</th><th></th><th></th><th></th><th>%</th><th>%</th><th>%</th><th></th><th></th><th></th><th>0.0795775 solLum / AU2</th><th>0.0795775 solLum / AU2</th><th>0.0795775 solLum / AU2</th><th></th><th></th><th></th><th>g / cm3</th><th>g / cm3</th><th>g / cm3</th><th></th><th></th><th></th><th>%</th><th>%</th><th>%</th><th></th><th></th><th></th><th>d</th><th>d</th><th>d</th><th></th><th></th><th>mas / yr</th><th>mas / yr</th><th>mas / yr</th><th></th><th>mas</th><th>mas</th><th>mas</th><th></th><th></th><th>pc</th><th>pc</th><th>pc</th><th></th><th></th><th>mag</th><th>mag</th><th>mag</th><th></th><th></th><th>mag</th><th>mag</th><th>mag</th><th></th><th></th><th>mag</th><th>mag</th><th>mag</th><th></th><th></th><th>mag</th><th>mag</th><th>mag</th><th></th><th></th><th>mag</th><th>mag</th><th>mag</th><th></th><th></th><th>mag</th><th>mag</th><th>mag</th><th></th><th></th><th>mag</th><th>mag</th><th>mag</th><th></th><th></th><th>mag</th><th>mag</th><th>mag</th><th></th><th></th><th>mag</th><th>mag</th><th>mag</th><th></th><th></th><th>mag</th><th>mag</th><th>mag</th><th></th><th></th><th>mag</th><th>mag</th><th>mag</th><th></th><th></th><th>mag</th><th>mag</th><th>mag</th><th></th><th></th><th>mag</th><th>mag</th><th>mag</th><th></th><th></th><th>mag</th><th>mag</th><th>mag</th><th></th><th></th><th>mag</th><th>mag</th><th>mag</th><th></th><th></th><th>mag</th><th>mag</th><th>mag</th><th></th><th></th><th></th><th></th><th></th><th></th><th></th><th></th><th>mag</th><th>mag</th><th>mag</th><th></th><th></th><th>d</th><th>d</th><th>d</th><th></th><th></th><th></th><th>deg</th><th>deg</th><th>deg</th><th></th><th></th><th></th><th></th><th></th><th></th><th>d</th><th>d</th><th>d</th><th></th><th></th><th></th><th>m / s</th><th>m / s</th><th>m / s</th><th></th><th></th><th></th><th>jupiterRad</th><th>jupiterRad</th><th>jupiterRad</th><th></th><th></th><th></th><th>earthRad</th><th>earthRad</th><th>earthRad</th><th></th><th></th><th></th><th></th><th></th><th></th><th></th><th></th><th></th><th></th><th>deg</th><th>deg</th><th>deg</th><th></th><th></th><th></th><th>mag</th><th>mag</th><th>mag</th><th></th><th></th><th></th><th></th><th></th><th></th><th></th><th></th><th></th><th></th><th></th><th></th><th></th><th></th><th>jupiterMass</th><th>jupiterMass</th><th>jupiterMass</th><th></th><th></th><th></th><th>earthMass</th><th>earthMass</th><th>earthMass</th><th></th><th></th><th></th><th></th><th>K</th><th>K</th><th>K</th><th></th><th></th><th></th><th>dex</th><th>dex</th><th>dex</th><th></th><th></th><th></th><th>km / s</th><th>km / s</th><th>km / s</th><th></th><th></th><th></th><th>km / s</th><th>km / s</th><th>km / s</th><th></th><th></th><th></th><th>dex(solLum)</th><th>dex(solLum)</th><th>dex(solLum)</th><th></th><th></th><th></th><th>dex(cm / s2)</th><th>dex(cm / s2)</th><th>dex(cm / s2)</th><th></th><th></th><th></th><th>Gyr</th><th>Gyr</th><th>Gyr</th><th></th><th></th><th></th><th>Msun</th><th>Msun</th><th>Msun</th><th></th><th></th><th></th><th>g / cm3</th><th>g / cm3</th><th>g / cm3</th><th></th><th></th><th></th><th>Rsun</th><th>Rsun</th><th>Rsun</th><th></th><th></th><th></th><th></th><th></th><th></th><th></th><th></th><th></th><th></th><th></th><th></th><th></th><th></th><th></th><th></th><th></th><th></th><th></th><th></th><th></th><th></th><th>mas / yr</th><th>mas / yr</th><th>mas / yr</th><th></th><th></th><th>mas / yr</th><th>mas / yr</th><th>mas / yr</th><th></th><th></th><th></th><th></th><th></th><th>deg,deg</th></tr></thead>\n",
       "<thead><tr><th>str10</th><th>str1</th><th>str8</th><th>str1</th><th>str1</th><th>str13</th><th>str7</th><th>int32</th><th>str7</th><th>str6</th><th>str6</th><th>str13</th><th>str18</th><th>str128</th><th>float64</th><th>str12</th><th>float64</th><th>str13</th><th>float64</th><th>float64</th><th>float64</th><th>float64</th><th>str118</th><th>float64</th><th>float64</th><th>float64</th><th>int32</th><th>str23</th><th>str128</th><th>float64</th><th>float64</th><th>float64</th><th>int32</th><th>str1</th><th>str1</th><th>float64</th><th>float64</th><th>float64</th><th>int32</th><th>str21</th><th>str128</th><th>float64</th><th>float64</th><th>float64</th><th>int32</th><th>str5</th><th>str87</th><th>float64</th><th>float64</th><th>float64</th><th>int32</th><th>str18</th><th>str128</th><th>float64</th><th>float64</th><th>float64</th><th>int32</th><th>str1</th><th>str1</th><th>float64</th><th>float64</th><th>float64</th><th>int32</th><th>str8</th><th>str128</th><th>float64</th><th>float64</th><th>float64</th><th>int32</th><th>str12</th><th>str128</th><th>float64</th><th>float64</th><th>float64</th><th>int32</th><th>str1</th><th>str1</th><th>float64</th><th>float64</th><th>float64</th><th>int32</th><th>str7</th><th>str111</th><th>float64</th><th>float64</th><th>float64</th><th>int32</th><th>str17</th><th>str128</th><th>float64</th><th>float64</th><th>float64</th><th>int32</th><th>str29</th><th>str111</th><th>float64</th><th>float64</th><th>float64</th><th>int32</th><th>str27</th><th>float64</th><th>float64</th><th>float64</th><th>str28</th><th>float64</th><th>float64</th><th>float64</th><th>str26</th><th>str118</th><th>float64</th><th>float64</th><th>float64</th><th>str130</th><th>str118</th><th>float64</th><th>float64</th><th>float64</th><th>str19</th><th>str118</th><th>float64</th><th>float64</th><th>float64</th><th>str19</th><th>str118</th><th>float64</th><th>float64</th><th>float64</th><th>str19</th><th>str118</th><th>float64</th><th>float64</th><th>float64</th><th>str19</th><th>str118</th><th>float64</th><th>float64</th><th>float64</th><th>str19</th><th>str118</th><th>float64</th><th>float64</th><th>float64</th><th>str1</th><th>str118</th><th>float64</th><th>float64</th><th>float64</th><th>str1</th><th>str118</th><th>float64</th><th>float64</th><th>float64</th><th>str1</th><th>str118</th><th>float64</th><th>float64</th><th>float64</th><th>str1</th><th>str118</th><th>float64</th><th>float64</th><th>float64</th><th>str19</th><th>str118</th><th>float64</th><th>float64</th><th>float64</th><th>str19</th><th>str118</th><th>float64</th><th>float64</th><th>float64</th><th>str19</th><th>str118</th><th>float64</th><th>float64</th><th>float64</th><th>str5</th><th>str118</th><th>float64</th><th>float64</th><th>float64</th><th>str1</th><th>str118</th><th>float64</th><th>float64</th><th>float64</th><th>str25</th><th>str118</th><th>float64</th><th>float64</th><th>float64</th><th>str21</th><th>str118</th><th>int32</th><th>str3</th><th>str3</th><th>str6</th><th>str2</th><th>str128</th><th>float64</th><th>float64</th><th>float64</th><th>str6</th><th>str118</th><th>float64</th><th>float64</th><th>float64</th><th>int32</th><th>str1</th><th>str1</th><th>float64</th><th>float64</th><th>float64</th><th>int32</th><th>str1</th><th>str1</th><th>str28</th><th>int32</th><th>str128</th><th>float64</th><th>float64</th><th>float64</th><th>int32</th><th>str17</th><th>str111</th><th>float64</th><th>float64</th><th>float64</th><th>int32</th><th>str15</th><th>str128</th><th>float64</th><th>float64</th><th>float64</th><th>int32</th><th>str17</th><th>str128</th><th>float64</th><th>float64</th><th>float64</th><th>int32</th><th>str14</th><th>str128</th><th>float64</th><th>float64</th><th>float64</th><th>int32</th><th>str19</th><th>str128</th><th>float64</th><th>float64</th><th>float64</th><th>float64</th><th>int32</th><th>str1</th><th>str1</th><th>float64</th><th>float64</th><th>float64</th><th>str1</th><th>str118</th><th>int32</th><th>float64</th><th>float64</th><th>int32</th><th>str16</th><th>str128</th><th>float64</th><th>float64</th><th>float64</th><th>int32</th><th>str128</th><th>str128</th><th>float64</th><th>float64</th><th>float64</th><th>int32</th><th>str17</th><th>str128</th><th>float64</th><th>float64</th><th>float64</th><th>int32</th><th>str12</th><th>str128</th><th>str4</th><th>float64</th><th>float64</th><th>float64</th><th>int32</th><th>str13</th><th>str128</th><th>float64</th><th>float64</th><th>float64</th><th>int32</th><th>str18</th><th>str128</th><th>float64</th><th>float64</th><th>float64</th><th>int32</th><th>str40</th><th>str132</th><th>float64</th><th>float64</th><th>float64</th><th>int32</th><th>str15</th><th>str128</th><th>float64</th><th>float64</th><th>float64</th><th>int32</th><th>str134</th><th>str128</th><th>float64</th><th>float64</th><th>float64</th><th>int32</th><th>str17</th><th>str128</th><th>float64</th><th>float64</th><th>float64</th><th>int32</th><th>str124</th><th>str128</th><th>float64</th><th>float64</th><th>float64</th><th>int32</th><th>str17</th><th>str128</th><th>float64</th><th>float64</th><th>float64</th><th>int32</th><th>str140</th><th>str118</th><th>float64</th><th>float64</th><th>float64</th><th>int32</th><th>str17</th><th>str128</th><th>int32</th><th>int32</th><th>int32</th><th>int32</th><th>int32</th><th>int32</th><th>int32</th><th>int32</th><th>int32</th><th>int32</th><th>int32</th><th>int32</th><th>int32</th><th>int32</th><th>int32</th><th>int32</th><th>int32</th><th>int32</th><th>int32</th><th>float64</th><th>float64</th><th>float64</th><th>str27</th><th>str118</th><th>float64</th><th>float64</th><th>float64</th><th>str29</th><th>float64</th><th>float64</th><th>float64</th><th>int32</th><th>SkyCoord</th></tr></thead>\n",
       "<tr><td>HAT-P-54 b</td><td>b</td><td>HAT-P-54</td><td></td><td></td><td>TIC 284326455</td><td>2015-04</td><td>2015</td><td>Transit</td><td>Ground</td><td>HATNet</td><td>2K CCD Sensor</td><td>Canon 200mm f/1.8L</td><td>&lt;a refstr=BAKOS_ET_AL__2015 href=https://ui.adsabs.harvard.edu/abs/2015AJ....149..149B/abstract target=ref&gt;Bakos et al. 2015&lt;/a&gt;</td><td>99.8979924</td><td>06h39m35.52s</td><td>25.4824005</td><td>+25d28m56.64s</td><td>188.78409</td><td>8.89777</td><td>98.93049</td><td>2.34958</td><td>&lt;a refstr=STASSUN_ET_AL__2019 href=https://ui.adsabs.harvard.edu/abs/2019AJ....158..138S/abstract target=ref&gt;TICv8&lt;/a&gt;</td><td>3.799847</td><td>1.4e-05</td><td>-1.4e-05</td><td>0</td><td>3.799847&amp;plusmn0.000014</td><td>&lt;a refstr=BAKOS_ET_AL__2015 href=https://ui.adsabs.harvard.edu/abs/2015AJ....149..149B/abstract target=ref&gt;Bakos et al. 2015&lt;/a&gt;</td><td>nan</td><td>nan</td><td>nan</td><td>0</td><td></td><td></td><td>0.04117</td><td>0.00043</td><td>-0.00043</td><td>0</td><td>0.04117&amp;plusmn0.00043</td><td>&lt;a refstr=BAKOS_ET_AL__2015 href=https://ui.adsabs.harvard.edu/abs/2015AJ....149..149B/abstract target=ref&gt;Bakos et al. 2015&lt;/a&gt;</td><td>0.287</td><td>nan</td><td>nan</td><td>0</td><td>0.287</td><td>&lt;a refstr=CALCULATED_VALUE href=/docs/pscp_calc.html target=_blank&gt;Calculated Value&lt;/a&gt;</td><td>87.04</td><td>0.084</td><td>-0.084</td><td>0</td><td>87.040&amp;plusmn0.084</td><td>&lt;a refstr=BAKOS_ET_AL__2015 href=https://ui.adsabs.harvard.edu/abs/2015AJ....149..149B/abstract target=ref&gt;Bakos et al. 2015&lt;/a&gt;</td><td>nan</td><td>nan</td><td>nan</td><td>0</td><td></td><td></td><td>0.074</td><td>nan</td><td>nan</td><td>1</td><td>&amp;lt0.074</td><td>&lt;a refstr=BAKOS_ET_AL__2015 href=https://ui.adsabs.harvard.edu/abs/2015AJ....149..149B/abstract target=ref&gt;Bakos et al. 2015&lt;/a&gt;</td><td>818.0</td><td>12.0</td><td>-12.0</td><td>0</td><td>818&amp;plusmn12</td><td>&lt;a refstr=BAKOS_ET_AL__2015 href=https://ui.adsabs.harvard.edu/abs/2015AJ....149..149B/abstract target=ref&gt;Bakos et al. 2015&lt;/a&gt;</td><td>nan</td><td>nan</td><td>nan</td><td>0</td><td></td><td></td><td>22.2</td><td>nan</td><td>nan</td><td>0</td><td>22.2041</td><td>&lt;a refstr=EXOFOP_TESS_TOI href=https://exofop.ipac.caltech.edu/tess/view_toi.php target=ref&gt;ExoFOP-TESS TOI&lt;/a&gt;</td><td>1.118</td><td>0.098</td><td>-0.098</td><td>0</td><td>1.118&amp;plusmn0.098</td><td>&lt;a refstr=BAKOS_ET_AL__2015 href=https://ui.adsabs.harvard.edu/abs/2015AJ....149..149B/abstract target=ref&gt;Bakos et al. 2015&lt;/a&gt;</td><td>2.755</td><td>0.000375</td><td>-0.000375</td><td>0</td><td>2.755000000&amp;plusmn0.000375199</td><td>&lt;a refstr=EXOFOP_TESS_TOI href=https://exofop.ipac.caltech.edu/tess/view_toi.php target=ref&gt;ExoFOP-TESS TOI&lt;/a&gt;</td><td>2456299.3037</td><td>0.00024</td><td>-0.00024</td><td>0</td><td>2456299.30370&amp;plusmn0.00024</td><td>-33.237</td><td>0.0427867</td><td>-0.0427867</td><td>-33.2370000&amp;plusmn;0.0427867</td><td>6.93252</td><td>0.0279442</td><td>-0.0279442</td><td>6.9325200&amp;plusmn;0.0279442</td><td>&lt;a refstr=STASSUN_ET_AL__2019 href=https://ui.adsabs.harvard.edu/abs/2019AJ....158..138S/abstract target=ref&gt;TICv8&lt;/a&gt;</td><td>143.651</td><td>0.583</td><td>-0.579</td><td>&lt;div&gt;&lt;span class=&quot;supersubNumber&quot;&gt;143.651&lt;/span&gt;&lt;span class=&quot;superscript&quot;&gt;+0.583&lt;/span&gt;&lt;span class=&quot;subscript&quot;&gt;-0.579&lt;/span&gt;&lt;/div&gt;</td><td>&lt;a refstr=STASSUN_ET_AL__2019 href=https://ui.adsabs.harvard.edu/abs/2019AJ....158..138S/abstract target=ref&gt;TICv8&lt;/a&gt;</td><td>14.832</td><td>0.07</td><td>-0.07</td><td>14.832&amp;plusmn;0.070</td><td>&lt;a refstr=STASSUN_ET_AL__2019 href=https://ui.adsabs.harvard.edu/abs/2019AJ....158..138S/abstract target=ref&gt;TICv8&lt;/a&gt;</td><td>13.398</td><td>0.069</td><td>-0.069</td><td>13.398&amp;plusmn;0.069</td><td>&lt;a refstr=STASSUN_ET_AL__2019 href=https://ui.adsabs.harvard.edu/abs/2019AJ....158..138S/abstract target=ref&gt;TICv8&lt;/a&gt;</td><td>11.145</td><td>0.027</td><td>-0.027</td><td>11.145&amp;plusmn;0.027</td><td>&lt;a refstr=STASSUN_ET_AL__2019 href=https://ui.adsabs.harvard.edu/abs/2019AJ....158..138S/abstract target=ref&gt;TICv8&lt;/a&gt;</td><td>10.487</td><td>0.03</td><td>-0.03</td><td>10.487&amp;plusmn;0.030</td><td>&lt;a refstr=STASSUN_ET_AL__2019 href=https://ui.adsabs.harvard.edu/abs/2019AJ....158..138S/abstract target=ref&gt;TICv8&lt;/a&gt;</td><td>10.326</td><td>0.019</td><td>-0.019</td><td>10.326&amp;plusmn;0.019</td><td>&lt;a refstr=STASSUN_ET_AL__2019 href=https://ui.adsabs.harvard.edu/abs/2019AJ....158..138S/abstract target=ref&gt;TICv8&lt;/a&gt;</td><td>nan</td><td>nan</td><td>nan</td><td></td><td>&lt;a refstr=STASSUN_ET_AL__2019 href=https://ui.adsabs.harvard.edu/abs/2019AJ....158..138S/abstract target=ref&gt;TICv8&lt;/a&gt;</td><td>nan</td><td>nan</td><td>nan</td><td></td><td>&lt;a refstr=STASSUN_ET_AL__2019 href=https://ui.adsabs.harvard.edu/abs/2019AJ....158..138S/abstract target=ref&gt;TICv8&lt;/a&gt;</td><td>nan</td><td>nan</td><td>nan</td><td></td><td>&lt;a refstr=STASSUN_ET_AL__2019 href=https://ui.adsabs.harvard.edu/abs/2019AJ....158..138S/abstract target=ref&gt;TICv8&lt;/a&gt;</td><td>nan</td><td>nan</td><td>nan</td><td></td><td>&lt;a refstr=STASSUN_ET_AL__2019 href=https://ui.adsabs.harvard.edu/abs/2019AJ....158..138S/abstract target=ref&gt;TICv8&lt;/a&gt;</td><td>10.282</td><td>0.024</td><td>-0.024</td><td>10.282&amp;plusmn;0.024</td><td>&lt;a refstr=STASSUN_ET_AL__2019 href=https://ui.adsabs.harvard.edu/abs/2019AJ....158..138S/abstract target=ref&gt;TICv8&lt;/a&gt;</td><td>10.342</td><td>0.021</td><td>-0.021</td><td>10.342&amp;plusmn;0.021</td><td>&lt;a refstr=STASSUN_ET_AL__2019 href=https://ui.adsabs.harvard.edu/abs/2019AJ....158..138S/abstract target=ref&gt;TICv8&lt;/a&gt;</td><td>10.195</td><td>0.088</td><td>-0.088</td><td>10.195&amp;plusmn;0.088</td><td>&lt;a refstr=STASSUN_ET_AL__2019 href=https://ui.adsabs.harvard.edu/abs/2019AJ....158..138S/abstract target=ref&gt;TICv8&lt;/a&gt;</td><td>8.677</td><td>nan</td><td>nan</td><td>8.677</td><td>&lt;a refstr=STASSUN_ET_AL__2019 href=https://ui.adsabs.harvard.edu/abs/2019AJ....158..138S/abstract target=ref&gt;TICv8&lt;/a&gt;</td><td>nan</td><td>nan</td><td>nan</td><td></td><td>&lt;a refstr=STASSUN_ET_AL__2019 href=https://ui.adsabs.harvard.edu/abs/2019AJ....158..138S/abstract target=ref&gt;TICv8&lt;/a&gt;</td><td>13.0172</td><td>0.001035</td><td>-0.001035</td><td>13.017200&amp;plusmn;0.001035</td><td>&lt;a refstr=STASSUN_ET_AL__2019 href=https://ui.adsabs.harvard.edu/abs/2019AJ....158..138S/abstract target=ref&gt;TICv8&lt;/a&gt;</td><td>12.2341</td><td>0.0063</td><td>-0.0063</td><td>12.2341&amp;plusmn;0.0063</td><td>&lt;a refstr=STASSUN_ET_AL__2019 href=https://ui.adsabs.harvard.edu/abs/2019AJ....158..138S/abstract target=ref&gt;TICv8&lt;/a&gt;</td><td>0</td><td>BJD</td><td>BJD</td><td>[Fe/H]</td><td>K7</td><td>&lt;a refstr=LUO_ET_AL__2018 href=http://vizier.u-strasbg.fr/viz-bin/VizieR-3?-source=V/153/stellar4 target=ref&gt;Luo et al. 2018&lt;/a&gt;</td><td>13.6</td><td>nan</td><td>nan</td><td>13.600</td><td>&lt;a refstr=STASSUN_ET_AL__2019 href=https://ui.adsabs.harvard.edu/abs/2019AJ....158..138S/abstract target=ref&gt;TICv8&lt;/a&gt;</td><td>nan</td><td>nan</td><td>nan</td><td>0</td><td></td><td></td><td>nan</td><td>nan</td><td>nan</td><td>0</td><td></td><td></td><td>Gaia DR2 3383298227579280640</td><td>0</td><td>&lt;a refstr=BAKOS_ET_AL__2015 href=https://ui.adsabs.harvard.edu/abs/2015AJ....149..149B/abstract target=ref&gt;Bakos et al. 2015&lt;/a&gt;</td><td>1.428</td><td>0.042</td><td>-0.042</td><td>0</td><td>1.428&amp;plusmn0.042</td><td>&lt;a refstr=EXOFOP_TESS_TOI href=https://exofop.ipac.caltech.edu/tess/view_toi.php target=ref&gt;ExoFOP-TESS TOI&lt;/a&gt;</td><td>132.6</td><td>4.9</td><td>-4.9</td><td>0</td><td>132.6&amp;plusmn4.9</td><td>&lt;a refstr=BAKOS_ET_AL__2015 href=https://ui.adsabs.harvard.edu/abs/2015AJ....149..149B/abstract target=ref&gt;Bakos et al. 2015&lt;/a&gt;</td><td>0.944</td><td>0.028</td><td>-0.028</td><td>0</td><td>0.944&amp;plusmn0.028</td><td>&lt;a refstr=BAKOS_ET_AL__2015 href=https://ui.adsabs.harvard.edu/abs/2015AJ....149..149B/abstract target=ref&gt;Bakos et al. 2015&lt;/a&gt;</td><td>10.581</td><td>0.314</td><td>-0.314</td><td>0</td><td>10.6&amp;plusmn0.3</td><td>&lt;a refstr=BAKOS_ET_AL__2015 href=https://ui.adsabs.harvard.edu/abs/2015AJ....149..149B/abstract target=ref&gt;Bakos et al. 2015&lt;/a&gt;</td><td>0.1572</td><td>0.002</td><td>-0.002</td><td>0</td><td>0.1572&amp;plusmn0.0020</td><td>&lt;a refstr=BAKOS_ET_AL__2015 href=https://ui.adsabs.harvard.edu/abs/2015AJ....149..149B/abstract target=ref&gt;Bakos et al. 2015&lt;/a&gt;</td><td>14.34</td><td>nan</td><td>nan</td><td>nan</td><td>0</td><td></td><td></td><td>nan</td><td>nan</td><td>nan</td><td></td><td>&lt;a refstr=STASSUN_ET_AL__2019 href=https://ui.adsabs.harvard.edu/abs/2019AJ....158..138S/abstract target=ref&gt;TICv8&lt;/a&gt;</td><td>0</td><td>0.22</td><td>-0.22</td><td>0</td><td>14.34&amp;plusmn0.22</td><td>&lt;a refstr=BAKOS_ET_AL__2015 href=https://ui.adsabs.harvard.edu/abs/2015AJ....149..149B/abstract target=ref&gt;Bakos et al. 2015&lt;/a&gt;</td><td>0.741</td><td>0.01</td><td>-0.011</td><td>0</td><td>&lt;div&gt;&lt;span class=&quot;supersubNumber&quot;&gt;0.741&lt;/span&gt;&lt;span class=&quot;superscript&quot;&gt;+0.010&lt;/span&gt;&lt;span class=&quot;subscript&quot;&gt;-0.011&lt;/span&gt;&lt;/div&gt;</td><td>&lt;a refstr=BAKOS_ET_AL__2015 href=https://ui.adsabs.harvard.edu/abs/2015AJ....149..149B/abstract target=ref&gt;Bakos et al. 2015&lt;/a&gt;</td><td>0.76</td><td>0.032</td><td>-0.032</td><td>0</td><td>0.760&amp;plusmn0.032</td><td>&lt;a refstr=BAKOS_ET_AL__2015 href=https://ui.adsabs.harvard.edu/abs/2015AJ....149..149B/abstract target=ref&gt;Bakos et al. 2015&lt;/a&gt;</td><td>241.5508</td><td>10.17056</td><td>-10.17056</td><td>0</td><td>242&amp;plusmn10</td><td>&lt;a refstr=BAKOS_ET_AL__2015 href=https://ui.adsabs.harvard.edu/abs/2015AJ....149..149B/abstract target=ref&gt;Bakos et al. 2015&lt;/a&gt;</td><td>Mass</td><td>4390.0</td><td>50.0</td><td>-50.0</td><td>0</td><td>4390&amp;plusmn50</td><td>&lt;a refstr=BAKOS_ET_AL__2015 href=https://ui.adsabs.harvard.edu/abs/2015AJ....149..149B/abstract target=ref&gt;Bakos et al. 2015&lt;/a&gt;</td><td>-0.127</td><td>0.08</td><td>-0.08</td><td>0</td><td>-0.127&amp;plusmn0.080</td><td>&lt;a refstr=BAKOS_ET_AL__2015 href=https://ui.adsabs.harvard.edu/abs/2015AJ....149..149B/abstract target=ref&gt;Bakos et al. 2015&lt;/a&gt;</td><td>31.85</td><td>2.41</td><td>-2.41</td><td>0</td><td>31.85496188895040&amp;plusmn2.40920926137680</td><td>&lt;a refstr=GAIA_COLLABORATION_ET_AL__2018 href=https://ui.adsabs.harvard.edu/abs/2018A&amp;A...616A...1G/abstract target=ref&gt;Gaia DR2&lt;/a&gt;</td><td>2.35</td><td>0.5</td><td>-0.5</td><td>0</td><td>2.35&amp;plusmn0.50</td><td>&lt;a refstr=BAKOS_ET_AL__2015 href=https://ui.adsabs.harvard.edu/abs/2015AJ....149..149B/abstract target=ref&gt;Bakos et al. 2015&lt;/a&gt;</td><td>-0.902</td><td>0.03</td><td>-0.032</td><td>0</td><td>&lt;div&gt;&lt;span class=&quot;supersubNumber&quot;&gt;-0.9017&lt;/span&gt; &lt;span class=&quot;superscript&quot;&gt;+0.0298&lt;/span&gt;&lt;span class=&quot;subscript&quot;&gt;-0.0320&lt;/span&gt; &lt;/div&gt;</td><td>&lt;a refstr=BAKOS_ET_AL__2015 href=https://ui.adsabs.harvard.edu/abs/2015AJ....149..149B/abstract target=ref&gt;Bakos et al. 2015&lt;/a&gt;</td><td>4.67</td><td>0.01</td><td>-0.01</td><td>0</td><td>4.667&amp;plusmn0.012</td><td>&lt;a refstr=BAKOS_ET_AL__2015 href=https://ui.adsabs.harvard.edu/abs/2015AJ....149..149B/abstract target=ref&gt;Bakos et al. 2015&lt;/a&gt;</td><td>3.9</td><td>4.3</td><td>-2.1</td><td>0</td><td>&lt;div&gt;&lt;span class=&quot;supersubNumber&quot;&gt;3.9&lt;/span&gt; &lt;span class=&quot;superscript&quot;&gt;+4.3&lt;/span&gt;&lt;span class=&quot;subscript&quot;&gt;-2.1&lt;/span&gt; &lt;/div&gt;</td><td>&lt;a refstr=BAKOS_ET_AL__2015 href=https://ui.adsabs.harvard.edu/abs/2015AJ....149..149B/abstract target=ref&gt;Bakos et al. 2015&lt;/a&gt;</td><td>0.65</td><td>0.02</td><td>-0.02</td><td>0</td><td>0.645&amp;plusmn0.020</td><td>&lt;a refstr=BAKOS_ET_AL__2015 href=https://ui.adsabs.harvard.edu/abs/2015AJ....149..149B/abstract target=ref&gt;Bakos et al. 2015&lt;/a&gt;</td><td>2.08306</td><td>0.79833</td><td>-0.43904</td><td>0</td><td>&lt;div&gt;&lt;span class=&quot;supersubNumber&quot;&gt;2.0830607&lt;/span&gt;&lt;span class=&quot;superscript&quot;&gt;+0.7983282&lt;/span&gt;&lt;span class=&quot;subscript&quot;&gt;-0.4390382&lt;/span&gt;&lt;/div&gt;</td><td>&lt;a refstr=STASSUN_ET_AL__2019 href=https://ui.adsabs.harvard.edu/abs/2019AJ....158..138S/abstract target=ref&gt;TICv8&lt;/a&gt;</td><td>0.62</td><td>0.01</td><td>-0.01</td><td>0</td><td>0.617&amp;plusmn0.013</td><td>&lt;a refstr=BAKOS_ET_AL__2015 href=https://ui.adsabs.harvard.edu/abs/2015AJ....149..149B/abstract target=ref&gt;Bakos et al. 2015&lt;/a&gt;</td><td>0</td><td>0</td><td>1</td><td>1</td><td>0</td><td>0</td><td>0</td><td>0</td><td>0</td><td>0</td><td>1</td><td>1</td><td>0</td><td>0</td><td>0</td><td>0</td><td>0</td><td>0</td><td>0</td><td>33.2370806</td><td>0.0427867</td><td>-0.0427867</td><td>33.2370806&amp;plusmn;0.0427867</td><td>&lt;a refstr=STASSUN_ET_AL__2019 href=https://ui.adsabs.harvard.edu/abs/2019AJ....158..138S/abstract target=ref&gt;TICv8&lt;/a&gt;</td><td>-0.0732176</td><td>0.0496635</td><td>-0.0496635</td><td>-0.07321760&amp;plusmn;0.04966350</td><td>-0.1551722447842337</td><td>0.8892808475956486</td><td>0.43023383008334737</td><td>-342105145</td><td>99.8979924,25.4824005</td></tr>\n",
       "</table></div>"
      ],
      "text/plain": [
       "<QTable masked=True length=1>\n",
       " pl_name   pl_letter hostname ...   htm20          sky_coord      \n",
       "                              ...                   deg,deg       \n",
       "  str10       str1     str8   ...   int32           SkyCoord      \n",
       "---------- --------- -------- ... ---------- ---------------------\n",
       "HAT-P-54 b         b HAT-P-54 ... -342105145 99.8979924,25.4824005"
      ]
     },
     "execution_count": 8,
     "metadata": {},
     "output_type": "execute_result"
    }
   ],
   "source": [
    "import astropy.units as u\n",
    "from astropy.coordinates import SkyCoord\n",
    "\n",
    "## Using RA and DEC in degrees. This looks in a 0.5 degree circle centered at 100 degrees RA and 25 degrees declination.\n",
    "NasaExoplanetArchive.query_region(\n",
    "    table=\"pscomppars\", coordinates=SkyCoord(ra=100 * u.deg, dec=25 * u.deg),\n",
    "    radius=0.5 * u.deg) "
   ]
  },
  {
   "cell_type": "markdown",
   "id": "df9fc5b4",
   "metadata": {},
   "source": [
    "### Query by Criteria\n",
    "The above methods will give you all available data corresponding to the target from all archive tables. Sometimes more specificity is required for particular parameters, such as the table it is pulled from, or all exoplanets meeting specific criteria. This can be done using the `query_criteria` method. This can be coupled with the `where`, `select`, and `order` parameters to get highly specific results. All available parameters are described [here](https://exoplanetarchive.ipac.caltech.edu/docs/program_interfaces.html) under the **Keywords for Specific Queries** section."
   ]
  },
  {
   "cell_type": "code",
   "execution_count": 10,
   "id": "f36c2b70",
   "metadata": {},
   "outputs": [
    {
     "data": {
      "text/html": [
       "<div><i>QTable masked=True length=1</i>\n",
       "<table id=\"table1728255624336\" class=\"table-striped table-bordered table-condensed\">\n",
       "<thead><tr><th>count(*)</th></tr></thead>\n",
       "<thead><tr><th>int32</th></tr></thead>\n",
       "<tr><td>549</td></tr>\n",
       "</table></div>"
      ],
      "text/plain": [
       "<QTable masked=True length=1>\n",
       "count(*)\n",
       " int32  \n",
       "--------\n",
       "     549"
      ]
     },
     "execution_count": 10,
     "metadata": {},
     "output_type": "execute_result"
    }
   ],
   "source": [
    "#Here, select means a particular column, and gives a cumulative count.\n",
    "#'Where' is querying all planets found by the K2 mission\n",
    "NasaExoplanetArchive.query_criteria(table=\"pscomppars\", select=\"count(*)\",\n",
    "                                    where=\"disc_facility like '%K2%'\")  "
   ]
  },
  {
   "cell_type": "code",
   "execution_count": 14,
   "id": "d3cbeae1",
   "metadata": {},
   "outputs": [
    {
     "data": {
      "text/html": [
       "<div><i>QTable masked=True length=222</i>\n",
       "<table id=\"table1728268816464\" class=\"table-striped table-bordered table-condensed\">\n",
       "<thead><tr><th>pl_radj</th></tr></thead>\n",
       "<thead><tr><th>jupiterRad</th></tr></thead>\n",
       "<thead><tr><th>float64</th></tr></thead>\n",
       "<tr><td>1.24</td></tr>\n",
       "<tr><td>0.433</td></tr>\n",
       "<tr><td>1.25</td></tr>\n",
       "<tr><td>1.22</td></tr>\n",
       "<tr><td>0.212</td></tr>\n",
       "<tr><td>0.215</td></tr>\n",
       "<tr><td>1.13</td></tr>\n",
       "<tr><td>1.22</td></tr>\n",
       "<tr><td>1.25</td></tr>\n",
       "<tr><td>...</td></tr>\n",
       "<tr><td>1.16</td></tr>\n",
       "<tr><td>0.176</td></tr>\n",
       "<tr><td>1.22</td></tr>\n",
       "<tr><td>1.13</td></tr>\n",
       "<tr><td>1.17</td></tr>\n",
       "<tr><td>0.533</td></tr>\n",
       "<tr><td>0.361</td></tr>\n",
       "<tr><td>1.2</td></tr>\n",
       "<tr><td>1.23</td></tr>\n",
       "<tr><td>1.16</td></tr>\n",
       "</table></div>"
      ],
      "text/plain": [
       "<QTable masked=True length=222>\n",
       " pl_radj  \n",
       "jupiterRad\n",
       " float64  \n",
       "----------\n",
       "      1.24\n",
       "     0.433\n",
       "      1.25\n",
       "      1.22\n",
       "     0.212\n",
       "     0.215\n",
       "      1.13\n",
       "      1.22\n",
       "      1.25\n",
       "       ...\n",
       "      1.16\n",
       "     0.176\n",
       "      1.22\n",
       "      1.13\n",
       "      1.17\n",
       "     0.533\n",
       "     0.361\n",
       "       1.2\n",
       "      1.23\n",
       "      1.16"
      ]
     },
     "execution_count": 14,
     "metadata": {},
     "output_type": "execute_result"
    }
   ],
   "source": [
    "#Here, 'select' queries the planet radius column.\n",
    "#'Where' is querying all planets found by microlensing\n",
    "NasaExoplanetArchive.query_criteria(\n",
    "    table=\"pscomppars\", select=\"pl_radj\", where=\"discoverymethod like 'Microlensing'\")  "
   ]
  },
  {
   "cell_type": "markdown",
   "id": "43d01427",
   "metadata": {},
   "source": [
    "### All Available Tables\n",
    "To find all accessible tables using the API, use the `TAP_TABLES` method:"
   ]
  },
  {
   "cell_type": "code",
   "execution_count": 15,
   "id": "45526f19",
   "metadata": {},
   "outputs": [
    {
     "data": {
      "text/plain": [
       "['spectra',\n",
       " 'TD',\n",
       " 'pscomppars',\n",
       " 'superwasptimeseries',\n",
       " 'kelttimeseries',\n",
       " 'DI_STARS_EXEP',\n",
       " 'stellarhosts',\n",
       " 'transitspec',\n",
       " 'emissionspec',\n",
       " 'ps',\n",
       " 'keplernames',\n",
       " 'k2names',\n",
       " 'toi',\n",
       " 'CUMULATIVE',\n",
       " 'Q1_Q6_KOI',\n",
       " 'Q1_Q8_KOI',\n",
       " 'Q1_Q12_KOI',\n",
       " 'Q1_Q16_KOI',\n",
       " 'Q1_Q17_DR24_KOI',\n",
       " 'Q1_Q17_DR25_KOI',\n",
       " 'Q1_Q17_DR25_SUP_KOI',\n",
       " 'Q1_Q12_TCE',\n",
       " 'Q1_Q16_TCE',\n",
       " 'Q1_Q17_DR24_TCE',\n",
       " 'Q1_Q17_DR25_TCE',\n",
       " 'stellarhosts',\n",
       " 'ukirttimeseries',\n",
       " 'ml',\n",
       " 'object_aliases',\n",
       " 'k2pandc',\n",
       " 'K2TARGETS',\n",
       " 'KEPLERTIMESERIES',\n",
       " 'KEPLERSTELLAR',\n",
       " 'Q1_Q12_KS',\n",
       " 'Q1_Q16_KS',\n",
       " 'Q1_Q17_DR24_KS',\n",
       " 'Q1_Q17_DR25_KS',\n",
       " 'Q1_Q17_DR25_SUP_KS']"
      ]
     },
     "execution_count": 15,
     "metadata": {},
     "output_type": "execute_result"
    }
   ],
   "source": [
    "NasaExoplanetArchive.TAP_TABLES"
   ]
  },
  {
   "cell_type": "markdown",
   "id": "3858b7ef",
   "metadata": {},
   "source": [
    "### Table Access Protocol (TAP)\n",
    "An alternative to the interactive data tables and API is the Table Access Protocol. A full explanation on how to use it and develop queries is found [here](https://exoplanetarchive.ipac.caltech.edu/docs/TAP/usingTAP.html), as well as the catalog abbreviations. Below is a quick example.\n",
    "\n",
    "#### Building Queries\n",
    "The query format takes the following standard form:\n",
    "\n",
    "```SELECT <column list> FROM <table> WHERE <constraints> FORMAT <file format>```\n",
    "\n",
    "Where `SELECT` and `FROM` conditions are mandatory. This uses the **standard base URL**:\n",
    "\n",
    "```https://exoplanetarchive.ipac.caltech.edu/TAP/sync?query=```\n",
    "\n",
    "for web browsers, and if you use TOPCAT or pyVO clients:\n",
    "\n",
    "```https://exoplanetarchive.ipac.caltech.edu/TAP```\n",
    "\n",
    "From here, you use the `select`, `from`, `where` and `format` syntax to develop your query. Additionally, you separate the above three catagories by a `+` sign, and separate multiple conditions per category by a `,`. For example, if I want to query the TOI catalog (`TOI`), and want the TIC ID (`tid`) and corresponding planetary periods (`pl_orbper`) less than 10 days (`pl_orbper < 10`) in a .csv file, I would construct:\n",
    "\n",
    "[```https://exoplanetarchive.ipac.caltech.edu/TAP/sync?query=select+tid,pl_orbper+from+TOI+where+pl_orbper+<+10&format=csv```](https://exoplanetarchive.ipac.caltech.edu/TAP/sync?query=select+tid,pl_orbper+from+TOI+where+pl_orbper+<+10&format=csv)\n",
    "\n",
    "This outputs the two columns with the periods less than 10 days."
   ]
  },
  {
   "cell_type": "markdown",
   "id": "54e65a10",
   "metadata": {},
   "source": [
    "### Table Documentation <a name=\"Documentation\"></a>\n",
    "\n",
    "To maximize the efficiency of using the data tables in either fashion, it is imperative to understand the column definitions for each data table. Here is the documentation hyperlinks for each major table, as well as the Table Access Protocol abbreviation if available, for reference:\n",
    "#### General:\n",
    "- [Planetary Systems and Planetary Systems Composite Parameters Table (ps, pscomppars)](https://exoplanetarchive.ipac.caltech.edu/docs/API_PS_columns.html#columns)\n",
    "- [Microlensing Planets Table (ML)](https://exoplanetarchive.ipac.caltech.edu/docs/API_ML.html)\n",
    "- [Direct Imaging Table](https://exoplanetarchive.ipac.caltech.edu/docs/API_directimaging.html)\n",
    "- [Atmospheric Spectroscopy Table](https://exoplanetarchive.ipac.caltech.edu/cgi-bin/atmospheres/nph-firefly?atmospheres)\n",
    "- [Transiting Planets Table](https://exoplanetarchive.ipac.caltech.edu/docs/API_transit_detection.html)\n",
    "#### Kepler:\n",
    "- [Kepler Objects of Interest Tables (cumulative)](https://exoplanetarchive.ipac.caltech.edu/docs/API_kepcandidate_columns.html)\n",
    "- [Kepler Objects of Interest Positional Probabilities Table](https://exoplanetarchive.ipac.caltech.edu/docs/API_koiapp_columns.html)\n",
    "- [Kepler Astrophysical False Positive Probabilities Table](https://exoplanetarchive.ipac.caltech.edu/docs/API_fpp_columns.html)\n",
    "- [Kepler Certified False Positive Table](https://exoplanetarchive.ipac.caltech.edu/docs/API_fpwg_columns.html)\n",
    "- [Kepler Threshold-Crossing Event Table](https://exoplanetarchive.ipac.caltech.edu/docs/API_tce_columns.html)\n",
    "- [Kepler Stellar Table](https://exoplanetarchive.ipac.caltech.edu/docs/API_keplerstellar_columns.html)\n",
    "#### Transit Surveys:\n",
    "- [TESS Objects of Interest Table (TOI)](https://exoplanetarchive.ipac.caltech.edu/docs/API_TOI_columns.html)\n",
    "- [K2 Planets and Candidates Table (k2pandc)](https://exoplanetarchive.ipac.caltech.edu/docs/API_k2pandc_columns.html)\n",
    "- [K2 Targets Table (k2targets)](https://exoplanetarchive.ipac.caltech.edu/docs/)\n",
    "- [KELT Table (kelttimeseries)](https://exoplanetarchive.ipac.caltech.edu/applications/ETSSView/docs/ETSS_KELTP_columns.html)\n",
    "- [CoRoT Search Table](https://exoplanetarchive.ipac.caltech.edu/docs/datasethelp/ETSS_CoRoT.html)\n",
    "- [XO Table](https://exoplanetarchive.ipac.caltech.edu/applications/ETSSView/docs/ETSS_XO_columns.html)\n",
    "- [Cluster Table](https://exoplanetarchive.ipac.caltech.edu/applications/ETSSView/docs/ETSS_Cluster_columns.html)\n",
    "- [TrES Table](https://exoplanetarchive.ipac.caltech.edu/applications/ETSSView/docs/ETSS_TrES_columns.html)\n",
    "- [Mission Star and HWO ExEP Tables (di_stars_exep)](https://exoplanetarchive.ipac.caltech.edu/docs/API_mission_stars.html)"
   ]
  },
  {
   "cell_type": "markdown",
   "id": "30dcae4c",
   "metadata": {},
   "source": [
    "## [Tools](https://exoplanetarchive.ipac.caltech.edu/docs/tools.html)\n",
    "The archive hosts some useful tools which can help researchers visualize data, as well as perform cursory analysis. This section aims to briefly cover their basic functionality.\n",
    "\n",
    "### [Transit and Ephemeris Service](https://exoplanetarchive.ipac.caltech.edu/cgi-bin/TransitView/nph-visibletbls?dataset=transits)\n",
    "Several research areas depend on accurate observations of transiting exoplanets (such as atmospheric characiterization). These observations need to planned precisely so that they occur when the planet is transiting. To aid in this process, the NASA Exoplanet Archive hosts a transit and ephemeris service that uses known planetary periods, telescope locations, and transit epochs to develop transit windows to be used in observation planning. This subsection outlines a simple use case. For the user guide, click the 'User Guide' tab.\n",
    "\n",
    "#### Target Selection\n",
    "\n",
    "The tool allows for three main modes of target selection:\n",
    "- **Multiple Targets**: Used in most cases. Can draw ephemerids from existing tables, such as the Composite Planetary Systems table, the TESS Objects of Interest (TOI) table, the Kepler table, etc, or from a custom list of target names.\n",
    "- **Single Target**: Find the ephemerids associated with a single target (i.e. 'TOI 210', 'Kepler 1020') or a single host (i.e. 'Proxima Centauri'). This will return multiple ephemerids if the host has multiple planets.\n",
    "- **User Defined**: If the target of interest is not yet available in the archive, or the archive has not been updated with new findings, you can pass your own set of planetary parameter. NOTE: If you want to use a specific observatory, you will need to pass coodinates of some sort!\n",
    "\n",
    "#### Observer Location\n",
    "\n",
    "The observer location depends on which instrument you plan to use. This is explanatory, and also allows to put in your own coordinates if you plan to do amateur observations.\n",
    "\n",
    "#### Observing Window and Phases\n",
    "\n",
    "Lastly, if you have a specific time window to make the observation, you can input the observing window of interest to see a list of events that will occur. Additionally, you can query when in the transit you wish to observe, i.e. 0 phase (primary transit), 0.5 phase (secondary transit), or anywhere inbetween. Note that the time window is in Universal Time, so be sure to convert accordingly,\n",
    "\n",
    "#### Example Query\n",
    "\n",
    "Say I am interested in determining the effective temperature of WASP-18b, which requires observing the **secondary** transit (also known as an *occultation*), where the brightness of the star-planet sytem dips due to the planet moving behind the star. Say I want to do this using the James Webb Space telescope, and I have time for the month of December, 2024. Here is the query:\n",
    "- **Single Target**:\n",
    "\n",
    "![Table](../Graphics/Databases/NEA_Ephemerids.png)\n",
    "\n",
    "Note the different colors of the entries, representing the uncertainty confidence for the corresponding ephemerids. We want the most precise option, so we double click on the *ExoFOP-TESS TOI* entry, which automatically fills in the 'User Defined' parameters.\n",
    "- **Observer Location: JWST, Observing Window: Dec. 2024, Phases: Secondary**:\n",
    "\n",
    "![Table](../Graphics/Databases/NEA_Ephermerid2.png)\n",
    "\n",
    "This shows the rest of the query, including the observatory, time window, and desired phases.\n",
    "\n",
    "#### Output\n",
    "Here is the output:\n",
    "\n",
    "![Table](../Graphics/Databases/NEA_Ephermerid_Output.png)\n",
    "\n",
    "The columns selected are some of the relevant observing features, but not all. All available column definitions can be found [here](https://exoplanetarchive.ipac.caltech.edu/docs/transit/transit_parameters.html). We note that WASP-18b is viewable nearly every day, consistent with its orbital period. Other important aspects include the 'Transit Duration', 'Event Midpoint' (in this case of the secondary transit), and the 'Propagated Midpoint Uncertainty.' When reviewing your data, these are important parameters to make sure your data is consistent with the known exoplanet parameters."
   ]
  },
  {
   "cell_type": "markdown",
   "id": "a55aee7f",
   "metadata": {},
   "source": [
    "### [Confirmed Planet Plotting Tool](https://exoplanetarchive.ipac.caltech.edu/cgi-bin/IcePlotter/nph-icePlotInit?mode=demo&set=confirmed)\n",
    "This tool allows you to plot any quantitative data from the interactive data tables, in either a scatterplot or a histogram. This can quickly generate basic visualzations between two parameters of interest, and has fairly robust editing options, such as log-log plots, binning, error bars, and labeling. Here is an example, plotting orbital period with orbital semi-major axis:\n",
    "\n",
    "![Table](../Graphics/Databases/NEA_Plot.png)\n",
    "\n",
    "Kepler's law of period and orbital radius is quite apparent in this log-log plot. "
   ]
  },
  {
   "cell_type": "markdown",
   "id": "899ccb5b",
   "metadata": {},
   "source": [
    "### [Predicted Observables for Exoplanets Service (POE)](https://exoplanetarchive.ipac.caltech.edu/cgi-bin/CalcQty/nph-calcqty)\n",
    "This tool allows a user to determine theoretical observational signatures of a planet with certain constraints. The most commonly thought of constraint is **an Earth-like planet within its system's habitable zone**. Thus, given a target star or system, the tool will output the thoretical parameters the exoplanet must exhibit to meet those criteria. For example, what if want to know the habitable zone range around Proxima Centauri? The input looks something like this:\n",
    "\n",
    "![Table](../Graphics/Databases/NEA_POE.png)\n",
    "\n",
    "giving an output data table of:\n",
    "\n",
    "![Table](../Graphics/Databases/NEA_POE_Out.png)\n",
    "\n",
    "Which shows the target with the input criteria (i.e. having the name Proxima Centauri) and shows the lower and upper bounds of the habitable zone, which are 0.03 AU and 0.0708 AU. Given that Proxima Centauri is a small, low mass and low temperature star, it is reasonable that the habitable zone exists much closer than our Sun. This tool is very robust, so look at the in-depth [user guide](https://exoplanetarchive.ipac.caltech.edu/cgi-bin/CalcQty/nph-calcqty) for more information."
   ]
  }
 ],
 "metadata": {
  "kernelspec": {
   "display_name": "Python 3 (ipykernel)",
   "language": "python",
   "name": "python3"
  },
  "language_info": {
   "codemirror_mode": {
    "name": "ipython",
    "version": 3
   },
   "file_extension": ".py",
   "mimetype": "text/x-python",
   "name": "python",
   "nbconvert_exporter": "python",
   "pygments_lexer": "ipython3",
   "version": "3.11.5"
  }
 },
 "nbformat": 4,
 "nbformat_minor": 5
}
