{
 "cells": [
  {
   "cell_type": "markdown",
   "metadata": {},
   "source": [
    "# Table of Contents\n",
    "1. [Overview](#Overview)\n",
    "2. [Building a Project on Zooniverse](#Project_Builder)\n",
    "3. [Communications](#Communications)\n",
    "4. [Publications and Project Outcomes](#Project_Outcomes)\n"
   ]
  },
  {
   "cell_type": "markdown",
   "metadata": {},
   "source": [
    "# The Zooniverse"
   ]
  },
  {
   "cell_type": "markdown",
   "metadata": {},
   "source": [
    "## Overview <a name=\"Overview\"></a>\n",
    "The Zooniverse is a prime example of how citizen science can leverage the power of public participation from nonprofessionals. Today, projects on The Zooniverse are not limited to the field of exoplanet or even astrophysics research. The platform is suitable for projects in any field of research and hosts a diverse array of citizen science projects. A research project in any field requires some sort of data or information processing technique. This information processing can be simple but heavily repetitive and mundane when dealing with very large sets of data. For example, information processing could involve the characterization of a galaxy based on its shape in an image or identifying an animal from a video. Volunteers can help researchers with this part of the research process by participating in a Zooniverse project to characterize information and gather data. The projects on The Zooniverse typically large volumes of data that can be time consuming for a research team to sort through and too difficult for computers to analyze accurately. When many volunteers join together using their naturally human pattern recognition skills, the efficiency of a research project improves. The Zooniverse has led to scientific discoveries and advancements through public engagemnent in science. \n",
    "\n",
    "In terms of exoplanet research, The Zooniverse hosts many related projects. The project building feature can be extremely useful for exoplanet researchers. For example, you could use volunteers to identify transits. Later lessons in this module will talk about a few of the projects that have used citizen science for this purpose."
   ]
  },
  {
   "cell_type": "markdown",
   "metadata": {},
   "source": [
    "## Building A Project on Zooniverse <a name=\"Project_Builder\"></a>\n",
    "The most useful feature on Zooniverse for exoplanet research is certainly its project builder. The Zooniverse website provides an accessible and comprehensive tutorial on its project building feature. With the Project Builder tool, researchers can create a new project by providing information about the scientific objectives, research questions, and datasets they wish to analyze. They can open up a dataset and specify the type of tasks volunteers will perform, such as classifying images, transcribing text, or identifying patterns in data.\n",
    "\n",
    "### Project Details\n",
    "Zooniverse prompts the user to input details on their project including a name, description, introduction, workflow description, researcher quote, announcement banner, discipline tag, other tags, and external links. Properly outlining the project through these prompts allows researchers to attract and direct volunteers in a manner specific to the individual project. It is important to thoroughly develop the project details section in order to appeal to volunteers. When working on the project details, make sure to let volunteers know why the project is important and exciting. Make the project attractive by using the feature that allows you to drop in an avatar and background image. The project details section will be a volunteer's first impression of your project. \n",
    "\n",
    "### About\n",
    "Following the project details section in the project details, the researcher is provided five open fields to describe the goals of the project to volunteers in the About section. This section fully outlines the research, team, results, and education behind the project along with the opportunity to include an FAQ page. These fields render markdown, so you can add easily add media and hyper links. Appeal to volunteers with graphics and descriptions of the people on your team. You may choose to leave any of these fields blank but make sure to fully describe all aspects of your current project. Avoid jargon, so the description is comprehensive to citizen volunteers.\n",
    "![Citizen_Science_Figure2.jpg](attachment:Citizen_Science_Figure2.jpg)\n",
    "\n",
    "### Collaborators\n",
    "Researchers can add collaborators to their projects and classify their roles based on the extent that they will contribute to the project. This feature enables collaboration though The Zooniverse platform, so you can split the project development across different team members. \n",
    "![Citizen_Science_Figure3.jpg](attachment:Citizen_Science_Figure3.jpg)\n",
    "\n",
    "### Field Guide\n",
    "The field guide tab allows researchers to upload a field guide.\n",
    "\n",
    "### Tutorial\n",
    "Researchers should upload a short tutorial, so that volunteers can quickly and easily get started on contributing to the project.\n",
    "\n",
    "### Media\n",
    "Media can be uploaded to support the project.\n",
    "\n",
    "### Visibility\n",
    "While building the project, researchers are able to change the visibility status. The project can be public, so anyone with the URL can access it, or it can be private and visible only to its collaborators.\n",
    "![Citizen_Science_Figure4.jpg](attachment:Citizen_Science_Figure4.jpg)\n",
    "\n",
    "### Talk\n",
    "Researchers and collaborators can attach discussions to the project, allowing collaborators and volunteers to communicate with each other.\n",
    "\n",
    "### Data Exports\n",
    "Project data can be exported through the Data Exports tab in CSV format. Discussions can be exported in JSON format.\n",
    "![Citizen_Science_Figure5.jpg](attachment:Citizen_Science_Figure5.jpg)\n",
    "\n",
    "### Workflows\n",
    "Researchers instruct volunteers on the tasks they want volunteers to perform through workflows.\n",
    "\n",
    "### Subject Sets\n",
    "Researchers create subject sets of data for the volunteers to analyze.\n",
    "\n",
    "\n",
    "Overall, the Project Builder tool on Zooniverse empowers researchers to create and manage their own citizen science projects, enabling them to leverage the collective efforts of volunteers to address complex scientific questions, analyze large data sets, and advance research in various fields of study."
   ]
  }
 ],
 "metadata": {
  "language_info": {
   "name": "python"
  }
 },
 "nbformat": 4,
 "nbformat_minor": 2
}
