{
 "cells": [
  {
   "cell_type": "markdown",
   "metadata": {},
   "source": [
    "# [Backyard Worlds](https://www.zooniverse.org/projects/marckuchner/backyard-worlds-planet-9)\n",
    "\n",
    "# Table of Contents\n",
    "1. [Overview](#Overview)"
   ]
  },
  {
   "cell_type": "markdown",
   "metadata": {},
   "source": [
    "## [Overview](https://www.zooniverse.org/projects/marckuchner/backyard-worlds-planet-9) <a name=\"Overview\"></a>\n",
    "\n",
    "A final notable project on Zooniverse is Backyard Worlds: Planet 9, a project aimed at discovering new celestial objects in our solar system. Backyard Worlds engages citizen scientists in the search for new objects by having them analyze images taken by NASA's Wide-field Infrared Survey Explorer (WISE) telescope. Participants examine these images to identify moving objects, such as brown dwarfs, low-mass stars, and potentially even the elusive Planet Nine. These celestial bodies can be difficult to detect due to their faintness and distant location, but with the help of volunteers, the project aims to uncover them."
   ]
  }
 ],
 "metadata": {
  "language_info": {
   "name": "python"
  }
 },
 "nbformat": 4,
 "nbformat_minor": 2
}
