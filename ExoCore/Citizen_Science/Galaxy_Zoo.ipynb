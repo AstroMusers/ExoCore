{
 "cells": [
  {
   "cell_type": "markdown",
   "metadata": {},
   "source": [
    "# [Galaxy Zoo](https://www.zooniverse.org/projects/zookeeper/galaxy-zoo)\n",
    "\n",
    "# Table of Contents\n",
    "1. [Overview](#Overview)\n",
    "2. [Impact](#Impact)"
   ]
  },
  {
   "cell_type": "markdown",
   "metadata": {},
   "source": [
    "## Overview <a name=\"Overview\"></a>\n",
    "\n",
    "The Zooniverse kicked off with its first project, Galaxy Zoo, in 2007 with a data set of a few million galaxies from the Sloan Digital Sky Survey. While the Sloan Digital Sky Survey still provides many of the images on the site today, Galaxy Zoo has added images from more distant sky surveys including the Hubble Space Telescope. New data is now being added to Galaxy Zoo rapidly. Recent inclusions incorporate images from the United Kingdom Infrared Telescope (UKIRT), the Dark Energy Camera Legacy Survey (DECaLS), and the Galaxy and Mass Assembly Survey (GAMA). Galaxy Zoo recently classified a dataset of fully simulated galaxies from the Illustris project for the first time. Along with the additions to Galaxy Zoo’s original form, the platform has omitted completed images that are no longer useful to researchers. Past iterations of the platform can be accessed through online archives.\n",
    "\n",
    "Galaxy Zoo’s diverse array includes surveys on our local group and distant galaxies. By surveying galaxies at different distances, Galaxy Zoo enables researchers to study how galaxies have evolved over time. Comparing local galaxies to those farther away provides researchers with insight into the processes driving galaxy formation and evolution throughout the ages of the universe. As data from more distant galaxies is added to the platform, questions about the relationship between galaxy distance and classification have arisen. In order to establish any dependence of classification on distance, Galaxy Zoo has simulated images of galaxies from different viewing perspectives. Analysis of these images will help discern the effects of redshift on galaxy classification."
   ]
  },
  {
   "cell_type": "markdown",
   "metadata": {},
   "source": [
    "## Impact <a name=\"Impact\"></a>\n",
    "\n",
    "Galaxy Zoo is one of the largest and most widely known citizen science projects to date with over 450 publications mentioning it. The project has greatly evolved since its initial release, and multiple datasets have been fully classified and retired throughout its time running. The initial project \n"
   ]
  }
 ],
 "metadata": {
  "language_info": {
   "name": "python"
  }
 },
 "nbformat": 4,
 "nbformat_minor": 2
}
