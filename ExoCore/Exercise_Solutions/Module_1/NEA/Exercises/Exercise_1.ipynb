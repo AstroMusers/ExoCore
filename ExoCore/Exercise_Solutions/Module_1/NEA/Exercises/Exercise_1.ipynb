{
 "cells": [
  {
   "cell_type": "markdown",
   "metadata": {},
   "source": [
    "## Exercise 1 Solution\n",
    "\n",
    "*Using `astroquery`, plot the distribution of exoplanets discovered by the [microlensing](https://science.nasa.gov/mission/roman-space-telescope/microlensing/) method across the celestial sphere as a heat map. That is, iterate over a grid of RA/DEC, count the number of micolensing planets in a cone with a radius equal to the size of the grid spacing (e.g., if the grid spacing is 1 degree, search a cone of 1 degrees.) What do you notice? What might explain this distribution? Use matplotlib's `imshow` method to create your plot.*"
   ]
  },
  {
   "cell_type": "markdown",
   "metadata": {},
   "source": [
    "**NOTE: This exercise has many potentially correct solutions! Use the output of this exercise to check your work.\n",
    "\n",
    "\n",
    "Based on the question, we know we will be making a **2D map**, which will involve two `for` loops and making a 'list-of-lists'. The question can be boiled down to compiling a count of targets within a circle of radius the size of the grid spacing, centered on the given FOV."
   ]
  },
  {
   "cell_type": "code",
   "execution_count": null,
   "metadata": {},
   "outputs": [],
   "source": [
    "from matplotlib.pyplot import imshow\n",
    "from astroquery.ipac.nexsci.nasa_exoplanet_archive import NasaExoplanetArchive as NEA\n",
    "import numpy as np\n",
    "from astropy.coordinates import SkyCoord\n",
    "import astropy.units as u\n",
    "\n",
    "## Creat our RA/DEC grid\n",
    "RAs = np.linspace(0,360, num=180)\n",
    "DECs = np.linspace(-90,90, num=90)\n",
    "RA_grid = []\n",
    "##Query the relevant data\n",
    "query = NEA.query_criteria(table=\"pscomppars\", select=\"ra,dec\",\n",
    "                                    where=\"discoverymethod like 'Microlensing'\")  \n",
    "\n",
    "##Create an index column to keep track of individual systems\n",
    "query['index'] = range(0, len(query))\n",
    "\n",
    "##Start the loop over each RA/DEC pair in the grid\n",
    "for DEC in DECs:\n",
    "    ##reset the DEC grid at each new RA\n",
    "    DEC_grid = []\n",
    "    for RA in RAs:\n",
    "        ##Keep track of counts\n",
    "        count = 0\n",
    "        \n",
    "        ##These lines returns the absolute difference \n",
    "        ##of the grid center point and the target\n",
    "        ##If it's less than the defined square, keep \n",
    "        ra_list = query[np.abs(RA-query['ra'].value) < 2]\n",
    "        dec_list = query[np.abs(DEC-query['dec'].value) < 2]\n",
    "        \n",
    "        ##Associate the ra/dec lists above with the index values\n",
    "        ##assigned to track each target\n",
    "        dec_index = list(dec_list['index'])\n",
    "        ra_index = list(ra_list['index'])\n",
    "        \n",
    "        ##Account for the RA boundary condition\n",
    "        if RA < 2:\n",
    "            a = query[np.abs(RA-np.abs(360-query['ra'].value)) < 2]\n",
    "            a_index = a['index']\n",
    "            ra_index.append(a_index)\n",
    "        elif RA > 358:\n",
    "            a = query[np.abs(RA-np.abs(360-query['ra'].value)) < 2]\n",
    "            a_index = a['index']\n",
    "            ra_index.append(a_index)\n",
    "        ##See if the index markers match for the DEC/RA pairs. If they do, the target falls within the square, so count\n",
    "        ##If not, do not count\n",
    "        for indices in dec_index:\n",
    "            if indices in ra_index:\n",
    "                count += 1\n",
    "        ##For each DEC, append the counts\n",
    "        DEC_grid.append(count)\n",
    "    ##Append the DEC list to the RA grid.\n",
    "    RA_grid.append(DEC_grid)\n",
    "##Plot. Think about how the data is sifted through; do you need to flip or mirror any axes?\n",
    "imshow(RA_grid)"
   ]
  }
 ],
 "metadata": {
  "kernelspec": {
   "display_name": "exocore",
   "language": "python",
   "name": "python3"
  },
  "language_info": {
   "codemirror_mode": {
    "name": "ipython",
    "version": 3
   },
   "file_extension": ".py",
   "mimetype": "text/x-python",
   "name": "python",
   "nbconvert_exporter": "python",
   "pygments_lexer": "ipython3",
   "version": "3.12.8"
  }
 },
 "nbformat": 4,
 "nbformat_minor": 2
}
