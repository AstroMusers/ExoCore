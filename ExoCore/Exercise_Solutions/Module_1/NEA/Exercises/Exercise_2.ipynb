{
 "cells": [
  {
   "cell_type": "markdown",
   "metadata": {},
   "source": [
    "## Exercise 2\n",
    "\n",
    "*You are granted time on JWST's NIRCam in order to perform [transmission spectroscopy](https://www.esa.int/ESA_Multimedia/Images/2023/03/Transmission_spectroscopy) on a [hot Jupiter](https://en.wikipedia.org/wiki/Hot_Jupiter). Your observation block is from August 15th - August 20th, 2025. Plan an observation for JWST using the [ephemeris](https://exoplanetarchive.ipac.caltech.edu/cgi-bin/TransitView/nph-visibletbls?dataset=transits) tool by finding a planet that meets the following criteria:*\n",
    "- $T_{eq} > 1500 \\; \\mathrm{K}$\n",
    "- $R_{p} > 1 \\; R_{J}$\n",
    "- $P < 10 \\; \\mathrm{Days}$\n",
    "\n",
    "*Additoinally, report the uncertainty in the transit time of your choice. Feel free to use the web interface or the Python API. Find the next feasible transit observation of your target.*"
   ]
  },
  {
   "cell_type": "markdown",
   "metadata": {},
   "source": [
    "## Solution\n",
    "A list of potentially viable candidates can be queried using `query_criteria(table='pscomppars', select='pl_name', where='pl_eqt>1500,pl_per<10,pl_radj>1')`. You can then use the ephemeris service to find which ones are able to be viewed by JWST in the given date range.\n",
    "\n",
    "In this solution, we used WASP-18 b, which has:\n",
    "- $T_{eq} = 2700\\,\\mathrm{K}$\n",
    "- $P=0.9414\\,\\mathrm{days}$\n",
    "- $R_{p}=1.165\\,\\mathrm{R_{J}}$\n",
    "\n",
    "## Observation Summary\n",
    "\n",
    "- Transit time: 2.21 Hours\n",
    "- Event midpoint: $2460905.79027 \\pm 0.001252 \\, \\mathrm{JD}$\n",
    "- $(RA,DEC) = (24.354462, -45.677794) \\, \\mathrm{deg}$\n",
    "\n",
    "To establish baseline stellar flux, it is advantageous to begin the observation several hours before the transit event, and end several hours after the transit event. Taking $\\pm 4$ hours on either side of ingress and egress, this gives an observation window of:\n",
    "\n",
    "$2460905.57753 - 2460906.0030 \\, \\mathrm{JD}$"
   ]
  }
 ],
 "metadata": {
  "kernelspec": {
   "display_name": "exocore",
   "language": "python",
   "name": "python3"
  },
  "language_info": {
   "codemirror_mode": {
    "name": "ipython",
    "version": 3
   },
   "file_extension": ".py",
   "mimetype": "text/x-python",
   "name": "python",
   "nbconvert_exporter": "python",
   "pygments_lexer": "ipython3",
   "version": "3.12.8"
  }
 },
 "nbformat": 4,
 "nbformat_minor": 2
}
