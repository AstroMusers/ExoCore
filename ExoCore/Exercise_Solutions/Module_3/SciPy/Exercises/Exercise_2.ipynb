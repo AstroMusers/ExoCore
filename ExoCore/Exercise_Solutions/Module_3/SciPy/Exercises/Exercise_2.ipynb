{
 "cells": [
  {
   "cell_type": "markdown",
   "metadata": {},
   "source": [
    "## Exercise 2 Solution\n",
    "\n",
    "*Write a function that takes in any number of `Numpy` arrays of the same length, and returns the same 1D arrays with `NANs` removed **across identical indices**. That is, if a `NAN` occurs at index 5 for list1, remove index 5 across all lists, such that all returned lists are the same length. Check your results by using the `nan_checker()` function.*"
   ]
  },
  {
   "cell_type": "code",
   "execution_count": 2,
   "metadata": {},
   "outputs": [
    {
     "data": {
      "text/plain": [
       "([2, 3, 4], [2, 3, 8], [5, 5, 5])"
      ]
     },
     "execution_count": 2,
     "metadata": {},
     "output_type": "execute_result"
    }
   ],
   "source": [
    "import numpy as np\n",
    "\n",
    "def remove_nans(list1, list2, list3):\n",
    "    # Ensure all lists are of the same length\n",
    "    if len(list1) != len(list2) or len(list2) != len(list3):\n",
    "        raise ValueError(\"All lists must have the same length.\")\n",
    "\n",
    "    # Create lists to hold the new values after removing NaNs\n",
    "    filtered_list1 = []\n",
    "    filtered_list2 = []\n",
    "    filtered_list3 = []\n",
    "\n",
    "    # Iterate over the lists and add the corresponding elements if they are not NaN\n",
    "    for i in range(len(list1)):\n",
    "        if not (np.isnan(list1[i]) or np.isnan(list2[i]) or np.isnan(list3[i])):\n",
    "            filtered_list1.append(list1[i])\n",
    "            filtered_list2.append(list2[i])\n",
    "            filtered_list3.append(list3[i])\n",
    "\n",
    "    return filtered_list1, filtered_list2, filtered_list3\n",
    "\n",
    "arr1 = [1, 2, 3, 4, 5, np.nan]\n",
    "arr2 = [np.nan, 2, 3, 8,15, 12]\n",
    "arr3 = [np.nan,5,5,5,np.nan, 12]\n",
    "\n",
    "remove_nans(arr1, arr2, arr3)"
   ]
  }
 ],
 "metadata": {
  "kernelspec": {
   "display_name": "exocore",
   "language": "python",
   "name": "python3"
  },
  "language_info": {
   "codemirror_mode": {
    "name": "ipython",
    "version": 3
   },
   "file_extension": ".py",
   "mimetype": "text/x-python",
   "name": "python",
   "nbconvert_exporter": "python",
   "pygments_lexer": "ipython3",
   "version": "3.12.8"
  }
 },
 "nbformat": 4,
 "nbformat_minor": 2
}
