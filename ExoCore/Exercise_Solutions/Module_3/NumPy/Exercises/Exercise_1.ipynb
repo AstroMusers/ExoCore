{
 "cells": [
  {
   "cell_type": "markdown",
   "metadata": {},
   "source": [
    "## Exercise 1 Solution\n",
    "\n",
    "To help solidify your understanding of `Numpy`, here are some exercises.\n",
    "\n",
    "### Problem 1: Creating an Array in Four Different Ways\n",
    "Generate a 1D array with length 100, starting from 0 in increments of 2, up to 200, in the following ways:\n",
    "- Using a `for` loop, lists, and the `range()` function\n",
    "- Using `np.ones()`\n",
    "- Using `np.linspace`\n",
    "- Using `np.arange`\n",
    "Make sure each dtype is float! Compare the contents of each one using `np.array.all()`, and return `True` if all four are identical."
   ]
  },
  {
   "cell_type": "code",
   "execution_count": 82,
   "metadata": {},
   "outputs": [],
   "source": [
    "import numpy as np\n",
    "\n",
    "##1\n",
    "input_list = []\n",
    "for values in range(0,101):\n",
    "    input_list.append(values*2)\n",
    "arr1 = np.array(input_list,dtype=int)\n",
    "\n",
    "##2\n",
    "arr2 = np.ones(101,dtype = int)\n",
    "for index, values in enumerate(arr2):\n",
    "    arr2[index] *= 2*index\n",
    "    \n",
    "##3\n",
    "arr3 = np.linspace(0, 200, num=101,dtype=int)zz\n",
    "##4\n",
    "arr4 = np.arange(0, 202, step=2, dtype=int)\n",
    "print(arr2, arr3,arr4)\n",
    "## Checks. Since each pair are equal, this means arr1 = arr2 = arr3 = arr4\n",
    "print(np.array_equal(arr1,arr2))\n",
    "print(np.array_equal(arr2, arr3))\n",
    "print(np.array_equal(arr3, arr4))"
   ]
  }
 ],
 "metadata": {
  "kernelspec": {
   "display_name": "exocore",
   "language": "python",
   "name": "python3"
  },
  "language_info": {
   "codemirror_mode": {
    "name": "ipython",
    "version": 3
   },
   "file_extension": ".py",
   "mimetype": "text/x-python",
   "name": "python",
   "nbconvert_exporter": "python",
   "pygments_lexer": "ipython3",
   "version": "3.12.8"
  }
 },
 "nbformat": 4,
 "nbformat_minor": 2
}
