{
 "cells": [
  {
   "cell_type": "markdown",
   "metadata": {},
   "source": [
    "## Exercise 1 Solution\n",
    "\n",
    "*Using `astroquery`, plot the distribution of exoplanets discovered by the [microlensing](https://science.nasa.gov/mission/roman-space-telescope/microlensing/) method across the celestial sphere as a heat map. That is, iterate over a grid of RA/DEC, count the number of micolensing planets in a cone with a radius equal to the size of the grid spacing (e.g., if the grid spacing is 1 degree, search a cone of 1 degrees.) What do you notice? What might explain this distribution? Use matplotlib's `imshow` method to create your plot.*"
   ]
  },
  {
   "cell_type": "markdown",
   "metadata": {},
   "source": [
    "**NOTE: This exercise has many potentially correct solutions! Use the output of this exercise to check your work.\n",
    "\n",
    "\n",
    "Based on the question, we know we will be making a **2D map**, which will involve two `for` loops and making a 'list-of-lists'. The question can be boiled down to compiling a count of targets within a circle of radius the size of the grid spacing, centered on the given FOV."
   ]
  },
  {
   "cell_type": "code",
   "execution_count": 82,
   "metadata": {},
   "outputs": [],
   "source": [
    "import numpy as np\n",
    "\n",
    "##1\n",
    "input_list = []\n",
    "for values in range(0,101):\n",
    "    input_list.append(values*2)\n",
    "arr1 = np.array(input_list,dtype=int)\n",
    "\n",
    "##2\n",
    "arr2 = np.ones(101,dtype = int)\n",
    "for index, values in enumerate(arr2):\n",
    "    arr2[index] *= 2*index\n",
    "    \n",
    "##3\n",
    "arr3 = np.linspace(0, 200, num=101,dtype=int)zz\n",
    "##4\n",
    "arr4 = np.arange(0, 202, step=2, dtype=int)\n",
    "print(arr2, arr3,arr4)\n",
    "## Checks. Since each pair are equal, this means arr1 = arr2 = arr3 = arr4\n",
    "print(np.array_equal(arr1,arr2))\n",
    "print(np.array_equal(arr2, arr3))\n",
    "print(np.array_equal(arr3, arr4))"
   ]
  }
 ],
 "metadata": {
  "kernelspec": {
   "display_name": "exocore",
   "language": "python",
   "name": "python3"
  },
  "language_info": {
   "codemirror_mode": {
    "name": "ipython",
    "version": 3
   },
   "file_extension": ".py",
   "mimetype": "text/x-python",
   "name": "python",
   "nbconvert_exporter": "python",
   "pygments_lexer": "ipython3",
   "version": "3.12.8"
  }
 },
 "nbformat": 4,
 "nbformat_minor": 2
}
