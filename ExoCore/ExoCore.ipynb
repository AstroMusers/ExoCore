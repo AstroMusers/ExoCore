{
 "cells": [
  {
   "cell_type": "markdown",
   "id": "79d80010",
   "metadata": {},
   "source": [
    "# ExoCore"
   ]
  },
  {
   "cell_type": "markdown",
   "id": "c51071d6",
   "metadata": {},
   "source": [
    "## Introduction\n",
    "Welcome to ExoCore! As part of NASA's [Science Core](), ExoCore empowers the next generation of exoplanet scientists through the deployment of an interactive, web-based cirriculum. Organized in modules consisting of Jupyter notebooks, users are guided from the  basics (e.g. exoplanet catalogs), all the way through to advanced data reduction methods (e.g. atmospheric transmission spectroscopy). Additionally, if only some modules are of interest, students can pick-and-choose which are most relevant to them.\n",
    "\n",
    "#### Why ExoCore?\n",
    "The past few decades have lead to extrodinary growth in the exoplanet research landscape, ushering in countless discoveries that have revolutionized our understanding of Earth's place in the universe. This remarkable growth has left little room in developing a 'standard cirriculum' both due the frequency of discoveries as well as the rapid cycling of analysis methods due to improvements in technology and software. Because of this, students wishing to contribute and engage with modern exoplanet routines may feel stranded due to e.g. lack of mentorship or out-of-date resources. ExoCore seeks to circumvent these barriers, so students can begin making meaningful contributions to the field as quickly and efficiently as possible.\n",
    "\n",
    "#### Open Science\n",
    "In brief, open science is the philosophy that products of scientific research (e.g. methods, results, analyses) should be freely and reasonably accessible by anyone. Open science is primarily supported by digital platforms that make this dissemination possible. Some key examples of open science are:\n",
    "- Public GitHub repositories\n",
    "- Open Access scientific journals\n",
    "- Open source data repositories like Zenodo\n",
    "\n",
    "NASA's [OS 101](https://nasa.github.io/Transform-to-Open-Science/take-os101/) is a cirriculum that explores the many use cases, nuances, and applicability of open science. It is strongly encouraged for any scientist, aspiring or current!\n",
    "\n",
    "ExoCore is built on the principle of open science, and as such the resources used and cited are all openly available for anyone to use. Additionally, ExoCore guides users on the 'best practices' of open science and how it can be applied to their research in exoplants, as well as pointers on how they can take advantage of the open science already present in the field. \n",
    "\n",
    "Due to the rapid development and progress in the field, exoplanet research could not function without open science. Engagement with open science techniques like e.g. sharing analysis pipelines, disseminating results in open access journals, and universal access to open databases are key factors in the success in the exoplanet community. ExoCore continues this by exposing users to the most commonly used open access tools and resources, as well as informing how they can align their research with the principles of open science."
   ]
  },
  {
   "cell_type": "markdown",
   "id": "34a84bcf",
   "metadata": {},
   "source": [
    "## Modules"
   ]
  },
  {
   "cell_type": "markdown",
   "id": "9ee86d39",
   "metadata": {},
   "source": [
    "ExoCore is comprised of X modules aimed to compartmentalize the different aspects of exoplanet research. Each module has several  'lessons' which constitute a self-contained, interactive Jupyter notebook on a particular topic. The modules *do not follow a particular order*. Many lessons can stand alone, and those that do not will have all prerequisties clearly stated. Additionally, some modules will have guided activities or assessments to help internalize the content of the lessons. Links to related, but out-of-scope, content will also be provided for the curious student.\n",
    "\n",
    "Some users may be interested in learning a particular analysis method (e.g. the transit method or transmission spectroscopy), that stretch beyond a single lesson but do not require all modules ExoCore. As such, we have compiled some 'sub-cirricula' that list and order lessons to achieve a particular goal [here]()."
   ]
  },
  {
   "cell_type": "markdown",
   "id": "f160cea3",
   "metadata": {},
   "source": [
    "### <ins>Module 1: Data Structures and Analysis Methods\n",
    "\n",
    "Exoplanet research is predominantly performed in the Python coding language, which relies on data structures and methods to efficiently analyze data. While ExoCore is **not** a class in Python, there are several families of data structures and methods that deserve their own lessons for how widely used they are in the field. It is important to note that these lessons are not exhaustive (after all, we are not here to recreate package documentation!), but to highlight important use cases. **Consequently, all lessons in Module 1 assume basic knowledge of Python**.\n",
    "\n",
    "#### Lessons\n",
    "1. [Numpy & Pandas](.\\Data_Structures\\Numpy_Pandas.ipynb)\n",
    "2. [SciPy Methods]()\n",
    "4. [Astropy Data Stuctures + Methods](.\\Data_Structures\\Astropy_Data.ipynb)\n",
    "3. [xarrays](.\\Data_Structures\\xarrays.ipynb)\n",
    "5. []()\n",
    "\n",
    "#### Activities\n",
    "1. [Visualzing Light Curves]()\n",
    "2. [Fitting an Exoplanet Transit]()\n",
    "3. []()\n",
    "\n",
    "##### Further Reading"
   ]
  },
  {
   "cell_type": "markdown",
   "id": "cd810cf4",
   "metadata": {},
   "source": [
    "Open Science Framework (OSF)\n",
    " \n",
    "\n",
    "TrExoLiSTS: Transiting Exoplanets List of Space Telescope Spectroscopy\n",
    "https://www.stsci.edu/~WFC3/trexolists/trexolists.html\n",
    "\n",
    "\n",
    "ExoAtmospheres\n",
    "IAC community database for exoplanet atmospheric observations\n",
    "exoatm@iac.es\n",
    "\n",
    "\n"
   ]
  },
  {
   "cell_type": "markdown",
   "id": "90c59f8c",
   "metadata": {},
   "source": [
    "### <ins>Module 2: Exoplanet Databases\n",
    "Run the code below to find out how many confirmed exoplanets there currently are!"
   ]
  },
  {
   "cell_type": "code",
   "execution_count": 13,
   "id": "7e5a25cc",
   "metadata": {},
   "outputs": [
    {
     "data": {
      "text/markdown": [
       "5626 Confirmed Exoplanets "
      ],
      "text/plain": [
       "<IPython.core.display.Markdown object>"
      ]
     },
     "execution_count": 13,
     "metadata": {},
     "output_type": "execute_result"
    }
   ],
   "source": [
    "from IPython.display import Markdown as md\n",
    "from astroquery.ipac.nexsci.nasa_exoplanet_archive import NasaExoplanetArchive\n",
    "planets = int(NasaExoplanetArchive.query_criteria(table=\"pscomppars\", select=\"count(*)\")[0][0])\n",
    "md(\"%i Confirmed Exoplanets \"%(planets))"
   ]
  },
  {
   "cell_type": "markdown",
   "id": "50b9f90c",
   "metadata": {},
   "source": [
    "The number of confirmed exoplanets has grown exponetially in the past two decades due in large part to transit survey missions like [TESS](https://science.nasa.gov/mission/tess/) and [Kepler](https://science.nasa.gov/mission/kepler/). This increase in data volume has necessitated various exoplanet catalogs to keep track of discovered systems and to maintain the most up-to-date parameters as new research emerges. These catalogs are essential in actualizing research questions, expecially when studying samples with particular parameters. \n",
    "This module will cover the most commonly used catalogs, how to access their data, and the various tools each offers.\n",
    "\n",
    "#### Lessons\n",
    "1. [NASA Exoplanet Archive](.\\Databases\\Exoplanet_Databases.ipynb) ([Website](https://exoplanetarchive.ipac.caltech.edu/index.html))\n",
    "2. [exoplanet.eu]()\n",
    "3. [Open Exoplanet Catalogue](https://www.openexoplanetcatalogue.com)\n",
    "4. TFOP-TESS (Exoplanet Follow-up Observing Program - TESS)\n",
    "5. Exo.MAST API\n",
    "\n",
    "#### Activities\n",
    "1. \n",
    "2. \n",
    "3. \n",
    "\n",
    "##### Further Reading"
   ]
  },
  {
   "cell_type": "markdown",
   "id": "47f125cf",
   "metadata": {},
   "source": [
    "### <ins>Module 3: General Software\n",
    "Exoplanet software is important (!!!). ()\n",
    "\n",
    "**To be completed**\n",
    "\n",
    "#### Lessons\n",
    "1. EMACS\n",
    "2. starry\n",
    "3. EXOSIMS\n",
    "4. Lightkurve\n",
    "5. scikit-learn\n",
    "6. VPlanet\n",
    "7. Astroplan\n",
    "8. ExoCTK\n",
    "\n",
    "#### Activities\n",
    "1. TBD\n",
    "2. TBD\n",
    "\n",
    "\n",
    "##### Further Reading"
   ]
  },
  {
   "cell_type": "markdown",
   "id": "74da4be9",
   "metadata": {},
   "source": [
    "### <ins>Module 4: Data Reduction Software\n",
    "Exoplanet data reduction software is important (!!!). ()\n",
    "\n",
    "**To be completed**\n",
    "\n",
    "#### Lessons\n",
    "1. Batman\n",
    "2. *allesfitter*\n",
    "3. exoplanet\n",
    "4. ExoFAST\n",
    "5. Juliet\n",
    "6. Eureka\n",
    "7. PACMAN\n",
    "\n",
    "#### Activities\n",
    "1. TBD\n",
    "2. TBD\n",
    "\n",
    "\n",
    "##### Further Reading"
   ]
  },
  {
   "cell_type": "markdown",
   "id": "49ccc678",
   "metadata": {},
   "source": [
    "### <ins>Module 5: Data Repositories\n",
    "Exoplanet data repositories are important (!!!). \n",
    "\n",
    "**To be completed**\n",
    "\n",
    "#### Lessons\n",
    "1. Zenodo\n",
    "2. WURD\n",
    "3. MAST\n",
    "4. SIMBAD\n",
    "5. NEID\n",
    "6. Keck Data Archive\n",
    "7. ExoFOP\n",
    "\n",
    "#### Activities\n",
    "1. TBD\n",
    "2. TBD\n",
    "\n",
    "\n",
    "##### Further Reading"
   ]
  },
  {
   "cell_type": "markdown",
   "id": "a44d513a",
   "metadata": {},
   "source": [
    "### <ins>Module 6: Citizen Science\n",
    "Exoplanet citizen science is important (!!!). \n",
    "\n",
    "**To be completed**\n",
    "\n",
    "#### Lessons\n",
    "1. Galaxy Zoo\n",
    "2. Planet Hunters\n",
    "3. Planet Hunters TESS\n",
    "4. Funding Schemes for Citizen Science\n",
    "5. Backyard Worlds\n",
    "\n",
    "#### Activities\n",
    "1. TBD\n",
    "2. TBD\n",
    "\n",
    "\n",
    "##### Further Reading\n",
    "1. http://hzgallery.org"
   ]
  },
  {
   "cell_type": "markdown",
   "id": "a4771077",
   "metadata": {},
   "source": [
    "### Data archives vs data repository? "
   ]
  },
  {
   "cell_type": "markdown",
   "id": "c883e61f",
   "metadata": {},
   "source": [
    "MAST API\n",
    "\n",
    "RV archives\n",
    "Keck\n",
    "HARPS\n",
    "Data on NASA Exoplanet Archive\n"
   ]
  },
  {
   "cell_type": "markdown",
   "id": "e980ebbc",
   "metadata": {},
   "source": [
    "# Collaborations"
   ]
  },
  {
   "cell_type": "markdown",
   "id": "79ce305a",
   "metadata": {},
   "source": [
    "ERS\n",
    "\n",
    "TESS Team\n",
    "\n",
    "Open Astronomy\n",
    "https://openastronomy.org"
   ]
  },
  {
   "cell_type": "markdown",
   "id": "10f26983",
   "metadata": {},
   "source": [
    "## Workshops and summer schools"
   ]
  },
  {
   "cell_type": "code",
   "execution_count": null,
   "id": "4badea23-b793-4d36-badf-faefdda9b2e1",
   "metadata": {},
   "outputs": [],
   "source": [
    "IntrotoAstro, https://sites.google.com/view/intro-2-astro/2023-course"
   ]
  }
 ],
 "metadata": {
  "kernelspec": {
   "display_name": "Python 3",
   "language": "python",
   "name": "python3"
  },
  "language_info": {
   "codemirror_mode": {
    "name": "ipython",
    "version": 3
   },
   "file_extension": ".py",
   "mimetype": "text/x-python",
   "name": "python",
   "nbconvert_exporter": "python",
   "pygments_lexer": "ipython3",
   "version": "3.11.5"
  }
 },
 "nbformat": 4,
 "nbformat_minor": 5
}
