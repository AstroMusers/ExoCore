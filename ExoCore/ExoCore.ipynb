{
 "cells": [
  {
   "cell_type": "markdown",
   "id": "a617e884",
   "metadata": {},
   "source": [
    "# ExoCore"
   ]
  },
  {
   "cell_type": "markdown",
   "id": "c51071d6",
   "metadata": {},
   "source": [
    "ExoCore is part of the Science Core. It consists of N jupyter notebooks."
   ]
  },
  {
   "cell_type": "markdown",
   "id": "da0fd919-e6c8-405d-bd27-2d4710bb411c",
   "metadata": {},
   "source": [
    "the importance of openly sharing exoplanet data, including transit light curves, radial velocity, and planetary parameters."
   ]
  },
  {
   "cell_type": "markdown",
   "id": "7d604c4e",
   "metadata": {},
   "source": [
    "how open science principles can benefit exoplanet research."
   ]
  },
  {
   "cell_type": "markdown",
   "id": "9ee86d39",
   "metadata": {},
   "source": [
    "# Data structures"
   ]
  },
  {
   "cell_type": "markdown",
   "id": "f160cea3",
   "metadata": {},
   "source": [
    "xarrays, pandas data frame"
   ]
  },
  {
   "cell_type": "markdown",
   "id": "cd810cf4",
   "metadata": {},
   "source": [
    "Open Science Framework (OSF)\n",
    " \n",
    "\n",
    "TrExoLiSTS: Transiting Exoplanets List of Space Telescope Spectroscopy\n",
    "https://www.stsci.edu/~WFC3/trexolists/trexolists.html\n",
    "\n",
    "\n",
    "ExoAtmospheres\n",
    "IAC community database for exoplanet atmospheric observations\n",
    "exoatm@iac.es\n",
    "\n",
    "\n"
   ]
  },
  {
   "cell_type": "markdown",
   "id": "10f26983",
   "metadata": {},
   "source": [
    "# Workshops and summer schools"
   ]
  },
  {
   "cell_type": "markdown",
   "id": "47f125cf",
   "metadata": {},
   "source": [
    "# Software"
   ]
  },
  {
   "cell_type": "markdown",
   "id": "9a8714d1",
   "metadata": {},
   "source": [
    "EMACS\n",
    "\n",
    "starry\n",
    "\n",
    "EXOSIMS (Exoplanet Open-Source Imaging Mission Simulator)"
   ]
  },
  {
   "cell_type": "markdown",
   "id": "2f052e72",
   "metadata": {},
   "source": [
    "Lightkurve"
   ]
  },
  {
   "cell_type": "markdown",
   "id": "74da4be9",
   "metadata": {},
   "source": [
    "Batman, exoCTK, Radvel, scikit-learn"
   ]
  },
  {
   "cell_type": "markdown",
   "id": "0129b76a",
   "metadata": {},
   "source": [
    "VPLanet: The Virtual Planet Simulator"
   ]
  },
  {
   "cell_type": "markdown",
   "id": "137e25bd",
   "metadata": {},
   "source": [
    "Astroplan\n",
    "https://astroplan.readthedocs.io/en/latest/"
   ]
  },
  {
   "cell_type": "markdown",
   "id": "0ec09cdd",
   "metadata": {},
   "source": [
    "ExoFAST (Eastman et al.), Juliet, Allesfitter, exoplanet"
   ]
  },
  {
   "cell_type": "markdown",
   "id": "4d5b2bd6",
   "metadata": {},
   "source": [
    "showyourwork"
   ]
  },
  {
   "cell_type": "markdown",
   "id": "6aef8be7-d6ab-4192-a3d9-018b9f8d10ac",
   "metadata": {},
   "source": [
    "Training materials"
   ]
  },
  {
   "cell_type": "code",
   "execution_count": null,
   "id": "4badea23-b793-4d36-badf-faefdda9b2e1",
   "metadata": {},
   "outputs": [],
   "source": [
    "IntrotoAstro, https://sites.google.com/view/intro-2-astro/2023-course"
   ]
  },
  {
   "cell_type": "markdown",
   "id": "49ccc678",
   "metadata": {},
   "source": [
    "# Data repositories"
   ]
  },
  {
   "cell_type": "markdown",
   "id": "c5661bcf",
   "metadata": {},
   "source": [
    "Zenodo\n",
    "WURD\n",
    "\n",
    "ExoCTK\n",
    "https://exoctk.stsci.edu/atmospheric_retrievals\n",
    "    \n",
    "https://arxiv.org/abs/2303.12925\n",
    "    "
   ]
  },
  {
   "cell_type": "markdown",
   "id": "a44d513a",
   "metadata": {},
   "source": [
    "# Citizen Science"
   ]
  },
  {
   "cell_type": "markdown",
   "id": "0c5bf924",
   "metadata": {},
   "source": [
    "https://exoplanets.nasa.gov/citizen-science/\n",
    "\n",
    "Galaxy zoo\n",
    "https://www.zooniverse.org/projects/zookeeper/galaxy-zoo/\n",
    "Planet Hunters\n",
    "Planet Hunters TESS\n",
    "Funding schemes for citizen science\n",
    "Backyard Worlds\n",
    "\n",
    "sophiaacker\n"
   ]
  },
  {
   "cell_type": "markdown",
   "id": "90c59f8c",
   "metadata": {},
   "source": [
    "# Exoplanet Databases"
   ]
  },
  {
   "cell_type": "markdown",
   "id": "805aeb71",
   "metadata": {},
   "source": [
    "NASA Exoplanet Archive\n",
    "\n",
    "exoplanet.eu\n",
    "\n",
    "Open Exoplanet Catalogue\n",
    "https://www.openexoplanetcatalogue.com\n",
    "\n",
    "TFOP-TESS (Exoplanet Follow-up Observing Program - TESS)\n",
    "\n",
    "Exo.MAST API\n",
    "\n",
    "Open Astronomy\n",
    "https://openastronomy.org\n"
   ]
  },
  {
   "cell_type": "markdown",
   "id": "7cefd420-7fe9-45af-a35d-0ff6498c0273",
   "metadata": {},
   "source": [
    "http://hzgallery.org"
   ]
  },
  {
   "cell_type": "markdown",
   "id": "a4771077",
   "metadata": {},
   "source": [
    "# Data archives"
   ]
  },
  {
   "cell_type": "markdown",
   "id": "c883e61f",
   "metadata": {},
   "source": [
    "MAST API\n",
    "\n",
    "RV archives\n",
    "Keck\n",
    "HARPS\n",
    "Data on NASA Exoplanet Archive\n"
   ]
  },
  {
   "cell_type": "markdown",
   "id": "e980ebbc",
   "metadata": {},
   "source": [
    "# Collaborations"
   ]
  },
  {
   "cell_type": "markdown",
   "id": "79ce305a",
   "metadata": {},
   "source": [
    "ERS\n",
    "TESS Team"
   ]
  },
  {
   "cell_type": "code",
   "execution_count": null,
   "id": "d391f1f0",
   "metadata": {},
   "outputs": [],
   "source": []
  }
 ],
 "metadata": {
  "kernelspec": {
   "display_name": "Python 3",
   "language": "python",
   "name": "python3"
  },
  "language_info": {
   "codemirror_mode": {
    "name": "ipython",
    "version": 3
   },
   "file_extension": ".py",
   "mimetype": "text/x-python",
   "name": "python",
   "nbconvert_exporter": "python",
   "pygments_lexer": "ipython3",
   "version": "3.7.1"
  }
 },
 "nbformat": 4,
 "nbformat_minor": 5
}
