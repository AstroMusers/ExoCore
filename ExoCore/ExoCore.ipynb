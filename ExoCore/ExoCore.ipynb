{
 "cells": [
  {
   "cell_type": "markdown",
   "id": "79d80010",
   "metadata": {},
   "source": [
    "# **ExoCore**"
   ]
  },
  {
   "cell_type": "markdown",
   "id": "c51071d6",
   "metadata": {},
   "source": [
    "## **Introduction**\n",
    "Welcome to ExoCore! As part of NASA's [Science Core](https://www.nasa.gov/centers-and-facilities/marshall/nasa-boosts-open-science-through-innovative-training/), ExoCore empowers the next generation of exoplanet scientists through the deployment of an interactive, web-based curriculum. Organized in modules consisting of Jupyter notebooks, users are guided from the basic tools of exoplanet research (e.g. exoplanet [catalogs](#module-1-exoplanet-catalogs)), all the way through to advanced data reduction methods (e.g. [atmospheric transmission spectroscopy](https://www.esa.int/ESA_Multimedia/Images/2023/03/Transmission_spectroscopy)). Additionally, if only some modules are of interest, students can pick-and-choose which are most relevant to them.\n",
    "\n",
    "#### **Why ExoCore?**\n",
    "The past few decades have led to extraordinary growth in the exoplanet research landscape, ushering in countless discoveries that have revolutionized our understanding of Earth's place in the universe. This remarkable growth has left little room in developing a 'standard curriculum' both due the frequency of discoveries and the rapid cycling of analysis methods due to improvements in technology and software. Because of this, students wishing to contribute and engage with modern exoplanet routines may feel stranded due to e.g. lack of mentorship or out-of-date resources. ExoCore seeks to circumvent these barriers, so students can begin making meaningful contributions to the field as quickly and efficiently as possible.\n",
    "\n",
    "#### **Open Science**\n",
    "In brief, [open science](https://science.nasa.gov/researchers/open-science/) is the philosophy that products of scientific research (e.g. methods, results, analyses) should be freely and reasonably accessible by anyone. Open science is primarily supported by digital platforms that make this dissemination possible. Some key examples of open science are:\n",
    "- Public [GitHub](https://github.com/) repositories\n",
    "- Open Access scientific journals\n",
    "- Open source data repositories like [Zenodo](https://zenodo.org/)\n",
    "\n",
    "NASA's [OS 101](https://nasa.github.io/Transform-to-Open-Science/take-os101/) is a curriculum that explores the many use cases, nuances, and applicability of open science. It is strongly encouraged for any scientist, aspiring or current!\n",
    "\n",
    "ExoCore is built on the principle of open science, and as such the resources used and cited are all openly available for anyone to use. Additionally, ExoCore guides users on the 'best practices' of open science and how it can be applied to their research in exoplanets, as well as pointers on how they can take advantage of the open science already present in the field. \n",
    "\n",
    "Due to the rapid development and progress in the field, exoplanet research could not function without open science. Engagement with open science techniques like e.g. sharing analysis pipelines, disseminating results in open access journals, and universal access to open databases are key factors in the success in the exoplanet community. ExoCore continues this by exposing users to the most commonly used open access tools and resources, as well as informing how they can align their research with the principles of open science."
   ]
  },
  {
   "cell_type": "markdown",
   "id": "34a84bcf",
   "metadata": {},
   "source": [
    "## **Modules**"
   ]
  },
  {
   "cell_type": "markdown",
   "id": "9ee86d39",
   "metadata": {},
   "source": [
    "ExoCore comprises seven modules aimed to compartmentalize the different aspects of exoplanet research and the exoplanet community. Each module has several 'lessons' which constitute a self-contained, interactive Jupyter notebook on a particular topic. The modules *do not follow a particular order*. Many lessons can stand alone, and those that do not will have all prerequisites clearly stated. Additionally, some modules will have guided activities or assessments to help internalize the content of the lessons. Links to related, but out-of-scope, content will also be provided for the curious user.\n",
    "\n",
    "Some users may be interested in learning a particular analysis method (e.g. the transit method or transmission spectroscopy), that stretch beyond a single lesson but do not require all modules ExoCore. As such, we have compiled some 'sub-curricula' that list and order lessons to achieve a particular goal [here]()."
   ]
  },
  {
   "cell_type": "markdown",
   "id": "90c59f8c",
   "metadata": {},
   "source": [
    "### **Module 1: Exoplanet Catalogs**\n",
    "First, run the code below to find out how many confirmed exoplanets there currently are!"
   ]
  },
  {
   "cell_type": "code",
   "execution_count": 1,
   "id": "7e5a25cc",
   "metadata": {},
   "outputs": [
    {
     "data": {
      "text/markdown": [
       "5811 Confirmed Exoplanets "
      ],
      "text/plain": [
       "<IPython.core.display.Markdown object>"
      ]
     },
     "execution_count": 1,
     "metadata": {},
     "output_type": "execute_result"
    }
   ],
   "source": [
    "from IPython.display import Markdown as md\n",
    "from astroquery.ipac.nexsci.nasa_exoplanet_archive import NasaExoplanetArchive\n",
    "planets = int(NasaExoplanetArchive.query_criteria(table=\"pscomppars\", select=\"count(*)\")[0][0])\n",
    "md(\"%i Confirmed Exoplanets \"%(planets))"
   ]
  },
  {
   "cell_type": "markdown",
   "id": "50b9f90c",
   "metadata": {},
   "source": [
    "The number of confirmed exoplanets has grown exponentially in the past two decades due in large part to transit survey missions like [TESS](https://science.nasa.gov/mission/tess/) and [Kepler](https://science.nasa.gov/mission/kepler/). This increase in data volume has necessitated various exoplanet catalogs to keep track of discovered systems and to maintain the most up-to-date parameters as new research emerges. These catalogs are essential in actualizing research questions, especially when studying systems with particular parameters. \n",
    "\n",
    "#### **Intended Learning Outcomes**\n",
    "\n",
    "*By completing the contents of this module, you should:*\n",
    "\n",
    "* **be familiar with the commonly used exoplanet catalogs.**\n",
    "* **how to use and access the data they host.**\n",
    "* **be able to programmatically download and manipulate catalog data.**\n",
    "* **be familiar with common use cases.**\n",
    "* **the various tools each website or package offers.**\n",
    "\n",
    "#### **Lessons**\n",
    "1. [NASA Exoplanet Archive](./Curriculum/Catalogs/NEA.ipynb) ([Website](https://exoplanetarchive.ipac.caltech.edu/index.html))\n",
    "2. [exoplanet.eu]() ([Website](https://exoplanetarchive.ipac.caltech.edu/index.html))\n",
    "3. [Open Exoplanet Catalogue]() ([Website](https://www.openexoplanetcatalogue.com))\n",
    "4. [ExoFOP]() ([Website](https://exofop.ipac.caltech.edu/tess/))\n",
    "5. [Exo.MAST]() ([Website](https://exo.mast.stsci.edu/))\n",
    "6. [SIMBAD]() ([Website](https://simbad.u-strasbg.fr/simbad/sim-basicIdent=m33&submit=SIMBAD+search))\n",
    "7. [HARPS Catalog]() ([Website](https://archive.eso.org/scienceportal/home?data_collection=HARPS&dp_type=CATALOG))\n",
    "\n",
    "#### **Activities**\n",
    "1. TBD\n",
    "2. TBD\n",
    "3. TBD\n",
    "\n",
    "##### Further Reading"
   ]
  },
  {
   "cell_type": "markdown",
   "id": "49ccc678",
   "metadata": {},
   "source": [
    "### **Module 2: Data Repositories**\n",
    "Exoplanet related data is hosted on a handful of data repositories, most of which either have web-based interfaces or code-based querying. This module will guide you through the most commonly used data repositories, how to access the different types of data, and go through best practices when dealing with large volumes of files.\n",
    "\n",
    "#### **Intended Learning Outcomes**\n",
    "\n",
    "*By completing the contents of this module, you should:*\n",
    "\n",
    "* **be familiar with the commonly used exoplanet repositories.**\n",
    "* **how to use and access the data they host.**\n",
    "* **be able to programmatically download data from exoplanet repositories.**\n",
    "* **be familiar with the instruments and data types hosted on the repositories.**\n",
    "* **the various tools each website offers.**\n",
    "\n",
    "#### **Lessons**\n",
    "1. [MAST](./Curriculum/Data_Repositories/MAST.ipynb) ([Website](https://archive.stsci.edu/))\n",
    "2. [Zenodo]() ([Website](https://zenodo.org/))\n",
    "3. [NEID Archive]() ([Website](https://neid.ipac.caltech.edu/search.php))\n",
    "4. [Keck Data Archive]() ([Website](https://koa.ipac.caltech.edu/cgi-bin/KOA/nph-KOAlogin))\n",
    "5. [ExoFOP]() ([Website](https://exofop.ipac.caltech.edu/tess/))\n",
    "6. [HARPS Archive]() ([Website](https://archive.eso.org/scienceportal/home?data_collection=HARPS&dp_type=CATALOG))\n",
    "6. [WURD]() ([Website](https://data.library.wustl.edu/))\n",
    "\n",
    "#### **Activities**\n",
    "1. TBD\n",
    "2. TBD\n",
    "\n",
    "\n",
    "##### **Further Reading**"
   ]
  },
  {
   "cell_type": "markdown",
   "id": "f160cea3",
   "metadata": {},
   "source": [
    "### **Module 3: Data Structures and Analysis Methods**\n",
    "\n",
    "Exoplanet research is predominantly performed in the Python coding language, which relies on data structures and methods to efficiently analyze data. While ExoCore is **not** a class in Python, there are several families of data structures and methods that deserve their own lessons for how widely used they are in the field. It is important to note that these lessons are not exhaustive (after all, we are not here to recreate package documentation!), but to highlight important use cases. **Consequently, all lessons in Module 1 assume basic knowledge of Python**.\n",
    "\n",
    "#### **Intended Learning Outcomes**\n",
    "\n",
    "*By completing the contents of this module, you should:*\n",
    "\n",
    "* **be familiar with common data structures used in exoplanet research.**\n",
    "* **know how to use data structures in the context of research problems.**\n",
    "* **be able to analyze and derive relevant quantities as it pertains to imported data sets.**\n",
    "* **be familiar with the tools and methods that each data structure has available.**\n",
    "* **know what analysis methods are available in each package.**\n",
    "\n",
    "#### **Lessons**\n",
    "1. [Numpy](./Curriculum/Data_Structures/Numpy.ipynb)\n",
    "2. [Pandas](./Curriculum/Data_Structures/Pandas.ipynb)\n",
    "3. [SciPy Methods](./Curriculum/Data_Structures/Scipy.ipynb)\n",
    "4. [Astropy Data Structures + Methods](./Curriculum/Data_Structures/Astropy_Data.ipynb)\n",
    "5. [xarrays](./Curriculum/Data_Structures/xarrays.ipynb)\n",
    "6. [scikit-learn methods]()\n",
    "\n",
    "#### **Activities**\n",
    "1. [Visualizing Light Curves]()\n",
    "2. [Fitting an Exoplanet Transit]()\n",
    "\n",
    "##### **Further Reading**"
   ]
  },
  {
   "cell_type": "markdown",
   "id": "47f125cf",
   "metadata": {},
   "source": [
    "### **Module 4: Utility Software**\n",
    "Over the years, the exoplanet community has built and maintained dozens of Python packages intended to aid in various research tasks. This includes tools to help [plan exoplanet observations](), [simulate exoplanet atmospheres](), and Python classes to more easily work with and analyze certain types of data products (e.g. [light curves]()). The lessons below give a non-exhaustive overview of the utility-based Python packages used most commonly in the field. These packages can aid in e.g. smoothing workflows, planning observations, formulating predictions, and visualizing system geometries.\n",
    "\n",
    "#### **Intended Learning Outcomes**\n",
    "\n",
    "*By completing the contents of this module, you should:*\n",
    "\n",
    "* **be familiar with the utility packages outlined below.**\n",
    "* **know the basic functionality and use cases of each tool and how it applies to exoplanet research.**\n",
    "* **be able to program basic methods to achieve particular work flows or outcomes.**\n",
    "* **navigate the documentation or website for each tool for further functionality.**\n",
    "* **be able to adapt these tools as part of larger pipelines or scripts.**\n",
    "\n",
    "#### **Lessons**\n",
    "1. [astroquery]() ([Documentation](https://astroquery.readthedocs.io/en/latest/index.html))\n",
    "2. [BayesicFitting]() ([Website](https://bayesicfitting.nl/))\n",
    "3. [Lightkurve](./Curriculum/Data_Analysis_and_Modeling_Software/PACMAN.ipynb) ([GitHub](https://github.com/lightkurve/lightkurve))\n",
    "5. [VPlanet]() ([GitHub](https://github.com/VirtualPlanetaryLaboratory/vplanet))\n",
    "6. [Astroplan]() ([GitHub](https://github.com/astropy/astroplan))\n",
    "7. [ExoCTK]() ([GitHub](https://github.com/ExoCTK/exoctk))\n",
    "\n",
    "#### **Activities**\n",
    "1. TBD\n",
    "2. TBD\n",
    "\n",
    "\n",
    "##### Further Reading"
   ]
  },
  {
   "cell_type": "markdown",
   "id": "74da4be9",
   "metadata": {},
   "source": [
    "### **Module 5: Data Reduction and Modeling Software**\n",
    "Data reduction is the process of taking a raw data output (e.g. Hubble images) and reducing it down to a few important parameters (e.g. transmission spectra). These reduction pipelines are meant to streamline otherwise intractable processes for an individual wanting to use the most current analysis methods in the field. Despite how useful and time-saving these pipelines are, it is not always obvious to a new user what (or why) routines are being implemented. This can lead to issues in troubleshooting, interpretation in results, and a knowledge gap on how results are derived. This module of ExoCore outlines common data reduction packages, with an emphasis on the transparency of steps being taken to reduce the data. Each lesson will also go through example(s) with real data to help practice each routine.\n",
    "\n",
    "**Before diving into the lessons, learn about creating [Conda Environments](https://conda.io/projects/conda/en/latest/user-guide/getting-started.html) for each pipeline. Since each pipeline has their own set of dependencies (which may depend on specific versions of packages!), the ability to compartmentalize each workspace by generating a new environment helps with workflow organization.**\n",
    "\n",
    "#### **Intended Learning Outcomes**\n",
    "\n",
    "*By completeing the contents of this module, you should:*\n",
    "\n",
    "* **be familiar with the commonly used data reduction and modeling software packages in exoplanet research.**\n",
    "* **be able to complete the pipeline from start to finish with tutorial data.**\n",
    "* **be familiar with common debugging routines that may arise during use.**\n",
    "* **understand at a basic level what each step in the software is doing to the data, and why it is important.**\n",
    "* **be able to implement or use these software packages on similar data.**\n",
    "\n",
    "#### **Lessons**\n",
    "1. [Batman]() ([GitHub](https://github.com/lkreidberg/batman))\n",
    "2. [Allesfitter]() ([GitHub](https://github.com/MNGuenther/allesfitter))\n",
    "3. [exoplanet]() ([GitHub](https://github.com/exoplanet-dev/exoplanet))\n",
    "4. [ExoFAST]() ([Website](https://exoplanetarchive.ipac.caltech.edu/docs/exofast/exofast_access.html))\n",
    "5. [Juliet]() ([GitHub](https://github.com/nespinoza/juliet))\n",
    "6. [Eureka!]() ([GitHub](https://github.com/kevin218/Eureka))\n",
    "7. [PACMAN](./Curriculum/Data_Analysis_and_Modeling_Software/PACMAN.ipynb) ([GitHub](https://github.com/sebastian-zieba/PACMAN))\n",
    "8. [EXOSIMS]() ([GitHub](https://github.com/dsavransky/EXOSIMS))\n",
    "9. [starry]() ([GitHub](https://github.com/rodluger/starry))\n",
    "\n",
    "#### **Activities**\n",
    "1. TBD\n",
    "2. TBD\n",
    "\n",
    "\n",
    "##### **Further Reading**"
   ]
  },
  {
   "cell_type": "markdown",
   "id": "a44d513a",
   "metadata": {},
   "source": [
    "### **Module 6: Citizen Science**\n",
    "Citizen science is the process in which data is analyzed or vetted by the public to conduct some research task. There is a long-standing history with citizen science projects in exoplanet research, with the most notable being [Planet Hunters](), in which time series photometry from the Kepler mission was hosted online, and users were asked to vet whether an exoplanet transit was present or not. The success of this program has inspired similar projects in astronomy. Each lesson gives a brief history of the structure, deployment, and outcomes for various citizen science programs, as well as other logistical aspects of how citizen science programs are able to run and function. Knowledge and engagement with these programs can inspire creative and useful ways in which the public can contribute to science as a whole, and is an excellent example of the success of the open science philosophy.\n",
    "\n",
    "#### **Intended Learning Outcomes**\n",
    "\n",
    "*By completing the contents of this module, you should:*\n",
    "\n",
    "* **be familiar with the established citizen science projects in astronomy.**\n",
    "* **know what types of problems are suitable for citizen engagement.**\n",
    "* **know the limitations and advantages of citizen science.**\n",
    "* **understand how citizen science projects are structured and funded.**\n",
    "* **the broader impact citizen science has beyond achieving a research goal.**\n",
    "\n",
    "#### **Lessons**\n",
    "1. [Zooniverse](./Curriculum/Citizen_Science/The_Zooniverse.ipynb) ([Website](https://www.zooniverse.org/))\n",
    "2. [Galaxy Zoo](./Curriculum/Citizen_Science/Galaxy_Zoo.ipynb) ([Website](https://www.zooniverse.org/projects/zookeeper/galaxy-zoo/))\n",
    "3. [Planet Hunters]() (Retired: [Project Information](http://exoplanets.astro.yale.edu/science/citizenscience.php))\n",
    "4. [Planet Hunters TESS](./Curriculum/Citizen_Science/Planet_Hunters_TESS.ipynb) ([Website](https://www.zooniverse.org/projects/nora-dot-eisner/planet-hunters-tess))\n",
    "5. [Funding Schemes for Citizen Science](./Curriculum/Citizen_Science/Funding_Schemes_for_Citizen_Science.ipynb) ([Website]())\n",
    "6. [Backyard Worlds](./Curriculum/Citizen_Science/Backyard_Worlds.ipynb) ([Website]())\n",
    "\n",
    "#### Activities\n",
    "1. TBD\n",
    "2. TBD\n",
    "\n",
    "\n",
    "##### Further Reading\n",
    "1. http://hzgallery.org"
   ]
  },
  {
   "cell_type": "markdown",
   "id": "e980ebbc",
   "metadata": {},
   "source": [
    "### **Module 7: The Exoplanet Community, Collaborations, and Further Education**\n",
    "The exoplanet community has many avenues for interaction, including collaborations, workshops, conferences, fellowships, and summer schools. This module aims to highlight these resources and opportunities in a series of informational notebooks so that these opportunities are readily accessible to the user. This module is purely informative! No need to practice how to fill in a registration form!\n",
    "\n",
    "#### **Intended Learning Outcomes**\n",
    "\n",
    "*By completeing the contents of this module, you should:*\n",
    "\n",
    "* **be familiar with the events, projects, and opportunities in the exoplanet community.**\n",
    "\n",
    "#### 1. **Conferences/Meetings** ([exoplanet.eu event listing](https://exoplanet.eu/meetings/future/))\n",
    "&emsp;1.1 [American Astronomical Society Meeting (AAS)](https://aas.org/meetings/aas244)\n",
    "        \n",
    "&emsp;1.2 [Exoplanet V](https://exoplanets5.org/)\n",
    "\n",
    "&emsp;1.3 [Cool Stars](https://coolstars22.github.io/)\n",
    "\n",
    "&emsp;1.4 [TESS Science Conference](https://tsc.mit.edu/)\n",
    "\n",
    "#### 2. **Workshops and Summer Schools**\n",
    "&emsp;2.1 [Sagan Summer Workshop](https://nexsci.caltech.edu/workshop/2024/)\n",
    "\n",
    "&emsp;2.2 [Other Worlds Laboratory (OWL)](https://owl.ucsc.edu/)\n",
    "\n",
    "&emsp;2.3 [Code/Astro](https://semaphorep.github.io/codeastro/)\n",
    "\n",
    "&emsp;2.4 [The Geoscience of Exoplanets: Going Beyond Habitability](https://workshops.issibern.ch/geoscience-exoplanets/)\n",
    "\n",
    "#### 3. **Collaborations**"
   ]
  }
 ],
 "metadata": {
  "kernelspec": {
   "display_name": "exocore",
   "language": "python",
   "name": "python3"
  },
  "language_info": {
   "codemirror_mode": {
    "name": "ipython",
    "version": 3
   },
   "file_extension": ".py",
   "mimetype": "text/x-python",
   "name": "python",
   "nbconvert_exporter": "python",
   "pygments_lexer": "ipython3",
   "version": "3.12.8"
  }
 },
 "nbformat": 4,
 "nbformat_minor": 5
}
