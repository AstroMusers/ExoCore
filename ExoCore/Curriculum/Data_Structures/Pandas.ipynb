{
 "cells": [
  {
   "cell_type": "markdown",
   "metadata": {},
   "source": [
    "# [pandas](https://pandas.pydata.org/docs/reference/index.html)\n",
    "\n",
    "## Table of Contents\n",
    "- [Introduction](#introduction)\n",
    "- [Overview](#overview)\n",
    "- [Series](#series)\n",
    "    - [Basic Properties](#basic-properites)\n",
    "    - [Series Methods](#series-methods)\n",
    "    - [Example: Looking at Exoplanet Inclination Distributions](#example-looking-at-exoplanet-inclination-distributions)\n",
    "- [DataFrames](#dataframes)\n",
    "    - [Basic Properties](#basic-properties)\n",
    "    - [Navigating DataFrames Using .loc and .iloc](#navigating-dataframes-using-.loc-and-.iloc)\n",
    "    - [Importing and Exporting Data](#importing-and-exporting-data)\n",
    "- [Exercises]()\n",
    "    - [Problem 1: The Basics](#problem-1---the-basics)\n",
    "    - [Problem 2: Plotting](#problem-2---plotting)\n",
    "    - [Problem 3: Searching for Habitability](#problem-3---searching-for-habitability)"
   ]
  },
  {
   "cell_type": "markdown",
   "id": "2c5cd3f3",
   "metadata": {},
   "source": [
    "## Introduction <a name=\"introduction\"></a>\n",
    "\n",
    "The way we control, manipulate, and analyze data is an important process across all scientific disciplines. Exoplanet research is no different. The astronomical community has generally rallied behind **Python** (if you couldn't already tell from our use of Jupyter notebooks!) as the primary language for developing new data structures, computational methods, and robust analytical packages. These are amazing tools, but using them efficiently requries a solid foundation. This lesson gives a brief overview of the important capabilities behind `Pandas`, some interactive activities to visualize data, and how they are used in Exoplanet research.\n",
    "\n",
    " <div class=\"alert alert-block alert-warning\">\n",
    "\n",
    "**IMPORTANT**: If you have limited exposure or practice with Python as a language, it is encouraged to get an understanding of basic syntax and proper use of variables. [Here](https://programming-23.mooc.fi/) is a self-paced, free course offered by the University of Helsinki that covers most of the important concepts in the first few modules."
   ]
  },
  {
   "cell_type": "markdown",
   "id": "86340312",
   "metadata": {},
   "source": [
    "## Overview\n",
    "\n",
    "`pandas` is a Python suite for data manipulation and analysis, with the primary data structures being `Series` and `DataFrames`. Both `Series` and `DataFrames` are similar to 1D and 2D `Numpy` arrays, respectively, but support a broader range of functionality at the cost of more complex syntax. By the end of this lesson, you should be able to:\n",
    "- **Create, manipulate, and analyze data using `DataFrames` and `Series`**\n",
    "- **Use `pandas` to import and export various types of data**\n",
    "- **Visualize and interpret different types of data using `pandas` methods**\n",
    "\n",
    "[Here](https://pandas.pydata.org/docs/user_guide/index.html) is the official documentation for `pandas`!\n",
    "\n",
    "To start, we generally import both `Numpy` and `pandas` simultanously."
   ]
  },
  {
   "cell_type": "code",
   "execution_count": 3,
   "id": "82173042",
   "metadata": {},
   "outputs": [],
   "source": [
    "import numpy as np\n",
    "import pandas as pd"
   ]
  },
  {
   "cell_type": "markdown",
   "id": "9a0d31cd",
   "metadata": {},
   "source": [
    "## Series\n",
    "[Here](https://pandas.pydata.org/docs/reference/series.html) is the official documentation for `Series`.\n",
    "### Basic Properties\n",
    "`Series` are 1D data structures which are very similar to 1D `Numpy` arrays, with a few key differences. `Series`:\n",
    "- Can store mixed data types\n",
    "- Are size immutable (fixed size when created), value mutable (elements can change)\n",
    "- Are indexed, and custom indexes can be passed\n",
    "- Can do operations between different `Series`, which do **not** need to be the same size\n",
    "We can explore basic properties in the code below.\n",
    "\n",
    " <div class=\"alert alert-block alert-info\">\n",
    " \n",
    "**INFO**: There will be a lot of code output. If you want to keep your notebook tidy, click on the output box and click the 'O' (the letter, not '0') key to collapse the output box down without clearing your accumulated variables. "
   ]
  },
  {
   "cell_type": "code",
   "execution_count": 4,
   "id": "444b8fba",
   "metadata": {},
   "outputs": [
    {
     "name": "stdout",
     "output_type": "stream",
     "text": [
      "0       0\n",
      "1     0.1\n",
      "2     0.4\n",
      "3     0.7\n",
      "4      10\n",
      "5     100\n",
      "6    Test\n",
      "dtype: object \n",
      "\n",
      "100 \n",
      " 4      10\n",
      "5     100\n",
      "6    Test\n",
      "dtype: object \n",
      "\n",
      "Identical index \n",
      "\n",
      "1 2 100 \n",
      "\n",
      "Cannot use default index if integers are assigned as a custom index!\n",
      "a         15\n",
      "b        Exo\n",
      "c    Planets\n",
      "d        100\n",
      "dtype: object \n",
      "\n",
      "0         15\n",
      "1        Exo\n",
      "2    Planets\n",
      "3        100\n",
      "dtype: object\n"
     ]
    }
   ],
   "source": [
    "\n",
    "#Construct the Series by calling the function and bulding a list inside\n",
    "data = pd.Series([0, 0.1, 0.4, 0.7, 10, 100, 'Test'])\n",
    "print(data, '\\n')\n",
    "#Note the two columns when printed: the first is the index column, the second is our series. \n",
    "#See how we can have ints, floats, and strings!\n",
    "\n",
    "#Can be indexed and sliced\n",
    "print(data[5], '\\n', data[4:], '\\n')\n",
    "\n",
    "#Can customize the indices and call that index to get the corresponding values\n",
    "#Similar to the key:value structure of Python dictionaries. This does *not* overwrite \n",
    "#the default indexing (e.g. 0, 1, 2, 3) *unless* you use integers in your custom index.\n",
    "indexed_data = pd.Series([15, 'Exo', 'Planets', 100], index=['a', 'b', 'c', 'd'])\n",
    "if indexed_data[0] == indexed_data['a']:\n",
    "    print('Identical index', '\\n')\n",
    "else:\n",
    "    print('Not identical')\n",
    "\n",
    "#You can also construct Series with custom indices by passing a dictionary.\n",
    "#Note: If you set a custom index in the pd.Series function, it will *overwrite* the dictionary keys.\n",
    "example_dict = dict({'a': 1, 'b':2, 'c':100})\n",
    "ser = pd.Series(data = example_dict)\n",
    "print(ser['a'], ser['b'], ser[2], '\\n')\n",
    "\n",
    "#Can't use normal indexing if passed index contains an integer UNLESS you use the .iloc function\n",
    "indexed_data2 = pd.Series([15, 'Exo', 'Planets', 100], index=[1, 'b', 'c', 'd'])\n",
    "try:\n",
    "    if indexed_data2[0] == indexed_data2[1]:\n",
    "        print('Identical Index')\n",
    "    else:\n",
    "        print('Not identical')\n",
    "except KeyError:\n",
    "    print('Cannot use default index if integers are assigned as a custom index!')\n",
    "\n",
    "#If you want to change the index of a Series, use Series.reindex\n",
    "#You can also reset the index to the default by using Series.reset_index\n",
    "indexed_data.reindex(index=['a', 'b', 'c', 'd'])\n",
    "print(indexed_data, '\\n')\n",
    "reset_data = indexed_data.reset_index(drop = True)\n",
    "print(reset_data)\n"
   ]
  },
  {
   "cell_type": "markdown",
   "id": "cbfac058",
   "metadata": {},
   "source": [
    "### Series Methods\n",
    "Now that we see how `Series` stack up to Python lists, dicts, and `Numpy` arrays for their basic syntax, we will highlight some methods available to `Series`. [This page](https://pandas.pydata.org/docs/reference/api/pandas.Series.html#pandas.Series) contains all available methods for `Series`, some of which will be highlighted below.\n",
    "\n",
    " <div class=\"alert alert-block alert-info\">\n",
    "\n",
    "**INFO**: There will be a lot of code output. If you want to keep your notebook tidy, click on the output box and click the 'O' (the letter, not '0') key to collapse the output box down without clearing your accumulated variables. "
   ]
  },
  {
   "cell_type": "code",
   "execution_count": 5,
   "id": "6a5ad938",
   "metadata": {},
   "outputs": [
    {
     "name": "stdout",
     "output_type": "stream",
     "text": [
      "0    10.00000\n",
      "1     4.00000\n",
      "2     0.44444\n",
      "3    18.00000\n",
      "dtype: float64 \n",
      "\n",
      "0      2.00000\n",
      "1     18.00000\n",
      "2    199.55556\n",
      "3     21.00000\n",
      "4          NaN\n",
      "5          NaN\n",
      "6          NaN\n",
      "dtype: float64 \n",
      "\n",
      " 0   -12.00000\n",
      "1     0.00000\n",
      "2    -6.44444\n",
      "3    10.00000\n",
      "dtype: float64 \n",
      "\n"
     ]
    }
   ],
   "source": [
    "example = pd.Series([-10, 4, -0.44444, 18])\n",
    "example2 = pd.Series([12, 14, 200, 3, -12, 72, np.nan])\n",
    "example3 = pd.Series([2, 4, 6, 8])\n",
    "#Returns the absolute value of each element. Only works for ints, floats. Type error for strings, bools\n",
    "#NOTE: These methods do not alter the series, only if reassigned\n",
    "print(example.abs(), '\\n')\n",
    "\n",
    "#Addition of two, different dimensional series.\n",
    "#Note how the resulting series is the same shape as the largest series passed in the operation. \n",
    "#When performing operations on unequally sized series, the elements past the length of the smallest\n",
    "#series are treated as NANs. \n",
    "example4 = example.add(example2)\n",
    "example5 = example.sub(example3)\n",
    "print(example4, '\\n\\n', example5, '\\n')"
   ]
  },
  {
   "cell_type": "code",
   "execution_count": 6,
   "id": "bd0e2921",
   "metadata": {},
   "outputs": [
    {
     "name": "stdout",
     "output_type": "stream",
     "text": [
      "min       -1.200000e+01\n",
      "max        2.000000e+02\n",
      "mean       4.816667e+01\n",
      "product   -8.709120e+07\n",
      "dtype: float64 \n",
      "\n",
      "0    10.0\n",
      "1    10.0\n",
      "2    10.0\n",
      "3     3.0\n",
      "4     0.0\n",
      "5    10.0\n",
      "6     NaN\n",
      "dtype: float64 \n",
      "\n",
      "       self  other\n",
      "0 -10.00000    2.0\n",
      "2  -0.44444    6.0\n",
      "3  18.00000    8.0 \n",
      "\n",
      "count    4.000000\n",
      "mean     5.000000\n",
      "std      2.581989\n",
      "min      2.000000\n",
      "25%      3.500000\n",
      "50%      5.000000\n",
      "75%      6.500000\n",
      "max      8.000000\n",
      "dtype: float64 \n",
      "\n"
     ]
    }
   ],
   "source": [
    "#Can combine operatrions using Series.agg\n",
    "print(example2.agg(['min', 'max', 'mean', 'product']), '\\n')\n",
    "\n",
    "#Clip values to a floor/ceiling if they are below or above that threshold\n",
    "print(example2.clip(lower = 0, upper = 10), '\\n')\n",
    "\n",
    "#Compare values of two series and highlight differences\n",
    "print(example.compare(example3), '\\n')\n",
    "\n",
    "#Generate descriptive statistics with Series.describe. \n",
    "print(example3.describe(), '\\n')"
   ]
  },
  {
   "cell_type": "code",
   "execution_count": 7,
   "id": "21331b39",
   "metadata": {},
   "outputs": [
    {
     "name": "stdout",
     "output_type": "stream",
     "text": [
      "0    False\n",
      "1     True\n",
      "2    False\n",
      "3     True\n",
      "dtype: bool 0     True\n",
      "1     True\n",
      "2     True\n",
      "3    False\n",
      "dtype: bool \n",
      "\n",
      "0     12.0\n",
      "1     14.0\n",
      "2    200.0\n",
      "3      3.0\n",
      "4    -12.0\n",
      "5     72.0\n",
      "6      0.0\n",
      "dtype: float64 0     True\n",
      "1     True\n",
      "2     True\n",
      "3     True\n",
      "4     True\n",
      "5     True\n",
      "6    False\n",
      "dtype: bool \n",
      "\n",
      "[12.0, 14.0, 200.0, 3.0, -12.0, 72.0, nan] \n",
      "\n",
      "2 \n",
      "\n"
     ]
    }
   ],
   "source": [
    "#Comparisons between series, element wise. Greater than or equal to and less than or equal to, respectively\n",
    "print(example.ge(example3), example.le(example3), '\\n')\n",
    "\n",
    "#Remove NANs entirely\n",
    "example2.dropna()\n",
    "\n",
    "#Masking methods. \n",
    "#Series.mask replaces any element that meets the condition with the corresponding value.\n",
    "print(example2.mask(np.isnan(example2) == True, 0), example2.notnull(), '\\n')\n",
    "\n",
    "#Can send contents of a Series to a list\n",
    "listed_data = example2.tolist()\n",
    "print(listed_data, '\\n')\n",
    "\n",
    "#Find the index(s) of a particular element(s)\n",
    "print(example2[example2 == 200].index[0], '\\n')"
   ]
  },
  {
   "cell_type": "markdown",
   "id": "59f1032b",
   "metadata": {},
   "source": [
    "Let's look at an example to help demonstrate these methods to a specific problem."
   ]
  },
  {
   "cell_type": "markdown",
   "id": "fc3682cc",
   "metadata": {},
   "source": [
    "### Example: Looking at Exoplanet Inclination Distributions\n",
    "The inclination in exoplanet systems is the angle of the orbit relative to our line of sight. An inclination of $i = 0\\degree$ means the orbit creates a 'ring' around the host; these systems can **never** transit with respect to Earth. Conversely, an inclination $i = 90\\degree$ is a perfect 'head-on' orbit. These planets **always** transit. The figure below gives a helpful visual:\n",
    "\n",
    "![Inclination.png](../../Auxiliary_Files/Graphics/Data_Structures/Inclination.png)\n",
    "\n",
    "We can use `Series` to investigate the distribution of known exoplanets, and see if any trends emerge.\n",
    "\n",
    "**INFO**: We use functions from `astroquery` to gather the data. This package is covered in the [astroquery]() lesson. This is not required to proceed."
   ]
  },
  {
   "cell_type": "code",
   "execution_count": 8,
   "id": "b36e6c1f",
   "metadata": {},
   "outputs": [
    {
     "name": "stdout",
     "output_type": "stream",
     "text": [
      "count    4301.000000\n",
      "mean       86.871015\n",
      "std        10.523024\n",
      "min         0.370000\n",
      "25%        86.900000\n",
      "50%        88.770000\n",
      "75%        89.670000\n",
      "max       176.092000\n",
      "dtype: float64\n"
     ]
    },
    {
     "data": {
      "text/plain": [
       "Text(0.5, 1.0, 'Inclination Distributions')"
      ]
     },
     "execution_count": 8,
     "metadata": {},
     "output_type": "execute_result"
    },
    {
     "data": {
      "image/png": "[encoded data removed]",
      "text/plain": [
       "<Figure size 640x480 with 1 Axes>"
      ]
     },
     "metadata": {},
     "output_type": "display_data"
    }
   ],
   "source": [
    "from astroquery.ipac.nexsci.nasa_exoplanet_archive import NasaExoplanetArchive\n",
    "from matplotlib import pyplot as plt\n",
    "##Importing the data straight from the NASA Exoplanet, forcing the values to be floats\n",
    "inclinations = pd.Series(NasaExoplanetArchive.query_criteria(table='pscomppars', select = 'pl_orbincl')['pl_orbincl'], dtype=float)\n",
    "\n",
    "##Drop any nans\n",
    "inclinations = inclinations.dropna()\n",
    "\n",
    "##Lets get some descriptive statistics\n",
    "print(inclinations.describe())\n",
    "\n",
    "##And let's plot the results. Pandas uses pyplot for the integrated plotting of series and dataframes\n",
    "inclinations.hist(bins = 15)\n",
    "plt.xlabel('Inclination')\n",
    "plt.ylabel('Counts')\n",
    "plt.title('Inclination Distributions')\n"
   ]
  },
  {
   "cell_type": "markdown",
   "id": "6ba962f9",
   "metadata": {},
   "source": [
    "What about the population of known exoplanets might cause this distribution of inclinations? This is an excellent example of **sampling bias**. We will explore more exoplanet statistics in other examples, as well as informative [exercises]()."
   ]
  },
  {
   "cell_type": "markdown",
   "id": "ca95bf9d",
   "metadata": {},
   "source": [
    "## DataFrames\n",
    "\n",
    "`Series` are simple containers with useful methods for 1D data, but are in many ways are redundant with `Numpy` arrays. `DataFrames` are the flagship data structure for `pandas`, and have by far the most useful methods for tabular data. In many ways, `DataFrames` mirror Excel spreadsheets, and can be visualized with columns (with headers) and rows (with indices). `pandas` gives seamless methods to parse, select, analyze, and manipulate tabular data, which is invaluable when working with data in e.g. `.csv` files. We will outline basic properites of `DataFrames`, as well as the most important methods in order to navigate any tabular data you might encounter while researching."
   ]
  },
  {
   "cell_type": "markdown",
   "id": "19f71e1f",
   "metadata": {},
   "source": [
    "### Basic Properties\n",
    "Forming `DataFrames` can be done in a variety of different ways, as demonstrated below:"
   ]
  },
  {
   "cell_type": "code",
   "execution_count": 9,
   "id": "cd69bb68",
   "metadata": {},
   "outputs": [
    {
     "name": "stdout",
     "output_type": "stream",
     "text": [
      "  Planet Name  Radius\n",
      "0       EC1 b     1.0\n",
      "1       EC1 c     1.2\n",
      "2       EC2 b     0.5\n",
      "3       EC2 c     4.0\n",
      "4       EC2 c     2.0 \n",
      "\n",
      "All DataFrames are equal \n",
      "\n",
      "   a  b  c\n",
      "0  1  2  3\n",
      "1  4  5  6\n",
      "2  7  8  9\n"
     ]
    }
   ],
   "source": [
    "#Form it in-line, using 'column': [data]\n",
    "data_line = pd.DataFrame({'Planet Name': ['EC1 b', 'EC1 c', 'EC2 b', 'EC2 c', 'EC2 c'], 'Radius': [1, 1.2, 0.5, 4, 2]})\n",
    "print(data_line, '\\n')\n",
    "\n",
    "#From individual lists\n",
    "names = ['EC1 b', 'EC1 c', 'EC2 b', 'EC2 c', 'EC2 c']\n",
    "radius = [1, 1.2, 0.5, 4, 2]\n",
    "data_list = pd.DataFrame({'Planet Name': names, 'Radius': radius})\n",
    "\n",
    "#From a dictionary and a Series\n",
    "d = {'Planet Name': ['EC1 b', 'EC1 c', 'EC2 b', 'EC2 c', 'EC2 c'], 'Radius': pd.Series([1, 1.2, 0.5, 4, 2], index=[0, 1, 2, 3, 4])}\n",
    "data_dict = pd.DataFrame(data=d, index=[0, 1, 2, 3, 4])\n",
    "\n",
    "#See if the three methods yield the same DataFrame\n",
    "if data_line.equals(data_list) == True and data_line.equals(data_dict) == True and data_list.equals(data_dict) == True:\n",
    "    print('All DataFrames are equal', '\\n')\n",
    "\n",
    "#From an Numpy array\n",
    "data_array = pd.DataFrame(np.array([[1, 2, 3], [4, 5, 6], [7, 8, 9]]),\n",
    "                   columns=['a', 'b', 'c'])\n",
    "print(data_array)"
   ]
  },
  {
   "cell_type": "markdown",
   "id": "b627ff9c",
   "metadata": {},
   "source": [
    "`DataFrames` make it easy to isolate particular rows (using indices) and columns (using column names). Examples are shown below."
   ]
  },
  {
   "cell_type": "code",
   "execution_count": 68,
   "id": "c8fccb27",
   "metadata": {},
   "outputs": [
    {
     "name": "stdout",
     "output_type": "stream",
     "text": [
      "                       pl_radj    pl_orbper\n",
      "pl_name                                    \n",
      "OGLE-2016-BLG-1227L b    1.240          NaN\n",
      "Kepler-276 c             0.259    31.884000\n",
      "Kepler-829 b             0.188     6.883376\n",
      "K2-283 b                 0.314     1.921036\n",
      "Kepler-477 b             0.185    11.119907\n",
      "...                        ...          ...\n",
      "OGLE-2019-BLG-1180L b    1.200          NaN\n",
      "TOI-1107 b               1.300     4.078239\n",
      "KMT-2023-BLG-1642L b     1.230          NaN\n",
      "HD 73267 b               1.160  1257.991590\n",
      "OGLE-2017-BLG-1237L b    1.160          NaN\n",
      "\n",
      "[5632 rows x 2 columns]\n",
      "                            pl_radj   pl_orbper  pl_orbincl\n",
      "pl_name                                                    \n",
      "nu Oph c                       1.07  3180.60000      90.000\n",
      "75 Cet b                       1.18   696.62000         NaN\n",
      "gam Lib b                      1.22   414.88000         NaN\n",
      "HD 113337 c                    1.08  5429.93477      57.478\n",
      "HD 11755 b                     1.14   433.70001         NaN\n",
      "...                             ...         ...         ...\n",
      "HD 94771 b                     1.27  2164.00000         NaN\n",
      "Kepler-1981 b                  0.84   453.54212      89.780\n",
      "WISE J033605.05-014350.4 b     1.12  2560.00000         NaN\n",
      "HD 222155 b                    1.20  3999.00000      68.000\n",
      "HD 73267 b                     1.16  1257.99159     130.843\n",
      "\n",
      "[610 rows x 3 columns]\n"
     ]
    },
    {
     "data": {
      "image/png": "[encoded data removed]",
      "text/plain": [
       "<Figure size 640x480 with 1 Axes>"
      ]
     },
     "metadata": {},
     "output_type": "display_data"
    }
   ],
   "source": [
    "from astroquery.ipac.nexsci.nasa_exoplanet_archive import NasaExoplanetArchive\n",
    "from matplotlib import pyplot as plt\n",
    "\n",
    "##Importing the data straight from the NASA Exoplanet Archive\n",
    "##Note: Astoquery has its own method to take a query table and convert to a DataFrame!\n",
    "exo_data = NasaExoplanetArchive.query_criteria(table='pscomppars', select = {'pl_name', 'pl_orbincl', 'pl_radj', 'pl_orbper'}).to_pandas()\n",
    "exo_data_copy = exo_data\n",
    "#We can make the exoplanet name the index for each row\n",
    "exo_data.set_index('pl_name', inplace=True)\n",
    "\n",
    "#Let's only look at the distribution of exoplanet radii\n",
    "radii = exo_data['pl_radj']\n",
    "plt.xlim(0, 5)\n",
    "radii.hist(bins = 15)\n",
    "\n",
    "#What about only the planet radius and orbital period?\n",
    "name_period = exo_data[['pl_radj', 'pl_orbper']]\n",
    "print(name_period)\n",
    "\n",
    "#What about planets with an orbit greater than 1 Earth year?\n",
    "long_orbit = exo_data[exo_data['pl_orbper'] > 365]\n",
    "print(long_orbit)\n"
   ]
  },
  {
   "cell_type": "markdown",
   "id": "d68a56bd",
   "metadata": {},
   "source": [
    "This gives us good flexibility on isolating specific columns of data, which is extremely useful when the datasets you are working with are high dimensional. What about rows? Can we filter results of the returned rows to match specific criteria? We can do these through the `.loc` and `.iloc` methods, which we will discuss in the next section."
   ]
  },
  {
   "cell_type": "markdown",
   "id": "cffe0217",
   "metadata": {},
   "source": [
    "## Navigating DataFrames Using .loc and .iloc\n",
    "Documentation for .loc can be found [here](https://pandas.pydata.org/docs/reference/api/pandas.DataFrame.loc.html), and for .iloc [here](https://pandas.pydata.org/docs/reference/api/pandas.DataFrame.iloc.html).\n",
    "\n",
    "The `.loc` (short for 'location') method allows you to isolate particular rows and columns through the index of the `DataFrame` through index **labels**. The `.iloc` (short for 'index location') method is similar, but isolates rows and columns through **integer** index, similar to slicing arrays or lists. Both `.loc` support conditional expressions, which can isolate particular rows and columns that match the conditions. We explore this in the code below."
   ]
  },
  {
   "cell_type": "code",
   "execution_count": 71,
   "id": "2b08e3a3",
   "metadata": {},
   "outputs": [
    {
     "name": "stdout",
     "output_type": "stream",
     "text": [
      "pl_radj        0.0920\n",
      "pl_orbper     11.1868\n",
      "pl_orbincl        NaN\n",
      "Name: Proxima Cen b, dtype: float64\n",
      "WASP121 b is: 1.753 Jupiter radii\n",
      "                    pl_radj  pl_orbper  pl_orbincl\n",
      "pl_name                                           \n",
      "Teegarden's Star c    0.091  11.416000         NaN\n",
      "LHS 1678 d            0.088   4.965223       88.31\n",
      "LHS 1678 b            0.061   0.860232       88.53\n",
      "Kepler-910 b          0.073   2.364369       88.44\n",
      "Kepler-107 d          0.077   7.958390       87.55\n",
      "...                     ...        ...         ...\n",
      "Kepler-1998 b         0.062   3.032671       88.93\n",
      "Kepler-1994 b         0.056   4.612250       89.95\n",
      "Kepler-1992 b         0.092  15.611224       89.03\n",
      "Kepler-1869 c         0.074   1.716828       81.38\n",
      "Kepler-290 d          0.079   0.764018       84.79\n",
      "\n",
      "[333 rows x 3 columns]\n",
      "              pl_radj  pl_orbper  pl_orbincl\n",
      "pl_name                                     \n",
      "HD 149143 b     1.220   4.071820         NaN\n",
      "Kepler-435 b    1.990   8.600154      85.510\n",
      "Qatar-3 b       1.096   2.507920      86.800\n",
      "WASP-28 b       1.219   3.408835      88.514\n",
      "WASP-159 b      1.380   3.840401      88.100\n",
      "...               ...        ...         ...\n",
      "HIP 86221 b     1.250   2.224000         NaN\n",
      "Gaia-1 b        1.229   3.052524      85.730\n",
      "NGTS-25 b       1.023   2.823093      89.340\n",
      "CoRoT-3 b       1.010   4.256800      85.900\n",
      "TOI-1107 b      1.300   4.078239      88.630\n",
      "\n",
      "[560 rows x 3 columns]\n"
     ]
    }
   ],
   "source": [
    "#We can use the DataFrame imported from the last block of code above\n",
    "#What if we want to isolate the parameters for Proxima Centauri b?\n",
    "#We can think of .loc as indexing by row\n",
    "\n",
    "prox = exo_data.loc['Proxima Cen b']\n",
    "print(prox)\n",
    "\n",
    "#What if we specifically want the radius of WASP-121 b?\n",
    "WASP121 = exo_data.loc['WASP-121 b', 'pl_radj']\n",
    "print('WASP121 b is: ' + str(WASP121) + ' Jupiter radii')\n",
    "\n",
    "#What about the subset of planets with a radius less than 0.1 Jupiter radii?\n",
    "small_rad = exo_data.loc[exo_data['pl_radj'] < 0.1]\n",
    "print(small_rad)\n",
    "\n",
    "#Subset of planets with radius greater than 1 Jupiter radii and orbital period less than 20 days?\n",
    "#Note the syntax for two conditions. Each condition is partitioned by parentheses and joined by an ampersand\n",
    "hot_jupiters = exo_data.loc[(exo_data['pl_radj'] > 1) & (exo_data['pl_orbper'] < 20)]\n",
    "print(hot_jupiters)"
   ]
  },
  {
   "cell_type": "markdown",
   "id": "5548cde9",
   "metadata": {},
   "source": [
    "These examples give an idea of what level of refinement we can achieve with `.loc`, and these examples are not exhaustive. Now we can look at the `.iloc` method to retrieve data by integer indexing, like slicing a list or array."
   ]
  },
  {
   "cell_type": "code",
   "execution_count": 72,
   "id": "d3635715",
   "metadata": {},
   "outputs": [],
   "source": [
    "#Reset the index to integers. This re-inserts the planet names back into the DataFrame as a column\n",
    "#Only run this once!\n",
    "exo_data.reset_index(inplace = True)\n",
    "\n",
    "#If rerun, will keep adding empty index columns to your DataFrame\n",
    "#Rerun the last **two** blocks of code if this happens"
   ]
  },
  {
   "cell_type": "code",
   "execution_count": 73,
   "id": "44b4d13f",
   "metadata": {},
   "outputs": [
    {
     "name": "stdout",
     "output_type": "stream",
     "text": [
      "pl_name       PSR J1719-1438 b\n",
      "pl_radj                    NaN\n",
      "pl_orbper             0.090706\n",
      "pl_orbincl                 NaN\n",
      "Name: 4985, dtype: object\n",
      "The planet with the 2nd shortest orbital period is: M62H b with a period of 0.13293503 days\n",
      "The planet with the longest orbital period is: COCONUTS-2 b with a period of 402000000.0 days\n"
     ]
    }
   ],
   "source": [
    "#First sort the DataFrame by ascending planetary orbital period\n",
    "exo_data.sort_values(by = ['pl_orbper'], inplace = True)\n",
    "\n",
    "#Eliminate any data with NaN as a period entry\n",
    "exo_data = exo_data.loc[np.isnan(exo_data['pl_orbper']) == False]\n",
    "\n",
    "#What are the parameters for the planet with the shortest period?\n",
    "print(exo_data.iloc[0])\n",
    "\n",
    "#Which planet has the 2nd shortest orbital period? Remember, Python starts indexing at 0\n",
    "#In this example, the first index is the row, and the second index is the column.\n",
    "#Planet name is the third column, while period is the fifth\n",
    "print('The planet with the 2nd shortest orbital period is: ' + str(exo_data.iloc[1, 0]) + ' with a period of ' + str(exo_data.iloc[1, 2]) + ' days')\n",
    "\n",
    "#Just like arrays, we can find the longest period by using '-1' as the index\n",
    "print('The planet with the longest orbital period is: ' + str(exo_data.iloc[-1, 0]) + ' with a period of ' + str(exo_data.iloc[-1, 2]) + ' days')"
   ]
  },
  {
   "cell_type": "markdown",
   "id": "0a5c8958",
   "metadata": {},
   "source": [
    "`.iloc` is particularly well suited for data where order is important, such as a list of chronological events. Both `.loc` and `.iloc` are suited for different types of data."
   ]
  },
  {
   "cell_type": "markdown",
   "id": "b80946e9",
   "metadata": {},
   "source": [
    "### Importing and Exporting Data\n",
    "Importing data from .csv files to `DataFrames` and exporting `DataFrames` to .csv files is one of the most common uses for the `pandas` library. The methods to do this are straightforward, but powerful. This brief section will demonstrate how to import data from a .csv file to a `DataFrame`, modfiy it, and export it as a new .csv file.\n",
    "\n",
    "There are many useful optional arguments for both [`to_csv`](https://pandas.pydata.org/docs/reference/api/pandas.DataFrame.to_csv.html) and [`read_csv`](https://pandas.pydata.org/docs/reference/api/pandas.read_csv.html) methods, which we will not cover in-depth here."
   ]
  },
  {
   "cell_type": "code",
   "execution_count": 74,
   "id": "23575800",
   "metadata": {},
   "outputs": [
    {
     "name": "stdout",
     "output_type": "stream",
     "text": [
      "                  pl_radj  pl_orbper  pl_orbincl\n",
      "pl_name                                         \n",
      "PSR J1719-1438 b      NaN   0.090706         NaN\n",
      "M62H b                NaN   0.132935         NaN\n",
      "K2-137 b            0.057   0.179719        93.1\n",
      "KIC 10001893 b        NaN   0.219700         NaN\n",
      "KOI-55 b            0.068   0.240104        65.0\n"
     ]
    }
   ],
   "source": [
    "#We can export our previous DataFrame and export it to a .csv using df.to_csv()\n",
    "#Index = None makes it so the numeric index does not become its own column\n",
    "exo_data.to_csv('Exoplanet_Data.csv', index = False)\n",
    "\n",
    "#We can read back the data. Here, we only read the first 5 rows, and choosing the planet name as index again\n",
    "import_data = pd.read_csv('Exoplanet_Data.csv', nrows = 5, index_col = 'pl_name')\n",
    "print(import_data)\n"
   ]
  },
  {
   "cell_type": "markdown",
   "id": "ef89d11b",
   "metadata": {},
   "source": [
    "## Exercises\n",
    "\n",
    "To solidify your understanding of `pandas`, here are some exercises.\n",
    "\n",
    "### Problem 1 - The Basics\n",
    "Import the data from 'Exoplanet_Data.csv' into a `DataFrame`. Use it to identify:\n",
    "- The planet with the largest radius\n",
    "- The subset of planets that have an orbital period greater than Pluto's\n",
    "- The subset of planets with an orbital period less than 20 days, but with a radius smaller than 0.1 Jupiter radii\n",
    "- The planet with the largest inclination"
   ]
  },
  {
   "cell_type": "code",
   "execution_count": null,
   "id": "5b10a7fc",
   "metadata": {},
   "outputs": [],
   "source": [
    "# Codespace for Exercise 1"
   ]
  },
  {
   "cell_type": "markdown",
   "id": "a981ec72",
   "metadata": {},
   "source": [
    "### Problem 2 - Plotting\n",
    "Using the data from 'Exoplanet_Data.csv', generate the following figures:\n",
    "- A histogram of known planetary radii\n",
    "- A plot of orbital period vs radii\n",
    "- A plot of inclination vs orbital period\n",
    "Comment on any trends you see."
   ]
  },
  {
   "cell_type": "code",
   "execution_count": null,
   "id": "679a37f1",
   "metadata": {},
   "outputs": [],
   "source": [
    "# Codespace for Exercise 2"
   ]
  },
  {
   "cell_type": "markdown",
   "id": "7189cd7d",
   "metadata": {},
   "source": [
    "### Problem 3 - Searching for Habitability\n",
    "Import the data from 'Exoplanet_Parameters.csv'. Note how much data there is! Use the [column definitions](https://exoplanetarchive.ipac.caltech.edu/docs/API_PS_columns.html) from the NASA Exoplanet Archive documentation to ground yourself on which column is what parameter. Complete the following:\n",
    "- Filter to planets which have an overall radius uncertainty of less than 10%. That is, the sum of both error bounds is less than 10% of the corresponding radius value.\n",
    "- Out of those planets, find which planets are within 20% of the Earth's radius\n",
    "- Out of those planets, filter to those with host stars with a temperature between 4000-6000 Kelvin\n",
    "- Out of those planets, filter to those whose eccentricity is at or below 0.10\n",
    "- Out of those planets, filter to those whose planetary period is within 40 days of Earth's period\n",
    "- What fraction of known planets are 'habitable' from this criteria?\n",
    "Visualize your results any way you'd like. Is Earth rare?"
   ]
  },
  {
   "cell_type": "code",
   "execution_count": null,
   "id": "91b1d2f6",
   "metadata": {},
   "outputs": [],
   "source": [
    "# Codespace for Exercise 3"
   ]
  }
 ],
 "metadata": {
  "kernelspec": {
   "display_name": "Python 3 (ipykernel)",
   "language": "python",
   "name": "python3"
  },
  "language_info": {
   "codemirror_mode": {
    "name": "ipython",
    "version": 3
   },
   "file_extension": ".py",
   "mimetype": "text/x-python",
   "name": "python",
   "nbconvert_exporter": "python",
   "pygments_lexer": "ipython3",
   "version": "3.10.9"
  }
 },
 "nbformat": 4,
 "nbformat_minor": 5
}
