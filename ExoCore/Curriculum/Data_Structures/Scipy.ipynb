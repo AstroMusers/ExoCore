{
 "cells": [
  {
   "cell_type": "markdown",
   "metadata": {},
   "source": [
    "# [SciPy](https://docs.scipy.org/doc/scipy-1.15.0/index.html#)\n",
    "\n",
    "<img src=\"../../Auxiliary_Files/Graphics/Data_Structures/scipy_logo.png\" alt=\"SciPy_Logo\" width=\"600\" height=\"300\">\n",
    "\n",
    "## Table of Contents\n",
    "- [Introduction](#introduction)\n",
    "- [Overview](#overview)\n",
    "- [Arrays](#arrays)\n",
    "    - [Basic Properties](#basic-properites)\n",
    "    - [Array Creation Methods]()\n",
    "    - [Example: Analyzing a 2D Image](#example-analyzing-a-2d-image)\n",
    "    - [Handling NANS](#handling-nans)\n",
    "    - [Stacking and Exporting Arrays](#stacking-and-exporting-arrays)\n",
    "    - [Sorting & Searching](#sorting--searching)\n",
    "- [Mathematical Routines](#mathematical-routines)\n",
    "    - [General Functions](#basic-mathematical-functions)\n",
    "    - [Statistics](#statistics)\n",
    "    - [Linear Algebra](#linear-algebra)\n",
    "    - [Simple Polynomial Regression Methods](#simple-polynomial-regression-methods)\n",
    "- [Exercises](#exercises)\n",
    "    - [Problem 1: Creating an Array in Four Different Ways](#problem-1-creating-an-array-in-four-different-ways)\n",
    "    - [Problem 2: Handling NANs](#problem-2-handling-nans)\n",
    "    - [Problem 3: Modeling Ingress and Egress](#problem-3-modeling-ingress-and-egress)"
   ]
  },
  {
   "cell_type": "markdown",
   "metadata": {},
   "source": [
    "## Introduction\n",
    "\n",
    "The [SciPy](https://docs.scipy.org/doc/scipy-1.15.0/index.html#) package contains a slew of different analysis methods and tools that are relevant in exoplanet research. This lesson will focus on these methods, and outline several use cases. \n",
    "\n",
    " <div class=\"alert alert-block alert-warning\">\n",
    "\n",
    "**NOTE**: SciPy has many high level functions and optimization routines that are largely out of scope of ExoCore. These include routines that may be relevant in other aspects of astrophysics research; if you are interested, check out all SciPy modules [here](https://docs.scipy.org/doc/scipy-1.15.0/reference/index.html)."
   ]
  },
  {
   "cell_type": "markdown",
   "metadata": {},
   "source": [
    "Before we begin, run the code block below to activate the interactive portions of this lesson:"
   ]
  },
  {
   "cell_type": "code",
   "execution_count": 2,
   "metadata": {},
   "outputs": [],
   "source": [
    "import scipy\n",
    "from jupyterquiz import display_quiz\n",
    "import json\n",
    "with open(\"../../Exercise_Solutions/Module_3/SciPy/Checkpoints/questions.json\", \"r\") as file:\n",
    "    questions=json.load(file)"
   ]
  },
  {
   "cell_type": "markdown",
   "metadata": {},
   "source": [
    "## Constants Module\n",
    "\n",
    "The first module in SciPy is the Constants module. The utility is in the name; this contains many relevant constants relevant in science and mathematics."
   ]
  },
  {
   "cell_type": "code",
   "execution_count": 7,
   "metadata": {},
   "outputs": [
    {
     "name": "stdout",
     "output_type": "stream",
     "text": [
      "The value of pi is: 3.141592653589793\n",
      "The speed of light is: 299792458.0\n",
      "The mass of the neutron is: 1.67492749804e-27\n"
     ]
    }
   ],
   "source": [
    "## Evoke pi using scipy.constants.pi\n",
    "\n",
    "print(\"The value of pi is: \" + str(scipy.constants.pi))\n",
    "\n",
    "## Speed of light...\n",
    "\n",
    "c = scipy.constants.c\n",
    "m_n = scipy.constants.m_n\n",
    "print(\"The speed of light is: \" + str(c))\n",
    "print(\"The mass of the neutron is: \" + str(m_n))"
   ]
  },
  {
   "cell_type": "markdown",
   "metadata": {},
   "source": [
    "You can find a list of available units [here](https://docs.scipy.org/doc/scipy-1.15.0/reference/constants.html). All units are reported in [SI units](https://en.wikipedia.org/wiki/International_System_of_Units#:~:text=The%20SI%20comprises%20a%20coherent,candela%20(cd%2C%20luminous%20intensity)).\n",
    "\n",
    "### Constants Database\n",
    "In addition to the built-in constants above, SciPy has integrated an API that allows user to query the [CODATA 2022](https://arxiv.org/abs/2409.03787) constants catalog. This can be navigated using the `value(key)`, `unit(key)`, `precision(key)` and `find([substring, display_bool])`:"
   ]
  },
  {
   "cell_type": "code",
   "execution_count": 27,
   "metadata": {},
   "outputs": [
    {
     "name": "stdout",
     "output_type": "stream",
     "text": [
      "standard acceleration of gravity\n",
      "The value of g is: 9.80665\n",
      "The units of g are: m s^-2\n",
      "The uncertainty of g is: 0.0\n"
     ]
    }
   ],
   "source": [
    "## We want to know the standard acceleration due to gravity\n",
    "## Search for the string 'gravity' to see the matches\n",
    "a = scipy.constants.find(\"gravity\", True)\n",
    "\n",
    "## Value and units\n",
    "\n",
    "g = scipy.constants.physical_constants['standard acceleration of gravity']\n",
    "\n",
    "print(\"The value of g is: \" + str(g[0]))\n",
    "print(\"The units of g are: \" + str(g[1]))\n",
    "print(\"The uncertainty of g is: \" + str(g[2]))"
   ]
  },
  {
   "cell_type": "markdown",
   "metadata": {},
   "source": [
    "## Integration Methods\n",
    "\n",
    "The module `scipy.integrate` contains efficient integration methods commonly used in data analysis. Integration methods are divided into two groups:\n",
    "\n",
    "- Definite integration over continuous function objects\n",
    "- Integration over a given sample\n",
    "\n",
    "We will describe the most commonly used methods below.\n",
    "\n",
    "How would we find the definite integral below?\n",
    "$$ \\int_{1}^{3.8}\\exp{\\left[\\cos{\\frac{2}{x^{3}}}\\right]} dx $$\n",
    "\n",
    "We employ the `scipy.integrate.quad(function, lower, upper)` function!"
   ]
  },
  {
   "cell_type": "code",
   "execution_count": 11,
   "metadata": {},
   "outputs": [
    {
     "name": "stdout",
     "output_type": "stream",
     "text": [
      "The value of the integral is: 6.918788129478686\n",
      "The uncertainty of the integral is: 2.8384102869472277e-08\n"
     ]
    }
   ],
   "source": [
    "## First define your function\n",
    "import numpy as np\n",
    "import scipy.integrate\n",
    "def function(x):\n",
    "    return np.exp(np.cos(2/x**(3)))\n",
    "\n",
    "## Integrate, passing the function and bounds\n",
    "## The output of the function is two element list\n",
    "## The first element is the value of the integral, the second is the uncertainty\n",
    "print(\"The value of the integral is: \" + str(scipy.integrate.quad(function, 1, 3.8)[0]))\n",
    "print(\"The uncertainty of the integral is: \" + str(scipy.integrate.quad(function, 1, 3.8)[1]))"
   ]
  },
  {
   "cell_type": "markdown",
   "metadata": {},
   "source": [
    "The `dblquad` and `tplquad` extend this to double integrals bounding an area and triple integrals bounding a volumne, respectively. For example, we can compute:\n",
    "\n",
    "$$ \\int^{x=2}_{x=0}\\int^{y=1}_{y=0}xy^{2}dx\\,dy"
   ]
  },
  {
   "cell_type": "code",
   "execution_count": 9,
   "metadata": {},
   "outputs": [
    {
     "name": "stdout",
     "output_type": "stream",
     "text": [
      "The double integral is: (1.3333333333333335, 2.2108134835808843e-14)\n"
     ]
    }
   ],
   "source": [
    "def function_2(x,y):\n",
    "    return x*y**2\n",
    "\n",
    "print(\"The double integral is: \" + str(scipy.integrate.dblquad(function_2, 0, 2, 0, 1)))"
   ]
  }
 ],
 "metadata": {
  "kernelspec": {
   "display_name": "exocore",
   "language": "python",
   "name": "python3"
  },
  "language_info": {
   "codemirror_mode": {
    "name": "ipython",
    "version": 3
   },
   "file_extension": ".py",
   "mimetype": "text/x-python",
   "name": "python",
   "nbconvert_exporter": "python",
   "pygments_lexer": "ipython3",
   "version": "3.12.4"
  }
 },
 "nbformat": 4,
 "nbformat_minor": 2
}
