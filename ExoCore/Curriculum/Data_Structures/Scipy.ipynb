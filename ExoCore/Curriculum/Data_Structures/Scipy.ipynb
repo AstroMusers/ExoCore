{
 "cells": [
  {
   "cell_type": "markdown",
   "metadata": {},
   "source": [
    "# [SciPy](https://docs.scipy.org/doc/scipy-1.15.0/index.html#)\n",
    "\n",
    "<img src=\"../../Auxiliary_Files/Graphics/Data_Structures/scipy_logo.png\" alt=\"SciPy_Logo\" width=\"600\" height=\"300\">\n",
    "\n",
    "## Table of Contents\n",
    "- [Introduction](#introduction)\n",
    "- [Overview](#overview)\n",
    "- [Arrays](#arrays)\n",
    "    - [Basic Properties](#basic-properites)\n",
    "    - [Array Creation Methods]()\n",
    "    - [Example: Analyzing a 2D Image](#example-analyzing-a-2d-image)\n",
    "    - [Handling NANS](#handling-nans)\n",
    "    - [Stacking and Exporting Arrays](#stacking-and-exporting-arrays)\n",
    "    - [Sorting & Searching](#sorting--searching)\n",
    "- [Mathematical Routines](#mathematical-routines)\n",
    "    - [General Functions](#basic-mathematical-functions)\n",
    "    - [Statistics](#statistics)\n",
    "    - [Linear Algebra](#linear-algebra)\n",
    "    - [Simple Polynomial Regression Methods](#simple-polynomial-regression-methods)\n",
    "- [Exercises](#exercises)\n",
    "    - [Problem 1: Creating an Array in Four Different Ways](#problem-1-creating-an-array-in-four-different-ways)\n",
    "    - [Problem 2: Handling NANs](#problem-2-handling-nans)\n",
    "    - [Problem 3: Modeling Ingress and Egress](#problem-3-modeling-ingress-and-egress)"
   ]
  },
  {
   "cell_type": "markdown",
   "metadata": {},
   "source": [
    "## Introduction\n",
    "\n",
    "The [SciPy](https://docs.scipy.org/doc/scipy-1.15.0/index.html#) package contains a slew of different analysis methods and tools that are relevant in exoplanet research. This lesson will focus on these methods, and outline several use cases. \n",
    "\n",
    " <div class=\"alert alert-block alert-warning\">\n",
    "\n",
    "**NOTE**: SciPy has many high level functions and optimization routines that are largely out of scope of ExoCore. These include routines that may be relevant in other aspects of astrophysics research; if you are interested, check out all SciPy modules [here](https://docs.scipy.org/doc/scipy-1.15.0/reference/index.html)."
   ]
  },
  {
   "cell_type": "markdown",
   "metadata": {},
   "source": [
    "Before we begin, run the code block below to activate the interactive portions of this lesson:"
   ]
  },
  {
   "cell_type": "code",
   "execution_count": 2,
   "metadata": {},
   "outputs": [],
   "source": [
    "import scipy\n",
    "from jupyterquiz import display_quiz\n",
    "import json\n",
    "with open(\"../../Exercise_Solutions/Module_3/SciPy/Checkpoints/questions.json\", \"r\") as file:\n",
    "    questions=json.load(file)"
   ]
  },
  {
   "cell_type": "markdown",
   "metadata": {},
   "source": [
    "## Constants Module\n",
    "\n",
    "The first module in SciPy is the Constants module. The utility is in the name; this contains many relevant constants relevant in science and mathematics."
   ]
  },
  {
   "cell_type": "code",
   "execution_count": 7,
   "metadata": {},
   "outputs": [
    {
     "name": "stdout",
     "output_type": "stream",
     "text": [
      "The value of pi is: 3.141592653589793\n",
      "The speed of light is: 299792458.0\n",
      "The mass of the neutron is: 1.67492749804e-27\n"
     ]
    }
   ],
   "source": [
    "## Evoke pi using scipy.constants.pi\n",
    "\n",
    "print(\"The value of pi is: \" + str(scipy.constants.pi))\n",
    "\n",
    "## Speed of light...\n",
    "\n",
    "c = scipy.constants.c\n",
    "m_n = scipy.constants.m_n\n",
    "print(\"The speed of light is: \" + str(c))\n",
    "print(\"The mass of the neutron is: \" + str(m_n))"
   ]
  },
  {
   "cell_type": "markdown",
   "metadata": {},
   "source": [
    "You can find a list of available units [here](https://docs.scipy.org/doc/scipy-1.15.0/reference/constants.html). All units are reported in [SI units](https://en.wikipedia.org/wiki/International_System_of_Units#:~:text=The%20SI%20comprises%20a%20coherent,candela%20(cd%2C%20luminous%20intensity))."
   ]
  }
 ],
 "metadata": {
  "kernelspec": {
   "display_name": "exocore",
   "language": "python",
   "name": "python3"
  },
  "language_info": {
   "codemirror_mode": {
    "name": "ipython",
    "version": 3
   },
   "file_extension": ".py",
   "mimetype": "text/x-python",
   "name": "python",
   "nbconvert_exporter": "python",
   "pygments_lexer": "ipython3",
   "version": "3.12.8"
  }
 },
 "nbformat": 4,
 "nbformat_minor": 2
}
