{
 "cells": [
  {
   "cell_type": "markdown",
   "metadata": {
    "jp-MarkdownHeadingCollapsed": true
   },
   "source": [
    "[![Logo ><](../../Auxiliary_Files/Graphics/Data_Repositories/MAST_Logo.jpg)](https://archive.stsci.edu/)\n",
    "\n",
    "## Table of Contents\n",
    "- [Overview](#overview)\n",
    "- [MAST Portal](#mast-portal)\n",
    "    - [Searching for Data](#searching-for-data)\n",
    "    - [Browsing Data](#browsing-data)\n",
    "    - [Browsing Tools](#browsing-tools)\n",
    "    - [Data Retrieval](#data-retrieval)\n",
    "    - [Video Tutorials](#video-tutorials)\n",
    "- [MAST API via astroquery](#mast-api-via-astroquery)\n",
    "    - [Observational Queries](#observational-queries)\n",
    "    - [Downloading Data Products](#downloading-data-products)\n",
    "    - [Catalog Queries](#catalog-queries)\n",
    "- [Exoplanet Atmosphere Observability Table](#exoplanet-atmosphere-observability-table)\n",
    "- [Exercises](#exercises)\n",
    "    - [1. Download TESS Light Curve Data](#1-download-tess-light-curve-data)\n",
    "    - [2. Previewing Hubble Data for Transmission Spectroscopy](#2-previewing-hubble-data-for-transmission-spectroscopy)\n",
    "    - [3. Using the NASA Exoplanet Archive with MAST to Systematically Access Exoplanet Host Data](#3-using-the-nasa-exoplanet-archive-with-mast-to-systematically-access-exoplanet-host-data)"
   ]
  },
  {
   "cell_type": "markdown",
   "metadata": {},
   "source": [
    "# Overview\n",
    "The Barbara A. Mikulski Archive for Space Telescopes (MAST) is the primary data repository for all space telescope missions, including Hubble, JWST, TESS, and Kepler. Most exoplanet discoveries and analysis are performed using these instruments, so being able to navigate, query, and download data products is imperative. MAST is a **vast** network with countless tools, many of which are out of scope for this curriculum. Consequently, this module covers the following tools:\n",
    "- [MAST Portal](https://mast.stsci.edu/portal/Mashup/Clients/Mast/Portal.html)\n",
    "- [MAST API via astroquery](https://astroquery.readthedocs.io/en/latest/mast/mast.html)\n",
    "- [Exoplanet Atmosphere Observability Table](https://catalogs.mast.stsci.edu/eaot/)\n",
    "\n",
    "Resources that are not discussed, but that may be useful to some users, include:\n",
    "- [TESScut (TESS Full Frame Image Cutout Tool)](https://mast.stsci.edu/tesscut/)\n",
    "- [MAST Search (Hubble and JWST form-based query tool)](https://mast.stsci.edu/search/ui/#/)\n",
    "- [MAST API via HTTPS Requests](https://mast.stsci.edu/api/v0/)"
   ]
  },
  {
   "cell_type": "markdown",
   "metadata": {},
   "source": [
    "**Run the following code to initialize the interactive portions of this lesson:**\n",
    "\n"
   ]
  },
  {
   "cell_type": "code",
   "execution_count": 60,
   "metadata": {},
   "outputs": [],
   "source": [
    "from jupyterquiz import display_quiz\n",
    "import warnings\n",
    "import json\n",
    "warnings.filterwarnings('ignore')\n",
    "import os\n",
    "with open('Documents/Exoplanets/ExoCore/ExoCore-2/ExoCore/Exercise_Solutions/Module_2/MAST/Checkpoints/1.json', 'r') as file:\n",
    "    questions = json.load(file)"
   ]
  },
  {
   "cell_type": "markdown",
   "metadata": {},
   "source": [
    "# [MAST Portal](https://mast.stsci.edu/portal/Mashup/Clients/Mast/Portal.html)\n",
    "The MAST Portal is the web-based GUI where data can be easily accessed from. This section will go over how to construct a basic query and will offer pointers to tutorials and user guides for more advanced queries and tools.\n",
    "\n",
    "## Searching for Data\n",
    "\n",
    "### [Basic Search](https://outerspace.stsci.edu/display/MASTDOCS/Basic+Search)\n",
    "This comes in two steps:\n",
    "- Select a collection to query\n",
    "- Submitting a valid search criteria\n",
    "\n",
    "![Logo ><](../../Auxiliary_Files/Graphics/Data_Repositories/MAST_menu_selectCollection.png)\n",
    "\n",
    "In general, 'MAST Observations' is a safe default. A [table](https://outerspace.stsci.edu/display/MASTDOCS/Basic+Search) is available that gives information on the other collections.\n",
    "\n",
    "There are two main ways to query an object: by **name** or **coordinates**. \n",
    "\n",
    "#### Search by Name\n",
    "Querying by object is straightforward, and MAST is able to recognize a variety of different inputs for the same target. For example, WASP-100 also goes by TIC 38846515, 2MASS J04355033-6401373, etc., and will result in the same query. Here is a table outlining common paradigms:\n",
    "\n",
    "![Logo ><](../../Auxiliary_Files/Graphics/Data_Repositories/MAST_Allowed.PNG)\n",
    "\n",
    "#### Search by Coordinate\n",
    "RA and DEC can be specified along with a search radius to query a region of the sky. The format of this search is:\n",
    "\n",
    "`RA DEC r=[radius][unit]`\n",
    "\n",
    "Where `unit` can be \"d\" (degrees), \"min\" (arcminutes), or \"s\" (arc-seconds). RA and DEC units can be in sexadecimal, decimal degrees or galactic coordinates. Below outlines the acceptable formats:\n",
    "\n",
    "![Logo ><](../../Auxiliary_Files/Graphics/Data_Repositories/MAST_Allowed_Coord.PNG)\n",
    "\n",
    "### [List Search](https://outerspace.stsci.edu/display/MASTDOCS/Search+a+List+of+Targets)\n",
    "A list of targets can also be passed as a search.\n",
    "\n",
    "![Logo ><](../../Auxiliary_Files/Graphics/Data_Repositories/MAST_Target_List.PNG)\n",
    "\n",
    "The minimum required information, in distinct columns, are **Target** and **RA + DEC**, following the same paradigms as the basic search. \n",
    "\n",
    "![Logo ><](../../Auxiliary_Files/Graphics/Data_Repositories/MAST_List_Example.PNG)\n",
    "\n",
    "More details and caveats to this process can be found [here](https://outerspace.stsci.edu/display/MASTDOCS/Search+a+List+of+Targets)."
   ]
  },
  {
   "cell_type": "markdown",
   "metadata": {},
   "source": [
    "## Browsing Data\n",
    "After searching for your target(s), a list of available data products appear with a variety of information. These can be continually filtered, interacted with, and previewed, all within the portal interface. This section briefly discusses the basics of the interface, with pointers to additional information for more advanced searches.\n",
    "\n",
    "### Results Grid\n",
    "Let's say we search the system WASP-10 using a basic search. The results grid will look like:\n",
    "![Logo ><](../../Auxiliary_Files/Graphics/Data_Repositories/MAST_Table.PNG)\n",
    "\n",
    "The columns provide information such as filters, instrument, project, etc. The 'Edit Columns' in the upper left allow you to pick and choose which to display, and are explained [here](https://outerspace.stsci.edu/display/MASTDOCS/Search+Results+Grid). \n",
    "\n",
    "There are a number of icons that allow you to perform certain actions, if applicable, summarized in the table below:\n",
    "\n",
    "![Logo ><](../../Auxiliary_Files/Graphics/Data_Repositories/MAST_Actions.PNG)\n",
    "\n",
    "For our target, we can easily download the TESS time-series data, which would be the second row in the list displayed above (the first is an FFI, or Full Frame Image) by clicking on the \"Save\" icon.\n",
    "\n",
    "### Filters\n",
    "To refine the output of the results grid, we can apply a variety of different filters. Some example filters are shown here:\n",
    "\n",
    "![Logo ><](../../Auxiliary_Files/Graphics/Data_Repositories/MAST_Filters.PNG)\n",
    "\n",
    "These are all explanatory, so feel free to explore and apply filters as you see fit."
   ]
  },
  {
   "cell_type": "markdown",
   "metadata": {},
   "source": [
    "## Browsing Tools\n",
    "\n",
    "### [AstroView](https://outerspace.stsci.edu/display/MASTDOCS/AstroView)\n",
    "\n",
    "When searching for data, MAST will give a close-up sky view of the target in a box called `AstroView`, shown below:\n",
    "\n",
    "![Logo ><](../../Auxiliary_Files/Graphics/Data_Repositories/MAST_Astroview.PNG)\n",
    "\n",
    "Each orange outline/dot represents an associated data product with that part of the sky, which can be clicked on to highlight the data set in the results grid. **These regions are not necessarily tied to your searched target, which is indicated by the red crosshair. Be sure to check the target associated with the highlighted product before downloading.**\n",
    "\n",
    "### Actions and Visualization\n",
    "Some data allow you to perform actions or visualize data in-broswer, which can be useful to see before you download the data product. These are summarized in the table below:\n",
    "\n",
    "![Logo ><](../../Auxiliary_Files/Graphics/Data_Repositories/MAST_Visual.PNG)\n",
    "\n",
    "The details of these tools and how to use the interfaces can be found [here](https://outerspace.stsci.edu/display/MASTDOCS/Data+Browsing+Tools).\n",
    "\n",
    "\n",
    "### Downloading the Results Grid\n",
    "\n",
    "In some contexts, downloading the current results grid to an external file can be necessary. This can be done by clicking ![Logo ><](../Graphics/Data_Repositories/MAST_Download.PNG), and filling out the `Export Table` pop-up, shown below:\n",
    "\n",
    "![Logo ><](../../Auxiliary_Files/Graphics/Data_Repositories/MAST_GridExport.PNG)"
   ]
  },
  {
   "cell_type": "markdown",
   "metadata": {},
   "source": [
    "## Data Retrieval\n",
    "\n",
    "### One-Click Download\n",
    "As described above, data can be downloaded in one click using the ![Logo ><](../../Auxiliary_Files/Graphics/Data_Repositories/MAST_Save.png) icon next to the associated data product, which will download the **minimum recommended data products** for that observation. The file will save as a `.zip` file, which will have to be unpacked. That's it!\n",
    "\n",
    "### Download Basket\n",
    "\n",
    "If more than one data set is desired, they can be selected in the left most column in the results grid, shown here:\n",
    "\n",
    "![Logo ><](../../Auxiliary_Files/Graphics/Data_Repositories/MAST_GridSelect.PNG)\n",
    "\n",
    "These can then be added to the download basket using ![Logo ><](../../Auxiliary_Files/Graphics/Data_Repositories/MAST_DownloadBasket.PNG). This will bring up the download manager window:\n",
    "\n",
    "![Logo ><](../../Auxiliary_Files/Graphics/Data_Repositories/MAST_DownloadManage.PNG)\n",
    "\n",
    "Where specific files can be selected, filtered, or ignored, before being downloaded. See [here](https://outerspace.stsci.edu/display/MASTDOCS/Download+Basket) for more information on file types, filters, details and actions\n",
    "\n",
    "## Video Tutorials\n",
    "\n",
    "[Video demos](https://outerspace.stsci.edu/display/MASTDOCS/Demos+and+Tutorials) are available online for a comprehensive dive into the MAST portal!"
   ]
  },
  {
   "cell_type": "markdown",
   "metadata": {},
   "source": [
    "### Checkpoint 1\n",
    "\n",
    "Run the following line of code to start the first checkpoint."
   ]
  },
  {
   "cell_type": "code",
   "execution_count": 31,
   "metadata": {},
   "outputs": [
    {
     "data": {
      "text/html": [
       "<div id=\"bckozHcdJQLd\" data-shufflequestions=\"False\"\n",
       "               data-shuffleanswers=\"True\"\n",
       "               data-preserveresponses=\"false\"\n",
       "               data-numquestions=\"1000000\"\n",
       "               data-maxwidth=\"600\"\n",
       "               style=\"border-radius: 10px; text-align: left\"> <style>\n",
       "#bckozHcdJQLd {\n",
       "   --jq-multiple-choice-bg: #6f78ffff;\n",
       "   --jq-mc-button-bg: #fafafa;\n",
       "   --jq-mc-button-border: #e0e0e0e0;\n",
       "   --jq-mc-button-inset-shadow: #555555;\n",
       "   --jq-many-choice-bg: #f75c03ff;\n",
       "   --jq-numeric-bg: #392061ff;\n",
       "   --jq-numeric-input-bg: #c0c0c0;\n",
       "   --jq-numeric-input-label: #101010;\n",
       "   --jq-numeric-input-shadow: #999999;\n",
       "   --jq-incorrect-color: #c80202;\n",
       "   --jq-correct-color: #009113;\n",
       "   --jq-text-color: #fafafa;\n",
       "}\n",
       "\n",
       ".Quiz {\n",
       "    max-width: 600px;\n",
       "    margin-top: 15px;\n",
       "    margin-left: auto;\n",
       "    margin-right: auto;\n",
       "/*    margin-bottom: 15px;*/\n",
       "/*    padding-bottom: 4px;*/\n",
       "    padding-top: 4px;\n",
       "    line-height: 1.1;\n",
       "    font-size: 16pt;\n",
       "    border-radius: inherit;\n",
       "}\n",
       "\n",
       ".QuizCode {\n",
       "    font-size: 14pt;\n",
       "    margin-top: 10px;\n",
       "    margin-left: 20px;\n",
       "    margin-right: 20px;\n",
       "}\n",
       "\n",
       ".QuizCode>pre {\n",
       "    padding: 4px;\n",
       "}\n",
       "\n",
       ".Quiz code {\n",
       "    background-color: lightgray;\n",
       "    color: black;\n",
       "}\n",
       "\n",
       ".Quiz .QuizCode code {\n",
       "    background-color: inherit;\n",
       "    color: inherit;\n",
       "}\n",
       "\n",
       "\n",
       ".Quiz .MCButton code {\n",
       "    background-color: inherit;\n",
       "    color: inherit;\n",
       "}\n",
       "\n",
       ".MCButton .QuizCode {\n",
       "    text-align: left;\n",
       "}\n",
       "\n",
       "\n",
       "\n",
       "\n",
       ".Answer {\n",
       "    border-radius: inherit;\n",
       "    display: grid;\n",
       "    grid-gap: 10px;\n",
       "    grid-template-columns: 1fr 1fr;\n",
       "    margin: 10px 0;\n",
       "}\n",
       "\n",
       "@media only screen and (max-width:480px) {\n",
       "    .Answer {\n",
       "        grid-template-columns: 1fr;\n",
       "    }\n",
       "\n",
       "}\n",
       "\n",
       ".Feedback {\n",
       "    font-size: 16pt;\n",
       "    text-align: center;\n",
       "/*    min-height: 2em;*/\n",
       "}\n",
       "\n",
       ".Input {\n",
       "    align: left;\n",
       "    font-size: 20pt;\n",
       "}\n",
       "\n",
       ".Input-text {\n",
       "    display: block;\n",
       "    margin: 10px;\n",
       "    color: inherit;\n",
       "    width: 140px;\n",
       "    background-color: var(--jq-numeric-input-bg);\n",
       "    color: var(--jq-text-color);\n",
       "    padding: 5px;\n",
       "    padding-left: 10px;\n",
       "    font-family: inherit;\n",
       "    font-size: 20px;\n",
       "    font-weight: inherit;\n",
       "    line-height: 20pt;\n",
       "    border: none;\n",
       "    border-radius: 0.2rem;\n",
       "    transition: box-shadow 0.1s);\n",
       "}\n",
       "\n",
       ".Input-text:focus {\n",
       "    /*outline: none;*/\n",
       "    background-color: var(--jq-numeric-input-bg);\n",
       "    box-shadow: 0.6rem 0.8rem 1.4rem -0.5rem var(--jq-numeric-input-shadow);\n",
       "}\n",
       "\n",
       ".MCButton {\n",
       "    background: var(--jq-mc-button-bg);\n",
       "    border: 1px solid var(--jq-mc-button-border);\n",
       "    border-radius: inherit;\n",
       "    color: #333333;\n",
       "    padding: 10px;\n",
       "    font-size: 16px;\n",
       "    cursor: pointer;\n",
       "    text-align: center;\n",
       "    display: flex;\n",
       "    align-items: center;\n",
       "    justify-content: center;\n",
       "}\n",
       "\n",
       ".MCButton p {\n",
       "    color: inherit;\n",
       "}\n",
       "\n",
       ".MultipleChoiceQn {\n",
       "    padding: 10px;\n",
       "    background: var(--jq-multiple-choice-bg);\n",
       "    color: var(--jq-text-color);\n",
       "    border-radius: inherit;\n",
       "}\n",
       "\n",
       ".ManyChoiceQn {\n",
       "    padding: 10px;\n",
       "    background: var(--jq-many-choice-bg);\n",
       "    color: var(--jq-text-color);\n",
       "    border-radius: inherit;\n",
       "}\n",
       "\n",
       ".NumericQn {\n",
       "    background: var(--jq-numeric-bg);\n",
       "    border-radius: inherit;\n",
       "    color: var(--jq-text-color);\n",
       "    padding: 10px;\n",
       "}\n",
       "\n",
       ".NumericQn p {\n",
       "    color: inherit;\n",
       "}\n",
       "\n",
       ".InpLabel {\n",
       "    color: var(--jq-numeric-input-label);\n",
       "    float: left;\n",
       "    font-size: 15pt;\n",
       "    line-height: 34px;\n",
       "    margin-right: 10px;\n",
       "}\n",
       "\n",
       ".incorrect {\n",
       "    color: var(--jq-incorrect-color);\n",
       "}\n",
       "\n",
       ".correct {\n",
       "    color: var(--jq-correct-color);\n",
       "}\n",
       "\n",
       ".correctButton {\n",
       "    /*\n",
       "    background: var(--jq-correct-color);\n",
       "   */\n",
       "    animation: correct-anim 0.6s ease;\n",
       "    animation-fill-mode: forwards;\n",
       "    box-shadow: inset 0 0 5px var(--jq-mc-button-inset-shadow);\n",
       "    color: var(--jq-text-color);\n",
       "    /*outline: none;*/\n",
       "}\n",
       "\n",
       ".incorrectButton {\n",
       "    animation: incorrect-anim 0.8s ease;\n",
       "    animation-fill-mode: forwards;\n",
       "    box-shadow: inset 0 0 5px var(--jq-mc-button-inset-shadow);\n",
       "    color: var(--jq-text-color);\n",
       "    /*outline: none;*/\n",
       "}\n",
       "\n",
       "@keyframes incorrect-anim {\n",
       "    100% {\n",
       "        background-color: var(--jq-incorrect-color);\n",
       "    }\n",
       "}\n",
       "\n",
       "@keyframes correct-anim {\n",
       "    100% {\n",
       "        background-color: var(--jq-correct-color);\n",
       "    }\n",
       "}\n",
       "</style>"
      ],
      "text/plain": [
       "<IPython.core.display.HTML object>"
      ]
     },
     "metadata": {},
     "output_type": "display_data"
    },
    {
     "data": {
      "application/javascript": "var questionsbckozHcdJQLd=[{\"question\": \"How can you query an object using the basic search fuctionality in MAST?\", \"type\": \"many_choice\", \"answers\": [{\"answer\": \"Search by Object Name\", \"correct\": true, \"feedback\": \"Correct. This includes standard catalog names, common names, and star catalogs with coordinates.\"}, {\"answer\": \"Search by Coordinate\", \"correct\": true, \"feedback\": \"Correct. You can search by an object's right ascension and declination, and within a certain radius of that coordinate.\"}, {\"answer\": \"Search by Constellation\", \"correct\": false, \"feedback\": \"Incorrect. Searching by this will either return *no results* or an object that happens to share a close common name with the constellation.\"}, {\"answer\": \"Search by _______\", \"correct\": false, \"feedback\": \"Incorrect.\"}]}, {\"question\": \"What is the minimum required information to include in a search for a list of targets?\", \"type\": \"many_choice\", \"answer_cols\": 4, \"answers\": [{\"answer\": \"Target Name\", \"correct\": true, \"feedback\": \"Correct.\"}, {\"answer\": \"Target RA and DEC\", \"correct\": true, \"feedback\": \"Correct.\"}, {\"answer\": \"Target Galactic Coordinates\", \"correct\": false, \"feedback\": \"Incorrect. While this is a valid search parameter, it is not required.\"}, {\"answer\": \"Target Mission\", \"correct\": false, \"feedback\": \"Incorrect. While this is a valid search parameter, it is not required.\"}]}, {\"question\": \"Which of these are browsing options available in MAST?\", \"type\": \"many_choice\", \"answers\": [{\"answer\": \"AstroView\", \"correct\": true, \"feedback\": \"Correct. MAST will display the position of the object in a sky viewer.\"}, {\"answer\": \"Browser Visualizations\", \"correct\": true, \"feedback\": \"Correct. Certain data products can be viewed or otherwise visualized in a browser before download.\"}, {\"answer\": \"Exporting the Results Grid\", \"correct\": true, \"feedback\": \"Correct. While not always necessary, you can export the results of your search to a CSV file, among other common formats.\"}, {\"answer\": \"XYZ\", \"correct\": false, \"feedback\": \"False. Idk why yet.\"}]}];\n    // Make a random ID\nfunction makeid(length) {\n    var result = [];\n    var characters = 'ABCDEFGHIJKLMNOPQRSTUVWXYZabcdefghijklmnopqrstuvwxyz';\n    var charactersLength = characters.length;\n    for (var i = 0; i < length; i++) {\n        result.push(characters.charAt(Math.floor(Math.random() * charactersLength)));\n    }\n    return result.join('');\n}\n\n// Choose a random subset of an array. Can also be used to shuffle the array\nfunction getRandomSubarray(arr, size) {\n    var shuffled = arr.slice(0), i = arr.length, temp, index;\n    while (i--) {\n        index = Math.floor((i + 1) * Math.random());\n        temp = shuffled[index];\n        shuffled[index] = shuffled[i];\n        shuffled[i] = temp;\n    }\n    return shuffled.slice(0, size);\n}\n\nfunction printResponses(responsesContainer) {\n    var responses=JSON.parse(responsesContainer.dataset.responses);\n    var stringResponses='<B>IMPORTANT!</B>To preserve this answer sequence for submission, when you have finalized your answers: <ol> <li> Copy the text in this cell below \"Answer String\"</li> <li> Double click on the cell directly below the Answer String, labeled \"Replace Me\"</li> <li> Select the whole \"Replace Me\" text</li> <li> Paste in your answer string and press shift-Enter.</li><li>Save the notebook using the save icon or File->Save Notebook menu item</li></ul><br><br><br><b>Answer String:</b><br> ';\n    console.log(responses);\n    responses.forEach((response, index) => {\n        if (response) {\n            console.log(index + ': ' + response);\n            stringResponses+= index + ': ' + response +\"<BR>\";\n        }\n    });\n    responsesContainer.innerHTML=stringResponses;\n}\n/* Callback function to determine whether a selected multiple-choice\n   button corresponded to a correct answer and to provide feedback\n   based on the answer */\nfunction check_mc() {\n    var id = this.id.split('-')[0];\n    //var response = this.id.split('-')[1];\n    //console.log(response);\n    //console.log(\"In check_mc(), id=\"+id);\n    //console.log(event.srcElement.id)           \n    //console.log(event.srcElement.dataset.correct)   \n    //console.log(event.srcElement.dataset.feedback)\n\n    var label = event.srcElement;\n    //console.log(label, label.nodeName);\n    var depth = 0;\n    while ((label.nodeName != \"LABEL\") && (depth < 20)) {\n        label = label.parentElement;\n        console.log(depth, label);\n        depth++;\n    }\n\n\n\n    var answers = label.parentElement.children;\n    //console.log(answers);\n\n    // Split behavior based on multiple choice vs many choice:\n    var fb = document.getElementById(\"fb\" + id);\n\n\n\n    /* Multiple choice (1 answer). Allow for 0 correct\n       answers as an edge case */\n    if (fb.dataset.numcorrect <= 1) {\n        // What follows is for the saved responses stuff\n        var outerContainer = fb.parentElement.parentElement;\n        var responsesContainer = document.getElementById(\"responses\" + outerContainer.id);\n        if (responsesContainer) {\n            //console.log(responsesContainer);\n            var response = label.firstChild.innerText;\n            if (label.querySelector(\".QuizCode\")){\n                response+= label.querySelector(\".QuizCode\").firstChild.innerText;\n            }\n            console.log(response);\n            //console.log(document.getElementById(\"quizWrap\"+id));\n            var qnum = document.getElementById(\"quizWrap\"+id).dataset.qnum;\n            console.log(\"Question \" + qnum);\n            //console.log(id, \", got numcorrect=\",fb.dataset.numcorrect);\n            var responses=JSON.parse(responsesContainer.dataset.responses);\n            console.log(responses);\n            responses[qnum]= response;\n            responsesContainer.setAttribute('data-responses', JSON.stringify(responses));\n            printResponses(responsesContainer);\n        }\n        // End code to preserve responses\n\n        for (var i = 0; i < answers.length; i++) {\n            var child = answers[i];\n            //console.log(child);\n            child.className = \"MCButton\";\n        }\n\n\n\n        if (label.dataset.correct == \"true\") {\n            // console.log(\"Correct action\");\n            if (\"feedback\" in label.dataset) {\n                fb.innerHTML = jaxify(label.dataset.feedback);\n            } else {\n                fb.innerHTML = \"Correct!\";\n            }\n            label.classList.add(\"correctButton\");\n\n            fb.className = \"Feedback\";\n            fb.classList.add(\"correct\");\n\n        } else {\n            if (\"feedback\" in label.dataset) {\n                fb.innerHTML = jaxify(label.dataset.feedback);\n            } else {\n                fb.innerHTML = \"Incorrect -- try again.\";\n            }\n            //console.log(\"Error action\");\n            label.classList.add(\"incorrectButton\");\n            fb.className = \"Feedback\";\n            fb.classList.add(\"incorrect\");\n        }\n    }\n    else { /* Many choice (more than 1 correct answer) */\n        var reset = false;\n        var feedback;\n         if (label.dataset.correct == \"true\") {\n            if (\"feedback\" in label.dataset) {\n                feedback = jaxify(label.dataset.feedback);\n            } else {\n                feedback = \"Correct!\";\n            }\n            if (label.dataset.answered <= 0) {\n                if (fb.dataset.answeredcorrect < 0) {\n                    fb.dataset.answeredcorrect = 1;\n                    reset = true;\n                } else {\n                    fb.dataset.answeredcorrect++;\n                }\n                if (reset) {\n                    for (var i = 0; i < answers.length; i++) {\n                        var child = answers[i];\n                        child.className = \"MCButton\";\n                        child.dataset.answered = 0;\n                    }\n                }\n                label.classList.add(\"correctButton\");\n                label.dataset.answered = 1;\n                fb.className = \"Feedback\";\n                fb.classList.add(\"correct\");\n\n            }\n        } else {\n            if (\"feedback\" in label.dataset) {\n                feedback = jaxify(label.dataset.feedback);\n            } else {\n                feedback = \"Incorrect -- try again.\";\n            }\n            if (fb.dataset.answeredcorrect > 0) {\n                fb.dataset.answeredcorrect = -1;\n                reset = true;\n            } else {\n                fb.dataset.answeredcorrect--;\n            }\n\n            if (reset) {\n                for (var i = 0; i < answers.length; i++) {\n                    var child = answers[i];\n                    child.className = \"MCButton\";\n                    child.dataset.answered = 0;\n                }\n            }\n            label.classList.add(\"incorrectButton\");\n            fb.className = \"Feedback\";\n            fb.classList.add(\"incorrect\");\n        }\n        // What follows is for the saved responses stuff\n        var outerContainer = fb.parentElement.parentElement;\n        var responsesContainer = document.getElementById(\"responses\" + outerContainer.id);\n        if (responsesContainer) {\n            //console.log(responsesContainer);\n            var response = label.firstChild.innerText;\n            if (label.querySelector(\".QuizCode\")){\n                response+= label.querySelector(\".QuizCode\").firstChild.innerText;\n            }\n            console.log(response);\n            //console.log(document.getElementById(\"quizWrap\"+id));\n            var qnum = document.getElementById(\"quizWrap\"+id).dataset.qnum;\n            console.log(\"Question \" + qnum);\n            //console.log(id, \", got numcorrect=\",fb.dataset.numcorrect);\n            var responses=JSON.parse(responsesContainer.dataset.responses);\n            if (label.dataset.correct == \"true\") {\n                if (typeof(responses[qnum]) == \"object\"){\n                    if (!responses[qnum].includes(response))\n                        responses[qnum].push(response);\n                } else{\n                    responses[qnum]= [ response ];\n                }\n            } else {\n                responses[qnum]= response;\n            }\n            console.log(responses);\n            responsesContainer.setAttribute('data-responses', JSON.stringify(responses));\n            printResponses(responsesContainer);\n        }\n        // End save responses stuff\n\n\n\n        var numcorrect = fb.dataset.numcorrect;\n        var answeredcorrect = fb.dataset.answeredcorrect;\n        if (answeredcorrect >= 0) {\n            fb.innerHTML = feedback + \" [\" + answeredcorrect + \"/\" + numcorrect + \"]\";\n        } else {\n            fb.innerHTML = feedback + \" [\" + 0 + \"/\" + numcorrect + \"]\";\n        }\n\n\n    }\n\n    if (typeof MathJax != 'undefined') {\n        var version = MathJax.version;\n        console.log('MathJax version', version);\n        if (version[0] == \"2\") {\n            MathJax.Hub.Queue([\"Typeset\", MathJax.Hub]);\n        } else if (version[0] == \"3\") {\n            MathJax.typeset([fb]);\n        }\n    } else {\n        console.log('MathJax not detected');\n    }\n\n}\n\n\n/* Function to produce the HTML buttons for a multiple choice/\n   many choice question  and to update the CSS tags based on\n   the question type */\nfunction make_mc(qa, shuffle_answers, outerqDiv, qDiv, aDiv, id) {\n\n    var shuffled;\n    if (shuffle_answers == \"True\") {\n        //console.log(shuffle_answers+\" read as true\");\n        shuffled = getRandomSubarray(qa.answers, qa.answers.length);\n    } else {\n        //console.log(shuffle_answers+\" read as false\");\n        shuffled = qa.answers;\n    }\n\n\n    var num_correct = 0;\n\n    shuffled.forEach((item, index, ans_array) => {\n        //console.log(answer);\n\n        // Make input element\n        var inp = document.createElement(\"input\");\n        inp.type = \"radio\";\n        inp.id = \"quizo\" + id + index;\n        inp.style = \"display:none;\";\n        aDiv.append(inp);\n\n        //Make label for input element\n        var lab = document.createElement(\"label\");\n        lab.className = \"MCButton\";\n        lab.id = id + '-' + index;\n        lab.onclick = check_mc;\n        var aSpan = document.createElement('span');\n        aSpan.classsName = \"\";\n        //qDiv.id=\"quizQn\"+id+index;\n        if (\"answer\" in item) {\n            aSpan.innerHTML = jaxify(item.answer);\n            //aSpan.innerHTML=item.answer;\n        }\n        lab.append(aSpan);\n\n        // Create div for code inside question\n        var codeSpan;\n        if (\"code\" in item) {\n            codeSpan = document.createElement('span');\n            codeSpan.id = \"code\" + id + index;\n            codeSpan.className = \"QuizCode\";\n            var codePre = document.createElement('pre');\n            codeSpan.append(codePre);\n            var codeCode = document.createElement('code');\n            codePre.append(codeCode);\n            codeCode.innerHTML = item.code;\n            lab.append(codeSpan);\n            //console.log(codeSpan);\n        }\n\n        //lab.textContent=item.answer;\n\n        // Set the data attributes for the answer\n        lab.setAttribute('data-correct', item.correct);\n        if (item.correct) {\n            num_correct++;\n        }\n        if (\"feedback\" in item) {\n            lab.setAttribute('data-feedback', item.feedback);\n        }\n        lab.setAttribute('data-answered', 0);\n\n        aDiv.append(lab);\n\n    });\n\n    if (num_correct > 1) {\n        outerqDiv.className = \"ManyChoiceQn\";\n    } else {\n        outerqDiv.className = \"MultipleChoiceQn\";\n    }\n\n    return num_correct;\n\n}\nfunction check_numeric(ths, event) {\n\n    if (event.keyCode === 13) {\n        ths.blur();\n\n        var id = ths.id.split('-')[0];\n\n        var submission = ths.value;\n        if (submission.indexOf('/') != -1) {\n            var sub_parts = submission.split('/');\n            //console.log(sub_parts);\n            submission = sub_parts[0] / sub_parts[1];\n        }\n        //console.log(\"Reader entered\", submission);\n\n        if (\"precision\" in ths.dataset) {\n            var precision = ths.dataset.precision;\n            submission = Number(Number(submission).toPrecision(precision));\n        }\n\n\n        //console.log(\"In check_numeric(), id=\"+id);\n        //console.log(event.srcElement.id)           \n        //console.log(event.srcElement.dataset.feedback)\n\n        var fb = document.getElementById(\"fb\" + id);\n        fb.style.display = \"none\";\n        fb.innerHTML = \"Incorrect -- try again.\";\n\n        var answers = JSON.parse(ths.dataset.answers);\n        //console.log(answers);\n\n        var defaultFB = \"Incorrect. Try again.\";\n        var correct;\n        var done = false;\n        answers.every(answer => {\n            //console.log(answer.type);\n\n            correct = false;\n            // if (answer.type==\"value\"){\n            if ('value' in answer) {\n                if (submission == answer.value) {\n                    if (\"feedback\" in answer) {\n                        fb.innerHTML = jaxify(answer.feedback);\n                    } else {\n                        fb.innerHTML = jaxify(\"Correct\");\n                    }\n                    correct = answer.correct;\n                    //console.log(answer.correct);\n                    done = true;\n                }\n                // } else if (answer.type==\"range\") {\n            } else if ('range' in answer) {\n                console.log(answer.range);\n                console.log(submission, submission >=answer.range[0], submission < answer.range[1])\n                if ((submission >= answer.range[0]) && (submission < answer.range[1])) {\n                    fb.innerHTML = jaxify(answer.feedback);\n                    correct = answer.correct;\n                    console.log(answer.correct);\n                    done = true;\n                }\n            } else if (answer.type == \"default\") {\n                if (\"feedback\" in answer) {\n                    defaultFB = answer.feedback;\n                } \n            }\n            if (done) {\n                return false; // Break out of loop if this has been marked correct\n            } else {\n                return true; // Keep looking for case that includes this as a correct answer\n            }\n        });\n        console.log(\"done:\", done);\n\n        if ((!done) && (defaultFB != \"\")) {\n            fb.innerHTML = jaxify(defaultFB);\n            //console.log(\"Default feedback\", defaultFB);\n        }\n\n        fb.style.display = \"block\";\n        if (correct) {\n            ths.className = \"Input-text\";\n            ths.classList.add(\"correctButton\");\n            fb.className = \"Feedback\";\n            fb.classList.add(\"correct\");\n        } else {\n            ths.className = \"Input-text\";\n            ths.classList.add(\"incorrectButton\");\n            fb.className = \"Feedback\";\n            fb.classList.add(\"incorrect\");\n        }\n\n        // What follows is for the saved responses stuff\n        var outerContainer = fb.parentElement.parentElement;\n        var responsesContainer = document.getElementById(\"responses\" + outerContainer.id);\n        if (responsesContainer) {\n            console.log(submission);\n            var qnum = document.getElementById(\"quizWrap\"+id).dataset.qnum;\n            //console.log(\"Question \" + qnum);\n            //console.log(id, \", got numcorrect=\",fb.dataset.numcorrect);\n            var responses=JSON.parse(responsesContainer.dataset.responses);\n            console.log(responses);\n            if (submission == ths.value){\n                responses[qnum]= submission;\n            } else {\n                responses[qnum]= ths.value + \"(\" + submission +\")\";\n            }\n            responsesContainer.setAttribute('data-responses', JSON.stringify(responses));\n            printResponses(responsesContainer);\n        }\n        // End code to preserve responses\n\n        if (typeof MathJax != 'undefined') {\n            var version = MathJax.version;\n            console.log('MathJax version', version);\n            if (version[0] == \"2\") {\n                MathJax.Hub.Queue([\"Typeset\", MathJax.Hub]);\n            } else if (version[0] == \"3\") {\n                MathJax.typeset([fb]);\n            }\n        } else {\n            console.log('MathJax not detected');\n        }\n        return false;\n    }\n\n}\n\nfunction isValid(el, charC) {\n    //console.log(\"Input char: \", charC);\n    if (charC == 46) {\n        if (el.value.indexOf('.') === -1) {\n            return true;\n        } else if (el.value.indexOf('/') != -1) {\n            var parts = el.value.split('/');\n            if (parts[1].indexOf('.') === -1) {\n                return true;\n            }\n        }\n        else {\n            return false;\n        }\n    } else if (charC == 47) {\n        if (el.value.indexOf('/') === -1) {\n            if ((el.value != \"\") && (el.value != \".\")) {\n                return true;\n            } else {\n                return false;\n            }\n        } else {\n            return false;\n        }\n    } else if (charC == 45) {\n        var edex = el.value.indexOf('e');\n        if (edex == -1) {\n            edex = el.value.indexOf('E');\n        }\n\n        if (el.value == \"\") {\n            return true;\n        } else if (edex == (el.value.length - 1)) { // If just after e or E\n            return true;\n        } else {\n            return false;\n        }\n    } else if (charC == 101) { // \"e\"\n        if ((el.value.indexOf('e') === -1) && (el.value.indexOf('E') === -1) && (el.value.indexOf('/') == -1)) {\n            // Prev symbol must be digit or decimal point:\n            if (el.value.slice(-1).search(/\\d/) >= 0) {\n                return true;\n            } else if (el.value.slice(-1).search(/\\./) >= 0) {\n                return true;\n            } else {\n                return false;\n            }\n        } else {\n            return false;\n        }\n    } else {\n        if (charC > 31 && (charC < 48 || charC > 57))\n            return false;\n    }\n    return true;\n}\n\nfunction numeric_keypress(evnt) {\n    var charC = (evnt.which) ? evnt.which : evnt.keyCode;\n\n    if (charC == 13) {\n        check_numeric(this, evnt);\n    } else {\n        return isValid(this, charC);\n    }\n}\n\n\n\n\n\nfunction make_numeric(qa, outerqDiv, qDiv, aDiv, id) {\n\n\n\n    //console.log(answer);\n\n\n    outerqDiv.className = \"NumericQn\";\n    aDiv.style.display = 'block';\n\n    var lab = document.createElement(\"label\");\n    lab.className = \"InpLabel\";\n    lab.innerHTML = \"Type numeric answer here:\";\n    aDiv.append(lab);\n\n    var inp = document.createElement(\"input\");\n    inp.type = \"text\";\n    //inp.id=\"input-\"+id;\n    inp.id = id + \"-0\";\n    inp.className = \"Input-text\";\n    inp.setAttribute('data-answers', JSON.stringify(qa.answers));\n    if (\"precision\" in qa) {\n        inp.setAttribute('data-precision', qa.precision);\n    }\n    aDiv.append(inp);\n    //console.log(inp);\n\n    //inp.addEventListener(\"keypress\", check_numeric);\n    //inp.addEventListener(\"keypress\", numeric_keypress);\n    /*\n    inp.addEventListener(\"keypress\", function(event) {\n        return numeric_keypress(this, event);\n    }\n                        );\n                        */\n    //inp.onkeypress=\"return numeric_keypress(this, event)\";\n    inp.onkeypress = numeric_keypress;\n    inp.onpaste = event => false;\n\n    inp.addEventListener(\"focus\", function (event) {\n        this.value = \"\";\n        return false;\n    }\n    );\n\n\n}\nfunction jaxify(string) {\n    var mystring = string;\n\n    var count = 0;\n    var loc = mystring.search(/([^\\\\]|^)(\\$)/);\n\n    var count2 = 0;\n    var loc2 = mystring.search(/([^\\\\]|^)(\\$\\$)/);\n\n    //console.log(loc);\n\n    while ((loc >= 0) || (loc2 >= 0)) {\n\n        /* Have to replace all the double $$ first with current implementation */\n        if (loc2 >= 0) {\n            if (count2 % 2 == 0) {\n                mystring = mystring.replace(/([^\\\\]|^)(\\$\\$)/, \"$1\\\\[\");\n            } else {\n                mystring = mystring.replace(/([^\\\\]|^)(\\$\\$)/, \"$1\\\\]\");\n            }\n            count2++;\n        } else {\n            if (count % 2 == 0) {\n                mystring = mystring.replace(/([^\\\\]|^)(\\$)/, \"$1\\\\(\");\n            } else {\n                mystring = mystring.replace(/([^\\\\]|^)(\\$)/, \"$1\\\\)\");\n            }\n            count++;\n        }\n        loc = mystring.search(/([^\\\\]|^)(\\$)/);\n        loc2 = mystring.search(/([^\\\\]|^)(\\$\\$)/);\n        //console.log(mystring,\", loc:\",loc,\", loc2:\",loc2);\n    }\n\n    // repace markdown style links with actual links\n    mystring = mystring.replace(/<(.*?)>/, '<a href=\"$1\" target=\"_blank\" class=\"Link\">$1</a>');\n    mystring = mystring.replace(/\\[(.*?)\\]\\((.*?)\\)/, '<a href=\"$2\" target=\"_blank\" class=\"Link\">$1</a>');\n\n    //console.log(mystring);\n    return mystring;\n}\n\n\nfunction show_questions(json, mydiv) {\n    console.log('show_questions');\n    //var mydiv=document.getElementById(myid);\n    var shuffle_questions = mydiv.dataset.shufflequestions;\n    var num_questions = mydiv.dataset.numquestions;\n    var shuffle_answers = mydiv.dataset.shuffleanswers;\n    var max_width = mydiv.dataset.maxwidth;\n\n    if (num_questions > json.length) {\n        num_questions = json.length;\n    }\n\n    var questions;\n    if ((num_questions < json.length) || (shuffle_questions == \"True\")) {\n        //console.log(num_questions+\",\"+json.length);\n        questions = getRandomSubarray(json, num_questions);\n    } else {\n        questions = json;\n    }\n\n    //console.log(\"SQ: \"+shuffle_questions+\", NQ: \" + num_questions + \", SA: \", shuffle_answers);\n\n    // Iterate over questions\n    questions.forEach((qa, index, array) => {\n        //console.log(qa.question); \n\n        var id = makeid(8);\n        //console.log(id);\n\n\n        // Create Div to contain question and answers\n        var iDiv = document.createElement('div');\n        //iDiv.id = 'quizWrap' + id + index;\n        iDiv.id = 'quizWrap' + id;\n        iDiv.className = 'Quiz';\n        iDiv.setAttribute('data-qnum', index);\n        iDiv.style.maxWidth  =max_width+\"px\";\n        mydiv.appendChild(iDiv);\n        // iDiv.innerHTML=qa.question;\n        \n        var outerqDiv = document.createElement('div');\n        outerqDiv.id = \"OuterquizQn\" + id + index;\n        // Create div to contain question part\n        var qDiv = document.createElement('div');\n        qDiv.id = \"quizQn\" + id + index;\n        \n        if (qa.question) {\n            iDiv.append(outerqDiv);\n\n            //qDiv.textContent=qa.question;\n            qDiv.innerHTML = jaxify(qa.question);\n            outerqDiv.append(qDiv);\n        }\n\n        // Create div for code inside question\n        var codeDiv;\n        if (\"code\" in qa) {\n            codeDiv = document.createElement('div');\n            codeDiv.id = \"code\" + id + index;\n            codeDiv.className = \"QuizCode\";\n            var codePre = document.createElement('pre');\n            codeDiv.append(codePre);\n            var codeCode = document.createElement('code');\n            codePre.append(codeCode);\n            codeCode.innerHTML = qa.code;\n            outerqDiv.append(codeDiv);\n            //console.log(codeDiv);\n        }\n\n\n        // Create div to contain answer part\n        var aDiv = document.createElement('div');\n        aDiv.id = \"quizAns\" + id + index;\n        aDiv.className = 'Answer';\n        iDiv.append(aDiv);\n\n        //console.log(qa.type);\n\n        var num_correct;\n        if ((qa.type == \"multiple_choice\") || (qa.type == \"many_choice\") ) {\n            num_correct = make_mc(qa, shuffle_answers, outerqDiv, qDiv, aDiv, id);\n            if (\"answer_cols\" in qa) {\n                //aDiv.style.gridTemplateColumns = 'auto '.repeat(qa.answer_cols);\n                aDiv.style.gridTemplateColumns = 'repeat(' + qa.answer_cols + ', 1fr)';\n            }\n        } else if (qa.type == \"numeric\") {\n            //console.log(\"numeric\");\n            make_numeric(qa, outerqDiv, qDiv, aDiv, id);\n        }\n\n\n        //Make div for feedback\n        var fb = document.createElement(\"div\");\n        fb.id = \"fb\" + id;\n        //fb.style=\"font-size: 20px;text-align:center;\";\n        fb.className = \"Feedback\";\n        fb.setAttribute(\"data-answeredcorrect\", 0);\n        fb.setAttribute(\"data-numcorrect\", num_correct);\n        iDiv.append(fb);\n\n\n    });\n    var preserveResponses = mydiv.dataset.preserveresponses;\n    console.log(preserveResponses);\n    console.log(preserveResponses == \"true\");\n    if (preserveResponses == \"true\") {\n        console.log(preserveResponses);\n        // Create Div to contain record of answers\n        var iDiv = document.createElement('div');\n        iDiv.id = 'responses' + mydiv.id;\n        iDiv.className = 'JCResponses';\n        // Create a place to store responses as an empty array\n        iDiv.setAttribute('data-responses', '[]');\n\n        // Dummy Text\n        iDiv.innerHTML=\"<b>Select your answers and then follow the directions that will appear here.</b>\"\n        //iDiv.className = 'Quiz';\n        mydiv.appendChild(iDiv);\n    }\n//console.log(\"At end of show_questions\");\n    if (typeof MathJax != 'undefined') {\n        console.log(\"MathJax version\", MathJax.version);\n        var version = MathJax.version;\n        setTimeout(function(){\n            var version = MathJax.version;\n            console.log('After sleep, MathJax version', version);\n            if (version[0] == \"2\") {\n                MathJax.Hub.Queue([\"Typeset\", MathJax.Hub]);\n            } else if (version[0] == \"3\") {\n                if (MathJax.hasOwnProperty('typeset') ) {\n                    MathJax.typeset([mydiv]);\n                } else {\n                    console.log('WARNING: Trying to force load MathJax 3');\n                    window.MathJax = {\n                        tex: {\n                            inlineMath: [['$', '$'], ['\\\\(', '\\\\)']]\n                        },\n                        svg: {\n                            fontCache: 'global'\n                        }\n                    };\n\n                    (function () {\n                        var script = document.createElement('script');\n                        script.src = 'https://cdn.jsdelivr.net/npm/mathjax@3/es5/tex-svg.js';\n                        script.async = true;\n                        document.head.appendChild(script);\n                    })();\n                }\n            }\n        }, 500);\nif (typeof version == 'undefined') {\n        } else\n        {\n            if (version[0] == \"2\") {\n                MathJax.Hub.Queue([\"Typeset\", MathJax.Hub]);\n            } else if (version[0] == \"3\") {\n                if (MathJax.hasOwnProperty('typeset') ) {\n                    MathJax.typeset([mydiv]);\n                } else {\n                    console.log('WARNING: Trying to force load MathJax 3');\n                    window.MathJax = {\n                        tex: {\n                            inlineMath: [['$', '$'], ['\\\\(', '\\\\)']]\n                        },\n                        svg: {\n                            fontCache: 'global'\n                        }\n                    };\n\n                    (function () {\n                        var script = document.createElement('script');\n                        script.src = 'https://cdn.jsdelivr.net/npm/mathjax@3/es5/tex-svg.js';\n                        script.async = true;\n                        document.head.appendChild(script);\n                    })();\n                }\n            } else {\n                console.log(\"MathJax not found\");\n            }\n        }\n    }\n\n    // stop event propagation for the .Link class\n    var links = document.getElementsByClassName('Link')\n    for (var i = 0; i < links.length; i++) {\n        links[i].addEventListener('click', function(e){\n            e.stopPropagation();\n        });\n    }\n\n    return false;\n}\n/* This is to handle asynchrony issues in loading Jupyter notebooks\n           where the quiz has been previously run. The Javascript was generally\n           being run before the div was added to the DOM. I tried to do this\n           more elegantly using Mutation Observer, but I didn't get it to work.\n\n           Someone more knowledgeable could make this better ;-) */\n\n        function try_show() {\n          if(document.getElementById(\"bckozHcdJQLd\")) {\n            show_questions(questionsbckozHcdJQLd,  bckozHcdJQLd); \n          } else {\n             setTimeout(try_show, 200);\n          }\n        };\n    \n        {\n        // console.log(element);\n\n        //console.log(\"bckozHcdJQLd\");\n        // console.log(document.getElementById(\"bckozHcdJQLd\"));\n\n        try_show();\n        }\n        ",
      "text/plain": [
       "<IPython.core.display.Javascript object>"
      ]
     },
     "metadata": {},
     "output_type": "display_data"
    }
   ],
   "source": [
    "display_quiz(questions[0:3])"
   ]
  },
  {
   "cell_type": "markdown",
   "metadata": {},
   "source": []
  },
  {
   "cell_type": "markdown",
   "metadata": {},
   "source": [
    "# [MAST API via astroquery](https://astroquery.readthedocs.io/en/latest/mast/mast.html)\n",
    "\n",
    "The MAST portal can be effective when dealing with a few targets, but struggles when target lists reach the **hundreds** or ***thousands***. For this, the Python module `astroquery` can retrieve and download associated data products from MAST programmatically. For example, downloading all TESS time-series photometry for all known TESS Objects of Interest can be reduced down to a list of TIC IDs and a simple `for` loop. The query types addressed in this module are:\n",
    "\n",
    "- [Observational Queries](https://astroquery.readthedocs.io/en/latest/mast/mast_obsquery.html)\n",
    "- [Catalog Queries](https://astroquery.readthedocs.io/en/latest/mast/mast_catalog.html)\n",
    "\n",
    "The queries not addressed here, but may be useful, are:\n",
    "\n",
    "- [Mission Searches (JWST, HST metadata)](https://astroquery.readthedocs.io/en/latest/mast/mast_missions.html)\n",
    "- [Image Cutouts (e.g. TESScut)](https://astroquery.readthedocs.io/en/latest/mast/mast_cut.html)\n",
    "- [MAST Queries](https://astroquery.readthedocs.io/en/latest/mast/mast_mastquery.html)\n",
    "\n",
    "This section goes through the basic functions of `astroquery.mast`, with a few illustrative examples. To start, we import the appropriate modules:"
   ]
  },
  {
   "cell_type": "code",
   "execution_count": 5,
   "metadata": {},
   "outputs": [],
   "source": [
    "from astroquery.mast import Observations, Catalogs"
   ]
  },
  {
   "cell_type": "markdown",
   "metadata": {},
   "source": [
    "## [Observational Queries](https://astroquery.readthedocs.io/en/latest/api/astroquery.mast.ObservationsClass.html#astroquery.mast.ObservationsClass)\n",
    "### Generating Observation Tables\n",
    "The `Observations` class input is similar to the MAST Portal's filtering. Queries can be made by **position**, **target name**, or other **criteria** (such as catalog ID number). These queries output an `astropy` table of observations, which can then be downloaded. Here are examples of typical workflows."
   ]
  },
  {
   "cell_type": "code",
   "execution_count": 16,
   "metadata": {},
   "outputs": [
    {
     "name": "stdout",
     "output_type": "stream",
     "text": [
      "intentType obs_collection provenance_name ...   obsid        distance     \n",
      "---------- -------------- --------------- ... --------- ------------------\n",
      "   science           TESS            SPOC ...  27463641                0.0\n",
      "   science           TESS            SPOC ...  27507606                0.0\n",
      "   science           TESS            SPOC ...  62431376                0.0\n",
      "   science           TESS            SPOC ...  62870786                0.0\n",
      "   science           TESS            SPOC ...  92616930                0.0\n",
      "   science           TESS            SPOC ...  95133384                0.0\n",
      "   science           TESS            SPOC ... 212510190                0.0\n",
      "   science           TESS            SPOC ... 213002720                0.0\n",
      "   science           TESS            SPOC ... 230167024                0.0\n",
      "   science           TESS            SPOC ... 232881378                0.0\n",
      "       ...            ...             ... ...       ...                ...\n",
      "   science            HLA             HLA ...  25907480                0.0\n",
      "   science            HLA             HLA ...  25907481                0.0\n",
      "   science            HLA             HLA ...  25907482                0.0\n",
      "   science            HLA             HLA ...  25907483                0.0\n",
      "   science            HLA             HLA ...  26030433                0.0\n",
      "   science            HLA             HLA ...  26036087 302.97582263477204\n",
      "   science            HLA             HLA ...  26177773 302.97582263477204\n",
      "   science            HLA             HLA ...  26036086 302.97823343218556\n",
      "   science            HLA             HLA ...  26036088 302.97823343218556\n",
      "   science          GALEX             AIS ...      9747  138.5761601079376\n",
      "Length = 23552 rows\n"
     ]
    }
   ],
   "source": [
    "##Query the exoplanet HAT-P-7b\n",
    "query_table = Observations.query_object('HAT-P-7b')\n",
    "print(query_table)"
   ]
  },
  {
   "cell_type": "markdown",
   "metadata": {},
   "source": [
    "That took some time! Most exoplanet hosts will have a comparable number of observations. While there are some uses for a broad search, let's look at some applications for adding some parameters. \n",
    "\n",
    "Filtering can be done by constraining the content of each column. You can find a complete list of all the columns and their descriptions [here](https://mast.stsci.edu/api/v0/_c_a_o_mfields.html).\n",
    "\n",
    "The `query_object` only allows you to add a \"radius of search\" parameter object, so we will use the `query_criteria` method. \n",
    "\n",
    "Let's look for light curves of HAT-P-7b taken by the TESS telescope. This allows us to narrow down our search significantly!"
   ]
  },
  {
   "cell_type": "code",
   "execution_count": 17,
   "metadata": {},
   "outputs": [
    {
     "name": "stdout",
     "output_type": "stream",
     "text": [
      "45\n",
      "intentType obs_collection provenance_name ...   objID1       distance     \n",
      "---------- -------------- --------------- ... --------- ------------------\n",
      "   science           TESS            SPOC ...  70526761 287.98135262165573\n",
      "   science           TESS            SPOC ...  70531322                0.0\n",
      "   science           TESS            SPOC ...  70544780  638.6413483917396\n",
      "   science           TESS            SPOC ... 116683518                0.0\n",
      "   science           TESS            SPOC ... 116846050                0.0\n",
      "   science           TESS            SPOC ... 117053213                0.0\n",
      "   science           TESS            SPOC ... 117053215 118.92799122073585\n",
      "   science           TESS            SPOC ... 120248572                0.0\n",
      "   science           TESS            SPOC ... 120248575 118.92799122073585\n",
      "   science           TESS            SPOC ... 120248644 118.92799122073585\n"
     ]
    }
   ],
   "source": [
    "query_table = Observations.query_criteria(objectname=\"HAT-P-7b\", \n",
    "                                              obs_collection=\"TESS\",\n",
    "                                              dataproduct_type=[\"timeseries\"])\n",
    "# indenting like this doesn't affect the code output, but is just a way to try and make it more readable/organized\n",
    "\n",
    "print(len(query_table))\n",
    "print(query_table[:10])"
   ]
  },
  {
   "cell_type": "markdown",
   "metadata": {},
   "source": [
    " <div class=\"alert alert-block alert-info\">\n",
    " \n",
    "**INFO**: The **query_criteria** method is extremely robust, and can suit most search applications extremely efficiently. The different parameters to refine your search can be found [here](https://mast.stsci.edu/api/v0/_c_a_o_mfields.html)."
   ]
  },
  {
   "cell_type": "markdown",
   "metadata": {},
   "source": [
    "Lastly, we can also query by position by using the `query_region` method, which takes in an RA, DEC, and search radius, and outputs all data in the region."
   ]
  },
  {
   "cell_type": "code",
   "execution_count": 18,
   "metadata": {},
   "outputs": [
    {
     "name": "stdout",
     "output_type": "stream",
     "text": [
      "intentType obs_collection  provenance_name  ...   obsid        distance    \n",
      "---------- -------------- ----------------- ... --------- -----------------\n",
      "   science           TESS              SPOC ...  62280343               0.0\n",
      "   science           TESS              SPOC ...  62324728               0.0\n",
      "   science           TESS              SPOC ...  28287315               0.0\n",
      "   science           TESS              SPOC ...  28220318   642.16680527556\n",
      "   science            PS1               3PI ...   1850796               0.0\n",
      "   science            PS1               3PI ...   1850797               0.0\n",
      "   science            PS1               3PI ...   1850798               0.0\n",
      "   science            PS1               3PI ...   1850799               0.0\n",
      "   science            PS1               3PI ...   1850800               0.0\n",
      "   science            PS1               3PI ...   1850791 503.6552188317507\n",
      "       ...            ...               ... ...       ...               ...\n",
      "   science           HLSP              TGLC ... 169265063 718.8038785363183\n",
      "   science           HLSP              TGLC ... 169264258 719.2034100964987\n",
      "   science           HLSP              TGLC ... 189235004 719.2034100964987\n",
      "   science           HLSP             TASOC ...  91060980 719.2208006533244\n",
      "   science           HLSP GSFC-ELEANOR-LITE ... 132103160 719.2208174859751\n",
      "   science           HLSP GSFC-ELEANOR-LITE ... 141350209 719.2208174859751\n",
      "   science           HLSP GSFC-ELEANOR-LITE ... 132088910 719.4582485379761\n",
      "   science           HLSP              TGLC ... 169264805 719.5434578730323\n",
      "   science          GALEX               AIS ...     30996               0.0\n",
      "   science          GALEX               AIS ...     30996               0.0\n",
      "Length = 1668 rows\n"
     ]
    }
   ],
   "source": [
    "##The syntax is \"RA DEC\", in any commonly accepted RA DEC format as outlined in \"Search by Coordinate\" section\n",
    "query_table = Observations.query_region(\"100.12 -20.223\")\n",
    "print(query_table)"
   ]
  },
  {
   "cell_type": "markdown",
   "metadata": {},
   "source": [
    "### Observation Counts\n",
    "Each method above has a corresponding 'count' method (e.g. `query_criteria_count`). This simply returns the number of associated data products instead of the full observation table. These are much faster, and are useful in project preparation."
   ]
  },
  {
   "cell_type": "code",
   "execution_count": 19,
   "metadata": {},
   "outputs": [
    {
     "name": "stdout",
     "output_type": "stream",
     "text": [
      "6446 74 211942\n"
     ]
    }
   ],
   "source": [
    "query_obj_count = Observations.query_object_count('WASP-121b')\n",
    "query_region_count = Observations.query_region_count('200.22, 10.33')\n",
    "query_criteria_count = Observations.query_criteria_count(project = 'HST', dataproduct_type = \"spectrum\")\n",
    "\n",
    "print(query_obj_count, query_region_count, query_criteria_count)"
   ]
  },
  {
   "cell_type": "markdown",
   "metadata": {},
   "source": [
    "### Metadata Queries\n",
    "Additionally, metadata can be queried to help users properly fill out the `query_criteria` method, and is an alternative to the list provided above."
   ]
  },
  {
   "cell_type": "code",
   "execution_count": 20,
   "metadata": {},
   "outputs": [
    {
     "name": "stdout",
     "output_type": "stream",
     "text": [
      " Column Name     Column Label   ...       Examples/Valid Values       \n",
      "-------------- ---------------- ... ----------------------------------\n",
      "    intentType Observation Type ... Valid values: science, calibration\n",
      "obs_collection          Mission ...          E.g. SWIFT, PS1, HST, IUE\n",
      "  Column Name    ...\n",
      "---------------- ...\n",
      "          obs_id ...\n",
      "           obsID ...\n",
      "  obs_collection ...\n",
      "dataproduct_type ...\n",
      "     description ...\n"
     ]
    }
   ],
   "source": [
    "#For observations\n",
    "meta_data = Observations.get_metadata(\"observations\")\n",
    "print(meta_data[:2])\n",
    "\n",
    "#For product types\n",
    "meta_data = Observations.get_metadata(\"products\")\n",
    "print(meta_data[:5])"
   ]
  },
  {
   "cell_type": "markdown",
   "metadata": {},
   "source": [
    "## Downloading Data Products"
   ]
  },
  {
   "cell_type": "markdown",
   "metadata": {},
   "source": [
    "Data can be downloaded using the `get_product_list` and `download_products` methods. The general paradigm is:\n",
    "\n",
    "- Generate an observation table as above\n",
    "- From the observation table, generate a product list via `get_product_list`\n",
    "- Download the data in the product list using `download_products`\n",
    "\n",
    "This is shown below."
   ]
  },
  {
   "cell_type": "code",
   "execution_count": 21,
   "metadata": {},
   "outputs": [
    {
     "name": "stdout",
     "output_type": "stream",
     "text": [
      "INFO: Found cached file Data/mastDownload/TESS/tess2019226182529-s0015-0000000424865046-0151-s/tess2019226182529-s0015-0000000424865046-0151-s_lc.fits with expected size 1906560. [astroquery.query]\n",
      "INFO: Found cached file Data/mastDownload/TESS/tess2019226182529-s0015-0000000424865046-0151-s/tess2019226182529-s0015-0000000424865046-0151-s_tp.fits with expected size 45956160. [astroquery.query]\n",
      "INFO: Found cached file Data/mastDownload/TESS/tess2019226182529-s0015-0000000424865156-0151-s/tess2019226182529-s0015-0000000424865156-0151-s_lc.fits with expected size 1906560. [astroquery.query]\n",
      "INFO: Found cached file Data/mastDownload/TESS/tess2019226182529-s0015-0000000424865156-0151-s/tess2019226182529-s0015-0000000424865156-0151-s_tp.fits with expected size 45956160. [astroquery.query]\n",
      "INFO: Found cached file Data/mastDownload/TESS/tess2019226182529-s0015-0000000424865156-0151-s/tess2019227203528-s0015-s0015-0000000424865156-00245_dvm.pdf with expected size 4889891. [astroquery.query]\n",
      "INFO: Found cached file Data/mastDownload/TESS/tess2019226182529-s0015-0000000424865156-0151-s/tess2019227203528-s0015-s0015-0000000424865156-00245_dvr.pdf with expected size 15277086. [astroquery.query]\n",
      "INFO: Found cached file Data/mastDownload/TESS/tess2019226182529-s0015-0000000424865156-0151-s/tess2019227203528-s0015-s0015-0000000424865156-00245_dvr.xml with expected size 117417. [astroquery.query]\n",
      "INFO: Found cached file Data/mastDownload/TESS/tess2019226182529-s0015-0000000424865156-0151-s/tess2019227203528-s0015-s0015-0000000424865156-00245_dvt.fits with expected size 3784320. [astroquery.query]\n",
      "INFO: Found cached file Data/mastDownload/TESS/tess2019226182529-s0015-0000000424865156-0151-s/tess2019227203528-s0015-s0015-0000000424865156-00297_dvm.pdf with expected size 4739366. [astroquery.query]\n",
      "INFO: Found cached file Data/mastDownload/TESS/tess2019226182529-s0015-0000000424865156-0151-s/tess2019227203528-s0015-s0015-0000000424865156-00297_dvr.pdf with expected size 14612644. [astroquery.query]\n",
      "INFO: Found cached file Data/mastDownload/TESS/tess2019226182529-s0015-0000000424865156-0151-s/tess2019227203528-s0015-s0015-0000000424865156-00297_dvr.xml with expected size 116132. [astroquery.query]\n",
      "INFO: Found cached file Data/mastDownload/TESS/tess2019226182529-s0015-0000000424865156-0151-s/tess2019227203528-s0015-s0015-0000000424865156-00297_dvt.fits with expected size 3784320. [astroquery.query]\n",
      "INFO: Found cached file Data/mastDownload/TESS/tess2019226182529-s0015-0000000424865156-0151-s/tess2019227203528-s0015-s0015-0000000424865156-01-00245_dvs.pdf with expected size 1230795. [astroquery.query]\n",
      "INFO: Found cached file Data/mastDownload/TESS/tess2019226182529-s0015-0000000424865156-0151-s/tess2019227203528-s0015-s0015-0000000424865156-01-00297_dvs.pdf with expected size 1074060. [astroquery.query]\n",
      "                                                              Local Path                                                               ...\n",
      "-------------------------------------------------------------------------------------------------------------------------------------- ...\n",
      "        Data/mastDownload/TESS/tess2019226182529-s0015-0000000424865046-0151-s/tess2019226182529-s0015-0000000424865046-0151-s_lc.fits ...\n",
      "        Data/mastDownload/TESS/tess2019226182529-s0015-0000000424865046-0151-s/tess2019226182529-s0015-0000000424865046-0151-s_tp.fits ...\n",
      "        Data/mastDownload/TESS/tess2019226182529-s0015-0000000424865156-0151-s/tess2019226182529-s0015-0000000424865156-0151-s_lc.fits ...\n",
      "        Data/mastDownload/TESS/tess2019226182529-s0015-0000000424865156-0151-s/tess2019226182529-s0015-0000000424865156-0151-s_tp.fits ...\n",
      "   Data/mastDownload/TESS/tess2019226182529-s0015-0000000424865156-0151-s/tess2019227203528-s0015-s0015-0000000424865156-00245_dvm.pdf ...\n",
      "   Data/mastDownload/TESS/tess2019226182529-s0015-0000000424865156-0151-s/tess2019227203528-s0015-s0015-0000000424865156-00245_dvr.pdf ...\n",
      "   Data/mastDownload/TESS/tess2019226182529-s0015-0000000424865156-0151-s/tess2019227203528-s0015-s0015-0000000424865156-00245_dvr.xml ...\n",
      "  Data/mastDownload/TESS/tess2019226182529-s0015-0000000424865156-0151-s/tess2019227203528-s0015-s0015-0000000424865156-00245_dvt.fits ...\n",
      "   Data/mastDownload/TESS/tess2019226182529-s0015-0000000424865156-0151-s/tess2019227203528-s0015-s0015-0000000424865156-00297_dvm.pdf ...\n",
      "   Data/mastDownload/TESS/tess2019226182529-s0015-0000000424865156-0151-s/tess2019227203528-s0015-s0015-0000000424865156-00297_dvr.pdf ...\n",
      "   Data/mastDownload/TESS/tess2019226182529-s0015-0000000424865156-0151-s/tess2019227203528-s0015-s0015-0000000424865156-00297_dvr.xml ...\n",
      "  Data/mastDownload/TESS/tess2019226182529-s0015-0000000424865156-0151-s/tess2019227203528-s0015-s0015-0000000424865156-00297_dvt.fits ...\n",
      "Data/mastDownload/TESS/tess2019226182529-s0015-0000000424865156-0151-s/tess2019227203528-s0015-s0015-0000000424865156-01-00245_dvs.pdf ...\n",
      "Data/mastDownload/TESS/tess2019226182529-s0015-0000000424865156-0151-s/tess2019227203528-s0015-s0015-0000000424865156-01-00297_dvs.pdf ...\n"
     ]
    }
   ],
   "source": [
    "##Repeat our previous TESS query for HAT-P-7b\n",
    "query_table = Observations.query_criteria(objectname=\"HAT-P-7b\", \n",
    "                                              obs_collection=\"TESS\",\n",
    "                                              dataproduct_type=[\"timeseries\"])\n",
    "##Only the first two associated data sets\n",
    "data_products = Observations.get_product_list(query_table[0:2])\n",
    "\n",
    "##Download the data products in the designated folder\n",
    "downloads = Observations.download_products(data_products, download_dir=\"Data\")\n",
    "print(downloads)"
   ]
  },
  {
   "cell_type": "markdown",
   "metadata": {},
   "source": [
    "Additionally, you can download a single file by using the `download_file` method, which requires the product list to contain only one object."
   ]
  },
  {
   "cell_type": "code",
   "execution_count": 22,
   "metadata": {},
   "outputs": [
    {
     "name": "stdout",
     "output_type": "stream",
     "text": [
      "mast:TESS/product/tess2021205113501-s0041-s0041-0000000424865156-00511_dvm.pdf\n"
     ]
    }
   ],
   "source": [
    "#Go to the next product in our above list for HAT-P-7b\n",
    "data_products = Observations.get_product_list(query_table[7:8])\n",
    "##Select the first file\n",
    "file = data_products[\"dataURI\"][0]\n",
    "##Check the extension of the retrieved file to match with the local path method below\n",
    "print(file)"
   ]
  },
  {
   "cell_type": "code",
   "execution_count": 23,
   "metadata": {},
   "outputs": [
    {
     "name": "stdout",
     "output_type": "stream",
     "text": [
      "INFO: Found cached file ../Data_Repositories/Data/TESS_Data.pdf with expected size 5152165. [astroquery.query]\n"
     ]
    }
   ],
   "source": [
    "## The local path needs to reference a file, not a folder in this case\n",
    "import os\n",
    "file_download = Observations.download_file(file, local_path=os.path.join('..', 'Data_Repositories', 'Data', 'TESS_Data.pdf'))"
   ]
  },
  {
   "cell_type": "markdown",
   "metadata": {},
   "source": [
    "This gives a TESS SPOC report for the known planet HAT-P-7b, with a distinct transit. Nice work! If you want more tutorials or information on available methods, [here](https://astroquery.readthedocs.io/en/latest/mast/mast_obsquery.html#downloading-data) is the `astropy` documentation for downloading MAST products."
   ]
  },
  {
   "cell_type": "markdown",
   "metadata": {},
   "source": [
    "## Catalog Queries\n",
    "\n",
    "Similar to the NASA Exoplanet Archive, MAST hosts a handful of catalogs that can be programmatically accessed via `astropy`. These include the:\n",
    "- [Hubble Source Catalog](https://archive.stsci.edu/hst/hsc/) (HSC)\n",
    "- [GALEX Catalog](http://www.galex.caltech.edu/researcher/data.html) (Galex)\n",
    "- [Gaia and TGAS Catalogs](https://www.cosmos.esa.int/web/gaia/data-release-3) (Gaia)\n",
    "- [TESS Input Catalog](https://tess.mit.edu/science/tess-input-catalogue/) (TIC)\n",
    "- [TESS Candidate Target List](https://www.google.com/search?q=TESS+candidate+target+list&sca_esv=cc6cef90bdd03fb0&sca_upv=1&rlz=1C1CHBF_enUS910US910&sxsrf=ADLYWIJKOEN2t6r5zN2BYM77G3Iywl2kqw%3A1720631144906&ei=aL-OZsngNpDbwN4Pkde76AI&ved=0ahUKEwjJtLnB-pyHAxWQLdAFHZHrDi0Q4dUDCA8&uact=5&oq=TESS+candidate+target+list&gs_lp=Egxnd3Mtd2l6LXNlcnAiGlRFU1MgY2FuZGlkYXRlIHRhcmdldCBsaXN0MgUQIRigATIFECEYoAEyBRAhGKABSL0ZUABY6xhwAngBkAEAmAHyAaAB-BiqAQY1LjIxLjG4AQPIAQD4AQGYAh2gAsIZwgIKECMYgAQYJxiKBcICBBAjGCfCAgoQABiABBhDGIoFwgIKEC4YgAQYQxiKBcICERAuGIAEGLEDGNEDGIMBGMcBwgILEAAYgAQYsQMYgwHCAg4QLhiABBixAxjRAxjHAcICCBAuGIAEGLEDwgIQEAAYgAQYsQMYgwEYFBiHAsICCBAAGIAEGLEDwgILEC4YgAQYxwEYrwHCAg0QLhiABBixAxgUGIcCwgINEC4YgAQYFBjUAhiHAsICEBAuGIAEGLEDGEMYgwEYigXCAgsQLhiABBixAxiDAcICBRAAGIAEwgILEAAYgAQYkQIYigXCAgUQLhiABMICChAuGIAEGBQYhwLCAgsQLhiABBiRAhiKBcICChAuGIAEGLEDGArCAgoQABiABBgUGIcCwgIIEC4YgAQY1ALCAgcQLhiABBgKwgIGEAAYFhgewgIKEAAYFhgKGB4YD8ICCxAAGIAEGIYDGIoFwgIIEAAYgAQYogTCAgUQIRirApgDAJIHBjYuMjIuMaAH5JEC&sclient=gws-wiz-serp) (CTL)\n",
    "- [Disk Directive Catalog]() (DiskDirective)\n",
    "- [PanSTARRS Catalog](https://catalogs.mast.stsci.edu/docs/panstarrs.html) (PANSTARRS)\n",
    "- [All-Sky PLATO Input Catalog](https://www.aanda.org/articles/aa/full_html/2021/09/aa40717-21/aa40717-21.html) (Plato)\n",
    "\n",
    "Since both the NASA Exoplanet Archive and MAST catalog queries are both under `astropy`, the syntax is nearly identical. Reference the [NASA Exoplanet Archive module](..\\Databases\\NEA.ipynb) for how to construct `query_object`, `query_region`, and `query_criteria`. To query a specific catalog, use the `catalog = [catalog ID]` parameter with any of the `query` methods above, along with the identifier associated with the catalog, shown within the parentheses in the list above. Here is a quick example from the PLATO Input Catalog:"
   ]
  },
  {
   "cell_type": "code",
   "execution_count": 24,
   "metadata": {},
   "outputs": [
    {
     "name": "stdout",
     "output_type": "stream",
     "text": [
      " objID      PICnameDR1          sourceId      ... PICidDR1      distance     \n",
      "-------- ---------------- ------------------- ... -------- ------------------\n",
      "29307583 PIC DR1 29307583 3002281237690853504 ... 29307583 2.5791268100984066\n",
      "29273768 PIC DR1 29273768 3002277080162573312 ... 29273768  3.412897833173899\n",
      "29265435 PIC DR1 29265435 3002275705773086976 ... 29265435  6.003720626738184\n",
      "29287541 PIC DR1 29287541 3002280035100117760 ... 29287541 7.9166526503407955\n",
      "29306080 PIC DR1 29306080 3002328718551357440 ... 29306080  8.229280048747171\n",
      "29301456 PIC DR1 29301456 3002327314099544192 ... 29301456 10.261798030413424\n",
      "29359276 PIC DR1 29359276 3002424208563685376 ... 29359276 11.738937090205514\n",
      "29235782 PIC DR1 29235782 3002268936905107072 ... 29235782 11.837705768101078\n"
     ]
    },
    {
     "name": "stderr",
     "output_type": "stream",
     "text": [
      "WARNING: InputWarning: Coordinate string is being interpreted as an ICRS coordinate provided in degrees. [astroquery.utils.commons]\n"
     ]
    }
   ],
   "source": [
    "catalog_data = Catalogs.query_region(\"100.23 -10\", catalog=\"Plato\")\n",
    "print(catalog_data)"
   ]
  },
  {
   "cell_type": "markdown",
   "metadata": {},
   "source": [
    "Note that not all query methods are available for each catalog. Look [here](https://astroquery.readthedocs.io/en/latest/mast/mast_catalog.html) for more examples, and [here](https://astroquery.readthedocs.io/en/latest/api/astroquery.mast.CatalogsClass.html#astroquery.mast.CatalogsClass) for documentation on the Catalog class."
   ]
  },
  {
   "cell_type": "markdown",
   "metadata": {},
   "source": [
    "**Checkpoint 2**\n",
    "\n",
    "Run the following code for the quiz question."
   ]
  },
  {
   "cell_type": "code",
   "execution_count": 63,
   "metadata": {},
   "outputs": [
    {
     "data": {
      "text/html": [
       "<div id=\"nLxEAhaLSzZU\" data-shufflequestions=\"False\"\n",
       "               data-shuffleanswers=\"True\"\n",
       "               data-preserveresponses=\"false\"\n",
       "               data-numquestions=\"1000000\"\n",
       "               data-maxwidth=\"600\"\n",
       "               style=\"border-radius: 10px; text-align: left\"> <style>\n",
       "#nLxEAhaLSzZU {\n",
       "   --jq-multiple-choice-bg: #6f78ffff;\n",
       "   --jq-mc-button-bg: #fafafa;\n",
       "   --jq-mc-button-border: #e0e0e0e0;\n",
       "   --jq-mc-button-inset-shadow: #555555;\n",
       "   --jq-many-choice-bg: #f75c03ff;\n",
       "   --jq-numeric-bg: #392061ff;\n",
       "   --jq-numeric-input-bg: #c0c0c0;\n",
       "   --jq-numeric-input-label: #101010;\n",
       "   --jq-numeric-input-shadow: #999999;\n",
       "   --jq-incorrect-color: #c80202;\n",
       "   --jq-correct-color: #009113;\n",
       "   --jq-text-color: #fafafa;\n",
       "}\n",
       "\n",
       ".Quiz {\n",
       "    max-width: 600px;\n",
       "    margin-top: 15px;\n",
       "    margin-left: auto;\n",
       "    margin-right: auto;\n",
       "/*    margin-bottom: 15px;*/\n",
       "/*    padding-bottom: 4px;*/\n",
       "    padding-top: 4px;\n",
       "    line-height: 1.1;\n",
       "    font-size: 16pt;\n",
       "    border-radius: inherit;\n",
       "}\n",
       "\n",
       ".QuizCode {\n",
       "    font-size: 14pt;\n",
       "    margin-top: 10px;\n",
       "    margin-left: 20px;\n",
       "    margin-right: 20px;\n",
       "}\n",
       "\n",
       ".QuizCode>pre {\n",
       "    padding: 4px;\n",
       "}\n",
       "\n",
       ".Quiz code {\n",
       "    background-color: lightgray;\n",
       "    color: black;\n",
       "}\n",
       "\n",
       ".Quiz .QuizCode code {\n",
       "    background-color: inherit;\n",
       "    color: inherit;\n",
       "}\n",
       "\n",
       "\n",
       ".Quiz .MCButton code {\n",
       "    background-color: inherit;\n",
       "    color: inherit;\n",
       "}\n",
       "\n",
       ".MCButton .QuizCode {\n",
       "    text-align: left;\n",
       "}\n",
       "\n",
       "\n",
       "\n",
       "\n",
       ".Answer {\n",
       "    border-radius: inherit;\n",
       "    display: grid;\n",
       "    grid-gap: 10px;\n",
       "    grid-template-columns: 1fr 1fr;\n",
       "    margin: 10px 0;\n",
       "}\n",
       "\n",
       "@media only screen and (max-width:480px) {\n",
       "    .Answer {\n",
       "        grid-template-columns: 1fr;\n",
       "    }\n",
       "\n",
       "}\n",
       "\n",
       ".Feedback {\n",
       "    font-size: 16pt;\n",
       "    text-align: center;\n",
       "/*    min-height: 2em;*/\n",
       "}\n",
       "\n",
       ".Input {\n",
       "    align: left;\n",
       "    font-size: 20pt;\n",
       "}\n",
       "\n",
       ".Input-text {\n",
       "    display: block;\n",
       "    margin: 10px;\n",
       "    color: inherit;\n",
       "    width: 140px;\n",
       "    background-color: var(--jq-numeric-input-bg);\n",
       "    color: var(--jq-text-color);\n",
       "    padding: 5px;\n",
       "    padding-left: 10px;\n",
       "    font-family: inherit;\n",
       "    font-size: 20px;\n",
       "    font-weight: inherit;\n",
       "    line-height: 20pt;\n",
       "    border: none;\n",
       "    border-radius: 0.2rem;\n",
       "    transition: box-shadow 0.1s);\n",
       "}\n",
       "\n",
       ".Input-text:focus {\n",
       "    /*outline: none;*/\n",
       "    background-color: var(--jq-numeric-input-bg);\n",
       "    box-shadow: 0.6rem 0.8rem 1.4rem -0.5rem var(--jq-numeric-input-shadow);\n",
       "}\n",
       "\n",
       ".MCButton {\n",
       "    background: var(--jq-mc-button-bg);\n",
       "    border: 1px solid var(--jq-mc-button-border);\n",
       "    border-radius: inherit;\n",
       "    color: #333333;\n",
       "    padding: 10px;\n",
       "    font-size: 16px;\n",
       "    cursor: pointer;\n",
       "    text-align: center;\n",
       "    display: flex;\n",
       "    align-items: center;\n",
       "    justify-content: center;\n",
       "}\n",
       "\n",
       ".MCButton p {\n",
       "    color: inherit;\n",
       "}\n",
       "\n",
       ".MultipleChoiceQn {\n",
       "    padding: 10px;\n",
       "    background: var(--jq-multiple-choice-bg);\n",
       "    color: var(--jq-text-color);\n",
       "    border-radius: inherit;\n",
       "}\n",
       "\n",
       ".ManyChoiceQn {\n",
       "    padding: 10px;\n",
       "    background: var(--jq-many-choice-bg);\n",
       "    color: var(--jq-text-color);\n",
       "    border-radius: inherit;\n",
       "}\n",
       "\n",
       ".NumericQn {\n",
       "    background: var(--jq-numeric-bg);\n",
       "    border-radius: inherit;\n",
       "    color: var(--jq-text-color);\n",
       "    padding: 10px;\n",
       "}\n",
       "\n",
       ".NumericQn p {\n",
       "    color: inherit;\n",
       "}\n",
       "\n",
       ".InpLabel {\n",
       "    color: var(--jq-numeric-input-label);\n",
       "    float: left;\n",
       "    font-size: 15pt;\n",
       "    line-height: 34px;\n",
       "    margin-right: 10px;\n",
       "}\n",
       "\n",
       ".incorrect {\n",
       "    color: var(--jq-incorrect-color);\n",
       "}\n",
       "\n",
       ".correct {\n",
       "    color: var(--jq-correct-color);\n",
       "}\n",
       "\n",
       ".correctButton {\n",
       "    /*\n",
       "    background: var(--jq-correct-color);\n",
       "   */\n",
       "    animation: correct-anim 0.6s ease;\n",
       "    animation-fill-mode: forwards;\n",
       "    box-shadow: inset 0 0 5px var(--jq-mc-button-inset-shadow);\n",
       "    color: var(--jq-text-color);\n",
       "    /*outline: none;*/\n",
       "}\n",
       "\n",
       ".incorrectButton {\n",
       "    animation: incorrect-anim 0.8s ease;\n",
       "    animation-fill-mode: forwards;\n",
       "    box-shadow: inset 0 0 5px var(--jq-mc-button-inset-shadow);\n",
       "    color: var(--jq-text-color);\n",
       "    /*outline: none;*/\n",
       "}\n",
       "\n",
       "@keyframes incorrect-anim {\n",
       "    100% {\n",
       "        background-color: var(--jq-incorrect-color);\n",
       "    }\n",
       "}\n",
       "\n",
       "@keyframes correct-anim {\n",
       "    100% {\n",
       "        background-color: var(--jq-correct-color);\n",
       "    }\n",
       "}\n",
       "</style>"
      ],
      "text/plain": [
       "<IPython.core.display.HTML object>"
      ]
     },
     "metadata": {},
     "output_type": "display_data"
    },
    {
     "data": {
      "application/javascript": "var questionsnLxEAhaLSzZU=[{\"question\": \"What are different methods to use when querying MAST?\", \"type\": \"many_choice\", \"answers\": [{\"answer\": \"query_object\", \"correct\": true, \"feedback\": \"Correct. This includes standard catalog names, common names, and star catalogs with coordinates.\"}, {\"answer\": \"query_region\", \"correct\": true, \"feedback\": \"Correct. You can search by an object's right ascension and declination, and within a certain radius of that coordinate.\"}, {\"answer\": \"query_criteria\", \"correct\": true, \"feedback\": \"Correct. This is the most flexible search option, allowing you to specify a wide range of criteria.\"}, {\"answer\": \"query_table\", \"correct\": false, \"feedback\": \"Incorrect. query_table is not a valid method for querying MAST.\"}]}];\n    // Make a random ID\nfunction makeid(length) {\n    var result = [];\n    var characters = 'ABCDEFGHIJKLMNOPQRSTUVWXYZabcdefghijklmnopqrstuvwxyz';\n    var charactersLength = characters.length;\n    for (var i = 0; i < length; i++) {\n        result.push(characters.charAt(Math.floor(Math.random() * charactersLength)));\n    }\n    return result.join('');\n}\n\n// Choose a random subset of an array. Can also be used to shuffle the array\nfunction getRandomSubarray(arr, size) {\n    var shuffled = arr.slice(0), i = arr.length, temp, index;\n    while (i--) {\n        index = Math.floor((i + 1) * Math.random());\n        temp = shuffled[index];\n        shuffled[index] = shuffled[i];\n        shuffled[i] = temp;\n    }\n    return shuffled.slice(0, size);\n}\n\nfunction printResponses(responsesContainer) {\n    var responses=JSON.parse(responsesContainer.dataset.responses);\n    var stringResponses='<B>IMPORTANT!</B>To preserve this answer sequence for submission, when you have finalized your answers: <ol> <li> Copy the text in this cell below \"Answer String\"</li> <li> Double click on the cell directly below the Answer String, labeled \"Replace Me\"</li> <li> Select the whole \"Replace Me\" text</li> <li> Paste in your answer string and press shift-Enter.</li><li>Save the notebook using the save icon or File->Save Notebook menu item</li></ul><br><br><br><b>Answer String:</b><br> ';\n    console.log(responses);\n    responses.forEach((response, index) => {\n        if (response) {\n            console.log(index + ': ' + response);\n            stringResponses+= index + ': ' + response +\"<BR>\";\n        }\n    });\n    responsesContainer.innerHTML=stringResponses;\n}\n/* Callback function to determine whether a selected multiple-choice\n   button corresponded to a correct answer and to provide feedback\n   based on the answer */\nfunction check_mc() {\n    var id = this.id.split('-')[0];\n    //var response = this.id.split('-')[1];\n    //console.log(response);\n    //console.log(\"In check_mc(), id=\"+id);\n    //console.log(event.srcElement.id)           \n    //console.log(event.srcElement.dataset.correct)   \n    //console.log(event.srcElement.dataset.feedback)\n\n    var label = event.srcElement;\n    //console.log(label, label.nodeName);\n    var depth = 0;\n    while ((label.nodeName != \"LABEL\") && (depth < 20)) {\n        label = label.parentElement;\n        console.log(depth, label);\n        depth++;\n    }\n\n\n\n    var answers = label.parentElement.children;\n    //console.log(answers);\n\n    // Split behavior based on multiple choice vs many choice:\n    var fb = document.getElementById(\"fb\" + id);\n\n\n\n    /* Multiple choice (1 answer). Allow for 0 correct\n       answers as an edge case */\n    if (fb.dataset.numcorrect <= 1) {\n        // What follows is for the saved responses stuff\n        var outerContainer = fb.parentElement.parentElement;\n        var responsesContainer = document.getElementById(\"responses\" + outerContainer.id);\n        if (responsesContainer) {\n            //console.log(responsesContainer);\n            var response = label.firstChild.innerText;\n            if (label.querySelector(\".QuizCode\")){\n                response+= label.querySelector(\".QuizCode\").firstChild.innerText;\n            }\n            console.log(response);\n            //console.log(document.getElementById(\"quizWrap\"+id));\n            var qnum = document.getElementById(\"quizWrap\"+id).dataset.qnum;\n            console.log(\"Question \" + qnum);\n            //console.log(id, \", got numcorrect=\",fb.dataset.numcorrect);\n            var responses=JSON.parse(responsesContainer.dataset.responses);\n            console.log(responses);\n            responses[qnum]= response;\n            responsesContainer.setAttribute('data-responses', JSON.stringify(responses));\n            printResponses(responsesContainer);\n        }\n        // End code to preserve responses\n\n        for (var i = 0; i < answers.length; i++) {\n            var child = answers[i];\n            //console.log(child);\n            child.className = \"MCButton\";\n        }\n\n\n\n        if (label.dataset.correct == \"true\") {\n            // console.log(\"Correct action\");\n            if (\"feedback\" in label.dataset) {\n                fb.innerHTML = jaxify(label.dataset.feedback);\n            } else {\n                fb.innerHTML = \"Correct!\";\n            }\n            label.classList.add(\"correctButton\");\n\n            fb.className = \"Feedback\";\n            fb.classList.add(\"correct\");\n\n        } else {\n            if (\"feedback\" in label.dataset) {\n                fb.innerHTML = jaxify(label.dataset.feedback);\n            } else {\n                fb.innerHTML = \"Incorrect -- try again.\";\n            }\n            //console.log(\"Error action\");\n            label.classList.add(\"incorrectButton\");\n            fb.className = \"Feedback\";\n            fb.classList.add(\"incorrect\");\n        }\n    }\n    else { /* Many choice (more than 1 correct answer) */\n        var reset = false;\n        var feedback;\n         if (label.dataset.correct == \"true\") {\n            if (\"feedback\" in label.dataset) {\n                feedback = jaxify(label.dataset.feedback);\n            } else {\n                feedback = \"Correct!\";\n            }\n            if (label.dataset.answered <= 0) {\n                if (fb.dataset.answeredcorrect < 0) {\n                    fb.dataset.answeredcorrect = 1;\n                    reset = true;\n                } else {\n                    fb.dataset.answeredcorrect++;\n                }\n                if (reset) {\n                    for (var i = 0; i < answers.length; i++) {\n                        var child = answers[i];\n                        child.className = \"MCButton\";\n                        child.dataset.answered = 0;\n                    }\n                }\n                label.classList.add(\"correctButton\");\n                label.dataset.answered = 1;\n                fb.className = \"Feedback\";\n                fb.classList.add(\"correct\");\n\n            }\n        } else {\n            if (\"feedback\" in label.dataset) {\n                feedback = jaxify(label.dataset.feedback);\n            } else {\n                feedback = \"Incorrect -- try again.\";\n            }\n            if (fb.dataset.answeredcorrect > 0) {\n                fb.dataset.answeredcorrect = -1;\n                reset = true;\n            } else {\n                fb.dataset.answeredcorrect--;\n            }\n\n            if (reset) {\n                for (var i = 0; i < answers.length; i++) {\n                    var child = answers[i];\n                    child.className = \"MCButton\";\n                    child.dataset.answered = 0;\n                }\n            }\n            label.classList.add(\"incorrectButton\");\n            fb.className = \"Feedback\";\n            fb.classList.add(\"incorrect\");\n        }\n        // What follows is for the saved responses stuff\n        var outerContainer = fb.parentElement.parentElement;\n        var responsesContainer = document.getElementById(\"responses\" + outerContainer.id);\n        if (responsesContainer) {\n            //console.log(responsesContainer);\n            var response = label.firstChild.innerText;\n            if (label.querySelector(\".QuizCode\")){\n                response+= label.querySelector(\".QuizCode\").firstChild.innerText;\n            }\n            console.log(response);\n            //console.log(document.getElementById(\"quizWrap\"+id));\n            var qnum = document.getElementById(\"quizWrap\"+id).dataset.qnum;\n            console.log(\"Question \" + qnum);\n            //console.log(id, \", got numcorrect=\",fb.dataset.numcorrect);\n            var responses=JSON.parse(responsesContainer.dataset.responses);\n            if (label.dataset.correct == \"true\") {\n                if (typeof(responses[qnum]) == \"object\"){\n                    if (!responses[qnum].includes(response))\n                        responses[qnum].push(response);\n                } else{\n                    responses[qnum]= [ response ];\n                }\n            } else {\n                responses[qnum]= response;\n            }\n            console.log(responses);\n            responsesContainer.setAttribute('data-responses', JSON.stringify(responses));\n            printResponses(responsesContainer);\n        }\n        // End save responses stuff\n\n\n\n        var numcorrect = fb.dataset.numcorrect;\n        var answeredcorrect = fb.dataset.answeredcorrect;\n        if (answeredcorrect >= 0) {\n            fb.innerHTML = feedback + \" [\" + answeredcorrect + \"/\" + numcorrect + \"]\";\n        } else {\n            fb.innerHTML = feedback + \" [\" + 0 + \"/\" + numcorrect + \"]\";\n        }\n\n\n    }\n\n    if (typeof MathJax != 'undefined') {\n        var version = MathJax.version;\n        console.log('MathJax version', version);\n        if (version[0] == \"2\") {\n            MathJax.Hub.Queue([\"Typeset\", MathJax.Hub]);\n        } else if (version[0] == \"3\") {\n            MathJax.typeset([fb]);\n        }\n    } else {\n        console.log('MathJax not detected');\n    }\n\n}\n\n\n/* Function to produce the HTML buttons for a multiple choice/\n   many choice question  and to update the CSS tags based on\n   the question type */\nfunction make_mc(qa, shuffle_answers, outerqDiv, qDiv, aDiv, id) {\n\n    var shuffled;\n    if (shuffle_answers == \"True\") {\n        //console.log(shuffle_answers+\" read as true\");\n        shuffled = getRandomSubarray(qa.answers, qa.answers.length);\n    } else {\n        //console.log(shuffle_answers+\" read as false\");\n        shuffled = qa.answers;\n    }\n\n\n    var num_correct = 0;\n\n    shuffled.forEach((item, index, ans_array) => {\n        //console.log(answer);\n\n        // Make input element\n        var inp = document.createElement(\"input\");\n        inp.type = \"radio\";\n        inp.id = \"quizo\" + id + index;\n        inp.style = \"display:none;\";\n        aDiv.append(inp);\n\n        //Make label for input element\n        var lab = document.createElement(\"label\");\n        lab.className = \"MCButton\";\n        lab.id = id + '-' + index;\n        lab.onclick = check_mc;\n        var aSpan = document.createElement('span');\n        aSpan.classsName = \"\";\n        //qDiv.id=\"quizQn\"+id+index;\n        if (\"answer\" in item) {\n            aSpan.innerHTML = jaxify(item.answer);\n            //aSpan.innerHTML=item.answer;\n        }\n        lab.append(aSpan);\n\n        // Create div for code inside question\n        var codeSpan;\n        if (\"code\" in item) {\n            codeSpan = document.createElement('span');\n            codeSpan.id = \"code\" + id + index;\n            codeSpan.className = \"QuizCode\";\n            var codePre = document.createElement('pre');\n            codeSpan.append(codePre);\n            var codeCode = document.createElement('code');\n            codePre.append(codeCode);\n            codeCode.innerHTML = item.code;\n            lab.append(codeSpan);\n            //console.log(codeSpan);\n        }\n\n        //lab.textContent=item.answer;\n\n        // Set the data attributes for the answer\n        lab.setAttribute('data-correct', item.correct);\n        if (item.correct) {\n            num_correct++;\n        }\n        if (\"feedback\" in item) {\n            lab.setAttribute('data-feedback', item.feedback);\n        }\n        lab.setAttribute('data-answered', 0);\n\n        aDiv.append(lab);\n\n    });\n\n    if (num_correct > 1) {\n        outerqDiv.className = \"ManyChoiceQn\";\n    } else {\n        outerqDiv.className = \"MultipleChoiceQn\";\n    }\n\n    return num_correct;\n\n}\nfunction check_numeric(ths, event) {\n\n    if (event.keyCode === 13) {\n        ths.blur();\n\n        var id = ths.id.split('-')[0];\n\n        var submission = ths.value;\n        if (submission.indexOf('/') != -1) {\n            var sub_parts = submission.split('/');\n            //console.log(sub_parts);\n            submission = sub_parts[0] / sub_parts[1];\n        }\n        //console.log(\"Reader entered\", submission);\n\n        if (\"precision\" in ths.dataset) {\n            var precision = ths.dataset.precision;\n            submission = Number(Number(submission).toPrecision(precision));\n        }\n\n\n        //console.log(\"In check_numeric(), id=\"+id);\n        //console.log(event.srcElement.id)           \n        //console.log(event.srcElement.dataset.feedback)\n\n        var fb = document.getElementById(\"fb\" + id);\n        fb.style.display = \"none\";\n        fb.innerHTML = \"Incorrect -- try again.\";\n\n        var answers = JSON.parse(ths.dataset.answers);\n        //console.log(answers);\n\n        var defaultFB = \"Incorrect. Try again.\";\n        var correct;\n        var done = false;\n        answers.every(answer => {\n            //console.log(answer.type);\n\n            correct = false;\n            // if (answer.type==\"value\"){\n            if ('value' in answer) {\n                if (submission == answer.value) {\n                    if (\"feedback\" in answer) {\n                        fb.innerHTML = jaxify(answer.feedback);\n                    } else {\n                        fb.innerHTML = jaxify(\"Correct\");\n                    }\n                    correct = answer.correct;\n                    //console.log(answer.correct);\n                    done = true;\n                }\n                // } else if (answer.type==\"range\") {\n            } else if ('range' in answer) {\n                console.log(answer.range);\n                console.log(submission, submission >=answer.range[0], submission < answer.range[1])\n                if ((submission >= answer.range[0]) && (submission < answer.range[1])) {\n                    fb.innerHTML = jaxify(answer.feedback);\n                    correct = answer.correct;\n                    console.log(answer.correct);\n                    done = true;\n                }\n            } else if (answer.type == \"default\") {\n                if (\"feedback\" in answer) {\n                    defaultFB = answer.feedback;\n                } \n            }\n            if (done) {\n                return false; // Break out of loop if this has been marked correct\n            } else {\n                return true; // Keep looking for case that includes this as a correct answer\n            }\n        });\n        console.log(\"done:\", done);\n\n        if ((!done) && (defaultFB != \"\")) {\n            fb.innerHTML = jaxify(defaultFB);\n            //console.log(\"Default feedback\", defaultFB);\n        }\n\n        fb.style.display = \"block\";\n        if (correct) {\n            ths.className = \"Input-text\";\n            ths.classList.add(\"correctButton\");\n            fb.className = \"Feedback\";\n            fb.classList.add(\"correct\");\n        } else {\n            ths.className = \"Input-text\";\n            ths.classList.add(\"incorrectButton\");\n            fb.className = \"Feedback\";\n            fb.classList.add(\"incorrect\");\n        }\n\n        // What follows is for the saved responses stuff\n        var outerContainer = fb.parentElement.parentElement;\n        var responsesContainer = document.getElementById(\"responses\" + outerContainer.id);\n        if (responsesContainer) {\n            console.log(submission);\n            var qnum = document.getElementById(\"quizWrap\"+id).dataset.qnum;\n            //console.log(\"Question \" + qnum);\n            //console.log(id, \", got numcorrect=\",fb.dataset.numcorrect);\n            var responses=JSON.parse(responsesContainer.dataset.responses);\n            console.log(responses);\n            if (submission == ths.value){\n                responses[qnum]= submission;\n            } else {\n                responses[qnum]= ths.value + \"(\" + submission +\")\";\n            }\n            responsesContainer.setAttribute('data-responses', JSON.stringify(responses));\n            printResponses(responsesContainer);\n        }\n        // End code to preserve responses\n\n        if (typeof MathJax != 'undefined') {\n            var version = MathJax.version;\n            console.log('MathJax version', version);\n            if (version[0] == \"2\") {\n                MathJax.Hub.Queue([\"Typeset\", MathJax.Hub]);\n            } else if (version[0] == \"3\") {\n                MathJax.typeset([fb]);\n            }\n        } else {\n            console.log('MathJax not detected');\n        }\n        return false;\n    }\n\n}\n\nfunction isValid(el, charC) {\n    //console.log(\"Input char: \", charC);\n    if (charC == 46) {\n        if (el.value.indexOf('.') === -1) {\n            return true;\n        } else if (el.value.indexOf('/') != -1) {\n            var parts = el.value.split('/');\n            if (parts[1].indexOf('.') === -1) {\n                return true;\n            }\n        }\n        else {\n            return false;\n        }\n    } else if (charC == 47) {\n        if (el.value.indexOf('/') === -1) {\n            if ((el.value != \"\") && (el.value != \".\")) {\n                return true;\n            } else {\n                return false;\n            }\n        } else {\n            return false;\n        }\n    } else if (charC == 45) {\n        var edex = el.value.indexOf('e');\n        if (edex == -1) {\n            edex = el.value.indexOf('E');\n        }\n\n        if (el.value == \"\") {\n            return true;\n        } else if (edex == (el.value.length - 1)) { // If just after e or E\n            return true;\n        } else {\n            return false;\n        }\n    } else if (charC == 101) { // \"e\"\n        if ((el.value.indexOf('e') === -1) && (el.value.indexOf('E') === -1) && (el.value.indexOf('/') == -1)) {\n            // Prev symbol must be digit or decimal point:\n            if (el.value.slice(-1).search(/\\d/) >= 0) {\n                return true;\n            } else if (el.value.slice(-1).search(/\\./) >= 0) {\n                return true;\n            } else {\n                return false;\n            }\n        } else {\n            return false;\n        }\n    } else {\n        if (charC > 31 && (charC < 48 || charC > 57))\n            return false;\n    }\n    return true;\n}\n\nfunction numeric_keypress(evnt) {\n    var charC = (evnt.which) ? evnt.which : evnt.keyCode;\n\n    if (charC == 13) {\n        check_numeric(this, evnt);\n    } else {\n        return isValid(this, charC);\n    }\n}\n\n\n\n\n\nfunction make_numeric(qa, outerqDiv, qDiv, aDiv, id) {\n\n\n\n    //console.log(answer);\n\n\n    outerqDiv.className = \"NumericQn\";\n    aDiv.style.display = 'block';\n\n    var lab = document.createElement(\"label\");\n    lab.className = \"InpLabel\";\n    lab.innerHTML = \"Type numeric answer here:\";\n    aDiv.append(lab);\n\n    var inp = document.createElement(\"input\");\n    inp.type = \"text\";\n    //inp.id=\"input-\"+id;\n    inp.id = id + \"-0\";\n    inp.className = \"Input-text\";\n    inp.setAttribute('data-answers', JSON.stringify(qa.answers));\n    if (\"precision\" in qa) {\n        inp.setAttribute('data-precision', qa.precision);\n    }\n    aDiv.append(inp);\n    //console.log(inp);\n\n    //inp.addEventListener(\"keypress\", check_numeric);\n    //inp.addEventListener(\"keypress\", numeric_keypress);\n    /*\n    inp.addEventListener(\"keypress\", function(event) {\n        return numeric_keypress(this, event);\n    }\n                        );\n                        */\n    //inp.onkeypress=\"return numeric_keypress(this, event)\";\n    inp.onkeypress = numeric_keypress;\n    inp.onpaste = event => false;\n\n    inp.addEventListener(\"focus\", function (event) {\n        this.value = \"\";\n        return false;\n    }\n    );\n\n\n}\nfunction jaxify(string) {\n    var mystring = string;\n\n    var count = 0;\n    var loc = mystring.search(/([^\\\\]|^)(\\$)/);\n\n    var count2 = 0;\n    var loc2 = mystring.search(/([^\\\\]|^)(\\$\\$)/);\n\n    //console.log(loc);\n\n    while ((loc >= 0) || (loc2 >= 0)) {\n\n        /* Have to replace all the double $$ first with current implementation */\n        if (loc2 >= 0) {\n            if (count2 % 2 == 0) {\n                mystring = mystring.replace(/([^\\\\]|^)(\\$\\$)/, \"$1\\\\[\");\n            } else {\n                mystring = mystring.replace(/([^\\\\]|^)(\\$\\$)/, \"$1\\\\]\");\n            }\n            count2++;\n        } else {\n            if (count % 2 == 0) {\n                mystring = mystring.replace(/([^\\\\]|^)(\\$)/, \"$1\\\\(\");\n            } else {\n                mystring = mystring.replace(/([^\\\\]|^)(\\$)/, \"$1\\\\)\");\n            }\n            count++;\n        }\n        loc = mystring.search(/([^\\\\]|^)(\\$)/);\n        loc2 = mystring.search(/([^\\\\]|^)(\\$\\$)/);\n        //console.log(mystring,\", loc:\",loc,\", loc2:\",loc2);\n    }\n\n    // repace markdown style links with actual links\n    mystring = mystring.replace(/<(.*?)>/, '<a href=\"$1\" target=\"_blank\" class=\"Link\">$1</a>');\n    mystring = mystring.replace(/\\[(.*?)\\]\\((.*?)\\)/, '<a href=\"$2\" target=\"_blank\" class=\"Link\">$1</a>');\n\n    //console.log(mystring);\n    return mystring;\n}\n\n\nfunction show_questions(json, mydiv) {\n    console.log('show_questions');\n    //var mydiv=document.getElementById(myid);\n    var shuffle_questions = mydiv.dataset.shufflequestions;\n    var num_questions = mydiv.dataset.numquestions;\n    var shuffle_answers = mydiv.dataset.shuffleanswers;\n    var max_width = mydiv.dataset.maxwidth;\n\n    if (num_questions > json.length) {\n        num_questions = json.length;\n    }\n\n    var questions;\n    if ((num_questions < json.length) || (shuffle_questions == \"True\")) {\n        //console.log(num_questions+\",\"+json.length);\n        questions = getRandomSubarray(json, num_questions);\n    } else {\n        questions = json;\n    }\n\n    //console.log(\"SQ: \"+shuffle_questions+\", NQ: \" + num_questions + \", SA: \", shuffle_answers);\n\n    // Iterate over questions\n    questions.forEach((qa, index, array) => {\n        //console.log(qa.question); \n\n        var id = makeid(8);\n        //console.log(id);\n\n\n        // Create Div to contain question and answers\n        var iDiv = document.createElement('div');\n        //iDiv.id = 'quizWrap' + id + index;\n        iDiv.id = 'quizWrap' + id;\n        iDiv.className = 'Quiz';\n        iDiv.setAttribute('data-qnum', index);\n        iDiv.style.maxWidth  =max_width+\"px\";\n        mydiv.appendChild(iDiv);\n        // iDiv.innerHTML=qa.question;\n        \n        var outerqDiv = document.createElement('div');\n        outerqDiv.id = \"OuterquizQn\" + id + index;\n        // Create div to contain question part\n        var qDiv = document.createElement('div');\n        qDiv.id = \"quizQn\" + id + index;\n        \n        if (qa.question) {\n            iDiv.append(outerqDiv);\n\n            //qDiv.textContent=qa.question;\n            qDiv.innerHTML = jaxify(qa.question);\n            outerqDiv.append(qDiv);\n        }\n\n        // Create div for code inside question\n        var codeDiv;\n        if (\"code\" in qa) {\n            codeDiv = document.createElement('div');\n            codeDiv.id = \"code\" + id + index;\n            codeDiv.className = \"QuizCode\";\n            var codePre = document.createElement('pre');\n            codeDiv.append(codePre);\n            var codeCode = document.createElement('code');\n            codePre.append(codeCode);\n            codeCode.innerHTML = qa.code;\n            outerqDiv.append(codeDiv);\n            //console.log(codeDiv);\n        }\n\n\n        // Create div to contain answer part\n        var aDiv = document.createElement('div');\n        aDiv.id = \"quizAns\" + id + index;\n        aDiv.className = 'Answer';\n        iDiv.append(aDiv);\n\n        //console.log(qa.type);\n\n        var num_correct;\n        if ((qa.type == \"multiple_choice\") || (qa.type == \"many_choice\") ) {\n            num_correct = make_mc(qa, shuffle_answers, outerqDiv, qDiv, aDiv, id);\n            if (\"answer_cols\" in qa) {\n                //aDiv.style.gridTemplateColumns = 'auto '.repeat(qa.answer_cols);\n                aDiv.style.gridTemplateColumns = 'repeat(' + qa.answer_cols + ', 1fr)';\n            }\n        } else if (qa.type == \"numeric\") {\n            //console.log(\"numeric\");\n            make_numeric(qa, outerqDiv, qDiv, aDiv, id);\n        }\n\n\n        //Make div for feedback\n        var fb = document.createElement(\"div\");\n        fb.id = \"fb\" + id;\n        //fb.style=\"font-size: 20px;text-align:center;\";\n        fb.className = \"Feedback\";\n        fb.setAttribute(\"data-answeredcorrect\", 0);\n        fb.setAttribute(\"data-numcorrect\", num_correct);\n        iDiv.append(fb);\n\n\n    });\n    var preserveResponses = mydiv.dataset.preserveresponses;\n    console.log(preserveResponses);\n    console.log(preserveResponses == \"true\");\n    if (preserveResponses == \"true\") {\n        console.log(preserveResponses);\n        // Create Div to contain record of answers\n        var iDiv = document.createElement('div');\n        iDiv.id = 'responses' + mydiv.id;\n        iDiv.className = 'JCResponses';\n        // Create a place to store responses as an empty array\n        iDiv.setAttribute('data-responses', '[]');\n\n        // Dummy Text\n        iDiv.innerHTML=\"<b>Select your answers and then follow the directions that will appear here.</b>\"\n        //iDiv.className = 'Quiz';\n        mydiv.appendChild(iDiv);\n    }\n//console.log(\"At end of show_questions\");\n    if (typeof MathJax != 'undefined') {\n        console.log(\"MathJax version\", MathJax.version);\n        var version = MathJax.version;\n        setTimeout(function(){\n            var version = MathJax.version;\n            console.log('After sleep, MathJax version', version);\n            if (version[0] == \"2\") {\n                MathJax.Hub.Queue([\"Typeset\", MathJax.Hub]);\n            } else if (version[0] == \"3\") {\n                if (MathJax.hasOwnProperty('typeset') ) {\n                    MathJax.typeset([mydiv]);\n                } else {\n                    console.log('WARNING: Trying to force load MathJax 3');\n                    window.MathJax = {\n                        tex: {\n                            inlineMath: [['$', '$'], ['\\\\(', '\\\\)']]\n                        },\n                        svg: {\n                            fontCache: 'global'\n                        }\n                    };\n\n                    (function () {\n                        var script = document.createElement('script');\n                        script.src = 'https://cdn.jsdelivr.net/npm/mathjax@3/es5/tex-svg.js';\n                        script.async = true;\n                        document.head.appendChild(script);\n                    })();\n                }\n            }\n        }, 500);\nif (typeof version == 'undefined') {\n        } else\n        {\n            if (version[0] == \"2\") {\n                MathJax.Hub.Queue([\"Typeset\", MathJax.Hub]);\n            } else if (version[0] == \"3\") {\n                if (MathJax.hasOwnProperty('typeset') ) {\n                    MathJax.typeset([mydiv]);\n                } else {\n                    console.log('WARNING: Trying to force load MathJax 3');\n                    window.MathJax = {\n                        tex: {\n                            inlineMath: [['$', '$'], ['\\\\(', '\\\\)']]\n                        },\n                        svg: {\n                            fontCache: 'global'\n                        }\n                    };\n\n                    (function () {\n                        var script = document.createElement('script');\n                        script.src = 'https://cdn.jsdelivr.net/npm/mathjax@3/es5/tex-svg.js';\n                        script.async = true;\n                        document.head.appendChild(script);\n                    })();\n                }\n            } else {\n                console.log(\"MathJax not found\");\n            }\n        }\n    }\n\n    // stop event propagation for the .Link class\n    var links = document.getElementsByClassName('Link')\n    for (var i = 0; i < links.length; i++) {\n        links[i].addEventListener('click', function(e){\n            e.stopPropagation();\n        });\n    }\n\n    return false;\n}\n/* This is to handle asynchrony issues in loading Jupyter notebooks\n           where the quiz has been previously run. The Javascript was generally\n           being run before the div was added to the DOM. I tried to do this\n           more elegantly using Mutation Observer, but I didn't get it to work.\n\n           Someone more knowledgeable could make this better ;-) */\n\n        function try_show() {\n          if(document.getElementById(\"nLxEAhaLSzZU\")) {\n            show_questions(questionsnLxEAhaLSzZU,  nLxEAhaLSzZU); \n          } else {\n             setTimeout(try_show, 200);\n          }\n        };\n    \n        {\n        // console.log(element);\n\n        //console.log(\"nLxEAhaLSzZU\");\n        // console.log(document.getElementById(\"nLxEAhaLSzZU\"));\n\n        try_show();\n        }\n        ",
      "text/plain": [
       "<IPython.core.display.Javascript object>"
      ]
     },
     "metadata": {},
     "output_type": "display_data"
    }
   ],
   "source": [
    "display_quiz(questions[3:4])"
   ]
  },
  {
   "cell_type": "markdown",
   "metadata": {},
   "source": [
    "# [Exoplanet Atmosphere Observability Table](https://catalogs.mast.stsci.edu/eaot/)\n",
    "The last major tool that MAST offers specific to exoplanet research is the Exoplanet Atmosphere Observability Table (EAOT). This provides spectroscopic emission signal-to-noise ratios (SNRs) at 1.5 and 5 $\\mathrm{\\mu m}$, as well as the K-band transmission SNR. All of these values are **relative to [HD 209458 b](https://en.wikipedia.org/wiki/HD_209458_b)**. \n",
    "\n",
    "![Logo ><](../../Auxiliary_Files/Graphics/Data_Repositories/MAST_EAOT.PNG)\n",
    "\n",
    "The results can be filtered based on a variety of different parameters. The output results look as follows:\n",
    "\n",
    "![Logo ><](../../Auxiliary_Files/Graphics/Data_Repositories/MAST_EAOT_Results.PNG)\n",
    "\n",
    "As always, the table can be exported to `.csv` or `.json`. "
   ]
  },
  {
   "cell_type": "markdown",
   "metadata": {},
   "source": [
    "# Exercises\n",
    "\n",
    "## 1. Download TESS Light Curve Data\n",
    "One of the primary data products from the TESS mission is time-series photometry. These are used to identify transits of orbiting exoplanets. In this exercise, you are tasked with querying and downloading TESS light curve file from the SPOC pipeline for TOI-1001.01. It has TIC ID 88863718, which will help you find the data you want.\n",
    "\n",
    "HINT: You will want to query by criteria, using the `target_name`, `provenance_name`, and `dataproduct_type` parameters. `target_name` **must** be a string, even if the target name is an integer. `provenance_name` refers to the pipeline that produces the data, which is SPOC in this case. [Here](https://mast.stsci.edu/api/v0/_c_a_o_mfields.html) is the list of parameters for the Observation class. When querying the `product_list`, you will want to filter for `fits` extensions, and grab data that ends in `...s_lc.fits`."
   ]
  },
  {
   "cell_type": "code",
   "execution_count": 25,
   "metadata": {},
   "outputs": [],
   "source": [
    "##Codespace for Exercise 1"
   ]
  },
  {
   "cell_type": "markdown",
   "metadata": {},
   "source": [
    "## 2. Previewing Hubble Data for Transmission Spectroscopy\n",
    "Transmission spectroscopy utilizes atmospheric absorption of the exoplanet as it passes in front of its host star. To constrain chemical species in the atmosphere, Hubble's WFC3 infrared spectrometer can be used before and during transits, to see which wavelengths are absorbed. To do this, spectral images must be obtained. While this can be done via `astroquery` or the MAST portal, is it usually easier to access using the [Hubble Search Tool](https://mast.stsci.edu/search/ui/#/hst), as it is typically only a few dozen exposures with the right filters. Query for object KELT-20 b, filter G141, and observation time between 2023-02-20 and 2023-03-20. This will give you 119 spectra and 1 direct image of KELT-20 b, which you can preview and (optionally) download. If you download, select the spectra you'd like to analyze, select 'choose which files to download', and under 'calibrated,' choose 'IMA' files. This can be analyzed using the [PACMAN](..\\Software\\PACMAN.ipynb)."
   ]
  },
  {
   "cell_type": "markdown",
   "metadata": {},
   "source": [
    "## 3. Using the NASA Exoplanet Archive with MAST to Systematically Access Exoplanet Host Data\n",
    "The NASA Exoplanet Archive can easily give a list of known exoplanets with object identifiers that can be used to query e.g. TESS time-series data programmatically. This is done using the **TIC ID**. Following the [NASA Exoplanet Archive module](../Catalogs/NEA.ipynb), download a .csv file of all exoplanet hosts that:\n",
    "- Have at least one transiting exoplanet\n",
    "- Have $4000 \\, \\mathrm{K} \\leq T_{eff} \\leq 5000 \\, \\mathrm{K} $\n",
    "- An exoplanet with radius $0.7 \\, R_{\\bigoplus} \\leq R_{P} \\leq 1.3 \\, R_{\\bigoplus}$\n",
    "Then, create a Python script that systematically access the TIC IDs from the downloaded .csv, queries the data product **counts** of all TESS timeseries data, and stores it in a dictionary with the host name as the key. Which host has the greatest amount of TESS timeseries data associated with it?"
   ]
  },
  {
   "cell_type": "code",
   "execution_count": 26,
   "metadata": {},
   "outputs": [],
   "source": [
    "##Codespace for Exercise 2"
   ]
  }
 ],
 "metadata": {
  "kernelspec": {
   "display_name": "Python 3 (ipykernel)",
   "language": "python",
   "name": "python3"
  },
  "language_info": {
   "codemirror_mode": {
    "name": "ipython",
    "version": 3
   },
   "file_extension": ".py",
   "mimetype": "text/x-python",
   "name": "python",
   "nbconvert_exporter": "python",
   "pygments_lexer": "ipython3",
   "version": "3.12.4"
  }
 },
 "nbformat": 4,
 "nbformat_minor": 4
}
