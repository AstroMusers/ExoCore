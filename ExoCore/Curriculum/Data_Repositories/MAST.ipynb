{
 "cells": [
  {
   "cell_type": "markdown",
   "metadata": {
    "jp-MarkdownHeadingCollapsed": true
   },
   "source": [
    "[![Logo ><](../../Auxiliary_Files/Graphics/Data_Repositories/MAST_Logo.jpg)](https://archive.stsci.edu/)\n",
    "\n",
    "## Table of Contents\n",
    "- [Overview](#overview)\n",
    "- [MAST Portal](#mast-portal)\n",
    "    - [Searching for Data](#searching-for-data)\n",
    "    - [Browsing Data](#browsing-data)\n",
    "    - [Browsing Tools](#browsing-tools)\n",
    "    - [Data Retrieval](#data-retrieval)\n",
    "    - [Video Tutorials](#video-tutorials)\n",
    "- [MAST API via astroquery](#mast-api-via-astroquery)\n",
    "    - [Observational Queries](#observational-queries)\n",
    "    - [Downloading Data Products](#downloading-data-products)\n",
    "    - [Catalog Queries](#catalog-queries)\n",
    "- [Exoplanet Atmosphere Observability Table](#exoplanet-atmosphere-observability-table)\n",
    "- [Exercises](#exercises)\n",
    "    - [1. Download TESS Light Curve Data](#1-download-tess-light-curve-data)\n",
    "    - [2. Previewing Hubble Data for Transmission Spectroscopy](#2-previewing-hubble-data-for-transmission-spectroscopy)\n",
    "    - [3. Using the NASA Exoplanet Archive with MAST to Systematically Access Exoplanet Host Data](#3-using-the-nasa-exoplanet-archive-with-mast-to-systematically-access-exoplanet-host-data)"
   ]
  },
  {
   "cell_type": "markdown",
   "metadata": {},
   "source": [
    "# Overview\n",
    "The Barbara A. Mikulski Archive for Space Telescopes (MAST) is the primary data repository for all space telescope missions, including Hubble, JWST, TESS, and Kepler. Most exoplanet discoveries and analysis are performed using these instruments, so being able to navigate, query, and download data products is imperative. MAST is a **vast** network with countless tools, many of which are out of scope for this curriculum. Consequently, this module covers the following tools:\n",
    "- [MAST Portal](https://mast.stsci.edu/portal/Mashup/Clients/Mast/Portal.html)\n",
    "- [MAST API via astroquery](https://astroquery.readthedocs.io/en/latest/mast/mast.html)\n",
    "- [Exoplanet Atmosphere Observability Table](https://catalogs.mast.stsci.edu/eaot/)\n",
    "\n",
    "Resources that are not discussed, but that may be useful to some users, include:\n",
    "- [TESScut (TESS Full Frame Image Cutout Tool)](https://mast.stsci.edu/tesscut/)\n",
    "- [MAST Search (Hubble and JWST form-based query tool)](https://mast.stsci.edu/search/ui/#/)\n",
    "- [MAST API via HTTPS Requests](https://mast.stsci.edu/api/v0/)"
   ]
  },
  {
   "cell_type": "markdown",
   "metadata": {},
   "source": [
    "# [MAST Portal](https://mast.stsci.edu/portal/Mashup/Clients/Mast/Portal.html)\n",
    "The MAST Portal is the web-based GUI where data can be easily accessed from. This section will go over how to construct a basic query and will offer pointers to tutorials and user guides for more advanced queries and tools.\n",
    "\n",
    "## Searching for Data\n",
    "\n",
    "### [Basic Search](https://outerspace.stsci.edu/display/MASTDOCS/Basic+Search)\n",
    "This comes in two steps:\n",
    "- Select a collection to query\n",
    "- Submitting a valid search criteria\n",
    "\n",
    "![Logo ><](../../Auxiliary_Files/Graphics/Data_Repositories/MAST_menu_selectCollection.png)\n",
    "\n",
    "In general, 'MAST Observations' is a safe default. A [table](https://outerspace.stsci.edu/display/MASTDOCS/Basic+Search) is available that gives information on the other collections.\n",
    "\n",
    "There are two main ways to query an object: by **name** or **coordinates**. \n",
    "\n",
    "#### Search by Name\n",
    "Querying by object is straightforward, and MAST is able to recognize a variety of different inputs for the same target. For example, WASP-100 also goes by TIC 38846515, 2MASS J04355033-6401373, etc., and will result in the same query. Here is a table outlining common paradigms:\n",
    "\n",
    "![Logo ><](../../Auxiliary_Files/Graphics/Data_Repositories/MAST_Allowed.PNG)\n",
    "\n",
    "#### Search by Coordinate\n",
    "RA and DEC can be specified along with a search radius to query a region of the sky. The format of this search is:\n",
    "\n",
    "`RA DEC r=[radius][unit]`\n",
    "\n",
    "Where `unit` can be \"d\" (degrees), \"min\" (arcminutes), or \"s\" (arc-seconds). RA and DEC units can be in sexadecimal, decimal degrees or galactic coordinates. Below outlines the acceptable formats:\n",
    "\n",
    "![Logo ><](../../Auxiliary_Files/Graphics/Data_Repositories/MAST_Allowed_Coord.PNG)\n",
    "\n",
    "### [List Search](https://outerspace.stsci.edu/display/MASTDOCS/Search+a+List+of+Targets)\n",
    "A list of targets can also be passed as a search.\n",
    "\n",
    "![Logo ><](../../Auxiliary_Files/Graphics/Data_Repositories/MAST_Target_List.PNG)\n",
    "\n",
    "The minimum required information, in distinct columns, are **Target** and **RA + DEC**, following the same paradigms as the basic search. \n",
    "\n",
    "![Logo ><](../../Auxiliary_Files/Graphics/Data_Repositories/MAST_List_Example.PNG)\n",
    "\n",
    "More details and caveats to this process can be found [here](https://outerspace.stsci.edu/display/MASTDOCS/Search+a+List+of+Targets)."
   ]
  },
  {
   "cell_type": "markdown",
   "metadata": {},
   "source": [
    "## Browsing Data\n",
    "After searching for your target(s), a list of available data products appear with a variety of information. These can be continually filtered, interacted with, and previewed, all within the portal interface. This section briefly discusses the basics of the interface, with pointers to additional information for more advanced searches.\n",
    "\n",
    "### Results Grid\n",
    "Let's say we search the system WASP-10 using a basic search. The results grid will look like:\n",
    "![Logo ><](../../Auxiliary_Files/Graphics/Data_Repositories/MAST_Table.PNG)\n",
    "\n",
    "The columns provide information such as filters, instrument, project, etc. The 'Edit Columns' in the upper left allow you to pick and choose which to display, and are explained [here](https://outerspace.stsci.edu/display/MASTDOCS/Search+Results+Grid). \n",
    "\n",
    "There are a number of icons that allow you to perform certain actions, if applicable, summarized in the table below:\n",
    "\n",
    "![Logo ><](../../Auxiliary_Files/Graphics/Data_Repositories/MAST_Actions.PNG)\n",
    "\n",
    "For our target, we can easily download the TESS time-series data, which would be the second row in the list displayed above (the first is an FFI, or Full Frame Image) by clicking on the \"Save\" icon.\n",
    "\n",
    "### Filters\n",
    "To refine the output of the results grid, we can apply a variety of different filters. Some example filters are shown here:\n",
    "\n",
    "![Logo ><](../../Auxiliary_Files/Graphics/Data_Repositories/MAST_Filters.PNG)\n",
    "\n",
    "These are all explanatory, so feel free to explore and apply filters as you see fit."
   ]
  },
  {
   "cell_type": "markdown",
   "metadata": {},
   "source": [
    "## Browsing Tools\n",
    "\n",
    "### [AstroView](https://outerspace.stsci.edu/display/MASTDOCS/AstroView)\n",
    "\n",
    "When searching for data, MAST will give a close-up sky view of the target in a box called `AstroView`, shown below:\n",
    "\n",
    "![Logo ><](../../Auxiliary_Files/Graphics/Data_Repositories/MAST_Astroview.PNG)\n",
    "\n",
    "Each orange outline/dot represents an associated data product with that part of the sky, which can be clicked on to highlight the data set in the results grid. **These regions are not necessarily tied to your searched target, which is indicated by the red crosshair. Be sure to check the target associated with the highlighted product before downloading.**\n",
    "\n",
    "### Actions and Visualization\n",
    "Some data allow you to perform actions or visualize data in-broswer, which can be useful to see before you download the data product. These are summarized in the table below:\n",
    "\n",
    "![Logo ><](../../Auxiliary_Files/Graphics/Data_Repositories/MAST_Visual.PNG)\n",
    "\n",
    "The details of these tools and how to use the interfaces can be found [here](https://outerspace.stsci.edu/display/MASTDOCS/Data+Browsing+Tools).\n",
    "\n",
    "\n",
    "### Downloading the Results Grid\n",
    "\n",
    "In some contexts, downloading the current results grid to an external file can be necessary. This can be done by clicking ![Logo ><](../Graphics/Data_Repositories/MAST_Download.PNG), and filling out the `Export Table` pop-up, shown below:\n",
    "\n",
    "![Logo ><](../../Auxiliary_Files/Graphics/Data_Repositories/MAST_GridExport.PNG)"
   ]
  },
  {
   "cell_type": "markdown",
   "metadata": {},
   "source": [
    "## Data Retrieval\n",
    "\n",
    "### One-Click Download\n",
    "As described above, data can be downloaded in one click using the ![Logo ><](../../Auxiliary_Files/Graphics/Data_Repositories/MAST_Save.png) icon next to the associated data product, which will download the **minimum recommended data products** for that observation. The file will save as a `.zip` file, which will have to be unpacked. That's it!\n",
    "\n",
    "### Download Basket\n",
    "\n",
    "If more than one data set is desired, they can be selected in the left most column in the results grid, shown here:\n",
    "\n",
    "![Logo ><](../../Auxiliary_Files/Graphics/Data_Repositories/MAST_GridSelect.PNG)\n",
    "\n",
    "These can then be added to the download basket using ![Logo ><](../../Auxiliary_Files/Graphics/Data_Repositories/MAST_DownloadBasket.PNG). This will bring up the download manager window:\n",
    "\n",
    "![Logo ><](../../Auxiliary_Files/Graphics/Data_Repositories/MAST_DownloadManage.PNG)\n",
    "\n",
    "Where specific files can be selected, filtered, or ignored, before being downloaded. See [here](https://outerspace.stsci.edu/display/MASTDOCS/Download+Basket) for more information on file types, filters, details and actions\n",
    "\n",
    "## Video Tutorials\n",
    "\n",
    "[Video demos](https://outerspace.stsci.edu/display/MASTDOCS/Demos+and+Tutorials) are available online for a comprehensive dive into the MAST portal!"
   ]
  },
  {
   "cell_type": "markdown",
   "metadata": {},
   "source": [
    "# [MAST API via astroquery](https://astroquery.readthedocs.io/en/latest/mast/mast.html)\n",
    "\n",
    "The MAST portal can be effective when dealing with a few targets, but struggles when target lists reach the **hundreds** or ***thousands***. For this, the Python module `astroquery` can retrieve and download associated data products from MAST programmatically. For example, downloading all TESS time-series photometry for all known TESS Objects of Interest can be reduced down to a list of TIC IDs and a simple `for` loop. The query types addressed in this module are:\n",
    "\n",
    "- [Observational Queries](https://astroquery.readthedocs.io/en/latest/mast/mast_obsquery.html)\n",
    "- [Catalog Queries](https://astroquery.readthedocs.io/en/latest/mast/mast_catalog.html)\n",
    "\n",
    "The queries not addressed here, but may be useful, are:\n",
    "\n",
    "- [Mission Searches (JWST, HST metadata)](https://astroquery.readthedocs.io/en/latest/mast/mast_missions.html)\n",
    "- [Image Cutouts (e.g. TESScut)](https://astroquery.readthedocs.io/en/latest/mast/mast_cut.html)\n",
    "- [MAST Queries](https://astroquery.readthedocs.io/en/latest/mast/mast_mastquery.html)\n",
    "\n",
    "This section goes through the basic functions of `astroquery.mast`, with a few illustrative examples. To start, we import the appropriate modules:"
   ]
  },
  {
   "cell_type": "code",
   "execution_count": 15,
   "metadata": {},
   "outputs": [],
   "source": [
    "from astroquery.mast import Observations, Catalogs"
   ]
  },
  {
   "cell_type": "markdown",
   "metadata": {},
   "source": [
    "## [Observational Queries](https://astroquery.readthedocs.io/en/latest/api/astroquery.mast.ObservationsClass.html#astroquery.mast.ObservationsClass)\n",
    "### Generating Observation Tables\n",
    "The `Observations` class input is similar to the MAST Portal's filtering. Queries can be made by **position**, **target name**, or other **criteria** (such as catalog ID number). These queries output an `astropy` table of observations, which can then be downloaded. Here are examples of typical workflows."
   ]
  },
  {
   "cell_type": "code",
   "execution_count": 16,
   "metadata": {},
   "outputs": [
    {
     "name": "stdout",
     "output_type": "stream",
     "text": [
      "intentType obs_collection provenance_name ...   obsid        distance     \n",
      "---------- -------------- --------------- ... --------- ------------------\n",
      "   science           TESS            SPOC ...  27463641                0.0\n",
      "   science           TESS            SPOC ...  27507606                0.0\n",
      "   science           TESS            SPOC ...  62431376                0.0\n",
      "   science           TESS            SPOC ...  62870786                0.0\n",
      "   science           TESS            SPOC ...  92616930                0.0\n",
      "   science           TESS            SPOC ...  95133384                0.0\n",
      "   science           TESS            SPOC ... 212510190                0.0\n",
      "   science           TESS            SPOC ... 213002720                0.0\n",
      "   science           TESS            SPOC ... 230167024                0.0\n",
      "   science           TESS            SPOC ... 232881378                0.0\n",
      "       ...            ...             ... ...       ...                ...\n",
      "   science            HLA             HLA ...  25907480                0.0\n",
      "   science            HLA             HLA ...  25907481                0.0\n",
      "   science            HLA             HLA ...  25907482                0.0\n",
      "   science            HLA             HLA ...  25907483                0.0\n",
      "   science            HLA             HLA ...  26030433                0.0\n",
      "   science            HLA             HLA ...  26036087 302.97582263477204\n",
      "   science            HLA             HLA ...  26177773 302.97582263477204\n",
      "   science            HLA             HLA ...  26036086 302.97823343218556\n",
      "   science            HLA             HLA ...  26036088 302.97823343218556\n",
      "   science          GALEX             AIS ...      9747  138.5761601079376\n",
      "Length = 23552 rows\n"
     ]
    }
   ],
   "source": [
    "##Query the exoplanet HAT-P-7b\n",
    "query_table = Observations.query_object('HAT-P-7b')\n",
    "print(query_table)"
   ]
  },
  {
   "cell_type": "markdown",
   "metadata": {},
   "source": [
    "That took some time! Most exoplanet hosts will have a comparable number of observations. While there are some uses for a broad search, let's look at some applications for adding some parameters. \n",
    "\n",
    "Filtering can be done by constraining the content of each column. You can find a complete list of all the columns and their descriptions [here](https://mast.stsci.edu/api/v0/_c_a_o_mfields.html).\n",
    "\n",
    "The `query_object` only allows you to add a \"radius of search\" parameter object, so we will use the `query_criteria` method. \n",
    "\n",
    "Let's look for light curves of HAT-P-7b taken by the TESS telescope. This allows us to narrow down our search significantly!"
   ]
  },
  {
   "cell_type": "code",
   "execution_count": 17,
   "metadata": {},
   "outputs": [
    {
     "name": "stdout",
     "output_type": "stream",
     "text": [
      "45\n",
      "intentType obs_collection provenance_name ...   objID1       distance     \n",
      "---------- -------------- --------------- ... --------- ------------------\n",
      "   science           TESS            SPOC ...  70526761 287.98135262165573\n",
      "   science           TESS            SPOC ...  70531322                0.0\n",
      "   science           TESS            SPOC ...  70544780  638.6413483917396\n",
      "   science           TESS            SPOC ... 116683518                0.0\n",
      "   science           TESS            SPOC ... 116846050                0.0\n",
      "   science           TESS            SPOC ... 117053213                0.0\n",
      "   science           TESS            SPOC ... 117053215 118.92799122073585\n",
      "   science           TESS            SPOC ... 120248572                0.0\n",
      "   science           TESS            SPOC ... 120248575 118.92799122073585\n",
      "   science           TESS            SPOC ... 120248644 118.92799122073585\n"
     ]
    }
   ],
   "source": [
    "query_table = Observations.query_criteria(objectname=\"HAT-P-7b\", \n",
    "                                              obs_collection=\"TESS\",\n",
    "                                              dataproduct_type=[\"timeseries\"])\n",
    "# indenting like this doesn't affect the code output, but is just a way to try and make it more readable/organized\n",
    "\n",
    "print(len(query_table))\n",
    "print(query_table[:10])"
   ]
  },
  {
   "cell_type": "markdown",
   "metadata": {},
   "source": [
    " <div class=\"alert alert-block alert-info\">\n",
    " \n",
    "**INFO**: The **query_criteria** method is extremely robust, and can suit most search applications extremely efficiently. The different parameters to refine your search can be found [here](https://mast.stsci.edu/api/v0/_c_a_o_mfields.html)"
   ]
  },
  {
   "cell_type": "markdown",
   "metadata": {},
   "source": [
    "Lastly, we can also query by position by using the `query_region` method, which takes in an RA, DEC, and search radius, and outputs all data in the region."
   ]
  },
  {
   "cell_type": "code",
   "execution_count": 18,
   "metadata": {},
   "outputs": [
    {
     "name": "stdout",
     "output_type": "stream",
     "text": [
      "intentType obs_collection  provenance_name  ...   obsid        distance    \n",
      "---------- -------------- ----------------- ... --------- -----------------\n",
      "   science           TESS              SPOC ...  62280343               0.0\n",
      "   science           TESS              SPOC ...  62324728               0.0\n",
      "   science           TESS              SPOC ...  28287315               0.0\n",
      "   science           TESS              SPOC ...  28220318   642.16680527556\n",
      "   science            PS1               3PI ...   1850796               0.0\n",
      "   science            PS1               3PI ...   1850797               0.0\n",
      "   science            PS1               3PI ...   1850798               0.0\n",
      "   science            PS1               3PI ...   1850799               0.0\n",
      "   science            PS1               3PI ...   1850800               0.0\n",
      "   science            PS1               3PI ...   1850791 503.6552188317507\n",
      "       ...            ...               ... ...       ...               ...\n",
      "   science           HLSP              TGLC ... 169265063 718.8038785363183\n",
      "   science           HLSP              TGLC ... 169264258 719.2034100964987\n",
      "   science           HLSP              TGLC ... 189235004 719.2034100964987\n",
      "   science           HLSP             TASOC ...  91060980 719.2208006533244\n",
      "   science           HLSP GSFC-ELEANOR-LITE ... 132103160 719.2208174859751\n",
      "   science           HLSP GSFC-ELEANOR-LITE ... 141350209 719.2208174859751\n",
      "   science           HLSP GSFC-ELEANOR-LITE ... 132088910 719.4582485379761\n",
      "   science           HLSP              TGLC ... 169264805 719.5434578730323\n",
      "   science          GALEX               AIS ...     30996               0.0\n",
      "   science          GALEX               AIS ...     30996               0.0\n",
      "Length = 1668 rows\n"
     ]
    }
   ],
   "source": [
    "##The syntax is \"RA DEC\", in any commonly accepted RA DEC format as outlined in \"Search by Coordinate\" section\n",
    "query_table = Observations.query_region(\"100.12 -20.223\")\n",
    "print(query_table)"
   ]
  },
  {
   "cell_type": "markdown",
   "metadata": {},
   "source": [
    "### Observation Counts\n",
    "Each method above has a corresponding 'count' method (e.g. `query_criteria_count`). This simply returns the number of associated data products instead of the full observation table. These are much faster, and are useful in project preparation."
   ]
  },
  {
   "cell_type": "code",
   "execution_count": 19,
   "metadata": {},
   "outputs": [
    {
     "name": "stdout",
     "output_type": "stream",
     "text": [
      "6446 74 211942\n"
     ]
    }
   ],
   "source": [
    "query_obj_count = Observations.query_object_count('WASP-121b')\n",
    "query_region_count = Observations.query_region_count('200.22, 10.33')\n",
    "query_criteria_count = Observations.query_criteria_count(project = 'HST', dataproduct_type = \"spectrum\")\n",
    "\n",
    "print(query_obj_count, query_region_count, query_criteria_count)"
   ]
  },
  {
   "cell_type": "markdown",
   "metadata": {},
   "source": [
    "### Metadata Queries\n",
    "Additionally, metadata can be queried to help users properly fill out the `query_criteria` method, and is an alternative to the list provided above."
   ]
  },
  {
   "cell_type": "code",
   "execution_count": 20,
   "metadata": {},
   "outputs": [
    {
     "name": "stdout",
     "output_type": "stream",
     "text": [
      " Column Name     Column Label   ...       Examples/Valid Values       \n",
      "-------------- ---------------- ... ----------------------------------\n",
      "    intentType Observation Type ... Valid values: science, calibration\n",
      "obs_collection          Mission ...          E.g. SWIFT, PS1, HST, IUE\n",
      "  Column Name    ...\n",
      "---------------- ...\n",
      "          obs_id ...\n",
      "           obsID ...\n",
      "  obs_collection ...\n",
      "dataproduct_type ...\n",
      "     description ...\n"
     ]
    }
   ],
   "source": [
    "#For observations\n",
    "meta_data = Observations.get_metadata(\"observations\")\n",
    "print(meta_data[:2])\n",
    "\n",
    "#For product types\n",
    "meta_data = Observations.get_metadata(\"products\")\n",
    "print(meta_data[:5])"
   ]
  },
  {
   "cell_type": "markdown",
   "metadata": {},
   "source": [
    "## Downloading Data Products"
   ]
  },
  {
   "cell_type": "markdown",
   "metadata": {},
   "source": [
    "Data can be downloaded using the `get_product_list` and `download_products` methods. The general paradigm is:\n",
    "\n",
    "- Generate an observation table as above\n",
    "- From the observation table, generate a product list via `get_product_list`\n",
    "- Download the data in the product list using `download_products`\n",
    "\n",
    "This is shown below."
   ]
  },
  {
   "cell_type": "code",
   "execution_count": 21,
   "metadata": {},
   "outputs": [
    {
     "name": "stdout",
     "output_type": "stream",
     "text": [
      "INFO: Found cached file Data/mastDownload/TESS/tess2019226182529-s0015-0000000424865046-0151-s/tess2019226182529-s0015-0000000424865046-0151-s_lc.fits with expected size 1906560. [astroquery.query]\n",
      "INFO: Found cached file Data/mastDownload/TESS/tess2019226182529-s0015-0000000424865046-0151-s/tess2019226182529-s0015-0000000424865046-0151-s_tp.fits with expected size 45956160. [astroquery.query]\n",
      "INFO: Found cached file Data/mastDownload/TESS/tess2019226182529-s0015-0000000424865156-0151-s/tess2019226182529-s0015-0000000424865156-0151-s_lc.fits with expected size 1906560. [astroquery.query]\n",
      "INFO: Found cached file Data/mastDownload/TESS/tess2019226182529-s0015-0000000424865156-0151-s/tess2019226182529-s0015-0000000424865156-0151-s_tp.fits with expected size 45956160. [astroquery.query]\n",
      "INFO: Found cached file Data/mastDownload/TESS/tess2019226182529-s0015-0000000424865156-0151-s/tess2019227203528-s0015-s0015-0000000424865156-00245_dvm.pdf with expected size 4889891. [astroquery.query]\n",
      "INFO: Found cached file Data/mastDownload/TESS/tess2019226182529-s0015-0000000424865156-0151-s/tess2019227203528-s0015-s0015-0000000424865156-00245_dvr.pdf with expected size 15277086. [astroquery.query]\n",
      "INFO: Found cached file Data/mastDownload/TESS/tess2019226182529-s0015-0000000424865156-0151-s/tess2019227203528-s0015-s0015-0000000424865156-00245_dvr.xml with expected size 117417. [astroquery.query]\n",
      "INFO: Found cached file Data/mastDownload/TESS/tess2019226182529-s0015-0000000424865156-0151-s/tess2019227203528-s0015-s0015-0000000424865156-00245_dvt.fits with expected size 3784320. [astroquery.query]\n",
      "INFO: Found cached file Data/mastDownload/TESS/tess2019226182529-s0015-0000000424865156-0151-s/tess2019227203528-s0015-s0015-0000000424865156-00297_dvm.pdf with expected size 4739366. [astroquery.query]\n",
      "INFO: Found cached file Data/mastDownload/TESS/tess2019226182529-s0015-0000000424865156-0151-s/tess2019227203528-s0015-s0015-0000000424865156-00297_dvr.pdf with expected size 14612644. [astroquery.query]\n",
      "INFO: Found cached file Data/mastDownload/TESS/tess2019226182529-s0015-0000000424865156-0151-s/tess2019227203528-s0015-s0015-0000000424865156-00297_dvr.xml with expected size 116132. [astroquery.query]\n",
      "INFO: Found cached file Data/mastDownload/TESS/tess2019226182529-s0015-0000000424865156-0151-s/tess2019227203528-s0015-s0015-0000000424865156-00297_dvt.fits with expected size 3784320. [astroquery.query]\n",
      "INFO: Found cached file Data/mastDownload/TESS/tess2019226182529-s0015-0000000424865156-0151-s/tess2019227203528-s0015-s0015-0000000424865156-01-00245_dvs.pdf with expected size 1230795. [astroquery.query]\n",
      "INFO: Found cached file Data/mastDownload/TESS/tess2019226182529-s0015-0000000424865156-0151-s/tess2019227203528-s0015-s0015-0000000424865156-01-00297_dvs.pdf with expected size 1074060. [astroquery.query]\n",
      "                                                              Local Path                                                               ...\n",
      "-------------------------------------------------------------------------------------------------------------------------------------- ...\n",
      "        Data/mastDownload/TESS/tess2019226182529-s0015-0000000424865046-0151-s/tess2019226182529-s0015-0000000424865046-0151-s_lc.fits ...\n",
      "        Data/mastDownload/TESS/tess2019226182529-s0015-0000000424865046-0151-s/tess2019226182529-s0015-0000000424865046-0151-s_tp.fits ...\n",
      "        Data/mastDownload/TESS/tess2019226182529-s0015-0000000424865156-0151-s/tess2019226182529-s0015-0000000424865156-0151-s_lc.fits ...\n",
      "        Data/mastDownload/TESS/tess2019226182529-s0015-0000000424865156-0151-s/tess2019226182529-s0015-0000000424865156-0151-s_tp.fits ...\n",
      "   Data/mastDownload/TESS/tess2019226182529-s0015-0000000424865156-0151-s/tess2019227203528-s0015-s0015-0000000424865156-00245_dvm.pdf ...\n",
      "   Data/mastDownload/TESS/tess2019226182529-s0015-0000000424865156-0151-s/tess2019227203528-s0015-s0015-0000000424865156-00245_dvr.pdf ...\n",
      "   Data/mastDownload/TESS/tess2019226182529-s0015-0000000424865156-0151-s/tess2019227203528-s0015-s0015-0000000424865156-00245_dvr.xml ...\n",
      "  Data/mastDownload/TESS/tess2019226182529-s0015-0000000424865156-0151-s/tess2019227203528-s0015-s0015-0000000424865156-00245_dvt.fits ...\n",
      "   Data/mastDownload/TESS/tess2019226182529-s0015-0000000424865156-0151-s/tess2019227203528-s0015-s0015-0000000424865156-00297_dvm.pdf ...\n",
      "   Data/mastDownload/TESS/tess2019226182529-s0015-0000000424865156-0151-s/tess2019227203528-s0015-s0015-0000000424865156-00297_dvr.pdf ...\n",
      "   Data/mastDownload/TESS/tess2019226182529-s0015-0000000424865156-0151-s/tess2019227203528-s0015-s0015-0000000424865156-00297_dvr.xml ...\n",
      "  Data/mastDownload/TESS/tess2019226182529-s0015-0000000424865156-0151-s/tess2019227203528-s0015-s0015-0000000424865156-00297_dvt.fits ...\n",
      "Data/mastDownload/TESS/tess2019226182529-s0015-0000000424865156-0151-s/tess2019227203528-s0015-s0015-0000000424865156-01-00245_dvs.pdf ...\n",
      "Data/mastDownload/TESS/tess2019226182529-s0015-0000000424865156-0151-s/tess2019227203528-s0015-s0015-0000000424865156-01-00297_dvs.pdf ...\n"
     ]
    }
   ],
   "source": [
    "##Repeat our previous TESS query for HAT-P-7b\n",
    "query_table = Observations.query_criteria(objectname=\"HAT-P-7b\", \n",
    "                                              obs_collection=\"TESS\",\n",
    "                                              dataproduct_type=[\"timeseries\"])\n",
    "##Only the first two associated data sets\n",
    "data_products = Observations.get_product_list(query_table[0:2])\n",
    "\n",
    "##Download the data products in the designated folder\n",
    "downloads = Observations.download_products(data_products, download_dir=\"Data\")\n",
    "print(downloads)"
   ]
  },
  {
   "cell_type": "markdown",
   "metadata": {},
   "source": [
    "Additionally, you can download a single file by using the `download_file` method, which requires the product list to contain only one object."
   ]
  },
  {
   "cell_type": "code",
   "execution_count": 22,
   "metadata": {},
   "outputs": [
    {
     "name": "stdout",
     "output_type": "stream",
     "text": [
      "mast:TESS/product/tess2021205113501-s0041-s0041-0000000424865156-00511_dvm.pdf\n"
     ]
    }
   ],
   "source": [
    "#Go to the next product in our above list for HAT-P-7b\n",
    "data_products = Observations.get_product_list(query_table[7:8])\n",
    "##Select the first file\n",
    "file = data_products[\"dataURI\"][0]\n",
    "##Check the extension of the retrieved file to match with the local path method below\n",
    "print(file)"
   ]
  },
  {
   "cell_type": "code",
   "execution_count": 23,
   "metadata": {},
   "outputs": [
    {
     "name": "stdout",
     "output_type": "stream",
     "text": [
      "INFO: Found cached file ../Data_Repositories/Data/TESS_Data.pdf with expected size 5152165. [astroquery.query]\n"
     ]
    }
   ],
   "source": [
    "## The local path needs to reference a file, not a folder in this case\n",
    "import os\n",
    "file_download = Observations.download_file(file, local_path=os.path.join('..', 'Data_Repositories', 'Data', 'TESS_Data.pdf'))"
   ]
  },
  {
   "cell_type": "markdown",
   "metadata": {},
   "source": [
    "This gives a TESS SPOC report for the known planet HAT-P-7b, with a distinct transit. Nice work! If you want more tutorials or information on available methods, [here](https://astroquery.readthedocs.io/en/latest/mast/mast_obsquery.html#downloading-data) is the `astropy` documentation for downloading MAST products."
   ]
  },
  {
   "cell_type": "markdown",
   "metadata": {},
   "source": [
    "## Catalog Queries\n",
    "\n",
    "Similar to the NASA Exoplanet Archive, MAST hosts a handful of catalogs that can be programmatically accessed via `astropy`. These include the:\n",
    "- [Hubble Source Catalog](https://archive.stsci.edu/hst/hsc/) (HSC)\n",
    "- [GALEX Catalog](http://www.galex.caltech.edu/researcher/data.html) (Galex)\n",
    "- [Gaia and TGAS Catalogs](https://www.cosmos.esa.int/web/gaia/data-release-3) (Gaia)\n",
    "- [TESS Input Catalog](https://tess.mit.edu/science/tess-input-catalogue/) (TIC)\n",
    "- [TESS Candidate Target List](https://www.google.com/search?q=TESS+candidate+target+list&sca_esv=cc6cef90bdd03fb0&sca_upv=1&rlz=1C1CHBF_enUS910US910&sxsrf=ADLYWIJKOEN2t6r5zN2BYM77G3Iywl2kqw%3A1720631144906&ei=aL-OZsngNpDbwN4Pkde76AI&ved=0ahUKEwjJtLnB-pyHAxWQLdAFHZHrDi0Q4dUDCA8&uact=5&oq=TESS+candidate+target+list&gs_lp=Egxnd3Mtd2l6LXNlcnAiGlRFU1MgY2FuZGlkYXRlIHRhcmdldCBsaXN0MgUQIRigATIFECEYoAEyBRAhGKABSL0ZUABY6xhwAngBkAEAmAHyAaAB-BiqAQY1LjIxLjG4AQPIAQD4AQGYAh2gAsIZwgIKECMYgAQYJxiKBcICBBAjGCfCAgoQABiABBhDGIoFwgIKEC4YgAQYQxiKBcICERAuGIAEGLEDGNEDGIMBGMcBwgILEAAYgAQYsQMYgwHCAg4QLhiABBixAxjRAxjHAcICCBAuGIAEGLEDwgIQEAAYgAQYsQMYgwEYFBiHAsICCBAAGIAEGLEDwgILEC4YgAQYxwEYrwHCAg0QLhiABBixAxgUGIcCwgINEC4YgAQYFBjUAhiHAsICEBAuGIAEGLEDGEMYgwEYigXCAgsQLhiABBixAxiDAcICBRAAGIAEwgILEAAYgAQYkQIYigXCAgUQLhiABMICChAuGIAEGBQYhwLCAgsQLhiABBiRAhiKBcICChAuGIAEGLEDGArCAgoQABiABBgUGIcCwgIIEC4YgAQY1ALCAgcQLhiABBgKwgIGEAAYFhgewgIKEAAYFhgKGB4YD8ICCxAAGIAEGIYDGIoFwgIIEAAYgAQYogTCAgUQIRirApgDAJIHBjYuMjIuMaAH5JEC&sclient=gws-wiz-serp) (CTL)\n",
    "- [Disk Directive Catalog]() (DiskDirective)\n",
    "- [PanSTARRS Catalog](https://catalogs.mast.stsci.edu/docs/panstarrs.html) (PANSTARRS)\n",
    "- [All-Sky PLATO Input Catalog](https://www.aanda.org/articles/aa/full_html/2021/09/aa40717-21/aa40717-21.html) (Plato)\n",
    "\n",
    "Since both the NASA Exoplanet Archive and MAST catalog queries are both under `astropy`, the syntax is nearly identical. Reference the [NASA Exoplanet Archive module](..\\Databases\\NEA.ipynb) for how to construct `query_object`, `query_region`, and `query_criteria`. To query a specific catalog, use the `catalog = [catalog ID]` parameter with any of the `query` methods above, along with the identifier associated with the catalog, shown within the parentheses in the list above. Here is a quick example from the PLATO Input Catalog:"
   ]
  },
  {
   "cell_type": "code",
   "execution_count": 24,
   "metadata": {},
   "outputs": [
    {
     "name": "stdout",
     "output_type": "stream",
     "text": [
      " objID      PICnameDR1          sourceId      ... PICidDR1      distance     \n",
      "-------- ---------------- ------------------- ... -------- ------------------\n",
      "29307583 PIC DR1 29307583 3002281237690853504 ... 29307583 2.5791268100984066\n",
      "29273768 PIC DR1 29273768 3002277080162573312 ... 29273768  3.412897833173899\n",
      "29265435 PIC DR1 29265435 3002275705773086976 ... 29265435  6.003720626738184\n",
      "29287541 PIC DR1 29287541 3002280035100117760 ... 29287541 7.9166526503407955\n",
      "29306080 PIC DR1 29306080 3002328718551357440 ... 29306080  8.229280048747171\n",
      "29301456 PIC DR1 29301456 3002327314099544192 ... 29301456 10.261798030413424\n",
      "29359276 PIC DR1 29359276 3002424208563685376 ... 29359276 11.738937090205514\n",
      "29235782 PIC DR1 29235782 3002268936905107072 ... 29235782 11.837705768101078\n"
     ]
    },
    {
     "name": "stderr",
     "output_type": "stream",
     "text": [
      "WARNING: InputWarning: Coordinate string is being interpreted as an ICRS coordinate provided in degrees. [astroquery.utils.commons]\n"
     ]
    }
   ],
   "source": [
    "catalog_data = Catalogs.query_region(\"100.23 -10\", catalog=\"Plato\")\n",
    "print(catalog_data)"
   ]
  },
  {
   "cell_type": "markdown",
   "metadata": {},
   "source": [
    "Note that not all query methods are available for each catalog. Look [here](https://astroquery.readthedocs.io/en/latest/mast/mast_catalog.html) for more examples, and [here](https://astroquery.readthedocs.io/en/latest/api/astroquery.mast.CatalogsClass.html#astroquery.mast.CatalogsClass) for documentation on the Catalog class."
   ]
  },
  {
   "cell_type": "markdown",
   "metadata": {},
   "source": [
    "# [Exoplanet Atmosphere Observability Table](https://catalogs.mast.stsci.edu/eaot/)\n",
    "The last major tool that MAST offers specific to exoplanet research is the Exoplanet Atmosphere Observability Table (EAOT). This provides spectroscopic emission signal-to-noise ratios (SNRs) at 1.5 and 5 $\\mathrm{\\mu m}$, as well as the K-band transmission SNR. All of these values are **relative to [HD 209458 b](https://en.wikipedia.org/wiki/HD_209458_b)**. \n",
    "\n",
    "![Logo ><](../../Auxiliary_Files/Graphics/Data_Repositories/MAST_EAOT.PNG)\n",
    "\n",
    "The results can be filtered based on a variety of different parameters. The output results look as follows:\n",
    "\n",
    "![Logo ><](../../Auxiliary_Files/Graphics/Data_Repositories/MAST_EAOT_Results.PNG)\n",
    "\n",
    "As always, the table can be exported to `.csv` or `.json`. "
   ]
  },
  {
   "cell_type": "markdown",
   "metadata": {},
   "source": [
    "# Exercises\n",
    "\n",
    "## 1. Download TESS Light Curve Data\n",
    "One of the primary data products from the TESS mission is time-series photometry. These are used to identify transits of orbiting exoplanets. In this exercise, you are tasked with querying and downloading TESS light curve file from the SPOC pipeline for TOI-1001.01. It has TIC ID 88863718, which will help you find the data you want.\n",
    "\n",
    "HINT: You will want to query by criteria, using the `target_name`, `provenance_name`, and `dataproduct_type` parameters. `target_name` **must** be a string, even if the target name is an integer. `provenance_name` refers to the pipeline that produces the data, which is SPOC in this case. [Here](https://mast.stsci.edu/api/v0/_c_a_o_mfields.html) is the list of parameters for the Observation class. When querying the `product_list`, you will want to filter for `fits` extensions, and grab data that ends in `...s_lc.fits`."
   ]
  },
  {
   "cell_type": "code",
   "execution_count": 25,
   "metadata": {},
   "outputs": [],
   "source": [
    "##Codespace for Exercise 1"
   ]
  },
  {
   "cell_type": "markdown",
   "metadata": {},
   "source": [
    "## 2. Previewing Hubble Data for Transmission Spectroscopy\n",
    "Transmission spectroscopy utilizes atmospheric absorption of the exoplanet as it passes in front of its host star. To constrain chemical species in the atmosphere, Hubble's WFC3 infrared spectrometer can be used before and during transits, to see which wavelengths are absorbed. To do this, spectral images must be obtained. While this can be done via `astroquery` or the MAST portal, is it usually easier to access using the [Hubble Search Tool](https://mast.stsci.edu/search/ui/#/hst), as it is typically only a few dozen exposures with the right filters. Query for object KELT-20 b, filter G141, and observation time between 2023-02-20 and 2023-03-20. This will give you 119 spectra and 1 direct image of KELT-20 b, which you can preview and (optionally) download. If you download, select the spectra you'd like to analyze, select 'choose which files to download', and under 'calibrated,' choose 'IMA' files. This can be analyzed using the [PACMAN](..\\Software\\PACMAN.ipynb)."
   ]
  },
  {
   "cell_type": "markdown",
   "metadata": {},
   "source": [
    "## 3. Using the NASA Exoplanet Archive with MAST to Systematically Access Exoplanet Host Data\n",
    "The NASA Exoplanet Archive can easily give a list of known exoplanets with object identifiers that can be used to query e.g. TESS time-series data programmatically. This is done using the **TIC ID**. Following the [NASA Exoplanet Archive module](../Catalogs/NEA.ipynb), download a .csv file of all exoplanet hosts that:\n",
    "- Have at least one transiting exoplanet\n",
    "- Have $4000 \\, \\mathrm{K} \\leq T_{eff} \\leq 5000 \\, \\mathrm{K} $\n",
    "- An exoplanet with radius $0.7 \\, R_{\\bigoplus} \\leq R_{P} \\leq 1.3 \\, R_{\\bigoplus}$\n",
    "Then, create a Python script that systematically access the TIC IDs from the downloaded .csv, queries the data product **counts** of all TESS timeseries data, and stores it in a dictionary with the host name as the key. Which host has the greatest amount of TESS timeseries data associated with it?"
   ]
  },
  {
   "cell_type": "code",
   "execution_count": 26,
   "metadata": {},
   "outputs": [],
   "source": [
    "##Codespace for Exercise 2"
   ]
  }
 ],
 "metadata": {
  "kernelspec": {
   "display_name": "exocore",
   "language": "python",
   "name": "python3"
  },
  "language_info": {
   "codemirror_mode": {
    "name": "ipython",
    "version": 3
   },
   "file_extension": ".py",
   "mimetype": "text/x-python",
   "name": "python",
   "nbconvert_exporter": "python",
   "pygments_lexer": "ipython3",
   "version": "3.12.8"
  }
 },
 "nbformat": 4,
 "nbformat_minor": 4
}
