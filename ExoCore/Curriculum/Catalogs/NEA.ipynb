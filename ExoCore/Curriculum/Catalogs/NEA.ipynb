{
 "cells": [
  {
   "cell_type": "markdown",
   "id": "a4a75992",
   "metadata": {},
   "source": [
    "[![Logo ><](../../Auxiliary_Files/Graphics/Databases/nea_logo.png)](https://exoplanetarchive.ipac.caltech.edu/)\n",
    "## Table of Contents\n",
    "1. [Overview](#overview)\n",
    "2. [Accessing Data](#accessing-data)\n",
    "    - [Web Interface](#web-interface)\n",
    "        - [Data Columns](#data-columns)\n",
    "        - [Uncertainties](#uncertainties)\n",
    "        - [Filtering Methods](#filtering-methods)\n",
    "        - [Downloading Tables](#downloading-tables)\n",
    "        - [Searchable Tables](#searchable-tables)\n",
    "    - [NASA Exoplanet Archive API via Astroquery](#nasa-exoplanet-archive-api-via-astroquery)\n",
    "        - [Single Object Query](#single-object-query)\n",
    "        - [Query by Region](#query-by-region)\n",
    "        - [Query by Criteria](#query-by-criteria)\n",
    "        - [All Available Tables](#all-available-tables)\n",
    "    - [Table Access Protocol (TAP)](#table-access-protocol-tap)\n",
    "        - [Building Queries](#building-queries)\n",
    "    - [Table Documentation](#table-documentation)\n",
    "        - [General](#general)\n",
    "        - [Kepler](#kepler)\n",
    "        - [Transit Surveys](#transit-surveys)\n",
    "3. [Tools](#tools)\n",
    "    - [Transit and Ephemeris Service](#transit-and-ephemeris-service)\n",
    "    - [Confirmed Planet Plotting Tool](#confirmed-planet-plotting-tool)\n",
    "    - [Predicted Observables for Exoplanets Service (POE)](#predicted-observables-for-exoplanets-service-poe)\n",
    "4. [Exercises](#exercies)\n",
    "    - [Exoplanet Distribution Across the Celestial Sphere](#1-exoplanet-distribution-across-the-celestial-sphere)\n",
    "    - [Planning a JWST Observation](#2-planning-a-jwst-observation)\n",
    "    - [Power Laws](#3-power-laws)\n"
   ]
  },
  {
   "cell_type": "markdown",
   "id": "f4e8f9eb",
   "metadata": {},
   "source": [
    "# Overview\n",
    "The [NASA Exoplanet Archive](https://exoplanetarchive.ipac.caltech.edu/) is an invaluable resource in exoplanet research. It hosts a variety of different tables with the most up-to-date astrophysical parameters of all known exoplanets and their hosts. Additionally, it hosts some mission data, as well as a few observer tools (e.g. transit and ephemeris calculator which aids in observational planning) that have great utility. This module briefly explains the main products of the site, how to use/navigate them, and best practices when using the observer tools as well as accessing data.\n",
    "\n",
    "**Run the following code to initialize the interactive portions of this lesson:**"
   ]
  },
  {
   "cell_type": "code",
   "execution_count": 5,
   "id": "62c25eab",
   "metadata": {},
   "outputs": [],
   "source": [
    "from jupyterquiz import display_quiz\n",
    "from astropy.coordinates import SkyCoord\n",
    "import astropy.units as u\n",
    "import warnings\n",
    "import json\n",
    "warnings.filterwarnings(\"ignore\")\n",
    "with open(\"../../Exercise_Solutions/Module_1/NEA/Checkpoints/questions.json\", \"r\") as file:\n",
    "    questions=json.load(file)"
   ]
  },
  {
   "cell_type": "markdown",
   "id": "86340312",
   "metadata": {},
   "source": [
    "# Accessing Data\n",
    "## Web Interface\n",
    "Most catalogs in the Exoplanet Archive are organized in interactive data tables. This section gives a brief overview of the important aspects of these tables, but a full user guide can be found [here](https://exoplanetarchive.ipac.caltech.edu/docs/ICEexohelp.html).\n",
    "### Data Columns\n",
    "An example of a few columns from the [Planetary Systems Composite Data catalog](https://exoplanetarchive.ipac.caltech.edu/cgi-bin/TblView/nph-tblView?app=ExoTbls&config=PSCompPars) are shown here:\n",
    "\n",
    "![Table](../../Auxiliary_Files/Graphics/Databases/NEA_Table.png)\n",
    "\n",
    "When first accessing the page, a standard set of columns are shown, but many other data types are available that are not in the default view. The other available columns are located in the upper left in the \"Select Columns\" tab, which brings up this windowed control panel:\n",
    "\n",
    "![Table](../../Auxiliary_Files/Graphics/Databases/NEA_Column.png)\n",
    "\n",
    "This gives parameters of both the star and planet, the system as a whole, and other data (like light curves) associated with the planet. It is important to note that **not all entires will not have data for every column**. The data represents our current knowledge of these systems, so if the science has not been conducted, no data will be entered!\n",
    "\n",
    "### Uncertainties\n",
    "Columns with numerical data will often have uncertainties associated with an entry. Some have symmetric data in the form $x \\pm \\delta x$ and others are non-symmetric in the form $x^{+\\delta x_{1} }_{-\\delta x_{2}}$. These often arise due to different methodologies used in the source paper. Some entries do not report uncertainties at all, and it is up to the user to read the literature to assess the confidence of the stated value. Uncertainties are also provided in their own data columns if they need to be separated for ease of parsing.\n",
    "\n",
    "### Filtering Methods\n",
    "The greatest advantage of the interactive data tables is the ability to **filter results**. This is done in the white box right below the column header, and the syntax for that data column is given by clicking on the red question mark. Here is an example:\n",
    "\n",
    "![Table](../../Auxiliary_Files/Graphics/Databases/NEA_help.png)\n",
    "\n",
    "In this case, we are looking at a **floating number column**, and the syntax for the types of queries is shown. Thus, you are able to find entries that match a specific value, that do not include a specific value, are within a given limit (e.g. $<,>, \\leq, \\geq$) or within an inclusive range (e.g. $[x,y]$). There are two other column types: **integer** and **text**. Integer columns work identically to floating number columns. Text columns are a bit more limited, and only have three methods: substring match (e.g. contains this string), exclude substring, and a 'wildcard' feature using '%', allowing that character to mean any other character. Additionally, all columns use **null** and **not null** syntax, the former requiring the entry be empty and the latter requiring the entry to be not empty.\n",
    "\n",
    "### Downloading Tables\n",
    "A useful feature of the interactive data tables is the ability to download your selected and filtered data to an easily readable file. This is done by clicking the 'Download Table' tab next to the 'Select Columns' tab. It gives the following dropdown:\n",
    "\n",
    "![Table](../../Auxiliary_Files/Graphics/Databases/NEA_COptions.png)\n",
    "\n",
    "The file type selection can convert the data into commonly used data file types like CSV, VOTable, IPAC, and Tab-Separated values. Additionally, the table allows you to check individual rows and columns to be downloaded (only currently visible columns are considered 'checked'). For errors, the default is to append the errors next to the corresponding value in the same cell. To exclude this, the 'Values Only' option can be selected, to allow ease of parsing through the tables in external software. This does NOT exclude the error columns, so if you want the errors in a new column, they just need to be selected.\n",
    "\n",
    "## Searchable Tables\n",
    "Some catalogs, such as the [K2 Target Catalog](https://exoplanetarchive.ipac.caltech.edu/cgi-bin/TblSearch/nph-tblSearchInit?app=ExoTbls&config=k2targets) are too big to display in the above interactive format, or have visual elements (like the [Atmospheric Spectroscopy Table](https://exoplanetarchive.ipac.caltech.edu/cgi-bin/atmospheres/nph-firefly?atmospheres)) that need their own interface. The syntax generally follows the same paradigm as above. Here is a list of searchable tables, with corresponding user guides or search information:\n",
    "\n",
    "- [Atmospheric Spectroscopy Table](https://exoplanetarchive.ipac.caltech.edu/cgi-bin/atmospheres/nph-firefly?atmospheres) (Select 'User Guide' Tab)\n",
    "- [Kepler Stellar Table](https://exoplanetarchive.ipac.caltech.edu/cgi-bin/TblSearch/nph-tblSearchInit?app=ExoTbls&config=keplerstellar) ([Guide](https://exoplanetarchive.ipac.caltech.edu/docs/search_help.html))\n",
    "- [K2 Targets](https://exoplanetarchive.ipac.caltech.edu/cgi-bin/TblSearch/nph-tblSearchInit?app=ExoTbls&config=k2targets) ([Guide](https://exoplanetarchive.ipac.caltech.edu/docs/search_help.html))\n",
    "- [SuperWASP](https://exoplanetarchive.ipac.caltech.edu/cgi-bin/TblSearch/nph-tblSearchInit?app=ExoTbls&config=superwasptimeseries) ([Guide](https://exoplanetarchive.ipac.caltech.edu/docs/search_help.html))\n",
    "- [KELT Light Curves](https://exoplanetarchive.ipac.caltech.edu/cgi-bin/TblSearch/nph-tblSearchInit?app=ExoTbls&config=kelttimeseries) ([Guide](https://exoplanetarchive.ipac.caltech.edu/docs/search_help.html))\n",
    "- [UKIRT Time Series](https://exoplanetarchive.ipac.caltech.edu/cgi-bin/TblSearch/nph-tblSearchInit?app=ExoTbls&config=ukirttimeseries) ([Guide](https://exoplanetarchive.ipac.caltech.edu/docs/search_help.html))\n",
    "- [PyATMOS + FDL INARA Synthetic Spectra](https://exoplanetarchive.ipac.caltech.edu/cgi-bin/FDL/nph-fdl?psg) (Select 'User Guide' Tab)\n",
    "- [MOA Microlensing Survey](https://exoplanetarchive.ipac.caltech.edu/cgi-bin/MOA/nph-firefly?MOA) (Select 'User Guide' Tab)\n",
    "- [HATNet Light Curves](https://exoplanetarchive.ipac.caltech.edu/applications/ETSS/HATNet_index.html) ([INFO](https://exoplanetarchive.ipac.caltech.edu/docs/datasethelp/ETSS_HATNet.html))\n",
    "- [CoRoT Astero-seismology Search](https://exoplanetarchive.ipac.caltech.edu/applications/ETSS/CoRoT_astero_index.html) ([INFO](https://exoplanetarchive.ipac.caltech.edu/docs/datasethelp/ETSS_CoRoT.html))"
   ]
  },
  {
   "cell_type": "markdown",
   "id": "a31584e5",
   "metadata": {},
   "source": [
    "### Checkpoint 1"
   ]
  },
  {
   "cell_type": "code",
   "execution_count": null,
   "id": "63511ac9",
   "metadata": {},
   "outputs": [],
   "source": [
    "##Run this code for checkpoint questions before continuing!\n",
    "##To collapse the quiz once you are finished, click the 'o' key right under the play key to the left of the code block.\n",
    "display_quiz([questions[0]] + [questions[1]] + [questions[2]])"
   ]
  },
  {
   "cell_type": "markdown",
   "id": "55092474",
   "metadata": {},
   "source": [
    "## NASA Exoplanet Archive API via Astroquery\n",
    "\n",
    "In some applications, being able to systematically retrieve information from the NEA in Python is very useful. Here we outline the basics of using the NEA, as well as a couple of examples.\n",
    "\n",
    "### Single Object Query\n",
    "To start, we import the appropriate modules and query the exoplanet WASP-121b, a massive hot Jupiter:"
   ]
  },
  {
   "cell_type": "code",
   "execution_count": null,
   "id": "66e25cb9",
   "metadata": {},
   "outputs": [],
   "source": [
    "from astroquery.ipac.nexsci.nasa_exoplanet_archive import NasaExoplanetArchive as NEA\n",
    "\n",
    "##Import the name, radius, and period of all planets around TRAPPIST-1\n",
    "NEA.query_object('TRAPPIST-1', select='pl_name,pl_radj,pl_orbper')"
   ]
  },
  {
   "cell_type": "markdown",
   "id": "40cc7d62",
   "metadata": {},
   "source": [
    "This gives a table of relevant parameters associated with that object. You can define the columns you wish to see using the `select` function, though filtering specific parameters is not supported for this method.\n",
    "### Query by Region\n",
    "For survey missions, knowing the available target list in a region can be useful. Astroquery lets you do this using `query_region`. To make the query easier, we will also import the `SkyCoord` module from `astropy`, allowing us to convert astrometry values seamlessly:"
   ]
  },
  {
   "cell_type": "code",
   "execution_count": null,
   "id": "9705936a",
   "metadata": {},
   "outputs": [],
   "source": [
    "## Using RA and DEC in degrees. This looks in a 0.5 degree circle centered at 100 degrees RA and 25 degrees declination.\n",
    "NEA.query_region(\n",
    "    table=\"pscomppars\", coordinates=SkyCoord(ra=100 * u.deg, dec=25 * u.deg),\n",
    "    radius=0.5 * u.deg) "
   ]
  },
  {
   "cell_type": "markdown",
   "id": "df9fc5b4",
   "metadata": {},
   "source": [
    "### Query by Criteria\n",
    "The above methods will give you all available data corresponding to the target from all archive tables. Sometimes more specificity is required for particular parameters, such as the table it is pulled from, or all exoplanets meeting specific criteria. This can be done using the `query_criteria` method. This can be coupled with the `where`, `select`, and `order` parameters to get highly specific results. All available parameters are described [here](https://exoplanetarchive.ipac.caltech.edu/docs/program_interfaces.html) under the **Keywords for Specific Queries** section."
   ]
  },
  {
   "cell_type": "code",
   "execution_count": null,
   "id": "f36c2b70",
   "metadata": {},
   "outputs": [],
   "source": [
    "#Here, select means a particular column, and gives a cumulative count.\n",
    "#'Where' is querying all planets found by the K2 mission\n",
    "NEA.query_criteria(table=\"pscomppars\", select=\"count(*)\",\n",
    "                                    where=\"disc_facility like '%K2%'\")  "
   ]
  },
  {
   "cell_type": "code",
   "execution_count": null,
   "id": "d3cbeae1",
   "metadata": {},
   "outputs": [],
   "source": [
    "#Here, 'select' queries the planet radius column.\n",
    "#'Where' is querying all planets found by microlensing\n",
    "NEA.query_criteria(\n",
    "    table=\"pscomppars\", select=\"pl_radj\", where=\"discoverymethod like 'Microlensing'\")  "
   ]
  },
  {
   "cell_type": "markdown",
   "id": "43d01427",
   "metadata": {},
   "source": [
    "### All Available Tables\n",
    "To find all accessible tables using the API, use the `TAP_TABLES` method:"
   ]
  },
  {
   "cell_type": "code",
   "execution_count": null,
   "id": "45526f19",
   "metadata": {},
   "outputs": [],
   "source": [
    "NEA.TAP_TABLES"
   ]
  },
  {
   "cell_type": "markdown",
   "id": "62f8bed8",
   "metadata": {},
   "source": [
    "### Checkpoint 2"
   ]
  },
  {
   "cell_type": "code",
   "execution_count": null,
   "id": "c1d8cbce",
   "metadata": {},
   "outputs": [],
   "source": [
    "##Run this code for checkpoint questions before continuing!\n",
    "##To collapse the quiz once you are finished, click the 'o' key right under the play key to the left of the code block.\n",
    "display_quiz([questions[3]] + [questions[4]])"
   ]
  },
  {
   "cell_type": "code",
   "execution_count": null,
   "id": "02eef7fb",
   "metadata": {},
   "outputs": [],
   "source": [
    "##Codespace for Checkpoint 2"
   ]
  },
  {
   "cell_type": "markdown",
   "id": "3858b7ef",
   "metadata": {},
   "source": [
    "## Table Access Protocol (TAP)\n",
    "An alternative to the interactive data tables and the API is the Table Access Protocol. It contains identical information to the API above, and in general the Python interface is more intuitive. A full explanation on how to use TAP and develop queries is found [here](https://exoplanetarchive.ipac.caltech.edu/docs/TAP/usingTAP.html), as well as the catalog abbreviations. Below is a quick example.\n",
    "\n",
    "### Building Queries\n",
    "The query format takes the following standard form:\n",
    "\n",
    "```SELECT <column list> FROM <table> WHERE <constraints> FORMAT <file format>```\n",
    "\n",
    "Where `SELECT` and `FROM` conditions are mandatory. This uses the **standard base URL**:\n",
    "\n",
    "```https://exoplanetarchive.ipac.caltech.edu/TAP/sync?query=```\n",
    "\n",
    "for web browsers, and if you use TOPCAT or pyVO clients:\n",
    "\n",
    "```https://exoplanetarchive.ipac.caltech.edu/TAP```\n",
    "\n",
    "From here, you use the `select`, `from`, `where` and `format` syntax to develop your query. Additionally, you separate the above three categories by a `+` sign, and separate multiple conditions per category by a `,`. For example, if I want to query the TOI catalog (`TOI`), and want the TIC ID (`tid`) and corresponding planetary periods (`pl_orbper`) less than 10 days (`pl_orbper < 10`) in a .csv file, I would construct:\n",
    "\n",
    "[```https://exoplanetarchive.ipac.caltech.edu/TAP/sync?query=select+tid,pl_orbper+from+TOI+where+pl_orbper+<+10&format=csv```](https://exoplanetarchive.ipac.caltech.edu/TAP/sync?query=select+tid,pl_orbper+from+TOI+where+pl_orbper+<+10&format=csv)\n",
    "\n",
    "This outputs the two columns with the periods less than 10 days."
   ]
  },
  {
   "cell_type": "markdown",
   "id": "54e65a10",
   "metadata": {},
   "source": [
    "## Table Documentation \n",
    "\n",
    "To maximize the efficiency of using the data tables in either fashion, it is imperative to understand the column definitions for each data table. Here is the documentation hyperlinks for each major table, as well as the Table Access Protocol/API abbreviation, if available, for reference:\n",
    "#### General:\n",
    "- [Planetary Systems and Planetary Systems Composite Parameters Table (ps, pscomppars)](https://exoplanetarchive.ipac.caltech.edu/docs/API_PS_columns.html#columns)\n",
    "- [Microlensing Planets Table (ML)](https://exoplanetarchive.ipac.caltech.edu/docs/API_ML.html)\n",
    "- [Direct Imaging Table](https://exoplanetarchive.ipac.caltech.edu/docs/API_directimaging.html)\n",
    "- [Atmospheric Spectroscopy Table](https://exoplanetarchive.ipac.caltech.edu/cgi-bin/atmospheres/nph-firefly?atmospheres)\n",
    "- [Transiting Planets Table](https://exoplanetarchive.ipac.caltech.edu/docs/API_transit_detection.html)\n",
    "#### Kepler:\n",
    "- [Kepler Objects of Interest Tables (cumulative)](https://exoplanetarchive.ipac.caltech.edu/docs/API_kepcandidate_columns.html)\n",
    "- [Kepler Objects of Interest Positional Probabilities Table](https://exoplanetarchive.ipac.caltech.edu/docs/API_koiapp_columns.html)\n",
    "- [Kepler Astrophysical False Positive Probabilities Table](https://exoplanetarchive.ipac.caltech.edu/docs/API_fpp_columns.html)\n",
    "- [Kepler Certified False Positive Table](https://exoplanetarchive.ipac.caltech.edu/docs/API_fpwg_columns.html)\n",
    "- [Kepler Threshold-Crossing Event Table](https://exoplanetarchive.ipac.caltech.edu/docs/API_tce_columns.html)\n",
    "- [Kepler Stellar Table](https://exoplanetarchive.ipac.caltech.edu/docs/API_keplerstellar_columns.html)\n",
    "#### Transit Surveys:\n",
    "- [TESS Objects of Interest Table (TOI)](https://exoplanetarchive.ipac.caltech.edu/docs/API_TOI_columns.html)\n",
    "- [K2 Planets and Candidates Table (k2pandc)](https://exoplanetarchive.ipac.caltech.edu/docs/API_k2pandc_columns.html)\n",
    "- [K2 Targets Table (k2targets)](https://exoplanetarchive.ipac.caltech.edu/docs/)\n",
    "- [KELT Table (kelttimeseries)](https://exoplanetarchive.ipac.caltech.edu/applications/ETSSView/docs/ETSS_KELTP_columns.html)\n",
    "- [CoRoT Search Table](https://exoplanetarchive.ipac.caltech.edu/docs/datasethelp/ETSS_CoRoT.html)\n",
    "- [XO Table](https://exoplanetarchive.ipac.caltech.edu/applications/ETSSView/docs/ETSS_XO_columns.html)\n",
    "- [Cluster Table](https://exoplanetarchive.ipac.caltech.edu/applications/ETSSView/docs/ETSS_Cluster_columns.html)\n",
    "- [TrES Table](https://exoplanetarchive.ipac.caltech.edu/applications/ETSSView/docs/ETSS_TrES_columns.html)\n",
    "- [Mission Star and HWO ExEP Tables (di_stars_exep)](https://exoplanetarchive.ipac.caltech.edu/docs/API_mission_stars.html)"
   ]
  },
  {
   "cell_type": "markdown",
   "id": "30dcae4c",
   "metadata": {},
   "source": [
    "# [Tools](https://exoplanetarchive.ipac.caltech.edu/docs/tools.html)\n",
    "The archive hosts some useful tools which can help researchers visualize data, as well as perform cursory analysis. This section aims to briefly cover their basic functionality.\n",
    "\n",
    "## [Transit and Ephemeris Service](https://exoplanetarchive.ipac.caltech.edu/cgi-bin/TransitView/nph-visibletbls?dataset=transits)\n",
    "Several research areas depend on accurate observations of transiting exoplanets (such as atmospheric characterization). These observations need to planned precisely so that they occur when the planet is transiting. To aid in this process, the NASA Exoplanet Archive hosts a transit and ephemeris service that uses known planetary periods, telescope locations, and transit epochs to develop transit windows to be used in observation planning. This subsection outlines a simple use case. For the user guide, click the 'User Guide' tab.\n",
    "\n",
    "### Target Selection\n",
    "\n",
    "The tool allows for three main modes of target selection:\n",
    "- **Multiple Targets**: Used in most cases. Can draw ephemerides from existing tables, such as the Composite Planetary Systems table, the TESS Objects of Interest (TOI) table, the Kepler table, etc, or from a custom list of target names.\n",
    "- **Single Target**: Find the ephemerides associated with a single target (i.e. 'TOI 210', 'Kepler 1020') or a single host (i.e. 'Proxima Centauri'). This will return multiple ephemerids if the host has multiple planets.\n",
    "- **User Defined**: If the target of interest is not yet available in the archive, or the archive has not been updated with new findings, you can pass your own set of planetary parameter. NOTE: If you want to use a specific observatory, you will need to pass coordinates of some sort!\n",
    "\n",
    "### Observer Location\n",
    "\n",
    "The observer location depends on which instrument you plan to use. This is explanatory, and also allows putting in your own coordinates if you plan to do amateur observations.\n",
    "\n",
    "### Observing Window and Phases\n",
    "\n",
    "Lastly, if you have a specific time window to make the observation, you can input the observing window of interest to see a list of events that will occur. Additionally, you can query when in the transit you wish to observe, i.e. 0 phase (primary transit), 0.5 phase (secondary transit), or anywhere in between. Note that the time window is in Universal Time, so be sure to convert accordingly,\n",
    "\n",
    "### Example Query\n",
    "\n",
    "Say I am interested in determining the effective temperature of WASP-18b, which requires observing the **secondary** transit (also known as an *occultation*), where the brightness of the star-planet system dips due to the planet moving behind the star. Say I want to do this using the James Webb Space Telescope, and I have time for the month of December 2024. Here is the query:\n",
    "- **Single Target**:\n",
    "\n",
    "![Table](../../Auxiliary_Files/Graphics/Databases/NEA_Ephemerids.png)\n",
    "\n",
    "Note the different colors of the entries, representing the uncertainty confidence for the corresponding ephemerids. We want the most precise option, so we double-click on the *ExoFOP-TESS TOI* entry, which automatically fills in the 'User Defined' parameters.\n",
    "- **Observer Location: JWST, Observing Window: Dec. 2024, Phases: Secondary**:\n",
    "\n",
    "![Table](../../Auxiliary_Files/Graphics/Databases/NEA_Ephermerid2.png)\n",
    "\n",
    "This shows the rest of the query, including the observatory, time window, and desired phases.\n",
    "\n",
    "### Output\n",
    "Here is the output:\n",
    "\n",
    "![Table](../../Auxiliary_Files/Graphics/Databases/NEA_Ephermerid_Output.png)\n",
    "\n",
    "The columns selected are some of the relevant observing features, but not all. All available column definitions can be found [here](https://exoplanetarchive.ipac.caltech.edu/docs/transit/transit_parameters.html). We note that WASP-18b is viewable nearly every day, consistent with its orbital period. Other important aspects include the 'Transit Duration', 'Event Midpoint' (in this case of the secondary transit), and the 'Propagated Midpoint Uncertainty.' When reviewing your data, these are important parameters to make sure your data is consistent with the known exoplanet parameters."
   ]
  },
  {
   "cell_type": "markdown",
   "id": "a55aee7f",
   "metadata": {},
   "source": [
    "### [Confirmed Planet Plotting Tool](https://exoplanetarchive.ipac.caltech.edu/cgi-bin/IcePlotter/nph-icePlotInit?mode=demo&set=confirmed)\n",
    "This tool allows you to plot any quantitative data from the interactive data tables, in either a scatter plot or a histogram. This can quickly generate basic visualizations between two parameters of interest, and has fairly robust editing options, such as log-log plots, binning, error bars, and labeling. Here is an example, plotting orbital period with orbital semi-major axis:\n",
    "\n",
    "![Table](../../Auxiliary_Files/Graphics/Databases/NEA_Plot.png)\n",
    "\n",
    "Kepler's law of period and orbital radius is quite apparent in this log-log plot. "
   ]
  },
  {
   "cell_type": "markdown",
   "id": "899ccb5b",
   "metadata": {},
   "source": [
    "### [Predicted Observables for Exoplanets Service (POE)](https://exoplanetarchive.ipac.caltech.edu/cgi-bin/CalcQty/nph-calcqty)\n",
    "This tool allows a user to determine theoretical observational signatures of a planet with certain constraints. The most commonly thought of constraint is **an Earth-like planet within its system's habitable zone**. Thus, given a target star or system, the tool will output the theoretical parameters the exoplanet must exhibit to meet those criteria. For example, what if want to know the habitable zone range around Proxima Centauri? The input looks something like this:\n",
    "\n",
    "![Table](../../Auxiliary_Files/Graphics/Databases/NEA_POE.png)\n",
    "\n",
    "giving an output data table of:\n",
    "\n",
    "![Table](../../Auxiliary_Files/Graphics/Databases/NEA_POE_Out.png)\n",
    "\n",
    "Which shows the target with the input criteria (i.e. having the name Proxima Centauri) and shows the lower and upper bounds of the habitable zone, which are 0.03 AU and 0.0708 AU. Given that Proxima Centauri is a small, low mass and low temperature star, it is reasonable that the habitable zone exists much closer than our Sun. This tool is very robust, so look at the in-depth [user guide](https://exoplanetarchive.ipac.caltech.edu/cgi-bin/CalcQty/nph-calcqty) for more information."
   ]
  },
  {
   "cell_type": "markdown",
   "id": "c93773c0",
   "metadata": {},
   "source": [
    "# Exercises\n",
    "\n",
    "### 1. Heat Map of Microlensing Planets\n",
    "Using `astroquery`, plot the distribution of exoplanets discovered by the [microlensing](https://science.nasa.gov/mission/roman-space-telescope/microlensing/) method across the celestial sphere as a heat map. That is, iterate over a grid of RA/DEC, count the number of micolensing planets in a square with length equal to the size of the grid spacing (e.g., if the grid spacing is 1 degree, search a cone of 1 degrees.) What do you notice? What might explain this distribution? Use matplotlib's `imshow` method to create your plot.\n",
    "\n",
    "[Sample Solution](../../Exercise_Solutions/Module_1/NEA/Exercises/Exercise_1.ipynb)"
   ]
  },
  {
   "cell_type": "code",
   "execution_count": 6,
   "id": "f9a6f034",
   "metadata": {},
   "outputs": [],
   "source": [
    "###Codespace for Exercise 1\n",
    "from matplotlib import pyplot as plt"
   ]
  },
  {
   "cell_type": "markdown",
   "id": "3e6d16d8",
   "metadata": {},
   "source": [
    "### 2. Planning a JWST Observation\n",
    "You are granted time on JWST's NIRCam in order to perform [transmission spectroscopy](https://www.esa.int/ESA_Multimedia/Images/2023/03/Transmission_spectroscopy) on a [hot Jupiter](https://en.wikipedia.org/wiki/Hot_Jupiter). Your observation block is from August 15th - August 20th, 2025. Plan an observation for JWST using the [ephemeris](https://exoplanetarchive.ipac.caltech.edu/cgi-bin/TransitView/nph-visibletbls?dataset=transits) tool by finding a planet that meets the following criteria:\n",
    "- $T_{eq} > 1500 \\; \\mathrm{K}$\n",
    "- $R_{p} > 1 \\; R_{J}$\n",
    "- $P < 10 \\; \\mathrm{Days}$\n",
    "\n",
    "Additoinally, report the uncertainty in the transit time of your choice. Feel free to use the web interface or the Python API. Find the next feasible transit observation of your target.\n",
    "\n",
    "[Sample Solution](../../Exercise_Solutions/Module_1/NEA/Exercises/Exercise_2.ipynb)"
   ]
  },
  {
   "cell_type": "code",
   "execution_count": 7,
   "id": "f4d09180",
   "metadata": {},
   "outputs": [],
   "source": [
    "###Codespace for Exercise 2\n",
    "from astroquery.ipac.nexsci.nasa_exoplanet_archive import NasaExoplanetArchive as NEA"
   ]
  },
  {
   "cell_type": "markdown",
   "id": "43bc70a3",
   "metadata": {},
   "source": [
    "### 3. Power Laws\n",
    "\n",
    "Power-laws are ubiquitous in astrophysics, and exoplanet demographics are no exception, and they all follow the general expression:\n",
    "$$y = x^{\\alpha}$$\n",
    "\n",
    "Using the NASA Exoplanet archive API, find the empirical $\\alpha$ for the following parameter pairs, as well as a corresponding $\\log-\n",
    "\\log$ plot:\n",
    "- Period vs Semi-Major Axis, in Days and AU, respectively\n",
    "- Mass vs Radius, in Earth masses/radii respectively, for planets below 100 Earth masses\n",
    "- Mass vs Radius, for planets above 100 Earth masses\n",
    "- Eccentricity vs Period\n",
    "\n",
    "Comment on how well each trend fits. Be sure to include error bars! You can use `matplotlib`'s [`plt.errorbar`](https://matplotlib.org/stable/api/_as_gen/matplotlib.pyplot.errorbar.html) to plot these easily.\n",
    "\n",
    "HINT: You will want to use [`np.polynomial.polynomial.polyfit`](https://numpy.org/doc/stable/reference/generated/numpy.polynomial.polynomial.polyfit.html).\n",
    "\n",
    "[Sample Solution](../../Exercise_Solutions/Module_1/NEA/Exercises/Exercise_3.ipynb)"
   ]
  },
  {
   "cell_type": "code",
   "execution_count": 8,
   "id": "67be963c",
   "metadata": {},
   "outputs": [],
   "source": [
    "###Codespace for Exercise 3\n",
    "import numpy as np\n",
    "from matplotlib import pyplot as plt\n",
    "from astroquery.ipac.nexsci.nasa_exoplanet_archive import NasaExoplanetArchive as NEA"
   ]
  }
 ],
 "metadata": {
  "kernelspec": {
   "display_name": "exocore",
   "language": "python",
   "name": "python3"
  },
  "language_info": {
   "codemirror_mode": {
    "name": "ipython",
    "version": 3
   },
   "file_extension": ".py",
   "mimetype": "text/x-python",
   "name": "python",
   "nbconvert_exporter": "python",
   "pygments_lexer": "ipython3",
   "version": "3.12.8"
  }
 },
 "nbformat": 4,
 "nbformat_minor": 5
}
