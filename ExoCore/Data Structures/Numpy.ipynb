{
 "cells": [
  {
   "cell_type": "markdown",
   "id": "a4a75992",
   "metadata": {},
   "source": [
    "# An Introduction to Numpy\n",
    "\n",
    "# Table of Contents\n",
    "1. [Introduction](#introduction)\n",
    "2. [NASA Exoplanet Archive](#NASA_Archive)\n",
    "    1. [Overview](#Overview)\n",
    "    2. [Interactive Data-Tables](#Archive_Data)\n",
    "    3. [Tools](#Archive_Tools)"
   ]
  },
  {
   "cell_type": "markdown",
   "id": "2c5cd3f3",
   "metadata": {},
   "source": [
    "# Introduction <a name=\"introduction\"></a>\n",
    "\n",
    "The way we control, manipulate, and analyze data is an important process across all scientific disciplines. Exoplanet research is no different. The astronomical community has generally rallied behind **Python** (if you couldn't already tell from our use of Jupyter notebooks!) as the primary language for developing new data structures, computational methods, and robust analytical packages. These are amazing tools, but using them efficiently requries a solid foundation. This lesson gives a brief overview of the important capabilities behind `Numpy`, some interactive activities to visualize data (with some assistance from `PyPlot`), and how they are used in Exoplanet research.\n",
    "\n",
    " <div class=\"alert alert-block alert-warning\">\n",
    "\n",
    "**IMPORTANT**: If you have limited exposure or practice with Python as a language, it is encouraged to get an understanding of basic syntax and proper use of variables. [Here](https://programming-23.mooc.fi/) is a self-paced, free course offered by the University of Helsinki that covers most of the important concepts in the first few modules."
   ]
  },
  {
   "cell_type": "markdown",
   "id": "86340312",
   "metadata": {},
   "source": [
    "## Overview\n",
    "\n",
    "`Numpy` is a robust Python package that incorporates many mathematical tools, data structures, and other useful routines that will be invaluable in your future as a researcher. By the end of this lesson we hope you will be able to:\n",
    "- **Create, manipulate, and analyze `Numpy` arrays**\n",
    "- **Utilize and employ mathematical functions**\n",
    "- **Visualize and interpret basic time-series data using Numpy methods**\n",
    "\n",
    "We can begin by running code to import `Numpy` to start. In Python, it is often conveinient to import modules with the `as` clause, since it allows you to shorten package specific syntax when writing code. It is common practice to shorten `Numpy` to `np`."
   ]
  },
  {
   "cell_type": "code",
   "execution_count": 1,
   "id": "82173042",
   "metadata": {},
   "outputs": [],
   "source": [
    "import numpy as np"
   ]
  },
  {
   "cell_type": "markdown",
   "id": "9a0d31cd",
   "metadata": {},
   "source": [
    "Now that we have `Numpy` imported, we can look at arrays!\n",
    "\n",
    "## Numpy Arrays\n",
    "\n",
    "`Numpy` arrays are cornerstones of nearly all data driven packages and analyses. Conceptually, arrays are meant to be close to matrices in mathematics (and in fact many methods exist for treating arrays as matrices i.e. `np.linalg.eigenvalues`). Arrays, in a nutshell, are data structures that are **multi-dimensional**, **mutable**, and contain only a **single type** of data. Let's explore what these mean by running some code:"
   ]
  },
  {
   "cell_type": "code",
   "execution_count": 21,
   "id": "a88d242b",
   "metadata": {},
   "outputs": [
    {
     "name": "stdout",
     "output_type": "stream",
     "text": [
      "[0. 1. 1.] <class 'numpy.float64'>\n",
      "[['a' 'b']\n",
      " ['c' '10']] <class 'numpy.str_'>\n",
      "[ 0  1  2  3  4  5  6  7  8  9 10 11 12 13 14 15 16 17 18 19] <class 'numpy.int32'>\n"
     ]
    }
   ],
   "source": [
    "array_oneD = np.array((0, 1, 1), dtype=float) #1D array of floats\n",
    "print(array_oneD, type(array_oneD[0]))\n",
    "array_twoD = np.array((('a','b'),('c','10')), dtype=str) #2D array of strings\n",
    "print(array_twoD, type(array_twoD[1,1]))\n",
    "N = 20\n",
    "array_N = np.zeros((N), dtype=int) #Generate an (N,1) array of zeros as ints \n",
    "for num in range(N):\n",
    "    array_N[num] = str(num) #Replace the zeros with an iterating number\n",
    "print(array_N, type(array_N[2]))"
   ]
  },
  {
   "cell_type": "markdown",
   "id": "9c13e662",
   "metadata": {},
   "source": [
    "We see we have created three different types of arrays, each with a different dimensionality (`1x3`, `2x2`, `1xN`) and a different data type (`float`, `string`, `integer`, respectively). The dimensionality dictates how the matrix is indexed, an important consideration when designing your own code to analyze data. Arrays of identical dimension can perform item-by-item arithmetic operations, as well as array-wide operations:"
   ]
  },
  {
   "cell_type": "code",
   "execution_count": 30,
   "id": "d5618ade",
   "metadata": {},
   "outputs": [
    {
     "name": "stdout",
     "output_type": "stream",
     "text": [
      "[4.02678571 4.10714286]\n"
     ]
    }
   ],
   "source": [
    "A = np.array((2, 2))\n",
    "B = np.array((3, 12))\n",
    "C = A + B #Add arrays\n",
    "D = A - B #Subtract\n",
    "E = A*B #Multiply\n",
    "F = A/D #Divide\n",
    "AA = A**2 #Raise to powers\n",
    "a = np.cos(A) #Other operations \n",
    "AA = A*2 + B/4 #Mix and match\n",
    "AB = A + 2 + B*100\n",
    "CD = B/(25*A + 62) + A**2 #???"
   ]
  },
  {
   "cell_type": "markdown",
   "id": "4448fb40",
   "metadata": {},
   "source": [
    "As long as the two arrays are **the same dimesions**, you can do any operatrions between them. "
   ]
  }
 ],
 "metadata": {
  "kernelspec": {
   "display_name": "Python 3 (ipykernel)",
   "language": "python",
   "name": "python3"
  },
  "language_info": {
   "codemirror_mode": {
    "name": "ipython",
    "version": 3
   },
   "file_extension": ".py",
   "mimetype": "text/x-python",
   "name": "python",
   "nbconvert_exporter": "python",
   "pygments_lexer": "ipython3",
   "version": "3.10.9"
  }
 },
 "nbformat": 4,
 "nbformat_minor": 5
}
