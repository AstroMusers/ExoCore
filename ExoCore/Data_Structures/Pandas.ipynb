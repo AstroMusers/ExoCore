{
 "cells": [
  {
   "cell_type": "markdown",
   "metadata": {},
   "source": [
    "# Pandas"
   ]
  },
  {
   "cell_type": "markdown",
   "id": "2c5cd3f3",
   "metadata": {},
   "source": [
    "## Introduction <a name=\"introduction\"></a>\n",
    "\n",
    "The way we control, manipulate, and analyze data is an important process across all scientific disciplines. Exoplanet research is no different. The astronomical community has generally rallied behind **Python** (if you couldn't already tell from our use of Jupyter notebooks!) as the primary language for developing new data structures, computational methods, and robust analytical packages. These are amazing tools, but using them efficiently requries a solid foundation. This lesson gives a brief overview of the important capabilities behind `Pandas`, some interactive activities to visualize data, and how they are used in Exoplanet research.\n",
    "\n",
    " <div class=\"alert alert-block alert-warning\">\n",
    "\n",
    "**IMPORTANT**: If you have limited exposure or practice with Python as a language, it is encouraged to get an understanding of basic syntax and proper use of variables. [Here](https://programming-23.mooc.fi/) is a self-paced, free course offered by the University of Helsinki that covers most of the important concepts in the first few modules."
   ]
  },
  {
   "cell_type": "markdown",
   "id": "86340312",
   "metadata": {},
   "source": [
    "## Overview\n",
    "\n",
    "`pandas` is a Python suite for data manipulation and analysis, with the primary data structures being `Series` and `DataFrames`. Both `Series` and `DataFrames` are similar to 1D and 2D `Numpy` arrays, respectively, but support a broader range of functionality at the cost of more complex syntax. By the end of this lesson, you should be able to:\n",
    "- **Create, manipulate, and analyze data using `DataFrames` and `Series`**\n",
    "- **Use `pandas` to import and export various types of data**\n",
    "- **Visualize and interpret different types of data using `pandas` methods**\n",
    "\n",
    "[Here](https://pandas.pydata.org/docs/user_guide/index.html) is the official documentation for `pandas`!\n",
    "\n",
    "To start, we generally import both `Numpy` and `pandas` simultanously."
   ]
  },
  {
   "cell_type": "code",
   "execution_count": 3,
   "id": "82173042",
   "metadata": {},
   "outputs": [],
   "source": [
    "import numpy as np\n",
    "import pandas as pd"
   ]
  },
  {
   "cell_type": "markdown",
   "id": "9a0d31cd",
   "metadata": {},
   "source": [
    "## Series\n",
    "[Here](https://pandas.pydata.org/docs/reference/series.html) is the official documentation for `Series`.\n",
    "### Basic Properites\n",
    "`Series` are 1D data structures which are very similar to 1D `Numpy` arrays, with a few key differences. `Series`:\n",
    "- Can store mixed data types\n",
    "- Are size immutable (fixed size when created), value mutable (elements can change)\n",
    "- Are indexed, and custom indexes can be passed\n",
    "- Can do operations between different `Series`, which do **not** need to be the same size\n",
    "We can explore basic properties in the code below."
   ]
  },
  {
   "cell_type": "code",
   "execution_count": 96,
   "id": "444b8fba",
   "metadata": {},
   "outputs": [
    {
     "name": "stdout",
     "output_type": "stream",
     "text": [
      "0       0\n",
      "1     0.1\n",
      "2     0.4\n",
      "3     0.7\n",
      "4      10\n",
      "5     100\n",
      "6    Test\n",
      "dtype: object \n",
      "\n",
      "100 \n",
      " 4      10\n",
      "5     100\n",
      "6    Test\n",
      "dtype: object \n",
      "\n",
      "Identical index \n",
      "\n",
      "1 2 100 \n",
      "\n",
      "Cannot use default index if integers are assigned as a custom index!\n",
      "a         15\n",
      "b        Exo\n",
      "c    Planets\n",
      "d        100\n",
      "dtype: object \n",
      "\n",
      "0         15\n",
      "1        Exo\n",
      "2    Planets\n",
      "3        100\n",
      "dtype: object\n"
     ]
    }
   ],
   "source": [
    "\n",
    "#Construct the Series by calling the function and bulding a list inside\n",
    "data = pd.Series([0, 0.1, 0.4, 0.7, 10, 100, 'Test'])\n",
    "print(data, '\\n')\n",
    "#Note the two columns when printed: the first is the index column, the second is our series. \n",
    "#See how we can have ints, floats, and strings!\n",
    "\n",
    "#Can be indexed and sliced\n",
    "print(data[5], '\\n', data[4:], '\\n')\n",
    "\n",
    "#Can customize the indices and call that index to get the corresponding values\n",
    "#Similar to the key:value structure of Python dictionaries. This does *not* overwrite \n",
    "#the default indexing (e.g. 0, 1, 2, 3) *unless* you use integers in your custom index.\n",
    "indexed_data = pd.Series([15, 'Exo', 'Planets', 100], index=['a', 'b', 'c', 'd'])\n",
    "if indexed_data[0] == indexed_data['a']:\n",
    "    print('Identical index', '\\n')\n",
    "else:\n",
    "    print('Not identical')\n",
    "\n",
    "#You can also construct Series with custom indices by passing a dictionary.\n",
    "#Note: If you set a custom index in the pd.Series function, it will *overwrite* the dictionary keys.\n",
    "example_dict = dict({'a': 1, 'b':2, 'c':100})\n",
    "ser = pd.Series(data = example_dict)\n",
    "print(ser['a'], ser['b'], ser[2], '\\n')\n",
    "\n",
    "#Can't use normal indexing if passed index contains an integer UNLESS you use the .iloc function\n",
    "indexed_data2 = pd.Series([15, 'Exo', 'Planets', 100], index=[1, 'b', 'c', 'd'])\n",
    "try:\n",
    "    if indexed_data2[0] == indexed_data2[1]:\n",
    "        print('Identical Index')\n",
    "    else:\n",
    "        print('Not identical')\n",
    "except KeyError:\n",
    "    print('Cannot use default index if integers are assigned as a custom index!')\n",
    "\n",
    "#If you want to change the index of a Series, use Series.reindex\n",
    "#You can also reset the index to the default by using Series.reset_index\n",
    "indexed_data.reindex(index=['a', 'b', 'c', 'd'])\n",
    "print(indexed_data, '\\n')\n",
    "reset_data = indexed_data.reset_index(drop = True)\n",
    "print(reset_data)\n"
   ]
  },
  {
   "cell_type": "markdown",
   "id": "cbfac058",
   "metadata": {},
   "source": [
    "### Series Methods\n",
    "Now that we see how `Series` stack up to Python lists, dicts, and `Numpy` arrays for their basic syntax, we will highlight some methods available to `Series`. [This page](https://pandas.pydata.org/docs/reference/api/pandas.Series.html#pandas.Series) contains all available methods for `Series`, some of which will be highlighted below."
   ]
  },
  {
   "cell_type": "code",
   "execution_count": 100,
   "id": "6a5ad938",
   "metadata": {},
   "outputs": [
    {
     "name": "stdout",
     "output_type": "stream",
     "text": [
      "0    10.00000\n",
      "1     4.00000\n",
      "2     0.44444\n",
      "3    18.00000\n",
      "dtype: float64 \n",
      "\n",
      "0      2.00000\n",
      "1     18.00000\n",
      "2    199.55556\n",
      "3     21.00000\n",
      "4          NaN\n",
      "5          NaN\n",
      "6          NaN\n",
      "dtype: float64 \n",
      "\n",
      " 0   -12.00000\n",
      "1     0.00000\n",
      "2    -6.44444\n",
      "3    10.00000\n",
      "dtype: float64 \n",
      "\n"
     ]
    }
   ],
   "source": [
    "example = pd.Series([-10, 4, -0.44444, 18])\n",
    "example2 = pd.Series([12, 14, 200, 3, -12, 72, np.nan])\n",
    "example3 = pd.Series([2, 4, 6, 8])\n",
    "#Returns the absolute value of each element. Only works for ints, floats. Type error for strings, bools\n",
    "#NOTE: These methods do not alter the series, only if reassigned\n",
    "print(example.abs(), '\\n')\n",
    "\n",
    "#Addition of two, different dimensional series.\n",
    "#Note how the resulting series is the same shape as the largest series passed in the operation. \n",
    "#When performing operations on unequally sized series, the elements past the length of the smallest\n",
    "#series are treated as NANs. \n",
    "example4 = example.add(example2)\n",
    "example5 = example.sub(example3)\n",
    "print(example4, '\\n\\n', example5, '\\n')"
   ]
  },
  {
   "cell_type": "code",
   "execution_count": 101,
   "id": "bd0e2921",
   "metadata": {},
   "outputs": [
    {
     "name": "stdout",
     "output_type": "stream",
     "text": [
      "min       -1.200000e+01\n",
      "max        2.000000e+02\n",
      "mean       4.816667e+01\n",
      "product   -8.709120e+07\n",
      "dtype: float64 \n",
      "\n",
      "0    10.0\n",
      "1    10.0\n",
      "2    10.0\n",
      "3     3.0\n",
      "4     0.0\n",
      "5    10.0\n",
      "6     NaN\n",
      "dtype: float64 \n",
      "\n",
      "       self  other\n",
      "0 -10.00000    2.0\n",
      "2  -0.44444    6.0\n",
      "3  18.00000    8.0 \n",
      "\n",
      "count    4.000000\n",
      "mean     5.000000\n",
      "std      2.581989\n",
      "min      2.000000\n",
      "25%      3.500000\n",
      "50%      5.000000\n",
      "75%      6.500000\n",
      "max      8.000000\n",
      "dtype: float64 \n",
      "\n"
     ]
    }
   ],
   "source": [
    "#Can combine operatrions using Series.agg\n",
    "print(example2.agg(['min', 'max', 'mean', 'product']), '\\n')\n",
    "\n",
    "#Clip values to a floor/ceiling if they are below or above that threshold\n",
    "print(example2.clip(lower = 0, upper = 10), '\\n')\n",
    "\n",
    "#Compare values of two series and highlight differences\n",
    "print(example.compare(example3), '\\n')\n",
    "\n",
    "#Generate descriptive statistics with Series.describe. Can also use Series.info for similar results\n",
    "print(example3.describe(), '\\n')"
   ]
  },
  {
   "cell_type": "code",
   "execution_count": 110,
   "id": "21331b39",
   "metadata": {},
   "outputs": [
    {
     "name": "stdout",
     "output_type": "stream",
     "text": [
      "0    False\n",
      "1     True\n",
      "2    False\n",
      "3     True\n",
      "dtype: bool 0     True\n",
      "1     True\n",
      "2     True\n",
      "3    False\n",
      "dtype: bool \n",
      "\n",
      "0     12.0\n",
      "1     14.0\n",
      "2    200.0\n",
      "3      3.0\n",
      "4    -12.0\n",
      "5     72.0\n",
      "6      0.0\n",
      "dtype: float64 0     True\n",
      "1     True\n",
      "2     True\n",
      "3     True\n",
      "4     True\n",
      "5     True\n",
      "6    False\n",
      "dtype: bool \n",
      "\n",
      "[12.0, 14.0, 200.0, 3.0, -12.0, 72.0, nan] \n",
      "\n",
      "2 \n",
      "\n"
     ]
    }
   ],
   "source": [
    "#Comparisons between series, element wise. Greater than or equal to and less than or equal to, respectively\n",
    "print(example.ge(example3), example.le(example3), '\\n')\n",
    "\n",
    "#Masking methods. \n",
    "#Series.mask replaces any element that meets the condition with the corresponding value.\n",
    "#Series.notnull returns an array\n",
    "print(example2.mask(np.isnan(example2) == True, 0), example2.notnull(), '\\n')\n",
    "\n",
    "#Can send contents of a Series to a list\n",
    "listed_data = example2.tolist()\n",
    "print(listed_data, '\\n')\n",
    "\n",
    "#Find the index(s) of a particular element(s)\n",
    "print(example2[example2 == 200].index[0], '\\n')"
   ]
  },
  {
   "cell_type": "code",
   "execution_count": null,
   "id": "0f292562",
   "metadata": {},
   "outputs": [],
   "source": []
  }
 ],
 "metadata": {
  "kernelspec": {
   "display_name": "Python 3 (ipykernel)",
   "language": "python",
   "name": "python3"
  },
  "language_info": {
   "codemirror_mode": {
    "name": "ipython",
    "version": 3
   },
   "file_extension": ".py",
   "mimetype": "text/x-python",
   "name": "python",
   "nbconvert_exporter": "python",
   "pygments_lexer": "ipython3",
   "version": "3.10.9"
  }
 },
 "nbformat": 4,
 "nbformat_minor": 5
}
