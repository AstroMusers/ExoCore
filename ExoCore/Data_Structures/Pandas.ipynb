{
 "cells": [
  {
   "cell_type": "markdown",
   "metadata": {},
   "source": [
    "# Pandas\n",
    "\n",
    "## Table of Contents\n",
    "- [Introduction](#introduction)\n",
    "- [Overview](#overview)\n",
    "- [Series](#series)\n",
    "    - [Basic Properties](#basic-properites)\n",
    "    - [Series Methods](#series-methods)\n",
    "    - [Example: Looking at Exoplanet Inclination Distributions](#example-looking-at-exoplanet-inclination-distributions)\n",
    "- [DataFrames](#dataframes)\n",
    "    - [General Functions](#basic-mathematical-functions)\n",
    "    - [Statistics](#statistics)\n",
    "    - [Linear Algebra](#linear-algebra)"
   ]
  },
  {
   "cell_type": "markdown",
   "id": "2c5cd3f3",
   "metadata": {},
   "source": [
    "## Introduction <a name=\"introduction\"></a>\n",
    "\n",
    "The way we control, manipulate, and analyze data is an important process across all scientific disciplines. Exoplanet research is no different. The astronomical community has generally rallied behind **Python** (if you couldn't already tell from our use of Jupyter notebooks!) as the primary language for developing new data structures, computational methods, and robust analytical packages. These are amazing tools, but using them efficiently requries a solid foundation. This lesson gives a brief overview of the important capabilities behind `Pandas`, some interactive activities to visualize data, and how they are used in Exoplanet research.\n",
    "\n",
    " <div class=\"alert alert-block alert-warning\">\n",
    "\n",
    "**IMPORTANT**: If you have limited exposure or practice with Python as a language, it is encouraged to get an understanding of basic syntax and proper use of variables. [Here](https://programming-23.mooc.fi/) is a self-paced, free course offered by the University of Helsinki that covers most of the important concepts in the first few modules."
   ]
  },
  {
   "cell_type": "markdown",
   "id": "86340312",
   "metadata": {},
   "source": [
    "## Overview\n",
    "\n",
    "`pandas` is a Python suite for data manipulation and analysis, with the primary data structures being `Series` and `DataFrames`. Both `Series` and `DataFrames` are similar to 1D and 2D `Numpy` arrays, respectively, but support a broader range of functionality at the cost of more complex syntax. By the end of this lesson, you should be able to:\n",
    "- **Create, manipulate, and analyze data using `DataFrames` and `Series`**\n",
    "- **Use `pandas` to import and export various types of data**\n",
    "- **Visualize and interpret different types of data using `pandas` methods**\n",
    "\n",
    "[Here](https://pandas.pydata.org/docs/user_guide/index.html) is the official documentation for `pandas`!\n",
    "\n",
    "To start, we generally import both `Numpy` and `pandas` simultanously."
   ]
  },
  {
   "cell_type": "code",
   "execution_count": 3,
   "id": "82173042",
   "metadata": {},
   "outputs": [],
   "source": [
    "import numpy as np\n",
    "import pandas as pd"
   ]
  },
  {
   "cell_type": "markdown",
   "id": "9a0d31cd",
   "metadata": {},
   "source": [
    "## Series\n",
    "[Here](https://pandas.pydata.org/docs/reference/series.html) is the official documentation for `Series`.\n",
    "### Basic Properites\n",
    "`Series` are 1D data structures which are very similar to 1D `Numpy` arrays, with a few key differences. `Series`:\n",
    "- Can store mixed data types\n",
    "- Are size immutable (fixed size when created), value mutable (elements can change)\n",
    "- Are indexed, and custom indexes can be passed\n",
    "- Can do operations between different `Series`, which do **not** need to be the same size\n",
    "We can explore basic properties in the code below.\n",
    "\n",
    " <div class=\"alert alert-block alert-info\">\n",
    " \n",
    "**INFO**: There will be a lot of code output. If you want to keep your notebook tidy, click on the output box and click the 'O' (the letter, not '0') key to collapse the output box down without clearing your accumulated variables. "
   ]
  },
  {
   "cell_type": "code",
   "execution_count": 96,
   "id": "444b8fba",
   "metadata": {},
   "outputs": [
    {
     "name": "stdout",
     "output_type": "stream",
     "text": [
      "0       0\n",
      "1     0.1\n",
      "2     0.4\n",
      "3     0.7\n",
      "4      10\n",
      "5     100\n",
      "6    Test\n",
      "dtype: object \n",
      "\n",
      "100 \n",
      " 4      10\n",
      "5     100\n",
      "6    Test\n",
      "dtype: object \n",
      "\n",
      "Identical index \n",
      "\n",
      "1 2 100 \n",
      "\n",
      "Cannot use default index if integers are assigned as a custom index!\n",
      "a         15\n",
      "b        Exo\n",
      "c    Planets\n",
      "d        100\n",
      "dtype: object \n",
      "\n",
      "0         15\n",
      "1        Exo\n",
      "2    Planets\n",
      "3        100\n",
      "dtype: object\n"
     ]
    }
   ],
   "source": [
    "\n",
    "#Construct the Series by calling the function and bulding a list inside\n",
    "data = pd.Series([0, 0.1, 0.4, 0.7, 10, 100, 'Test'])\n",
    "print(data, '\\n')\n",
    "#Note the two columns when printed: the first is the index column, the second is our series. \n",
    "#See how we can have ints, floats, and strings!\n",
    "\n",
    "#Can be indexed and sliced\n",
    "print(data[5], '\\n', data[4:], '\\n')\n",
    "\n",
    "#Can customize the indices and call that index to get the corresponding values\n",
    "#Similar to the key:value structure of Python dictionaries. This does *not* overwrite \n",
    "#the default indexing (e.g. 0, 1, 2, 3) *unless* you use integers in your custom index.\n",
    "indexed_data = pd.Series([15, 'Exo', 'Planets', 100], index=['a', 'b', 'c', 'd'])\n",
    "if indexed_data[0] == indexed_data['a']:\n",
    "    print('Identical index', '\\n')\n",
    "else:\n",
    "    print('Not identical')\n",
    "\n",
    "#You can also construct Series with custom indices by passing a dictionary.\n",
    "#Note: If you set a custom index in the pd.Series function, it will *overwrite* the dictionary keys.\n",
    "example_dict = dict({'a': 1, 'b':2, 'c':100})\n",
    "ser = pd.Series(data = example_dict)\n",
    "print(ser['a'], ser['b'], ser[2], '\\n')\n",
    "\n",
    "#Can't use normal indexing if passed index contains an integer UNLESS you use the .iloc function\n",
    "indexed_data2 = pd.Series([15, 'Exo', 'Planets', 100], index=[1, 'b', 'c', 'd'])\n",
    "try:\n",
    "    if indexed_data2[0] == indexed_data2[1]:\n",
    "        print('Identical Index')\n",
    "    else:\n",
    "        print('Not identical')\n",
    "except KeyError:\n",
    "    print('Cannot use default index if integers are assigned as a custom index!')\n",
    "\n",
    "#If you want to change the index of a Series, use Series.reindex\n",
    "#You can also reset the index to the default by using Series.reset_index\n",
    "indexed_data.reindex(index=['a', 'b', 'c', 'd'])\n",
    "print(indexed_data, '\\n')\n",
    "reset_data = indexed_data.reset_index(drop = True)\n",
    "print(reset_data)\n"
   ]
  },
  {
   "cell_type": "markdown",
   "id": "cbfac058",
   "metadata": {},
   "source": [
    "### Series Methods\n",
    "Now that we see how `Series` stack up to Python lists, dicts, and `Numpy` arrays for their basic syntax, we will highlight some methods available to `Series`. [This page](https://pandas.pydata.org/docs/reference/api/pandas.Series.html#pandas.Series) contains all available methods for `Series`, some of which will be highlighted below.\n",
    "\n",
    " <div class=\"alert alert-block alert-info\">\n",
    "\n",
    "**INFO**: There will be a lot of code output. If you want to keep your notebook tidy, click on the output box and click the 'O' (the letter, not '0') key to collapse the output box down without clearing your accumulated variables. "
   ]
  },
  {
   "cell_type": "code",
   "execution_count": 100,
   "id": "6a5ad938",
   "metadata": {},
   "outputs": [
    {
     "name": "stdout",
     "output_type": "stream",
     "text": [
      "0    10.00000\n",
      "1     4.00000\n",
      "2     0.44444\n",
      "3    18.00000\n",
      "dtype: float64 \n",
      "\n",
      "0      2.00000\n",
      "1     18.00000\n",
      "2    199.55556\n",
      "3     21.00000\n",
      "4          NaN\n",
      "5          NaN\n",
      "6          NaN\n",
      "dtype: float64 \n",
      "\n",
      " 0   -12.00000\n",
      "1     0.00000\n",
      "2    -6.44444\n",
      "3    10.00000\n",
      "dtype: float64 \n",
      "\n"
     ]
    }
   ],
   "source": [
    "example = pd.Series([-10, 4, -0.44444, 18])\n",
    "example2 = pd.Series([12, 14, 200, 3, -12, 72, np.nan])\n",
    "example3 = pd.Series([2, 4, 6, 8])\n",
    "#Returns the absolute value of each element. Only works for ints, floats. Type error for strings, bools\n",
    "#NOTE: These methods do not alter the series, only if reassigned\n",
    "print(example.abs(), '\\n')\n",
    "\n",
    "#Addition of two, different dimensional series.\n",
    "#Note how the resulting series is the same shape as the largest series passed in the operation. \n",
    "#When performing operations on unequally sized series, the elements past the length of the smallest\n",
    "#series are treated as NANs. \n",
    "example4 = example.add(example2)\n",
    "example5 = example.sub(example3)\n",
    "print(example4, '\\n\\n', example5, '\\n')"
   ]
  },
  {
   "cell_type": "code",
   "execution_count": 111,
   "id": "bd0e2921",
   "metadata": {},
   "outputs": [
    {
     "name": "stdout",
     "output_type": "stream",
     "text": [
      "min       -1.200000e+01\n",
      "max        2.000000e+02\n",
      "mean       4.816667e+01\n",
      "product   -8.709120e+07\n",
      "dtype: float64 \n",
      "\n",
      "0    10.0\n",
      "1    10.0\n",
      "2    10.0\n",
      "3     3.0\n",
      "4     0.0\n",
      "5    10.0\n",
      "6     NaN\n",
      "dtype: float64 \n",
      "\n",
      "       self  other\n",
      "0 -10.00000    2.0\n",
      "2  -0.44444    6.0\n",
      "3  18.00000    8.0 \n",
      "\n",
      "count    4.000000\n",
      "mean     5.000000\n",
      "std      2.581989\n",
      "min      2.000000\n",
      "25%      3.500000\n",
      "50%      5.000000\n",
      "75%      6.500000\n",
      "max      8.000000\n",
      "dtype: float64 \n",
      "\n"
     ]
    }
   ],
   "source": [
    "#Can combine operatrions using Series.agg\n",
    "print(example2.agg(['min', 'max', 'mean', 'product']), '\\n')\n",
    "\n",
    "#Clip values to a floor/ceiling if they are below or above that threshold\n",
    "print(example2.clip(lower = 0, upper = 10), '\\n')\n",
    "\n",
    "#Compare values of two series and highlight differences\n",
    "print(example.compare(example3), '\\n')\n",
    "\n",
    "#Generate descriptive statistics with Series.describe. \n",
    "print(example3.describe(), '\\n')"
   ]
  },
  {
   "cell_type": "code",
   "execution_count": 129,
   "id": "21331b39",
   "metadata": {},
   "outputs": [
    {
     "name": "stdout",
     "output_type": "stream",
     "text": [
      "0    False\n",
      "1     True\n",
      "2    False\n",
      "3     True\n",
      "dtype: bool 0     True\n",
      "1     True\n",
      "2     True\n",
      "3    False\n",
      "dtype: bool \n",
      "\n",
      "0     12.0\n",
      "1     14.0\n",
      "2    200.0\n",
      "3      3.0\n",
      "4    -12.0\n",
      "5     72.0\n",
      "6      0.0\n",
      "dtype: float64 0     True\n",
      "1     True\n",
      "2     True\n",
      "3     True\n",
      "4     True\n",
      "5     True\n",
      "6    False\n",
      "dtype: bool \n",
      "\n",
      "[12.0, 14.0, 200.0, 3.0, -12.0, 72.0, nan] \n",
      "\n",
      "2 \n",
      "\n"
     ]
    }
   ],
   "source": [
    "#Comparisons between series, element wise. Greater than or equal to and less than or equal to, respectively\n",
    "print(example.ge(example3), example.le(example3), '\\n')\n",
    "\n",
    "#Remove NANs entirely\n",
    "example2.dropna()\n",
    "\n",
    "#Masking methods. \n",
    "#Series.mask replaces any element that meets the condition with the corresponding value.\n",
    "print(example2.mask(np.isnan(example2) == True, 0), example2.notnull(), '\\n')\n",
    "\n",
    "#Can send contents of a Series to a list\n",
    "listed_data = example2.tolist()\n",
    "print(listed_data, '\\n')\n",
    "\n",
    "#Find the index(s) of a particular element(s)\n",
    "print(example2[example2 == 200].index[0], '\\n')"
   ]
  },
  {
   "cell_type": "markdown",
   "id": "59f1032b",
   "metadata": {},
   "source": [
    "Let's look at an example to help demonstrate these methods to a specific problem."
   ]
  },
  {
   "cell_type": "markdown",
   "id": "fc3682cc",
   "metadata": {},
   "source": [
    "### Example: Looking at Exoplanet Inclination Distributions\n",
    "The inclination in exoplanet systems is the angle of the orbit relative to our line of sight. An inclination of $i = 0\\degree$ means the orbit creates a 'ring' around the host; these systems can **never** transit with respect to Earth. Conversely, an inclination $i = 90\\degree$ is a perfect 'head-on' orbit. These planets **always** transit. The figure below gives a helpful visual:\n",
    "\n",
    "![Inclination.png](/ExoCore/Graphics/Inclination.png)\n",
    "\n",
    "We can use `Series` to investigate the distribution of known exoplanets, and see if any trends emerge.\n",
    "\n",
    "**INFO**: We use functions from `astroquery` to gather the data. This package is covered in the [astroquery]() lesson. This is not required to proceed."
   ]
  },
  {
   "cell_type": "code",
   "execution_count": 139,
   "id": "b36e6c1f",
   "metadata": {},
   "outputs": [
    {
     "name": "stdout",
     "output_type": "stream",
     "text": [
      "count    4299.000000\n",
      "mean       86.869877\n",
      "std        10.525339\n",
      "min         0.370000\n",
      "25%        86.900000\n",
      "50%        88.770000\n",
      "75%        89.670000\n",
      "max       176.092000\n",
      "dtype: float64\n"
     ]
    },
    {
     "data": {
      "text/plain": [
       "Text(0.5, 1.0, 'Inclination Distributions')"
      ]
     },
     "execution_count": 139,
     "metadata": {},
     "output_type": "execute_result"
    },
    {
     "data": {
      "image/png": "[encoded data removed]",
      "text/plain": [
       "<Figure size 640x480 with 1 Axes>"
      ]
     },
     "metadata": {},
     "output_type": "display_data"
    }
   ],
   "source": [
    "from astroquery.ipac.nexsci.nasa_exoplanet_archive import NasaExoplanetArchive\n",
    "from matplotlib import pyplot as plt\n",
    "##Importing the data straight from the NASA Exoplanet, forcing the values to be floats\n",
    "inclinations = pd.Series(NasaExoplanetArchive.query_criteria(table='pscomppars', select = 'pl_orbincl')['pl_orbincl'], dtype=float)\n",
    "\n",
    "##Drop any nans\n",
    "inclinations = inclinations.dropna()\n",
    "\n",
    "##Lets get some descriptive statistics\n",
    "print(inclinations.describe())\n",
    "\n",
    "##And let's plot the results. Pandas uses pyplot for the integrated plotting of series and dataframes\n",
    "inclinations.hist(bins = 15)\n",
    "plt.xlabel('Inclination')\n",
    "plt.ylabel('Counts')\n",
    "plt.title('Inclination Distributions')\n"
   ]
  },
  {
   "cell_type": "markdown",
   "id": "6ba962f9",
   "metadata": {},
   "source": [
    "What about the population of known exoplanets might cause this distribution of inclinations? This is an excellent example of **sampling bias**. We will explore more exoplanet statistics in other examples, as well as informative [exercises]()."
   ]
  },
  {
   "cell_type": "markdown",
   "id": "ca95bf9d",
   "metadata": {},
   "source": [
    "## DataFrames\n",
    "\n",
    "`Series` are simple containers with useful methods for 1D data, but are in many ways are redundant with `Numpy` arrays. `DataFrames` are the flagship data structure for `pandas`, and have by far the most useful methods for tabular data. In many ways, `DataFrames` mirror Excel spreadsheets, and can be visualized with columns (with headers) and rows (with indices). `pandas` gives seamless methods to parse, select, analyze, and manipulate tabular data, which is invaluable when working with data in e.g. `.csv` files. We will outline basic properites of `DataFrames`, as well as the most important methods in order to navigate any tabular data you might encounter while researching."
   ]
  },
  {
   "cell_type": "markdown",
   "id": "19f71e1f",
   "metadata": {},
   "source": [
    "### Basic Properites\n",
    "Forming `DataFrames` can be done in a variety of different ways, as demonstrated below:"
   ]
  },
  {
   "cell_type": "code",
   "execution_count": 163,
   "id": "cd69bb68",
   "metadata": {},
   "outputs": [
    {
     "name": "stdout",
     "output_type": "stream",
     "text": [
      "  Planet Name  Radius\n",
      "0       EC1 b     1.0\n",
      "1       EC1 c     1.2\n",
      "2       EC2 b     0.5\n",
      "3       EC2 c     4.0\n",
      "4       EC2 c     2.0 \n",
      "\n",
      "All DataFrames are equal \n",
      "\n",
      "   a  b  c\n",
      "0  1  2  3\n",
      "1  4  5  6\n",
      "2  7  8  9\n"
     ]
    }
   ],
   "source": [
    "#Form it in-line, using 'column': [data]\n",
    "data_line = pd.DataFrame({'Planet Name': ['EC1 b', 'EC1 c', 'EC2 b', 'EC2 c', 'EC2 c'], 'Radius': [1, 1.2, 0.5, 4, 2]})\n",
    "print(data_line, '\\n')\n",
    "\n",
    "#From individual lists\n",
    "names = ['EC1 b', 'EC1 c', 'EC2 b', 'EC2 c', 'EC2 c']\n",
    "radius = [1, 1.2, 0.5, 4, 2]\n",
    "data_list = pd.DataFrame({'Planet Name': names, 'Radius': radius})\n",
    "\n",
    "#From a dictionary and a Series\n",
    "d = {'Planet Name': ['EC1 b', 'EC1 c', 'EC2 b', 'EC2 c', 'EC2 c'], 'Radius': pd.Series([1, 1.2, 0.5, 4, 2], index=[0, 1, 2, 3, 4])}\n",
    "data_dict = pd.DataFrame(data=d, index=[0, 1, 2, 3, 4])\n",
    "\n",
    "#See if the three methods yield the same DataFrame\n",
    "if data_line.equals(data_list) == True and data_line.equals(data_dict) == True and data_list.equals(data_dict) == True:\n",
    "    print('All DataFrames are equal', '\\n')\n",
    "\n",
    "#From an Numpy array\n",
    "data_array = pd.DataFrame(np.array([[1, 2, 3], [4, 5, 6], [7, 8, 9]]),\n",
    "                   columns=['a', 'b', 'c'])\n",
    "print(data_array)"
   ]
  },
  {
   "cell_type": "markdown",
   "id": "b627ff9c",
   "metadata": {},
   "source": [
    "`DataFrames` make it easy to isolate particular rows (using indices) and columns (using column names). Examples are shown below."
   ]
  },
  {
   "cell_type": "code",
   "execution_count": 190,
   "id": "c8fccb27",
   "metadata": {},
   "outputs": [
    {
     "name": "stdout",
     "output_type": "stream",
     "text": [
      "      pl_radj                pl_name    pl_orbper  pl_orbincl\n",
      "0       1.240  OGLE-2016-BLG-1227L b          NaN         NaN\n",
      "1       0.259           Kepler-276 c    31.884000      86.920\n",
      "2       0.188           Kepler-829 b     6.883376      89.820\n",
      "3       0.314               K2-283 b     1.921036         NaN\n",
      "4       0.185           Kepler-477 b    11.119907      87.750\n",
      "...       ...                    ...          ...         ...\n",
      "5627    1.200  OGLE-2019-BLG-1180L b          NaN         NaN\n",
      "5628    1.300             TOI-1107 b     4.078239      88.630\n",
      "5629    1.230   KMT-2023-BLG-1642L b          NaN         NaN\n",
      "5630    1.160             HD 73267 b  1257.991590     130.843\n",
      "5631    1.160  OGLE-2017-BLG-1237L b          NaN         NaN\n",
      "\n",
      "[5632 rows x 4 columns]\n",
      "                    pl_name    pl_orbper\n",
      "0     OGLE-2016-BLG-1227L b          NaN\n",
      "1              Kepler-276 c    31.884000\n",
      "2              Kepler-829 b     6.883376\n",
      "3                  K2-283 b     1.921036\n",
      "4              Kepler-477 b    11.119907\n",
      "...                     ...          ...\n",
      "5627  OGLE-2019-BLG-1180L b          NaN\n",
      "5628             TOI-1107 b     4.078239\n",
      "5629   KMT-2023-BLG-1642L b          NaN\n",
      "5630             HD 73267 b  1257.991590\n",
      "5631  OGLE-2017-BLG-1237L b          NaN\n",
      "\n",
      "[5632 rows x 2 columns]\n"
     ]
    },
    {
     "ename": "KeyError",
     "evalue": "1",
     "output_type": "error",
     "traceback": [
      "\u001b[1;31m---------------------------------------------------------------------------\u001b[0m",
      "\u001b[1;31mKeyError\u001b[0m                                  Traceback (most recent call last)",
      "File \u001b[1;32mc:\\Users\\natha\\anaconda3\\lib\\site-packages\\pandas\\core\\indexes\\base.py:3802\u001b[0m, in \u001b[0;36mIndex.get_loc\u001b[1;34m(self, key, method, tolerance)\u001b[0m\n\u001b[0;32m   3801\u001b[0m \u001b[38;5;28;01mtry\u001b[39;00m:\n\u001b[1;32m-> 3802\u001b[0m     \u001b[38;5;28;01mreturn\u001b[39;00m \u001b[38;5;28;43mself\u001b[39;49m\u001b[38;5;241;43m.\u001b[39;49m\u001b[43m_engine\u001b[49m\u001b[38;5;241;43m.\u001b[39;49m\u001b[43mget_loc\u001b[49m\u001b[43m(\u001b[49m\u001b[43mcasted_key\u001b[49m\u001b[43m)\u001b[49m\n\u001b[0;32m   3803\u001b[0m \u001b[38;5;28;01mexcept\u001b[39;00m \u001b[38;5;167;01mKeyError\u001b[39;00m \u001b[38;5;28;01mas\u001b[39;00m err:\n",
      "File \u001b[1;32mc:\\Users\\natha\\anaconda3\\lib\\site-packages\\pandas\\_libs\\index.pyx:138\u001b[0m, in \u001b[0;36mpandas._libs.index.IndexEngine.get_loc\u001b[1;34m()\u001b[0m\n",
      "File \u001b[1;32mc:\\Users\\natha\\anaconda3\\lib\\site-packages\\pandas\\_libs\\index.pyx:165\u001b[0m, in \u001b[0;36mpandas._libs.index.IndexEngine.get_loc\u001b[1;34m()\u001b[0m\n",
      "File \u001b[1;32mpandas\\_libs\\hashtable_class_helper.pxi:5745\u001b[0m, in \u001b[0;36mpandas._libs.hashtable.PyObjectHashTable.get_item\u001b[1;34m()\u001b[0m\n",
      "File \u001b[1;32mpandas\\_libs\\hashtable_class_helper.pxi:5753\u001b[0m, in \u001b[0;36mpandas._libs.hashtable.PyObjectHashTable.get_item\u001b[1;34m()\u001b[0m\n",
      "\u001b[1;31mKeyError\u001b[0m: 1",
      "\nThe above exception was the direct cause of the following exception:\n",
      "\u001b[1;31mKeyError\u001b[0m                                  Traceback (most recent call last)",
      "Cell \u001b[1;32mIn[190], line 19\u001b[0m\n\u001b[0;32m     16\u001b[0m \u001b[38;5;28mprint\u001b[39m(name_period)\n\u001b[0;32m     18\u001b[0m \u001b[38;5;66;03m#We can also isolate a specific row\u001b[39;00m\n\u001b[1;32m---> 19\u001b[0m planet \u001b[38;5;241m=\u001b[39m \u001b[43mexo_data\u001b[49m\u001b[43m[\u001b[49m\u001b[43m:\u001b[49m\u001b[43m]\u001b[49m\u001b[43m[\u001b[49m\u001b[38;5;241;43m1\u001b[39;49m\u001b[43m]\u001b[49m\n\u001b[0;32m     20\u001b[0m \u001b[38;5;28mprint\u001b[39m(planet)\n",
      "File \u001b[1;32mc:\\Users\\natha\\anaconda3\\lib\\site-packages\\pandas\\core\\frame.py:3807\u001b[0m, in \u001b[0;36mDataFrame.__getitem__\u001b[1;34m(self, key)\u001b[0m\n\u001b[0;32m   3805\u001b[0m \u001b[38;5;28;01mif\u001b[39;00m \u001b[38;5;28mself\u001b[39m\u001b[38;5;241m.\u001b[39mcolumns\u001b[38;5;241m.\u001b[39mnlevels \u001b[38;5;241m>\u001b[39m \u001b[38;5;241m1\u001b[39m:\n\u001b[0;32m   3806\u001b[0m     \u001b[38;5;28;01mreturn\u001b[39;00m \u001b[38;5;28mself\u001b[39m\u001b[38;5;241m.\u001b[39m_getitem_multilevel(key)\n\u001b[1;32m-> 3807\u001b[0m indexer \u001b[38;5;241m=\u001b[39m \u001b[38;5;28;43mself\u001b[39;49m\u001b[38;5;241;43m.\u001b[39;49m\u001b[43mcolumns\u001b[49m\u001b[38;5;241;43m.\u001b[39;49m\u001b[43mget_loc\u001b[49m\u001b[43m(\u001b[49m\u001b[43mkey\u001b[49m\u001b[43m)\u001b[49m\n\u001b[0;32m   3808\u001b[0m \u001b[38;5;28;01mif\u001b[39;00m is_integer(indexer):\n\u001b[0;32m   3809\u001b[0m     indexer \u001b[38;5;241m=\u001b[39m [indexer]\n",
      "File \u001b[1;32mc:\\Users\\natha\\anaconda3\\lib\\site-packages\\pandas\\core\\indexes\\base.py:3804\u001b[0m, in \u001b[0;36mIndex.get_loc\u001b[1;34m(self, key, method, tolerance)\u001b[0m\n\u001b[0;32m   3802\u001b[0m     \u001b[38;5;28;01mreturn\u001b[39;00m \u001b[38;5;28mself\u001b[39m\u001b[38;5;241m.\u001b[39m_engine\u001b[38;5;241m.\u001b[39mget_loc(casted_key)\n\u001b[0;32m   3803\u001b[0m \u001b[38;5;28;01mexcept\u001b[39;00m \u001b[38;5;167;01mKeyError\u001b[39;00m \u001b[38;5;28;01mas\u001b[39;00m err:\n\u001b[1;32m-> 3804\u001b[0m     \u001b[38;5;28;01mraise\u001b[39;00m \u001b[38;5;167;01mKeyError\u001b[39;00m(key) \u001b[38;5;28;01mfrom\u001b[39;00m \u001b[38;5;21;01merr\u001b[39;00m\n\u001b[0;32m   3805\u001b[0m \u001b[38;5;28;01mexcept\u001b[39;00m \u001b[38;5;167;01mTypeError\u001b[39;00m:\n\u001b[0;32m   3806\u001b[0m     \u001b[38;5;66;03m# If we have a listlike key, _check_indexing_error will raise\u001b[39;00m\n\u001b[0;32m   3807\u001b[0m     \u001b[38;5;66;03m#  InvalidIndexError. Otherwise we fall through and re-raise\u001b[39;00m\n\u001b[0;32m   3808\u001b[0m     \u001b[38;5;66;03m#  the TypeError.\u001b[39;00m\n\u001b[0;32m   3809\u001b[0m     \u001b[38;5;28mself\u001b[39m\u001b[38;5;241m.\u001b[39m_check_indexing_error(key)\n",
      "\u001b[1;31mKeyError\u001b[0m: 1"
     ]
    },
    {
     "data": {
      "image/png": "[encoded data removed]",
      "text/plain": [
       "<Figure size 640x480 with 1 Axes>"
      ]
     },
     "metadata": {},
     "output_type": "display_data"
    }
   ],
   "source": [
    "from astroquery.ipac.nexsci.nasa_exoplanet_archive import NasaExoplanetArchive\n",
    "from matplotlib import pyplot as plt\n",
    "\n",
    "##Importing the data straight from the NASA Exoplanet Archive\n",
    "##Note: Astoquery has its own method to take a query table and convert to a DataFrame!\n",
    "exo_data = NasaExoplanetArchive.query_criteria(table='pscomppars', select = {'pl_name', 'pl_orbincl', 'pl_radj', 'pl_orbper'}).to_pandas()\n",
    "print(exo_data)\n",
    "#Let's only look at the distribution of exoplanet radii\n",
    "\n",
    "radii = exo_data['pl_radj']\n",
    "plt.xlim(0, 5)\n",
    "radii.hist(bins = 15)\n",
    "\n",
    "#What about only the planet name and orbital period?\n",
    "name_period = exo_data[['pl_name', 'pl_orbper']]\n",
    "print(name_period)\n",
    "\n"
   ]
  },
  {
   "cell_type": "markdown",
   "id": "d68a56bd",
   "metadata": {},
   "source": [
    "This gives us good flexibility on isolating specific columns of data, which is extremely useful when the datasets you are working with are high dimensional. What about rows? Can we filter results of the returned rows to match specific criteria? We can do these through the `.loc` and `.iloc` methods, which we will discuss in the next section."
   ]
  },
  {
   "cell_type": "markdown",
   "id": "cffe0217",
   "metadata": {},
   "source": [
    "## Navigating DataFrames Using .loc and .iloc\n",
    "\n",
    "Being able to filter and isolate particular elements in a `DataFrame` is an invaluable tool, particularly when handling datasets with many thousands of entries. In `pandas`, this is primarily "
   ]
  }
 ],
 "metadata": {
  "kernelspec": {
   "display_name": "Python 3 (ipykernel)",
   "language": "python",
   "name": "python3"
  },
  "language_info": {
   "codemirror_mode": {
    "name": "ipython",
    "version": 3
   },
   "file_extension": ".py",
   "mimetype": "text/x-python",
   "name": "python",
   "nbconvert_exporter": "python",
   "pygments_lexer": "ipython3",
   "version": "3.10.9"
  }
 },
 "nbformat": 4,
 "nbformat_minor": 5
}
