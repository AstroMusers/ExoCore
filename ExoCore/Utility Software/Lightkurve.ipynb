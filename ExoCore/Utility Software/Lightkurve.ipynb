{
 "cells": [
  {
   "cell_type": "markdown",
   "metadata": {},
   "source": [
    "# [Lightkurve](https://docs.lightkurve.org/)\n",
    "\n",
    "## Table of Contents\n",
    "- [Overview](#overview)"
   ]
  },
  {
   "cell_type": "markdown",
   "metadata": {},
   "source": [
    "# Overview\n",
    "Lightkurve is a user-friendly Python package that is designed to make interacting with TESS and Kepler time-series photometry easy and accessible. It is well documented, and there are pre-existing [tutorials](https://docs.lightkurve.org/tutorials/index.html) that can covers most functionality. This lesson will go over the primary use-cases, best practices, and examples, as well as some exercises to practice and improve understanding. \n",
    "\n",
    "# Lightkurve Objects\n",
    "There are three primary objects used in `Lighkurve`:\n",
    "* `LightCurve` object\n",
    "* `TargetPixelFile` objects\n",
    "* `Periodogram` objects"
   ]
  }
 ],
 "metadata": {
  "language_info": {
   "name": "python"
  }
 },
 "nbformat": 4,
 "nbformat_minor": 2
}
