{
 "cells": [
  {
   "cell_type": "markdown",
   "id": "84f3501a-eda7-4474-839c-45ee19b483a1",
   "metadata": {},
   "source": [
    "## Large Collaborations in the Field of Exoplanetary Research "
   ]
  },
  {
   "cell_type": "markdown",
   "id": "8ba773d8-867f-49f9-bd14-2974a003425c",
   "metadata": {},
   "source": [
    "1. [Introduction](#introduction)\n",
    "2. [Programs](#programs) \n",
    "    1. TOI\n",
    "    2. TFOP\n",
    "    3. JWST ERS\n",
    "2. [Conclusion](#conclusion) "
   ]
  },
  {
   "cell_type": "markdown",
   "id": "66f79a04-eed8-4788-abe9-0c04842aaa30",
   "metadata": {
    "tags": []
   },
   "source": [
    "# Introduction "
   ]
  },
  {
   "cell_type": "markdown",
   "id": "86b2ef33-3f2b-4046-83e8-7a2d1cbfe83e",
   "metadata": {
    "tags": []
   },
   "source": [
    "As exoplanet research continues to grow, an open-based science curriculum is needed for the development of the field. "
   ]
  },
  {
   "cell_type": "code",
   "execution_count": null,
   "id": "f1b6817f-4e51-41c8-9fba-076dc075d0e6",
   "metadata": {},
   "outputs": [],
   "source": []
  }
 ],
 "metadata": {
  "kernelspec": {
   "display_name": "Python 3 (ipykernel)",
   "language": "python",
   "name": "python3"
  },
  "language_info": {
   "codemirror_mode": {
    "name": "ipython",
    "version": 3
   },
   "file_extension": ".py",
   "mimetype": "text/x-python",
   "name": "python",
   "nbconvert_exporter": "python",
   "pygments_lexer": "ipython3",
   "version": "3.11.5"
  }
 },
 "nbformat": 4,
 "nbformat_minor": 5
}
